{
 "cells": [
  {
   "cell_type": "code",
   "execution_count": 1,
   "id": "9deac218",
   "metadata": {},
   "outputs": [
    {
     "name": "stderr",
     "output_type": "stream",
     "text": [
      "/Users/macbook/opt/anaconda3/lib/python3.9/site-packages/requests/__init__.py:102: RequestsDependencyWarning: urllib3 (1.26.9) or chardet (5.1.0)/charset_normalizer (2.0.4) doesn't match a supported version!\n",
      "  warnings.warn(\"urllib3 ({}) or chardet ({})/charset_normalizer ({}) doesn't match a supported \"\n"
     ]
    }
   ],
   "source": [
    "#In this file, the whole process of scrapinng 1000 job posts url from LinkedIn\n",
    "#and craping all the necessary data related to content of each job post\n",
    "\n",
    "from selenium import webdriver \n",
    "from selenium.webdriver.common.keys import Keys\n",
    "from selenium.common.exceptions import NoSuchElementException,ElementClickInterceptedException\n",
    "#from retry import retry\n",
    "import pandas as pd\n",
    "import os\n",
    "from selenium.common.exceptions import TimeoutException\n",
    "import csv\n",
    "from selenium.webdriver.common.by import By\n",
    "from bs4 import BeautifulSoup\n",
    "import time\n",
    "import undetected_chromedriver as uc"
   ]
  },
  {
   "cell_type": "code",
   "execution_count": null,
   "id": "6b63f215",
   "metadata": {},
   "outputs": [],
   "source": []
  },
  {
   "cell_type": "code",
   "execution_count": null,
   "id": "d04a8a3b",
   "metadata": {},
   "outputs": [],
   "source": []
  },
  {
   "cell_type": "code",
   "execution_count": null,
   "id": "6e8821db",
   "metadata": {},
   "outputs": [],
   "source": []
  },
  {
   "cell_type": "code",
   "execution_count": 2,
   "id": "da83eda7",
   "metadata": {},
   "outputs": [],
   "source": [
    "#Setup Username and password of your LinkedIn\n",
    "username = 'shang.caokhac@gmail.com'\n",
    "password ='BBz30002'"
   ]
  },
  {
   "cell_type": "code",
   "execution_count": 13,
   "id": "42ecbb2f",
   "metadata": {},
   "outputs": [
    {
     "name": "stderr",
     "output_type": "stream",
     "text": [
      "/var/folders/m_/j0tcz1vn06q4ndgrzrp_yxpm0000gn/T/ipykernel_32315/934283745.py:4: DeprecationWarning: headless property is deprecated, instead use add_argument('--headless') or add_argument('--headless=new')\n",
      "  options.headless = True\n"
     ]
    },
    {
     "ename": "NoSuchElementException",
     "evalue": "Message: no such element: Unable to locate element: {\"method\":\"xpath\",\"selector\":\"//*[@id=\"radix-:re:\"]/div[2]/div[1]/div[2]/button[2]\"}\n  (Session info: chrome=115.0.5790.114); For documentation on this error, please visit: https://www.selenium.dev/documentation/webdriver/troubleshooting/errors#no-such-element-exception\nStacktrace:\n0   undetected_chromedriver             0x00000001086e16b8 undetected_chromedriver + 4937400\n1   undetected_chromedriver             0x00000001086d8b73 undetected_chromedriver + 4901747\n2   undetected_chromedriver             0x0000000108296616 undetected_chromedriver + 435734\n3   undetected_chromedriver             0x00000001082d9e0f undetected_chromedriver + 712207\n4   undetected_chromedriver             0x00000001082da0a1 undetected_chromedriver + 712865\n5   undetected_chromedriver             0x000000010831b9a4 undetected_chromedriver + 981412\n6   undetected_chromedriver             0x00000001082fe03d undetected_chromedriver + 860221\n7   undetected_chromedriver             0x0000000108318e76 undetected_chromedriver + 970358\n8   undetected_chromedriver             0x00000001082fdde3 undetected_chromedriver + 859619\n9   undetected_chromedriver             0x00000001082cbd7f undetected_chromedriver + 654719\n10  undetected_chromedriver             0x00000001082cd0de undetected_chromedriver + 659678\n11  undetected_chromedriver             0x000000010869d2ad undetected_chromedriver + 4657837\n12  undetected_chromedriver             0x00000001086a2130 undetected_chromedriver + 4677936\n13  undetected_chromedriver             0x00000001086a8def undetected_chromedriver + 4705775\n14  undetected_chromedriver             0x00000001086a305a undetected_chromedriver + 4681818\n15  undetected_chromedriver             0x000000010867592c undetected_chromedriver + 4495660\n16  undetected_chromedriver             0x00000001086c0838 undetected_chromedriver + 4802616\n17  undetected_chromedriver             0x00000001086c09b7 undetected_chromedriver + 4802999\n18  undetected_chromedriver             0x00000001086d199f undetected_chromedriver + 4872607\n19  libsystem_pthread.dylib             0x00007ff8115cb1d3 _pthread_start + 125\n20  libsystem_pthread.dylib             0x00007ff8115c6bd3 thread_start + 15\n",
     "output_type": "error",
     "traceback": [
      "\u001b[0;31m---------------------------------------------------------------------------\u001b[0m",
      "\u001b[0;31mNoSuchElementException\u001b[0m                    Traceback (most recent call last)",
      "Input \u001b[0;32mIn [13]\u001b[0m, in \u001b[0;36m<cell line: 37>\u001b[0;34m()\u001b[0m\n\u001b[1;32m     35\u001b[0m time\u001b[38;5;241m.\u001b[39msleep(\u001b[38;5;241m3\u001b[39m)\n\u001b[1;32m     36\u001b[0m \u001b[38;5;66;03m#Next2\u001b[39;00m\n\u001b[0;32m---> 37\u001b[0m next2 \u001b[38;5;241m=\u001b[39m  \u001b[43mdriver\u001b[49m\u001b[38;5;241;43m.\u001b[39;49m\u001b[43mfind_element\u001b[49m\u001b[43m(\u001b[49m\u001b[43mBy\u001b[49m\u001b[38;5;241;43m.\u001b[39;49m\u001b[43mXPATH\u001b[49m\u001b[43m,\u001b[49m\u001b[38;5;124;43m'\u001b[39;49m\u001b[38;5;124;43m//*[@id=\u001b[39;49m\u001b[38;5;124;43m\"\u001b[39;49m\u001b[38;5;124;43mradix-:re:\u001b[39;49m\u001b[38;5;124;43m\"\u001b[39;49m\u001b[38;5;124;43m]/div[2]/div[1]/div[2]/button[2]\u001b[39;49m\u001b[38;5;124;43m'\u001b[39;49m\u001b[43m)\u001b[49m\n\u001b[1;32m     38\u001b[0m next2\u001b[38;5;241m.\u001b[39mclick()\n\u001b[1;32m     39\u001b[0m time\u001b[38;5;241m.\u001b[39msleep(\u001b[38;5;241m3\u001b[39m)\n",
      "File \u001b[0;32m~/opt/anaconda3/lib/python3.9/site-packages/selenium/webdriver/remote/webdriver.py:739\u001b[0m, in \u001b[0;36mWebDriver.find_element\u001b[0;34m(self, by, value)\u001b[0m\n\u001b[1;32m    736\u001b[0m     by \u001b[38;5;241m=\u001b[39m By\u001b[38;5;241m.\u001b[39mCSS_SELECTOR\n\u001b[1;32m    737\u001b[0m     value \u001b[38;5;241m=\u001b[39m \u001b[38;5;124mf\u001b[39m\u001b[38;5;124m'\u001b[39m\u001b[38;5;124m[name=\u001b[39m\u001b[38;5;124m\"\u001b[39m\u001b[38;5;132;01m{\u001b[39;00mvalue\u001b[38;5;132;01m}\u001b[39;00m\u001b[38;5;124m\"\u001b[39m\u001b[38;5;124m]\u001b[39m\u001b[38;5;124m'\u001b[39m\n\u001b[0;32m--> 739\u001b[0m \u001b[38;5;28;01mreturn\u001b[39;00m \u001b[38;5;28;43mself\u001b[39;49m\u001b[38;5;241;43m.\u001b[39;49m\u001b[43mexecute\u001b[49m\u001b[43m(\u001b[49m\u001b[43mCommand\u001b[49m\u001b[38;5;241;43m.\u001b[39;49m\u001b[43mFIND_ELEMENT\u001b[49m\u001b[43m,\u001b[49m\u001b[43m \u001b[49m\u001b[43m{\u001b[49m\u001b[38;5;124;43m\"\u001b[39;49m\u001b[38;5;124;43musing\u001b[39;49m\u001b[38;5;124;43m\"\u001b[39;49m\u001b[43m:\u001b[49m\u001b[43m \u001b[49m\u001b[43mby\u001b[49m\u001b[43m,\u001b[49m\u001b[43m \u001b[49m\u001b[38;5;124;43m\"\u001b[39;49m\u001b[38;5;124;43mvalue\u001b[39;49m\u001b[38;5;124;43m\"\u001b[39;49m\u001b[43m:\u001b[49m\u001b[43m \u001b[49m\u001b[43mvalue\u001b[49m\u001b[43m}\u001b[49m\u001b[43m)\u001b[49m[\u001b[38;5;124m\"\u001b[39m\u001b[38;5;124mvalue\u001b[39m\u001b[38;5;124m\"\u001b[39m]\n",
      "File \u001b[0;32m~/opt/anaconda3/lib/python3.9/site-packages/selenium/webdriver/remote/webdriver.py:345\u001b[0m, in \u001b[0;36mWebDriver.execute\u001b[0;34m(self, driver_command, params)\u001b[0m\n\u001b[1;32m    343\u001b[0m response \u001b[38;5;241m=\u001b[39m \u001b[38;5;28mself\u001b[39m\u001b[38;5;241m.\u001b[39mcommand_executor\u001b[38;5;241m.\u001b[39mexecute(driver_command, params)\n\u001b[1;32m    344\u001b[0m \u001b[38;5;28;01mif\u001b[39;00m response:\n\u001b[0;32m--> 345\u001b[0m     \u001b[38;5;28;43mself\u001b[39;49m\u001b[38;5;241;43m.\u001b[39;49m\u001b[43merror_handler\u001b[49m\u001b[38;5;241;43m.\u001b[39;49m\u001b[43mcheck_response\u001b[49m\u001b[43m(\u001b[49m\u001b[43mresponse\u001b[49m\u001b[43m)\u001b[49m\n\u001b[1;32m    346\u001b[0m     response[\u001b[38;5;124m\"\u001b[39m\u001b[38;5;124mvalue\u001b[39m\u001b[38;5;124m\"\u001b[39m] \u001b[38;5;241m=\u001b[39m \u001b[38;5;28mself\u001b[39m\u001b[38;5;241m.\u001b[39m_unwrap_value(response\u001b[38;5;241m.\u001b[39mget(\u001b[38;5;124m\"\u001b[39m\u001b[38;5;124mvalue\u001b[39m\u001b[38;5;124m\"\u001b[39m, \u001b[38;5;28;01mNone\u001b[39;00m))\n\u001b[1;32m    347\u001b[0m     \u001b[38;5;28;01mreturn\u001b[39;00m response\n",
      "File \u001b[0;32m~/opt/anaconda3/lib/python3.9/site-packages/selenium/webdriver/remote/errorhandler.py:229\u001b[0m, in \u001b[0;36mErrorHandler.check_response\u001b[0;34m(self, response)\u001b[0m\n\u001b[1;32m    227\u001b[0m         alert_text \u001b[38;5;241m=\u001b[39m value[\u001b[38;5;124m\"\u001b[39m\u001b[38;5;124malert\u001b[39m\u001b[38;5;124m\"\u001b[39m]\u001b[38;5;241m.\u001b[39mget(\u001b[38;5;124m\"\u001b[39m\u001b[38;5;124mtext\u001b[39m\u001b[38;5;124m\"\u001b[39m)\n\u001b[1;32m    228\u001b[0m     \u001b[38;5;28;01mraise\u001b[39;00m exception_class(message, screen, stacktrace, alert_text)  \u001b[38;5;66;03m# type: ignore[call-arg]  # mypy is not smart enough here\u001b[39;00m\n\u001b[0;32m--> 229\u001b[0m \u001b[38;5;28;01mraise\u001b[39;00m exception_class(message, screen, stacktrace)\n",
      "\u001b[0;31mNoSuchElementException\u001b[0m: Message: no such element: Unable to locate element: {\"method\":\"xpath\",\"selector\":\"//*[@id=\"radix-:re:\"]/div[2]/div[1]/div[2]/button[2]\"}\n  (Session info: chrome=115.0.5790.114); For documentation on this error, please visit: https://www.selenium.dev/documentation/webdriver/troubleshooting/errors#no-such-element-exception\nStacktrace:\n0   undetected_chromedriver             0x00000001086e16b8 undetected_chromedriver + 4937400\n1   undetected_chromedriver             0x00000001086d8b73 undetected_chromedriver + 4901747\n2   undetected_chromedriver             0x0000000108296616 undetected_chromedriver + 435734\n3   undetected_chromedriver             0x00000001082d9e0f undetected_chromedriver + 712207\n4   undetected_chromedriver             0x00000001082da0a1 undetected_chromedriver + 712865\n5   undetected_chromedriver             0x000000010831b9a4 undetected_chromedriver + 981412\n6   undetected_chromedriver             0x00000001082fe03d undetected_chromedriver + 860221\n7   undetected_chromedriver             0x0000000108318e76 undetected_chromedriver + 970358\n8   undetected_chromedriver             0x00000001082fdde3 undetected_chromedriver + 859619\n9   undetected_chromedriver             0x00000001082cbd7f undetected_chromedriver + 654719\n10  undetected_chromedriver             0x00000001082cd0de undetected_chromedriver + 659678\n11  undetected_chromedriver             0x000000010869d2ad undetected_chromedriver + 4657837\n12  undetected_chromedriver             0x00000001086a2130 undetected_chromedriver + 4677936\n13  undetected_chromedriver             0x00000001086a8def undetected_chromedriver + 4705775\n14  undetected_chromedriver             0x00000001086a305a undetected_chromedriver + 4681818\n15  undetected_chromedriver             0x000000010867592c undetected_chromedriver + 4495660\n16  undetected_chromedriver             0x00000001086c0838 undetected_chromedriver + 4802616\n17  undetected_chromedriver             0x00000001086c09b7 undetected_chromedriver + 4802999\n18  undetected_chromedriver             0x00000001086d199f undetected_chromedriver + 4872607\n19  libsystem_pthread.dylib             0x00007ff8115cb1d3 _pthread_start + 125\n20  libsystem_pthread.dylib             0x00007ff8115c6bd3 thread_start + 15\n"
     ]
    }
   ],
   "source": [
    "#Setup browser profile\n",
    "uc.TARGET_VERSION = 115\n",
    "options = uc.ChromeOptions() \n",
    "options.headless = True \n",
    "driver = uc.Chrome()\n",
    "driver.get(\"https://chat.openai.com/\") \n",
    "time.sleep(20)\n",
    "driver.maximize_window() \n",
    "## It will click on the first button on the screeen\n",
    "login_button = driver.find_element(By.TAG_NAME,'button')\n",
    "login_button.click()\n",
    "time.sleep(3)\n",
    "\n",
    "#pop-up will display and we need to fill in the email\n",
    "username_field = driver.find_element(By.ID,'username')\n",
    "username_field.send_keys(username)\n",
    "time.sleep(3)\n",
    "#click on continue button\n",
    "continue_button = driver.find_element(By.TAG_NAME,'button')\n",
    "continue_button.click()\n",
    "time.sleep(3)\n",
    "\n",
    "# fill in password\n",
    "password_field = driver.find_element(By.ID,'password')\n",
    "password_field.send_keys(password)\n",
    "time.sleep(3)\n",
    "# click on the \"continue\" button to login\n",
    "btn =  driver.find_element(By.TAG_NAME,'button')\n",
    "driver.execute_script (\"arguments[0].click();\",btn)\n",
    "time.sleep(20)\n",
    "\n",
    "#Next1\n",
    "next1 =  driver.find_element(By.XPATH,'//*[@id=\"radix-:re:\"]/div[2]/div[1]/div[2]/button')\n",
    "next1.click()\n",
    "time.sleep(3)\n",
    "#Next2\n",
    "next2 =  driver.find_element(By.XPATH,'//*[@id=\"radix-:re:\"]/div[2]/div[1]/div[2]/button[2]')\n",
    "next2.click()\n",
    "time.sleep(3)\n",
    "#done \n",
    "done1 =  driver.find_element(By.XPATH,'//*[@id=\"radix-:re:\"]/div[2]/div[1]/div[2]/button[2]')\n",
    "done1.click()\n",
    "time.sleep(3)"
   ]
  },
  {
   "cell_type": "code",
   "execution_count": 140,
   "id": "d62f2146",
   "metadata": {},
   "outputs": [],
   "source": [
    "\n",
    "outline_home_7ball= [\n",
    "\"Tổng quan về nhà cái 7ball( bao gồm lịch sử hình thành, giấy phép, cơ sở hoạt động và các sự kiện gần nhất)\",\n",
    "\"Ưu điểm của 7ball (bao gồm Giao diện đẹp mắt,Nạp rút dễ dàng và bảo mật,hỗ trợ đa nền tảng,dịch vụ chăm sóc khách hàng,Giấy phép hoạt động hợp pháp,Tốc độ trả thưởng nhanh)\",\n",
    "\"Thủ tục đăng ký 7ball\",\n",
    "\"Hướng dẫn đăng nhập 7ball\",\n",
    "\"Hướng dẫn nạp tiền 7ball qua các phương thức như chuyển khoản, môm, zalo, viettel, ebanking, thẻ cào điện thoại\",\n",
    "\"Hướng dẫn rút tiền trên 7ball\", \n",
    "\"Hướng dẫn chi tiết tải app 7ball trên pc\",\n",
    "\"Tải app 7ball trên điện thoại\",\n",
    "\"Tải app 7ball trên máy tính bảng\",\n",
    "\"Tải app 7ball trên điện thoại\",\n",
    "\"Cách link vào nhà cái 7ball, link chính thức vào 7ball\",\n",
    "\"Giới thiệu các trò chơi nổi bật của nhà cái 7ball\",\n",
    "\"Cá độ thể thao tại nhà cái 7ball\",\n",
    "\"Game bài casino tại 7ball\",\n",
    "\"Dự đoán xổ số tại 7ball\",\n",
    "\"Game bắn cá tại 7ball\",\n",
    "\"Game nổ hũ tại 7ball\",\n",
    "\"Game bài tại nhà cái 7ball\",\n",
    "\"Cá độ thể thao điện tử tại nhà cái 7ball\",\n",
    "\"Các chương trình khuyến mãi tại nhà cái 7ball\",\n",
    "\"Khuyến mãi dành cho tân thủ, thành viên mới\",\n",
    "\"Khuyến mãi đặc quyền VIP\",\n",
    "\"Khuyến mãi hoàn trả\",\n",
    "\"Khuyến mãi khi giới thiệu bạn bè\",\n",
    "\"Khuyến mãi khi chia sẻ Facebook\",\n",
    "\"Giải đáp những câu hỏi liên quan đến nhà cái 7ball\",\n",
    "\"Tổng kết về nhà cái 7ball\"\n",
    "]\n",
    "brand = \"7ball\"\n",
    "keyword = \"nhà cái 7ball\"\n",
    "title = \"nhà cái 7ball\"\n"
   ]
  },
  {
   "cell_type": "code",
   "execution_count": 134,
   "id": "3d3a65b2",
   "metadata": {},
   "outputs": [],
   "source": [
    "outline_home_789win= [\n",
    "\"Tổng quan về nhà cái 789win( bao gồm lịch sử phát triển, mục tiêu phát triển )\",\n",
    "\"Ưu điểm của 789win (bao gồm Giao diện đẹp mắt,Nạp rút dễ dàng và bảo mật,hỗ trợ đa nền tảng,dịch vụ chăm sóc khách hàng,Giấy phép hoạt động hợp pháp,Tốc độ trả thưởng nhanh)\",\n",
    "\"Đặc điểm nổi bật nhà cái 789win\",\n",
    "\"Sự uy tín của thương hiệu 789win\",\n",
    "\"Giấy phép hoạt động đầy đủ\",\n",
    "\"Tính trung thực của nhà cái 789win\",\n",
    "\"Giao diện 789win đẹp mắt, dễ sử dụng\",\n",
    "\"Đa dạng trò chơi từ nhà cung cấp nổi tiếng\",\n",
    "\"Cổng game 789win hấp dẫn, âm thanh sống động\",\n",
    "\"Cổng game công bằng, minh bạch\",\n",
    "\"Bảo mật tuyệt đối\",\n",
    "\"Hướng dẫn cách sử dụng 789win casino (tải app, đăng ký, đăng nhập, nạp tiền, rút tiền, tham gia khuyến mãi)\", \n",
    "\"Hướng dẫn tải app 789win (cho từng hệ điều hành cụ thể: iOS, Android)\",\n",
    "\"Hướng dẫn đăng ký 789win\",\n",
    "\"Hướng dẫn đăng nhập 789win\",   \n",
    "\"Hướng dẫn nạp tiền 789win qua các phương thức như chuyển khoản, Momo, Zalo Pay, Viettel Pay, eBanking, thẻ cào điện thoại\",\n",
    "\"Hướng dẫn rút tiền 789win\", \n",
    "\"Hướng dẫn tham gia khuyến mãi\",\n",
    "\"Giới thiệu các trò chơi của nhà cái 789win\",\n",
    "\"Kho game bài đổi thưởng 789win \",\n",
    "\"Xóc dĩa\",\n",
    "\"Tiến Lên Miền Nam\",\n",
    "\"Sâm lốc\",\n",
    "\"Poker\",    \n",
    "\"Cá cược thể thao 789win\",\n",
    "\"Game nổ hũ\",\n",
    "\"Bắn cá\",\n",
    "\"Game bài\",\n",
    "\"Cá cược thể thao\",\n",
    "\"Live casino\",\n",
    "\"Game đá gà\",\n",
    "\"Cá cược xổ số\",\n",
    "\"Những chương trình khuyến mãi siêu hot chỉ có tại 789win casino\",\n",
    "\"Gói chào mừng cho người chơi mới tại 789win\",\n",
    "\"Khuyến mãi nạp tiền và hoàn trả cổng game 789win\",\n",
    "\"Giải đấu và giải thưởng đặc biệt tại 789win\",\n",
    "\"Các chương trình đặc quyền VIP dành cho thành viên tại 789win\",\n",
    "\"Code miễn phí trải nghiệm\",\n",
    "\"Sự kiện hàng tuần\",\n",
    "\"Sự kiện may mắn\",\n",
    "\"Cơ hội hợp tác đại lý với nhà cái 789win\",\n",
    "\"Bài viết dạng Q&A :Một số câu hỏi thường gặp về 789win casino \\\n",
    "(Đăng ký 789win có mất phí không? 789win có hỗ trợ khách hàng không?,Chơi game 789win có vi phạm pháp luật không?,\\\n",
    "789win có giới hạn độ tuổi tham gia không?, Thông tin 789win bảo trì có đúng không?\\\n",
    "Tại sao không vào được 789win? các trò chơi của 789win được nhà cung cấp nào hợp tác?)\",\n",
    "\"Tại sao 789win lại ngày càng phát triển mạnh như vậy\",\n",
    "\"15 câu đánh giá của người dùng về dịch vụ của 789win\",\n",
    "\"Tổng kết về 789win\"\n",
    "]\n",
    "brand = \"789win\"\n",
    "keyword = \"nhà cái 789win\"\n",
    "title = \"789Win site | TRANG 789win CHÍNH THỨC 2023 | KHUYẾN MÃI VIP\""
   ]
  },
  {
   "cell_type": "code",
   "execution_count": null,
   "id": "5c1d874e",
   "metadata": {},
   "outputs": [],
   "source": []
  },
  {
   "cell_type": "code",
   "execution_count": null,
   "id": "486b77a1",
   "metadata": {},
   "outputs": [],
   "source": [
    "'''outline= [\n",
    "\"Giới thiệu tổng quan nhà cái 123B\",\n",
    "\"Giới thiệu về lợi ích của việc rút tiền từ nhà cái 123B\",\n",
    "\"Các quy định về việc rút tiền 123B\",\n",
    "\"Quy trình rút tiền 123B\",\n",
    "\"Ưu điểm của dịch vụ rút tiền 123B\",\n",
    "\"Các phương thức rút tiền trên 123B\", \n",
    "\"Các câu hỏi thường gặp về rút tiền 123B\",\n",
    "\"Những lưu ý khi rút tiền 123B\",\n",
    "\"Tổng kết dịch vụ rút tiền 123B\",\n",
    "    \n",
    "]\n",
    "brand = \"123B\"\n",
    "keyword = \"rút tiền 123B\"\n",
    "title = \"dịch vụ rút tiền tại nhà cái 123B\" '''"
   ]
  },
  {
   "cell_type": "code",
   "execution_count": 28,
   "id": "cd1db418",
   "metadata": {},
   "outputs": [],
   "source": [
    "outline_thể_thao_abc_gp = [\n",
    "\"Tổng quan về nhà cái ABC\",\n",
    "\"Giới thiệu về sảnh cá cược thể thao tại ABC\",\n",
    "\"Khuyến mãi và ưu đãi hấp dẫn tại sảnh cá cược thể thao ABC\",\n",
    "\"Nhận xét chung về sảnh thể thao ABC\",    \n",
    "]   \n",
    "brand = \"ABC\"\n",
    "keyword = \"thể thao ABC\"\n",
    " \n"
   ]
  },
  {
   "cell_type": "code",
   "execution_count": 34,
   "id": "9c19235d",
   "metadata": {},
   "outputs": [],
   "source": [
    "outline_bắn_cá_abc_gp = [\n",
    "\"Giới thiệu về game bắn cá ABC\",\n",
    "\"Các trò chơi bắn cá hấp dẫn nhất tại sảnh bắn cá ABC\",\n",
    "\"Chiến thuật khi chơi bắn cá ABC ắn tiền khủng\",\n",
    "\"Tổng kết\"\n",
    "]\n",
    "brand = \"ABC\"\n",
    "keyword = \"bắn cá ABC\"\n"
   ]
  },
  {
   "cell_type": "code",
   "execution_count": 38,
   "id": "ce450d96",
   "metadata": {},
   "outputs": [],
   "source": [
    "outline_casino_abc_gp = [\n",
    "\"Giới thiệu về casino ABC\",\n",
    "\"Những trò chơi casino ABC hấp dẫn\",\n",
    "\"Chiến thuật khi chơi casino ABC\",\n",
    "\"Nhận xét chung về casino ABC\"\n",
    "]\n",
    "brand = \"ABC\"\n",
    "keyword = \"casino ABC\""
   ]
  },
  {
   "cell_type": "code",
   "execution_count": null,
   "id": "b4e13065",
   "metadata": {},
   "outputs": [],
   "source": [
    "outline_lô_đề_abc_gp = [\n",
    "\"Giới thiệu về game bắn cá ABC\",\n",
    "\"Các trò chơi bắn cá hấp dẫn nhất tại sảnh bắn cá ABC\",\n",
    "\"Chiến thuật khi chơi bắn cá ABC ắn tiền khủng\",\n",
    "\"Tổng kết\"\n",
    "]\n",
    "brand = \"ABC\"\n",
    "keyword = \"bắn cá ABC\""
   ]
  },
  {
   "cell_type": "code",
   "execution_count": 43,
   "id": "78a137d4",
   "metadata": {},
   "outputs": [],
   "source": [
    "outline_khuyến_mãi_abc_gp = [\n",
    "\"Giới thiệu tổng quan nhà cái ABC và khuyến mãi ABC\",\n",
    "\"Các chương trình khuyến mãi ABC\",\n",
    "\"Cách thức tham gia và nhận khuyến mãi ABC\",\n",
    "\"Tổng kết\"\n",
    "]\n",
    "brand = \"ABC\"\n",
    "keyword = \"khuyến mãi ABC\""
   ]
  },
  {
   "cell_type": "code",
   "execution_count": 46,
   "id": "e9c336e2",
   "metadata": {},
   "outputs": [],
   "source": [
    "outline_lô_đề_abc_gp = [\n",
    "\"Giới thiệu tổng quan về nhà cái ABC và dịch vụ lô đề ABC\",\n",
    "\"Hình thức và cách thức tham gia lô ABC\",\n",
    "\"Kinh nghiệm và chiến lược chơi lô đề  ABC\",\n",
    "\"Tổng kết\"\n",
    "]\n",
    "brand = \"ABC\"\n",
    "keyword = \"lô đề ABC\""
   ]
  },
  {
   "cell_type": "code",
   "execution_count": null,
   "id": "66e015fe",
   "metadata": {},
   "outputs": [],
   "source": [
    "[ \n",
    " 'Không thu phí bất cứ giao dịch nào giữa người chơi và nhà cái Bwing',#H2\n",
    " 'Nhược điểm của nhà cái Bwing theo phản hồi của \"khách quen vip\"',#H3\n",
    " 'Hướng dẫn tải app Bwing trên hệ điều hành IOS/ Android',H2\n",
    " 'Tải app Bwing trên IOS',#H3\n",
    " 'Tải app Bwing trên Android',#H3\n",
    "]"
   ]
  },
  {
   "cell_type": "code",
   "execution_count": 44,
   "id": "6a169e42",
   "metadata": {},
   "outputs": [],
   "source": [
    "outline_bwing = [ 'Bwing – Cập nhật link vào nhà cái Bwing tặng 50k 07/2023',\n",
    " 'Giới thiệu nhà cái cá cược Bwing đẳng cấp uy tín, Bwing là gì?Sự ra đời của Bwing và quá trình phát triển thành nhà cái hàng đầu thế giới',\n",
    " 'Điểm tên một số tên miền mở rộng mang thương hiệu Bwing (Liệt kê các tên miền Bwing me,Bwing88,Bwing cm,Bwing02,Bwing 07,Bwing 16)',\n",
    " 'Định hướng phát triển của Bwing trong 5 năm tiếp theo bao gồm việc Mở rộng các sản phẩm cá cược chất lượng,Hoàn thiện công nghệ phục vụ người chơi tốt nhất,\\\n",
    " Mở rộng thị trường và tăng số lượng khách hàng tại nhiều quốc gia,Nâng cao chất lượng dịch vụ khách hàng,Không ngừng tối ưu hệ thống thanh toán và giao dịch,\\\n",
    " Tăng cường nhận thức trách nhiệm xã hội trong cộng đồng bet thủ,Đóng góp ảnh hưởng cho sự phát triển bền vững của nghành cá cược,\\\n",
    " Cam kết thực hiện các chương trình hợp tác liên kết với các đối tác,Kiểm soát các hoạt động luôn nằm trong khuôn khổ pháp luật,\\\n",
    " Chung tay tạo ra cộng đồng đam mê cá cược văn minh',\n",
    " 'Bwing - nhà cái đứng sau các hoạt động thiện nguyện ý nghĩa tại Việt Nam',\n",
    " 'Bwing khởi động chương trình cùng em tới trường tại các tỉnh miền trung',\n",
    " 'Chương trình cải thiện dinh dưỡng, tầm vóc cho trẻ em vùng cao Tây Bắc',\n",
    " 'Qũy Bwing tham gia từ thiện bảo trợ xã hội cho người già neo đơn tại Sài Gòn',\n",
    " 'Tập thể nhân viên Bwing tham gia trồng cây ngăn mặn tại Cà Mau',\n",
    " 'Bwing là đơn vị tham gia tích cực vào hoạt động hiến máu cứu người tại các bệnh viện',\n",
    " 'Bwing tích cực tham gia chương trình nước sạch cho em tại Tây Nguyên',\n",
    " 'Qũy Bwing chung tay khắc phục hậu quả sau dịch covid tại quận Bình Tân',\n",
    " 'Ưu điểm của Bwing theo đánh giá của người chơi',\n",
    " 'Bwing là nhà cái được chứng nhận hoạt động hợp pháp từ cơ quan chính phủ',\n",
    " 'Khả năng bảo mật của hệ thống máy chủ Bwing là an toàn tuyệt đối',\n",
    " 'Giao diện Bwing bắt mắt tối ưu cho trải nghiệm người dùng',\n",
    " 'Bwing cho Tốc độ xử lý thao tác của người chơi cực nhanh',\n",
    " 'Giao dịch  rút và nạp tiền Bwing an toàn và uy tín',\n",
    " 'Kho sản phẩm cá cược Bwing đa dạng với nhiều trò chơi độc lạ',\n",
    " 'Bwing có Chính sách áp dụng khuyến mãi rõ ràng không làm khó người chơi',\n",
    " 'Bộ phận chăm sóc khách hàng của Bwing tận tình 24/7',\n",
    " 'Không thu phí bất cứ giao dịch nào giữa người chơi và nhà cái Bwing',\n",
    " 'Nhược điểm của nhà cái Bwing theo phản hồi của \"khách quen vip\"',\n",
    " 'Hướng dẫn tải app Bwing trên hệ điều hành IOS/ Android',\n",
    " 'Tải app Bwing trên IOS',\n",
    " 'Tải app Bwing trên Android',\n",
    " 'Hướng dẫn đăng ký Bwing của bộ phận hỗ trợ khách hàng trong đó bao gồm các mục có nội dung về Thao tác đăng ký Bwing,\\\n",
    " Lưu ý khi đăng ký thành viên nhà cái Bwing,Đăng nhập Bwing',\n",
    " 'Hướng dẫn nạp tiền Bwing đơn giản an toàn',\n",
    " 'Phương pháp rút tiền Bwing \"1 phát ăn ngay\" chuẩn từ nhà cái',\n",
    " 'Điểm danh những chương trình khuyến mãi Bwing cực khủng năm 2023:Khuyến mãi tân thủ Bwing tặng 50k,\\\n",
    " Nạp tiền Bwing nhận thưởng với tỷ lệ hấp dẫn,Khuyến mãi Bwing hoàn trả cược thua từ 2.3 đến 4,2%,\\\n",
    " Phần thưởng giới thiệu thành viên mới,Những chương trình đổi thưởng Bwing định kỳ',\n",
    " 'Tổng hợp những sản phẩm cá cược tại nhà cái Bwing, trong đó đánh giá chi tiết các sản phẩm nội bật:Cá cược thể thao Bwing,\\\n",
    " Live Casino Bwing,Nổ hũ Bwing,Bắn Cá Bwing,Xổ số Bwing',\n",
    " 'Kinh nghiệm cá cược luôn thắng của cao thủ tại Bwing'\n",
    " 'Link truy cập Bwing không bị chặn cập nhật 07/2023',\n",
    " 'Lý do link vào bwing bị chặn',\n",
    " 'Cách khắc phục khi bị chặn vào nhà cái bwing',\n",
    " 'Tổng hơp 10 Feedback của người chơi về nhà cái Bwing',\n",
    " 'FAQ - Giải đáp những thắc mắc của người chơi về nhà cái Bwing, giải đáp thắc mắc cho một số câu hỏi như:\\\n",
    " Bwing hỗ trợ người chơi qua những kênh nào?,\\\n",
    " Bwing có lừa đảo không?,\\\n",
    " Bwing có uy tín không?,\\\n",
    " Bwing đang áp dụng những phương thức thanh toán nào?,\\\n",
    " Tôi có thể làm đại lý của sảnh cược Bwing không?,\\\n",
    " Cá cược Bwing trên thiết bị nào là tốt nhất?,\\\n",
    " Tôi có thể đăng ký nhiều tài khoản tại nhà cái Bwing không?,\\\n",
    " Bwing.bet hỗ trợ người chơi qua những kênh nào?,\\\n",
    " nhà cái Bwing đến từ đâu?,\\\n",
    " Tôi có thể bị lộ thông tin cá nhân khi chơi cá cược tại Bwing không?',\n",
    " 'Tổng kết về nhà cái Bwing']\n",
    "keyword =\"Bwing\"\n",
    "brand=\"Bwing\""
   ]
  },
  {
   "cell_type": "code",
   "execution_count": null,
   "id": "8036a508",
   "metadata": {},
   "outputs": [],
   "source": [
    "#123B"
   ]
  },
  {
   "cell_type": "code",
   "execution_count": 59,
   "id": "663353a0",
   "metadata": {},
   "outputs": [],
   "source": [
    "outline_tài_xỉu_123B=[\n",
    "\"Giới thiệu về game tài xỉu\",\n",
    "\"Giới thiệu về tài xỉu 123B\",\n",
    "\"Giải thích luật chơi tài xỉu 123B\",\n",
    "\"Các chiến thuật chơi tài xỉu 123B mà các cao thủ không bao giờ tiết lộ\",\n",
    "\"Những điều cần lưu ý khi chơi tài xỉu 123B\",\n",
    "\"Hướng dẫn các bước đăng ký chơi tài xỉu 123B\",\n",
    "\"Tổng kết tài xỉu 123B\"\n",
    "]\n",
    "brand = \"123B\"\n",
    "keyword = \"tài xỉu 123B\"\n",
    "title = \"tài xỉu 123B\""
   ]
  },
  {
   "cell_type": "code",
   "execution_count": 76,
   "id": "d2401723",
   "metadata": {},
   "outputs": [],
   "source": [
    "outline_xóc_đĩa_123B=[\n",
    "\"Giới thiệu về xóc đĩa\",\n",
    "\"Luật chơi xóc đĩa 123 và các thuật ngữ thông dụng trong xóc đĩa 123B\",\n",
    "\"Những ưu điểm khi chơi xóc đĩa 123B\",\n",
    "\"Các chiến thuật chơi xóc đĩa 123B cho tỉ lệ thắng cao nhất\",\n",
    "\"Những chương trình khuyến mãi khi chơi xóc đĩa 123B\",\n",
    "\"Hướng dẫn các bước đăng ký chơi xóc đĩa 123B\",\n",
    "\"Tổng kết\"\n",
    "]\n",
    "brand = \"123B\"\n",
    "keyword = \"xóc đĩa 123B\"\n",
    "title = \"xóc đĩa 123B\""
   ]
  },
  {
   "cell_type": "code",
   "execution_count": 7,
   "id": "87352c09",
   "metadata": {},
   "outputs": [],
   "source": [
    "outline_esport_123B = [\n",
    "'Giới thiệu về sảnh cá cược thể thao điện tử Esport 123B',\n",
    "'Những môn thể thao điện tử phố biến tại sảnh cá cược Esport 123B (giới thiệu lần lượt các môn Esport như League of Legends, PUBG, DOTA2, )',\n",
    "'Lí do vì sao bạn nên tham gia các cược tại Esport 123B (đưa ra 5 lí do)',\n",
    "'Điều kiện tham gia các cược thể thao Esport 123B',\n",
    "'Hướng dẫn đăng ký chơi cá cược Esport 123B',\n",
    "'Tổng kết'\n",
    "]\n",
    "keyword ='esport 123B',\n",
    "brand = '123B'"
   ]
  },
  {
   "cell_type": "code",
   "execution_count": 4,
   "id": "533ccce7",
   "metadata": {},
   "outputs": [],
   "source": [
    "outline_đá_gà_123B = [\n",
    "\"giới thiệu về sảnh đá gà 123B (phải đề cập đến đá gà 123B có 2 sảnh là Digmaan và WS 168 Gaming hiện tại chính là hai trường đá gà lớn nhất tại Philippin)\",\n",
    "\"các ưu điểm chỉ có tại sảnh đá gà 123B\",\n",
    "\"giới thiệu các chương trình khuyến mãi khi chơi đá gà 123B, bao gồm (khuyến mãi hoàn cược lên đến 2%, khuyến mãi tặng quà sinh nhật khủng,\\\n",
    " khuyến mãi tặng ngay 100k khi đăng ký hoặc tải app, nhận tiền thưởng khi giới thiệu bạn bè,\\\n",
    " phần thưởng gặp mặt lên đến 21.000.000 đồng khi đổi nhà cái đến với 123B )\",\n",
    "\"Điều kiện để tham giá các cược cá gà 123B\",\n",
    "\"Hướng dẫn đăng ký đá gà 123B\",\n",
    "\"Những điều cần lưu ý khi tham gia đá gà 123B\",\n",
    "\"Tổng kết\"\n",
    "]\n",
    "keyword ='đá gà 123B',\n",
    "brand = '123B'"
   ]
  },
  {
   "cell_type": "code",
   "execution_count": 10,
   "id": "8d86b83d",
   "metadata": {},
   "outputs": [],
   "source": [
    "outline_lô_đề_123B = [\n",
    "\"giới thiệu về lô đề 123B\",\n",
    "\"các sảnh lô đề 123 mà người chơi nhất định phải thử (đi vào giới thiệu chi tiết từng sảnh như sảnh xổ số VIP, sảnh xổ số 3 miền Bắc Trung Nam, sảnh xổ số siêu tốc, sảnh MEGA 6/45)\",\n",
    "\"giới thiệu các chương trình khuyến mãi khi chơi lô đề 123B, bao gồm (dự đoán xổ số 3 miền tại phòng chat nhận ngay phần thưởng lên đến 1288k, khuyến mãi xổ số siêu tốc thắng liên hoàn 7 kỳ thưởng ngay 10.000.000 đồng,\\\n",
    " khuyến mãi đăng ký tải app nhận ngay 100k, tặng quà khủng nhân dịp sinh nhật cho tất cả các hội viên,\\\n",
    " khuyến mãi hoàn cược lên đến 2%)\",\n",
    "#\"Các chiến thuật hiệu quả nhất khi chơi lô đề mà cao thủ không bao giờ tiết lộ\",\n",
    " \"Những cách đánh lô đề hay nhất hiện nay, mỗi cách đánh nên có ví dụ cụ thể\",\n",
    "\"Hướng dẫn cách nạp tiền chơi lô đề 123B\",\n",
    "\"Những điều cần lưu ý khi cá cược lô đề 123B\",\n",
    "\"Tổng kết\"\n",
    "]\n",
    "keyword ='lô đề 123B',\n",
    "brand = '123B'"
   ]
  },
  {
   "cell_type": "code",
   "execution_count": null,
   "id": "39557d70",
   "metadata": {},
   "outputs": [],
   "source": []
  },
  {
   "cell_type": "code",
   "execution_count": null,
   "id": "0cda9250",
   "metadata": {},
   "outputs": [],
   "source": []
  },
  {
   "cell_type": "code",
   "execution_count": null,
   "id": "505061eb",
   "metadata": {},
   "outputs": [],
   "source": [
    "outline_nha_cai_luck8 = [' Luck8 – Cập nhật link vào nhà cái Luck8 mới nhất 2023',\n",
    "       'Giới thiệu sơ lược về nhà cái Luck8',\n",
    "       ' Luck8 là gì?',\n",
    "       ' Lịch sử ra đời và phát triển trở thành nhà cái cá độ hàng đầu của nhà cái Luck8',\n",
    "       ' Định hướng phát triển của nhà cái Luck8 trong tương lai trong đó bao gồm các mục sau: Đa dạng hóa các sản phẩm cá cược,\\\n",
    "         Mang lại trải nghiệm tốt nhất cho thành viên nhà cái Luck8,Mở rộng thị trường, trở thành một nhà cái đa quốc gia,\\\n",
    "         Cải thiện tối đa chất lượng dịch vụ chăm sóc khách hàng,\\\n",
    "         Tối ưu hệ thống thanh toán và giao dịch,\\\n",
    "         Đơn giản hóa quy trình đăng ký thành viên,\\\n",
    "         Xây dựng một hệ thống bảo mật và an toàn cho các thành viên tham gia cá độ online,\\\n",
    "         Trở thành đầu tàu trong việc tuân thủ luật pháp của nước sở tại',\n",
    "      \n",
    "       ' Những ưu điểm nổi bật của Luck8',\n",
    "       ' Được cấp phép hoạt động hợp pháp, đảm bảo tính chất đáng tin cậy và an toàn cho người chơ',\n",
    "       ' Giao diện trang web thân thiện, dễ sử dụng và tương thích trên nhiều thiết bị',\n",
    "       ' Dàn dealer chuyên nghiệp và hấp dẫn trong các trò chơi casino trực tuyến',\n",
    "       ' Hệ thống thanh toán đa dạng và bảo mật, bao gồm các phương thức nạp/rút tiền tiện lợi',\n",
    "       ' Có ứng dụng Luck8 cho di động, cho phép người chơi tham gia cá độ bất cứ lúc nào và ở bất cứ đâu',\n",
    "       ' Kho sản phẩm cá cược đa dạng với nhiều trò chơi độc lạ',\n",
    "       ' Hỗ trợ người chơi cá cược bằng nhiều ngôn ngữ khác nhau, tạo thuận lợi cho người chơi toàn cầu.',\n",
    "       ' Cập nhật thường xuyên các sự kiện và giải đấu mới để người chơi tham gia',\n",
    "       ' Cam kết bảo mật thông tin cá nhân và tài khoản của người chơi',\n",
    "       ' Tích hợp hệ thống bảo mật chống gian lận, đảm bảo công bằng trong trò chơi',\n",
    "       ' Đội ngũ nhân viên hỗ trợ chuyên nghiệp 24/7, thân thiện và có kiến thức sâu sắc về cá độ, giúp đỡ người chơi mọi lúc cần thiết',\n",
    "       ' Chương trình khuyến mãi và thưởng hấp dẫn dành cho thành viên mới và thành viên cũ',\n",
    "       ' Một số nhược điểm nhà cái Luck8 cần phải cải thiện',\n",
    "       ' Hướng dẫn tải app nhà cái Luck8',\n",
    "       ' Tải app Luck8 trên IOS', \n",
    "       ' Tải app Luck8 trên Android',\n",
    "       ' Hướng dẫn đăng ký nhà cái Luck8 nhanh chóng chỉ với vài thao tác',\n",
    "       ' Hướng dẫn nạp tiền nhà cái Luck8 nhanh chóng, bảo mật',\n",
    "       ' Cách rút tiền từ nhà cái Luck8, tiền về trong ba phút',\n",
    "       ' Điểm danh những chương trình khuyến mãi Bwing cực khủng năm 2023',\n",
    "       ' Khuyến mãi tân thủ Bwing tặng 50k',\n",
    "       ' Nạp tiền Bwing nhận thưởng với tỷ lệ hấp dẫn',\n",
    "       ' Khuyến mãi Bwing hoàn trả cược thua từ 2.3 đến 4,2%',\n",
    "       ' Phần thưởng giới thiệu thành viên mới',\n",
    "       ' Những chương trình đổi thưởng Bwing định kỳ',\n",
    "       ' Tổng hợp những sản phẩm cá cược tại nhà cái Bwing',\n",
    "       ' Cá cược thể thao Bwing', ' Live Casino Bwing', ' Nổ hũ Bwing',\n",
    "       ' Bắn Cá Bwing', ' Xổ số Bwing',\n",
    "       ' Kinh nghiệm cá cược luôn thắng của cao thủ tại Bwing',\n",
    "       ' Link truy cập Bwing không bị chặn cập nhật 07/2023',\n",
    "       ' Lý do link vào bwing bị chặn',\n",
    "       ' Cách khắc phục khi bị chặn vào nhà cái bwing',\n",
    "       ' Feedback của người chơi về nhà cái Bwing', ' Đánh giá 1',\n",
    "       ' Đánh giá 2', ' Đánh giá 3', ' Đánh giá 4', ' Đánh giá 5',\n",
    "       ' FAQ - Giải đáp những thắc mắc của người chơi về nhà cái Bwing',\n",
    "       ' Bwing hỗ trợ người chơi qua những kênh nào?',\n",
    "       ' Bwing có lừa đảo không?', ' Bwing có uy tín không?',\n",
    "       ' Bwing đang áp dụng những phương thức thanh toán nào?',\n",
    "       ' Tôi có thể làm đại lý của sảnh cược Bwing không?',\n",
    "       ' Cá cược Bwing trên thiết bị nào là tốt nhất?',\n",
    "       ' Tôi có thể đăng ký nhiều tài khoản tại nhà cái Bwing không?',\n",
    "       ' Bwing.bet hỗ trợ người chơi qua những kênh nào?',\n",
    "       ' nhà cái Bwing đến từ đâu?',\n",
    "       ' Tôi có thể bị lộ thông tin cá nhân khi chơi cá cược tại Bwing không?',\n",
    "       ' Kết Luận (50 - 70 chữ chứa từ khóa)']"
   ]
  },
  {
   "cell_type": "code",
   "execution_count": 77,
   "id": "8eaa33d9",
   "metadata": {},
   "outputs": [
    {
     "name": "stdout",
     "output_type": "stream",
     "text": [
      "Giới thiệu về xóc đĩa \n",
      "\n",
      "Luật chơi xóc đĩa 123 và các thuật ngữ thông dụng trong xóc đĩa 123B \n",
      "\n",
      "Những ưu điểm khi chơi xóc đĩa 123B \n",
      "\n",
      "Các chiến thuật chơi xóc đĩa 123B cho tỉ lệ thắng cao nhất \n",
      "\n",
      "Những chương trình khuyến mãi khi chơi xóc đĩa 123B \n",
      "\n",
      "Hướng dẫn các bước đăng ký chơi xóc đĩa 123B \n",
      "\n",
      "Tổng kết \n",
      "\n"
     ]
    }
   ],
   "source": [
    "for i in outline_xóc_đĩa_123B:\n",
    "    print(i,'\\n')"
   ]
  },
  {
   "cell_type": "code",
   "execution_count": 10,
   "id": "ca5727d7",
   "metadata": {},
   "outputs": [
    {
     "data": {
      "text/plain": [
       "37"
      ]
     },
     "execution_count": 10,
     "metadata": {},
     "output_type": "execute_result"
    }
   ],
   "source": [
    "len(outline_bwing)"
   ]
  },
  {
   "cell_type": "code",
   "execution_count": 55,
   "id": "20316ad5",
   "metadata": {},
   "outputs": [],
   "source": [
    "df_bwing = pd.read_csv(\"data/bwing.csv\")"
   ]
  },
  {
   "cell_type": "code",
   "execution_count": 56,
   "id": "a02d7630",
   "metadata": {},
   "outputs": [
    {
     "data": {
      "text/html": [
       "<div>\n",
       "<style scoped>\n",
       "    .dataframe tbody tr th:only-of-type {\n",
       "        vertical-align: middle;\n",
       "    }\n",
       "\n",
       "    .dataframe tbody tr th {\n",
       "        vertical-align: top;\n",
       "    }\n",
       "\n",
       "    .dataframe thead th {\n",
       "        text-align: right;\n",
       "    }\n",
       "</style>\n",
       "<table border=\"1\" class=\"dataframe\">\n",
       "  <thead>\n",
       "    <tr style=\"text-align: right;\">\n",
       "      <th></th>\n",
       "      <th>h/o</th>\n",
       "      <th>header</th>\n",
       "      <th>outline</th>\n",
       "      <th>requirement</th>\n",
       "    </tr>\n",
       "  </thead>\n",
       "  <tbody>\n",
       "    <tr>\n",
       "      <th>0</th>\n",
       "      <td>H1: Bwing – Cập nhật link vào nhà cái Bwing tặ...</td>\n",
       "      <td>H1</td>\n",
       "      <td>Bwing – Cập nhật link vào nhà cái Bwing tặng ...</td>\n",
       "      <td>Unique 95% trở lên</td>\n",
       "    </tr>\n",
       "    <tr>\n",
       "      <th>1</th>\n",
       "      <td>H2: Giới thiệu nhà cái cá cược Bwing đẳng cấp ...</td>\n",
       "      <td>H2</td>\n",
       "      <td>Giới thiệu nhà cái cá cược Bwing đẳng cấp uy tín</td>\n",
       "      <td>Văn phong mạch lạc rõ ràng</td>\n",
       "    </tr>\n",
       "    <tr>\n",
       "      <th>2</th>\n",
       "      <td>H3: Bwing là gì?</td>\n",
       "      <td>H3</td>\n",
       "      <td>Bwing là gì?</td>\n",
       "      <td>NaN</td>\n",
       "    </tr>\n",
       "    <tr>\n",
       "      <th>3</th>\n",
       "      <td>H3: Sự ra đời của Bwing và quá trình phát triể...</td>\n",
       "      <td>H3</td>\n",
       "      <td>Sự ra đời của Bwing và quá trình phát triển t...</td>\n",
       "      <td>NaN</td>\n",
       "    </tr>\n",
       "    <tr>\n",
       "      <th>4</th>\n",
       "      <td>H2: Điểm tên một số tên miền mở rộng mang thươ...</td>\n",
       "      <td>H2</td>\n",
       "      <td>Điểm tên một số tên miền mở rộng mang thương ...</td>\n",
       "      <td>NaN</td>\n",
       "    </tr>\n",
       "  </tbody>\n",
       "</table>\n",
       "</div>"
      ],
      "text/plain": [
       "                                                 h/o header  \\\n",
       "0  H1: Bwing – Cập nhật link vào nhà cái Bwing tặ...     H1   \n",
       "1  H2: Giới thiệu nhà cái cá cược Bwing đẳng cấp ...     H2   \n",
       "2                                   H3: Bwing là gì?     H3   \n",
       "3  H3: Sự ra đời của Bwing và quá trình phát triể...     H3   \n",
       "4  H2: Điểm tên một số tên miền mở rộng mang thươ...     H2   \n",
       "\n",
       "                                             outline  \\\n",
       "0   Bwing – Cập nhật link vào nhà cái Bwing tặng ...   \n",
       "1   Giới thiệu nhà cái cá cược Bwing đẳng cấp uy tín   \n",
       "2                                       Bwing là gì?   \n",
       "3   Sự ra đời của Bwing và quá trình phát triển t...   \n",
       "4   Điểm tên một số tên miền mở rộng mang thương ...   \n",
       "\n",
       "                      requirement  \n",
       "0             Unique 95% trở lên  \n",
       "1  Văn phong mạch lạc rõ ràng  \n",
       "2                             NaN  \n",
       "3                             NaN  \n",
       "4                             NaN  "
      ]
     },
     "execution_count": 56,
     "metadata": {},
     "output_type": "execute_result"
    }
   ],
   "source": [
    "df_bwing.head()"
   ]
  },
  {
   "cell_type": "markdown",
   "id": "7a285522",
   "metadata": {},
   "source": [
    "df_bwing.outline.values"
   ]
  },
  {
   "cell_type": "code",
   "execution_count": null,
   "id": "38c42e96",
   "metadata": {},
   "outputs": [],
   "source": []
  },
  {
   "cell_type": "code",
   "execution_count": null,
   "id": "bfa8b920",
   "metadata": {},
   "outputs": [],
   "source": []
  },
  {
   "cell_type": "code",
   "execution_count": null,
   "id": "62e16e43",
   "metadata": {},
   "outputs": [],
   "source": []
  },
  {
   "cell_type": "code",
   "execution_count": null,
   "id": "b08500c1",
   "metadata": {},
   "outputs": [],
   "source": []
  },
  {
   "cell_type": "code",
   "execution_count": 29,
   "id": "f8f86598",
   "metadata": {},
   "outputs": [],
   "source": [
    "prompts_thể_thao_abc_gp = []\n",
    "for i in outline_thể_thao_abc_gp:\n",
    "    prompt = '''Bạn là một chuyên gia về viết nội dung cho các website cá độ, đồng thời bạn cũng am hiểu về lĩnh vực cá độ trực tuyến.Hãy viết một bài viết về nói về {}. Bài viết đó phải chứa từ khóa \"{}\" và từ khóa phải xuất hiện ít nhất một lần và nội dung bài viết phải liên quan đến thương hiệu {}. Hãy đảm bảo rằng dung bài viết không ngắn hơn 400 chữ'''.format(i,keyword,brand)\n",
    "    prompts_thể_thao_abc_gp.append(prompt)"
   ]
  },
  {
   "cell_type": "code",
   "execution_count": 35,
   "id": "c9af18aa",
   "metadata": {},
   "outputs": [],
   "source": [
    "prompts_bắn_cá_abc_gp = []\n",
    "for i in outline_bắn_cá_abc_gp:\n",
    "    prompt = '''Bạn là một chuyên gia về viết nội dung cho các website cá độ, đồng thời bạn cũng am hiểu về lĩnh vực cá độ trực tuyến.Hãy viết một bài viết về nói về {}. Bài viết đó phải chứa từ khóa \"{}\" và từ khóa phải xuất hiện ít nhất một lần và nội dung bài viết phải liên quan đến thương hiệu {}. Hãy đảm bảo rằng dung bài viết không ngắn hơn 400 chữ'''.format(i,keyword,brand)\n",
    "    prompts_bắn_cá_abc_gp.append(prompt)"
   ]
  },
  {
   "cell_type": "code",
   "execution_count": 39,
   "id": "9d25d21c",
   "metadata": {},
   "outputs": [],
   "source": [
    "prompts_casino_abc_gp = []\n",
    "for i in outline_casino_abc_gp:\n",
    "    prompt = '''Bạn là một chuyên gia về viết nội dung cho các website cá độ, đồng thời bạn cũng am hiểu về lĩnh vực cá độ trực tuyến.Hãy viết một bài viết về nói về {}. Bài viết đó phải chứa từ khóa \"{}\" và từ khóa phải xuất hiện ít nhất một lần và nội dung bài viết phải liên quan đến thương hiệu {}. Hãy đảm bảo rằng dung bài viết không ngắn hơn 400 chữ'''.format(i,keyword,brand)\n",
    "    prompts_casino_abc_gp.append(prompt)"
   ]
  },
  {
   "cell_type": "code",
   "execution_count": 44,
   "id": "10d6a6dc",
   "metadata": {},
   "outputs": [],
   "source": [
    "prompts_khuyến_mãi_abc_gp = []\n",
    "for i in outline_khuyến_mãi_abc_gp:\n",
    "    prompt = '''Bạn là một chuyên gia về viết nội dung cho các website cá độ, đồng thời bạn cũng am hiểu về lĩnh vực cá độ trực tuyến.Hãy viết một bài viết về nói về {}. Bài viết đó phải chứa từ khóa \"{}\" và từ khóa phải xuất hiện ít nhất một lần và nội dung bài viết phải liên quan đến thương hiệu {}. Hãy đảm bảo rằng dung bài viết không ngắn hơn 400 chữ'''.format(i,keyword,brand)\n",
    "    prompts_khuyến_mãi_abc_gp.append(prompt)"
   ]
  },
  {
   "cell_type": "code",
   "execution_count": 116,
   "id": "6f002234",
   "metadata": {},
   "outputs": [],
   "source": [
    "prompts_lô_đề_abc_gp = []\n",
    "for i in outline_lô_đề_abc_gp:\n",
    "    prompt = \"Bạn là một chuyên gia về viết nội dung cho các website cá độ, đồng thời bạn cũng am hiểu về lĩnh vực cá độ trực tuyến.\\\n",
    "Hãy viết một bài viết về nói về {}. Bài viết đó phải chứa từ khóa {}\\\n",
    "và từ khóa phải xuất hiện ít nhất một lần và nội dung bài viết phải liên quan đến thương hiệu {}.\\\n",
    "Hãy sử dụng cấu trúc câu đa dạng, tránh trùng lặp.\\\n",
    "Hãy đảm bảo rằng dung bài viết không ngắn hơn 400 chữ.\\\n",
    "Giọng điệu vui tươi, tích cực. Nội dung phải đáp ứng được các tiêu chuẩn của SEO.\\\n",
    "Bài viết phải được phân chia ý theo các mục một cách rõ ràng.\".format(i,keyword,brand)\n",
    "    prompts_lô_đề_abc_gp.append(prompt)"
   ]
  },
  {
   "cell_type": "code",
   "execution_count": 45,
   "id": "c6bbe68e",
   "metadata": {},
   "outputs": [],
   "source": [
    "prompts_bwing = []\n",
    "for i in outline_bwing:\n",
    "    prompt = \"Bạn là một chuyên gia về viết nội dung cho các website cá độ, đồng thời bạn cũng am hiểu về lĩnh vực cá độ trực tuyến.\\\n",
    " Hãy viết một bài viết về nói về {}. Bài viết đó phải chứa từ khóa {}\\\n",
    " và từ khóa phải xuất hiện ít nhất một lần và nội dung bài viết phải liên quan đến thương hiệu {}.\\\n",
    " Hãy sử dụng cấu trúc câu đa dạng, tránh trùng lặp.\\\n",
    " Hãy đảm bảo rằng dung bài viết không ngắn hơn 450 chữ.\\\n",
    " Giọng điệu chuyên nghiệp, tích cực. Nội dung phải đáp ứng được các tiêu chuẩn của SEO.\\\n",
    " Bài viết phải được phân chia ý theo các mục một cách rõ ràng.\".format(i,keyword,brand)\n",
    "    prompts_bwing.append(prompt)"
   ]
  },
  {
   "cell_type": "code",
   "execution_count": null,
   "id": "e2cff9aa",
   "metadata": {},
   "outputs": [],
   "source": [
    "#prompt 123B"
   ]
  },
  {
   "cell_type": "code",
   "execution_count": 60,
   "id": "d2bd6f0c",
   "metadata": {},
   "outputs": [],
   "source": [
    "prompts_tài_xỉu_123B = []\n",
    "for i in outline_tài_xỉu_123B:\n",
    "    prompt = \"Bạn là một chuyên gia về viết nội dung cho các website cá độ, đồng thời bạn cũng am hiểu về lĩnh vực cá độ trực tuyến.\\\n",
    " Hãy viết một bài viết về nói về {}. Bài viết đó phải chứa từ khóa {}\\\n",
    " và từ khóa phải xuất hiện ít nhất một lần và nội dung bài viết phải liên quan đến thương hiệu {}.\\\n",
    " Hãy sử dụng cấu trúc câu đa dạng, tránh trùng lặp.\\\n",
    " Hãy đảm bảo rằng dung bài viết không ngắn hơn 450 chữ.\\\n",
    " Giọng điệu chuyên nghiệp, tích cực. Nội dung phải đáp ứng được các tiêu chuẩn của SEO.\\\n",
    " Bài viết phải được phân chia ý theo các mục một cách rõ ràng.\".format(i,keyword,brand)\n",
    "    prompts_tài_xỉu_123B.append(prompt)"
   ]
  },
  {
   "cell_type": "code",
   "execution_count": 82,
   "id": "ed1c92e6",
   "metadata": {},
   "outputs": [],
   "source": [
    "\n",
    "prompts_xóc_đĩa_123B = []\n",
    "for i in outline_xóc_đĩa_123B:\n",
    "    prompt = \"Bạn là một chuyên gia về viết nội dung cho các website cá độ, đồng thời bạn cũng am hiểu về lĩnh vực cá độ trực tuyến.\\\n",
    " Hãy viết một bài viết về nói về {}. Bài viết đó phải chứa từ khóa {}\\\n",
    " và từ khóa phải xuất hiện ít nhất một lần và nội dung bài viết phải liên quan đến thương hiệu {}.\\\n",
    " Hãy sử dụng cấu trúc câu đa dạng, tránh trùng lặp.\\\n",
    " Hãy đảm bảo rằng dung bài viết không ngắn hơn 500 chữ.\\\n",
    " Giọng điệu chuyên nghiệp, tích cực. Nội dung phải đáp ứng được các tiêu chuẩn của SEO.\\\n",
    " \".format(i,keyword,brand)\n",
    "    prompts_xóc_đĩa_123B.append(prompt)"
   ]
  },
  {
   "cell_type": "code",
   "execution_count": 8,
   "id": "ae928891",
   "metadata": {},
   "outputs": [],
   "source": [
    "\n",
    "prompts_esport_123B = []\n",
    "for i in outline_esport_123B:\n",
    "    prompt = \"Bạn là một chuyên gia về viết nội dung cho các website cá độ, đồng thời bạn cũng am hiểu về lĩnh vực cá độ trực tuyến.\\\n",
    " Hãy viết một bài viết về nói về {}. Bài viết đó phải chứa từ khóa {}\\\n",
    " và từ khóa phải xuất hiện ít nhất một lần và nội dung bài viết phải liên quan đến thương hiệu {}.\\\n",
    " Hãy sử dụng cấu trúc câu đa dạng, tránh trùng lặp.\\\n",
    " Hãy đảm bảo rằng dung bài viết không ngắn hơn 500 chữ.\\\n",
    " Giọng điệu chuyên nghiệp, tích cực. Nội dung phải đáp ứng được các tiêu chuẩn của SEO.\\\n",
    " \".format(i,keyword,brand)\n",
    "    prompts_esport_123B.append(prompt)"
   ]
  },
  {
   "cell_type": "code",
   "execution_count": 5,
   "id": "36dd214e",
   "metadata": {},
   "outputs": [],
   "source": [
    "\n",
    "\n",
    "prompts_đá_gà_123B = []\n",
    "for i in outline_đá_gà_123B:\n",
    "    prompt = \"Bạn là một chuyên gia về viết nội dung cho các website cá độ, đồng thời bạn cũng am hiểu về lĩnh vực cá độ trực tuyến.\\\n",
    " Hãy viết một bài viết về nói về {}. Bài viết đó phải chứa từ khóa {}\\\n",
    " và từ khóa phải xuất hiện ít nhất một lần và nội dung bài viết phải liên quan đến thương hiệu {}.\\\n",
    " Hãy sử dụng cấu trúc câu đa dạng, tránh trùng lặp.\\\n",
    " Hãy đảm bảo rằng dung bài viết không ngắn hơn 500 chữ.\\\n",
    " Giọng điệu chuyên nghiệp, tích cực. Nội dung phải đáp ứng được các tiêu chuẩn của SEO.\\\n",
    " \".format(i,keyword,brand)\n",
    "    prompts_đá_gà_123B.append(prompt)"
   ]
  },
  {
   "cell_type": "code",
   "execution_count": 11,
   "id": "262eee46",
   "metadata": {},
   "outputs": [],
   "source": [
    "prompts_lô_đề_123B = []\n",
    "for i in outline_lô_đề_123B:\n",
    "    prompt = \"Bạn là một chuyên gia về viết nội dung cho các website cá độ, đồng thời bạn cũng am hiểu về lĩnh vực cá độ trực tuyến.\\\n",
    " Hãy viết một bài viết về nói về {}. Bài viết đó phải chứa từ khóa {}\\\n",
    " và từ khóa phải xuất hiện ít nhất một lần và nội dung bài viết phải liên quan đến thương hiệu {}.\\\n",
    " Hãy sử dụng cấu trúc câu đa dạng, tránh trùng lặp.\\\n",
    " Hãy đảm bảo rằng dung bài viết không ngắn hơn 500 chữ.\\\n",
    " Giọng điệu chuyên nghiệp, tích cực. Nội dung phải đáp ứng được các tiêu chuẩn của SEO.\\\n",
    " \".format(i,keyword,brand)\n",
    "    prompts_lô_đề_123B.append(prompt)"
   ]
  },
  {
   "cell_type": "code",
   "execution_count": 19,
   "id": "b565494f",
   "metadata": {},
   "outputs": [
    {
     "data": {
      "text/plain": [
       "7"
      ]
     },
     "execution_count": 19,
     "metadata": {},
     "output_type": "execute_result"
    }
   ],
   "source": [
    "len(prompts_đá_gà_123B)"
   ]
  },
  {
   "cell_type": "code",
   "execution_count": 48,
   "id": "6b33516f",
   "metadata": {},
   "outputs": [
    {
     "name": "stdout",
     "output_type": "stream",
     "text": [
      "Bwing – Cập nhật link vào nhà cái Bwing tặng 50k 07/2023\n"
     ]
    }
   ],
   "source": [
    "print(outline_bwing[0])"
   ]
  },
  {
   "cell_type": "code",
   "execution_count": 35,
   "id": "e11288a3",
   "metadata": {},
   "outputs": [
    {
     "data": {
      "text/plain": [
       "\"Bạn là một chuyên gia về viết nội dung cho các website cá độ, đồng thời bạn cũng am hiểu về lĩnh vực cá độ trực tuyến. Hãy viết một bài viết về nói về giới thiệu về sảnh đá gà 123B (phải đề cập đến đá gà 123B có 2 sảnh là Digmaan và WS 168 Gaming hiện tại chính là hai trường đá gà lớn nhất tại Philippin). Bài viết đó phải chứa từ khóa ('đá gà 123B',) và từ khóa phải xuất hiện ít nhất một lần và nội dung bài viết phải liên quan đến thương hiệu 123B. Hãy sử dụng cấu trúc câu đa dạng, tránh trùng lặp. Hãy đảm bảo rằng dung bài viết không ngắn hơn 500 chữ. Giọng điệu chuyên nghiệp, tích cực. Nội dung phải đáp ứng được các tiêu chuẩn của SEO. \""
      ]
     },
     "execution_count": 35,
     "metadata": {},
     "output_type": "execute_result"
    }
   ],
   "source": [
    "prompts_đá_gà_123B[0]"
   ]
  },
  {
   "cell_type": "code",
   "execution_count": null,
   "id": "06cb57c2",
   "metadata": {},
   "outputs": [],
   "source": []
  },
  {
   "cell_type": "code",
   "execution_count": null,
   "id": "7cdca207",
   "metadata": {},
   "outputs": [],
   "source": []
  },
  {
   "cell_type": "code",
   "execution_count": 9,
   "id": "2be38387",
   "metadata": {},
   "outputs": [
    {
     "name": "stdout",
     "output_type": "stream",
     "text": [
      "giới thiệu về sảnh đá gà 123B (phải đề cập đến đá gà 123B có 2 sảnh là Digmaan và WS 168 Gaming hiện tại chính là hai trường đá gà lớn nhất tại Philippin)\n",
      "\n",
      "(14.29% completed!) \n",
      "_______________________________________________\n",
      "các ưu điểm chỉ có tại sảnh đá gà 123B\n",
      "\n",
      "(28.57% completed!) \n",
      "_______________________________________________\n",
      "giới thiệu các chương trình khuyến mãi khi chơi đá gà 123B, bao gồm (khuyến mãi hoàn cược lên đến 2%, khuyến mãi tặng quà sinh nhật khủng, khuyến mãi tặng ngay 100k khi đăng ký hoặc tải app, nhận tiền thưởng khi giới thiệu bạn bè, phần thưởng gặp mặt lên đến 21.000.000 đồng khi đổi nhà cái đến với 123B )\n",
      "\n",
      "(42.86% completed!) \n",
      "_______________________________________________\n",
      "Điều kiện để tham giá các cược cá gà 123B\n",
      "\n",
      "(57.14% completed!) \n",
      "_______________________________________________\n",
      "Hướng dẫn đăng ký đá gà 123B\n",
      "\n",
      "(71.43% completed!) \n",
      "_______________________________________________\n",
      "Những điều cần lưu ý khi tham gia đá gà 123B\n",
      "\n",
      "(85.71% completed!) \n",
      "_______________________________________________\n",
      "Tổng kết\n",
      "\n",
      "(100.00% completed!) \n",
      "_______________________________________________\n",
      "\n",
      "##giới thiệu về sảnh đá gà 123B (phải đề cập đến đá gà 123B có 2 sảnh là Digmaan và WS 168 Gaming hiện tại chính là hai trường đá gà lớn nhất tại Philippin) \n",
      "-----------------\n",
      "Đá gà 123B - Khám phá sảnh Digmaan và WS 168 Gaming tại Philippines\n",
      "Đá gà 123B là một trong những thương hiệu cá độ trực tuyến nổi tiếng tại Philippines. Với uy tín và chất lượng dịch vụ hàng đầu, 123B đã thu hút được đông đảo người chơi yêu thích thú vui cá cược. Trang web của 123B không chỉ nổi bật với các trò chơi đánh bài và cá cược thể thao, mà còn nổi tiếng với hai sảnh đá gà hàng đầu là Digmaan và WS 168 Gaming.\n",
      "Sảnh Digmaan là một trong những sảnh đá gà lớn nhất và phổ biến nhất tại Philippines. Với màn hình chất lượng cao và truyền hình trực tiếp, người chơi có thể tha hồ thưởng thức trận đấu đá gà đầy kịch tính và hấp dẫn. Digmaan tự hào sở hữu đội ngũ người dẫn chương trình chuyên nghiệp và giàu kinh nghiệm, giúp tạo nên không khí sôi động và hào hứng. Bên cạnh đó, Digmaan cũng cung cấp nhiều lựa chọn cược đa dạng, từ cược đơn giản cho đến cược phức tạp, đáp ứng nhu cầu đa dạng của các thành viên.\n",
      "Một sảnh đá gà nổi bật khác tại 123B chính là WS 168 Gaming. Được xem là một trong những sảnh đá gà lâu đời nhất tại Philippines, WS 168 Gaming đã từng bước xây dựng niềm tin và uy tín trong lòng người chơi. Với chất lượng hình ảnh sắc nét và âm thanh sống động, WS 168 Gaming mang đến cho người xem cảm giác như đang trực tiếp ngồi tại sàn đá gà. Sự chuyên nghiệp và tận tâm của đội ngũ nhân viên tại WS 168 Gaming luôn đảm bảo trải nghiệm chơi đá gà tốt nhất cho mỗi thành viên tham gia.\n",
      "123B cam kết đem đến cho người chơi những trải nghiệm đá gà trực tuyến tốt nhất và an toàn nhất. Với giao diện trang web thân thiện và dễ sử dụng, việc đặt cược và thưởng thức các trận đấu đá gà trực tuyến trở nên dễ dàng hơn bao giờ hết. Bên cạnh đó, hệ thống bảo mật cao cấp đảm bảo thông tin cá nhân và tài khoản của người chơi được bảo vệ một cách an toàn và bảo mật.\n",
      "Ngoài sảnh Digmaan và WS 168 Gaming, 123B còn cung cấp nhiều sảnh đá gà khác, mang đến sự đa dạng và phong phú cho người chơi. Với đội ngũ nhân viên hỗ trợ chuyên nghiệp và tận tâm, bất kỳ thắc mắc hay vấn đề gì về việc chơi đá gà đều được giải đáp và hỗ trợ nhanh chóng.\n",
      "Tóm lại, 123B là một trong những sòng bạc trực tuyến hàng đầu tại Philippines, với sảnh đá gà Digmaan và WS 168 Gaming là hai điểm sáng nổi bật. Đá gà 123B không chỉ mang đến những giây phút giải trí thú vị mà còn đảm bảo tính công bằng và an toàn cho người chơi. Vậy thì hãy tham gia ngay để cảm nhận sự hấp dẫn và phấn khích của đá gà trực tuyến cùng 123B!\n",
      "\n",
      "##các ưu điểm chỉ có tại sảnh đá gà 123B \n",
      "-----------------\n",
      "Những ưu điểm độc đáo tại sảnh đá gà 123B – Trải nghiệm cá độ tuyệt vời không thể bỏ qua\n",
      "Đá gà 123B đã và đang là điểm đến ưa thích của những người yêu thích cá độ trực tuyến, và sảnh đá gà tại 123B không chỉ đơn thuần là một nơi giải trí, mà còn đem đến những ưu điểm độc đáo mà ít sảnh đá gà khác có được. Với sự kết hợp hài hòa giữa công nghệ hiện đại và dịch vụ chuyên nghiệp, sảnh đá gà 123B chắc chắn sẽ làm hài lòng cả những khách hàng khó tính nhất.\n",
      "Một trong những ưu điểm nổi bật của sảnh đá gà 123B chính là sự đa dạng về chương trình đá gà. Tại đây, người chơi sẽ được trải nghiệm không chỉ một mà là nhiều sàn đá gà với các trận đấu diễn ra liên tục, cả ngày lẫn đêm. Không chỉ có các trận đấu thường xuyên, 123B còn đặc biệt tổ chức các sự kiện đá gà lớn, thu hút sự tham gia của những con gà đá hàng đầu. Điều này mang đến cho người chơi sự hứng thú và phấn khích, giúp trải nghiệm cá độ trực tuyến trở nên hấp dẫn hơn bao giờ hết.\n",
      "Sự chuyên nghiệp và tận tâm của đội ngũ người dẫn chương trình và nhân viên tại sảnh đá gà 123B cũng là một điểm mạnh không thể bỏ qua. Với kinh nghiệm và am hiểu sâu sắc về đá gà, họ luôn biết cách tạo ra không khí sôi động và hào hứng cho người xem. Bên cạnh đó, họ còn hỗ trợ người chơi một cách tận tâm, giải đáp mọi thắc mắc và đảm bảo trải nghiệm cá độ của khách hàng luôn suôn sẻ và nhất quán.\n",
      "Đá gà 123B cũng tự hào về công nghệ truyền hình trực tiếp chất lượng cao mà họ sử dụng. Với hình ảnh sắc nét và âm thanh sống động, người chơi có cảm giác như đang ngồi trực tiếp tại sàn đá gà, từng bước chứng kiến những pha đấu gà đầy kịch tính. Điều này tăng cường sự tham gia và tận hưởng trọn vẹn trải nghiệm cá độ trực tuyến, giúp khách hàng cảm nhận được sự thú vị và hấp dẫn của đá gà 123B.\n",
      "Hệ thống bảo mật cao cấp của sảnh đá gà 123B cũng là một yếu tố quan trọng thu hút sự tin tưởng của người chơi. Thông tin cá nhân và tài khoản của khách hàng được bảo vệ một cách nghiêm ngặt, đảm bảo an toàn tuyệt đối. Đá gà 123B luôn cam kết mang đến cho khách hàng môi trường cá cược tin cậy và an toàn nhất.\n",
      "Tóm lại, sảnh đá gà 123B đem đến những ưu điểm vượt trội và không thể tìm thấy ở nhiều địa điểm cá độ trực tuyến khác. Từ sự đa dạng về chương trình, sự chuyên nghiệp và tận tâm của đội ngũ người dẫn chương trình, công nghệ truyền hình trực tiếp chất lượng cao cho đến hệ thống bảo mật an toàn, tất cả đều góp phần làm nên thành công và uy tín của thương hiệu 123B. Hãy trải nghiệm ngay để khám phá sự khác biệt và sự thú vị của sảnh đá gà 123B!\n",
      "\n",
      "##giới thiệu các chương trình khuyến mãi khi chơi đá gà 123B, bao gồm (khuyến mãi hoàn cược lên đến 2%, khuyến mãi tặng quà sinh nhật khủng, khuyến mãi tặng ngay 100k khi đăng ký hoặc tải app, nhận tiền thưởng khi giới thiệu bạn bè, phần thưởng gặp mặt lên đến 21.000.000 đồng khi đổi nhà cái đến với 123B ) \n",
      "-----------------\n",
      "Giới thiệu chương trình khuyến mãi hấp dẫn khi chơi đá gà 123B\n",
      "Đá gà 123B là một trong những thương hiệu cá độ trực tuyến hàng đầu tại Philippines, không chỉ nổi tiếng với các trò chơi đánh bài và cá cược thể thao, mà còn hấp dẫn người chơi bởi những chương trình khuyến mãi độc đáo và hấp dẫn. Cùng khám phá những ưu đãi tuyệt vời khi tham gia chơi đá gà tại 123B.\n",
      "Khuyến mãi hoàn cược lên đến 2%\n",
      "Đá gà 123B không chỉ quan tâm đến việc chào đón khách hàng mới mà còn thể hiện lòng tri ân đối với những thành viên đã tham gia lâu dài. Với chương trình hoàn cược lên đến 2%, người chơi có cơ hội nhận lại một phần tiền cược khi tham gia đá gà tại 123B. Điều này giúp giảm thiểu rủi ro và tăng cường độ hài lòng cho khách hàng.\n",
      "Khuyến mãi tặng quà sinh nhật khủng\n",
      "Đáng chú ý, 123B còn có chương trình khuyến mãi tặng quà sinh nhật vô cùng hấp dẫn. Nhân dịp sinh nhật của bạn, hãy tham gia chơi đá gà tại 123B và bạn sẽ nhận được món quà bất ngờ đặc biệt. Điều này không chỉ là lời chúc mừng từ 123B mà còn là cơ hội nhận thêm tiền thưởng để tăng cường vui sướng trong ngày đặc biệt của bạn.\n",
      "Khuyến mãi tặng ngay 100k khi đăng ký hoặc tải app\n",
      "Để khuyến khích khách hàng mới, 123B mang đến chương trình khuyến mãi đặc biệt. Khi đăng ký tài khoản mới hoặc tải ứng dụng 123B trên điện thoại di động, bạn sẽ nhận ngay 100k miễn phí để bắt đầu trải nghiệm cá độ thú vị. Điều này giúp bạn có thêm kinh phí để chơi và khám phá các dịch vụ và trò chơi tại 123B một cách thuận tiện và dễ dàng.\n",
      "Nhận tiền thưởng khi giới thiệu bạn bè\n",
      "123B cũng rất hào phóng với chương trình giới thiệu bạn bè. Khi bạn giới thiệu thành công một người chơi mới và họ tham gia cá cược, cả bạn và người được giới thiệu đều sẽ nhận được một khoản tiền thưởng hấp dẫn. Điều này tạo cơ hội để bạn chia sẻ niềm vui và cùng nhau trải nghiệm thú vị tại 123B.\n",
      "Phần thưởng gặp mặt lên đến 21.000.000 đồng khi đổi nhà cái đến với 123B\n",
      "Nếu bạn là một người chơi từng trải qua kinh nghiệm tại các nhà cái khác và quyết định đến với 123B, hãy sẵn lòng để nhận một món quà đặc biệt. Chương trình phần thưởng gặp mặt có giá trị lên đến 21.000.000 đồng khi đổi từ nhà cái khác đến với 123B. Điều này giúp bạn có thêm tiền để cá cược và tận hưởng những trận đá gà đỉnh cao.\n",
      "Tóm lại, 123B không chỉ là một địa điểm cá độ trực tuyến uy tín mà còn hấp dẫn khách hàng bởi những chương trình khuyến mãi đặc biệt. Từ khuyến mãi hoàn cược, quà tặng sinh nhật, tiền thưởng đăng ký và giới thiệu bạn bè, cho đến phần thưởng gặp mặt khi đổi nhà cái, 123B luôn có những ưu đãi phong phú để mang đến trải nghiệm chơi đá gà tốt nhất cho tất cả khách hàng. Hãy tham gia ngay để không bỏ lỡ bất kỳ cơ hội nào và tận hưởng niềm vui cá độ tại 123B!\n",
      "\n",
      "##Điều kiện để tham giá các cược cá gà 123B \n",
      "-----------------\n",
      "Điều kiện tham gia cược cá gà tại 123B - Trải nghiệm cá độ trực tuyến đáng chờ đợi\n",
      "Đá gà 123B đã và đang là điểm đến hàng đầu cho những người yêu thích cá độ trực tuyến, đặc biệt là trải nghiệm cược cá gà sôi động và hấp dẫn. Để tham gia các cược cá gà tại 123B, người chơi cần tuân thủ một số điều kiện và quy định nhất định. Dưới đây là những điểm cần lưu ý để đảm bảo bạn có một trải nghiệm cá độ an toàn và thú vị.\n",
      "Tuổi tác phù hợp:\n",
      "Đá gà 123B chỉ chấp nhận người chơi từ 18 tuổi trở lên. Điều này là yêu cầu bắt buộc để đảm bảo rằng các thành viên tham gia cược đá gà đều đủ tuổi và có quyền lựa chọn tham gia cá cược trực tuyến.\n",
      "Đăng ký tài khoản:\n",
      "Trước khi bắt đầu tham gia cược cá gà, người chơi cần phải đăng ký một tài khoản tại 123B. Quá trình đăng ký đơn giản và dễ dàng, chỉ cần cung cấp thông tin cá nhân chính xác, và sau khi xác nhận thông tin, bạn đã sẵn sàng bắt đầu trải nghiệm cá độ tại 123B.\n",
      "Nạp tiền vào tài khoản:\n",
      "Để tham gia cược cá gà, bạn cần có tiền trong tài khoản 123B. Hãy sử dụng các phương thức nạp tiền phổ biến và an toàn như chuyển khoản ngân hàng, ví điện tử hay thẻ thanh toán để nạp tiền một cách nhanh chóng và tiện lợi.\n",
      "Đặt cược hợp lệ:\n",
      "Sau khi có tiền trong tài khoản, bạn có thể đặt cược vào các trận đấu cá gà mà bạn quan tâm. Hãy đảm bảo đặt cược hợp lệ và tuân thủ các giới hạn cược tối thiểu và tối đa của từng trận đấu để tránh xảy ra sự cố không mong muốn.\n",
      "Chọn trận đấu và loại cược:\n",
      "Đá gà 123B cung cấp nhiều trận đấu cá gà với nhiều loại cược đa dạng. Bạn có thể lựa chọn các trận đấu yêu thích và các loại cược mà bạn cảm thấy hứng thú. Đảm bảo bạn đã hiểu rõ cách thức của từng loại cược để tận hưởng trải nghiệm cá độ tốt nhất.\n",
      "Tuân thủ quy định và điều khoản:\n",
      "Cuối cùng, đảm bảo bạn đọc kỹ và tuân thủ các quy định và điều khoản của 123B. Điều này bao gồm quy định về hành vi chơi cược, rút tiền, và điều kiện tham gia các chương trình khuyến mãi.\n",
      "Với những điều kiện tham gia cược cá gà đơn giản và minh bạch, 123B mang đến cho người chơi trải nghiệm cá độ trực tuyến tuyệt vời. Hãy đảm bảo bạn cùng tuân thủ những yêu cầu trên để tận hưởng niềm vui và sự hứng thú tại sảnh đá gà 123B. Chào đón bạn đến với 123B và cùng tham gia cược cá gà đỉnh cao!\n",
      "\n",
      "##Hướng dẫn đăng ký đá gà 123B \n",
      "-----------------\n",
      "Hướng dẫn đăng ký đá gà 123B - Bước đầu tiên tới thế giới cá độ trực tuyến sôi động\n",
      "Đá gà 123B là một trong những trang web cá độ trực tuyến uy tín và phổ biến tại Philippines, với sự đa dạng về trò chơi và dịch vụ chuyên nghiệp. Nếu bạn muốn tham gia trải nghiệm đá gà sôi động tại 123B, hãy làm theo hướng dẫn đăng ký đơn giản dưới đây và bắt đầu hành trình cá độ thú vị của bạn.\n",
      "Bước 1: Truy cập trang web đá gà 123B\n",
      "Trước tiên, bạn cần mở trình duyệt và truy cập vào trang web chính thức của 123B. Đảm bảo bạn đang truy cập vào địa chỉ URL chính xác để tránh các trang web giả mạo và bảo mật thông tin cá nhân của mình.\n",
      "Bước 2: Chọn \"Đăng ký\" hoặc \"Đăng ký tài khoản\"\n",
      "Tại trang chủ của 123B, bạn sẽ thấy nút \"Đăng ký\" hoặc \"Đăng ký tài khoản\". Bạn hãy nhấp vào nút này để bắt đầu quá trình đăng ký tài khoản mới của mình.\n",
      "Bước 3: Nhập thông tin cá nhân\n",
      "Sau khi nhấp vào \"Đăng ký\", bạn sẽ được yêu cầu điền các thông tin cá nhân cơ bản như tên, địa chỉ email, số điện thoại và ngày sinh. Đảm bảo bạn nhập thông tin chính xác và đầy đủ để tài khoản của bạn được xác nhận một cách chính xác.\n",
      "Bước 4: Xác nhận thông tin\n",
      "Sau khi hoàn thành việc nhập thông tin cá nhân, bạn sẽ nhận được một email xác nhận từ 123B. Hãy kiểm tra hộp thư đến hoặc hộp thư Spam để tìm email này. Nhấp vào liên kết xác nhận trong email để hoàn tất quá trình đăng ký.\n",
      "Bước 5: Đăng nhập vào tài khoản\n",
      "Sau khi xác nhận thông tin, bạn có thể đăng nhập vào tài khoản mới của mình bằng cách sử dụng địa chỉ email và mật khẩu bạn đã đăng ký trước đó.\n",
      "Bước 6: Nạp tiền vào tài khoản\n",
      "Trước khi bắt đầu tham gia cược cá gà, bạn cần có tiền trong tài khoản 123B. Hãy chọn phương thức nạp tiền phù hợp như chuyển khoản ngân hàng, ví điện tử hoặc thẻ thanh toán, và làm theo hướng dẫn để nạp tiền vào tài khoản của bạn.\n",
      "Bước 7: Tham gia cược cá gà\n",
      "Cuối cùng, bạn đã sẵn sàng tham gia cược cá gà tại 123B. Hãy chọn trận đấu và loại cược bạn quan tâm, đặt cược và tận hưởng niềm vui và hứng thú của việc cá độ trực tuyến tại sảnh đá gà 123B.\n",
      "Đá gà 123B mang đến cho bạn một trải nghiệm cá độ trực tuyến đáng chờ đợi và hấp dẫn. Với hướng dẫn đăng ký đơn giản, bạn có thể nhanh chóng bắt đầu hành trình cá độ của mình và tham gia vào thế giới cá độ đá gà đỉnh cao. Hãy cùng 123B khám phá niềm vui cá độ trực tuyến và trải nghiệm không gian giải trí tuyệt vời này ngay hôm nay!\n",
      "\n",
      "##Những điều cần lưu ý khi tham gia đá gà 123B \n",
      "-----------------\n",
      "Những điều cần lưu ý khi tham gia đá gà 123B - Trải nghiệm cá độ trực tuyến an toàn và thú vị\n",
      "Đá gà 123B đã và đang là địa chỉ tin cậy và phổ biến cho những người yêu thích cá độ trực tuyến, đặc biệt là đá gà. Tuy nhiên, trước khi bắt đầu tham gia đá gà tại 123B, bạn nên lưu ý một số điều quan trọng để đảm bảo trải nghiệm cá độ của mình được thuận lợi và an toàn.\n",
      "Tìm hiểu về 123B và điều khoản dịch vụ:\n",
      "Trước khi đăng ký tài khoản và tham gia cá cược, hãy tìm hiểu kỹ về thương hiệu đá gà 123B. Đảm bảo trang web này có uy tín và phù hợp với nhu cầu cá cược của bạn. Ngoài ra, hãy đọc kỹ và hiểu rõ các điều khoản dịch vụ của 123B để tránh những rắc rối không đáng có trong tương lai.\n",
      "Xác nhận tuổi tác và quy định vùng lãnh thổ:\n",
      "123B chỉ chấp nhận người chơi từ 18 tuổi trở lên và tuân thủ quy định của vùng lãnh thổ nơi bạn đang sống. Điều này giúp đảm bảo rằng bạn đủ tuổi và đủ điều kiện hợp pháp để tham gia cá độ trực tuyến tại 123B.\n",
      "Bảo mật thông tin cá nhân:\n",
      "Khi đăng ký tài khoản và tham gia cá cược, hãy đảm bảo bạn cung cấp thông tin cá nhân chính xác và bảo mật. Tránh chia sẻ thông tin tài khoản của mình với người khác và đặt mật khẩu mạnh để bảo vệ tài khoản khỏi việc xâm nhập trái phép.\n",
      "Xác nhận địa chỉ email và số điện thoại:\n",
      "Khi đăng ký tài khoản, hãy đảm bảo bạn xác nhận địa chỉ email và số điện thoại của mình. Điều này giúp tăng cường bảo mật và giúp 123B có thể liên hệ với bạn một cách chính xác khi cần thiết.\n",
      "Nạp tiền vào tài khoản một cách hợp lệ:\n",
      "Trước khi bắt đầu tham gia đá gà, hãy đảm bảo bạn nạp tiền vào tài khoản của mình một cách hợp lệ. Sử dụng các phương thức nạp tiền phổ biến và đảm bảo bạn tuân thủ giới hạn tối thiểu và tối đa của từng phương thức nạp tiền.\n",
      "Tận hưởng trò chơi một cách có trách nhiệm:\n",
      "Cá độ trực tuyến là một hình thức giải trí, vì vậy hãy chơi đá gà một cách có trách nhiệm và không quá đặt cược vượt quá khả năng tài chính của bạn. Đặt ngân sách và tuân thủ nó để đảm bảo trải nghiệm cá độ tốt nhất.\n",
      "Tóm lại, khi tham gia đá gà 123B, hãy lưu ý những điều quan trọng để trải nghiệm cá độ trực tuyến an toàn và thú vị. Tìm hiểu về 123B, tuân thủ quy định tuổi tác và vùng lãnh thổ, bảo mật thông tin cá nhân, xác nhận địa chỉ email và số điện thoại, nạp tiền vào tài khoản một cách hợp lệ và chơi một cách có trách nhiệm để trải nghiệm đá gà tuyệt vời tại 123B. Hãy cùng khám phá niềm vui cá độ và thử vận may tại đá gà 123B ngay hôm nay!\n",
      "\n",
      "##Tổng kết \n",
      "-----------------\n",
      "Tổng kết - Đá gà 123B: Niềm tin cá độ trực tuyến và không gian giải trí tuyệt vời\n",
      "Đá gà 123B đã và đang khẳng định vị thế của mình là một trong những trang web cá độ trực tuyến uy tín và phổ biến tại Philippines. Với sự đa dạng về trò chơi và chương trình khuyến mãi hấp dẫn, đá gà 123B đã thu hút hàng ngàn người chơi tham gia cá cược mỗi ngày. Hãy cùng tổng kết những điểm nổi bật và lý do khiến đá gà 123B trở thành điểm đến hàng đầu của giới cá độ trực tuyến.\n",
      "Đá gà 123B - Sảnh đá gà đáng chờ đợi\n",
      "Với tên gọi 123B, sảnh đá gà của trang web đã mang đến cho người chơi một không gian giải trí thú vị và sôi động. Tại đây, bạn sẽ được tham gia vào những trận đấu đá gà hấp dẫn và cược trực tiếp trên các trận đấu diễn ra tại các sàn đá gà uy tín tại Philippines. Hệ thống truyền hình chất lượng cao và hình ảnh sắc nét giúp bạn có thể theo dõi và đặt cược một cách chính xác và dễ dàng.\n",
      "Chương trình khuyến mãi độc đáo và hấp dẫn\n",
      "123B không chỉ nổi tiếng với đa dạng các trò chơi cá độ trực tuyến mà còn hấp dẫn người chơi bởi những chương trình khuyến mãi độc đáo và hấp dẫn. Từ khuyến mãi hoàn cược, quà tặng sinh nhật, tiền thưởng đăng ký và giới thiệu bạn bè cho đến phần thưởng gặp mặt khi đổi nhà cái, đá gà 123B luôn có những ưu đãi phong phú để mang đến trải nghiệm cá độ tốt nhất cho tất cả khách hàng.\n",
      "Bảo mật và uy tín là ưu tiên hàng đầu\n",
      "Đá gà 123B luôn chú trọng đến việc bảo vệ thông tin cá nhân của người chơi và đảm bảo tính minh bạch và công bằng trong việc cá cược. Hệ thống bảo mật tiên tiến và các biện pháp an ninh cao cấp được áp dụng, giúp bảo vệ tài khoản và thông tin của người chơi một cách tốt nhất. Đá gà 123B cũng luôn tuân thủ các quy định về tuổi tác và địa phương để đảm bảo môi trường cá độ trực tuyến lành mạnh và an toàn.\n",
      "Dịch vụ khách hàng chuyên nghiệp và hỗ trợ 24/7\n",
      "Đá gà 123B luôn coi trọng việc mang đến trải nghiệm khách hàng tốt nhất và chất lượng dịch vụ cao cấp. Đội ngũ hỗ trợ khách hàng của 123B hoạt động 24/7, sẵn sàng giải đáp mọi thắc mắc và hỗ trợ người chơi một cách nhanh chóng và chuyên nghiệp.\n",
      "Tóm lại, đá gà 123B đã khẳng định mình là một trong những điểm đến hàng đầu của giới cá độ trực tuyến tại Philippines. Với sảnh đá gà đáng chờ đợi, chương trình khuyến mãi hấp dẫn, bảo mật và uy tín hàng đầu, cùng với dịch vụ khách hàng chuyên nghiệp và hỗ trợ 24/7, đá gà 123B đã trở thành lựa chọn tuyệt vời cho những người yêu thích cá độ trực tuyến. Hãy tham gia ngay để khám phá và trải nghiệm không gian giải trí tuyệt vời này tại đá gà 123B!\n"
     ]
    }
   ],
   "source": [
    "for i in range(0, len(prompts_đá_gà_123B)):\n",
    "    print(outline_đá_gà_123B[i]+'\\n')\n",
    "    print('({:0.2f}% completed!)'.format(100*(i+1)/len(prompts_đá_gà_123B)),'\\n_______________________________________________')\n",
    "    scan_all_results(prompts_đá_gà_123B[i])\n",
    "    html_element = driver.find_element(By.TAG_NAME,'html')\n",
    "    html_element.send_keys(Keys.END)\n",
    "time.sleep(20)\n",
    "section = driver.find_element(By.XPATH, '//*[@id=\"__next\"]/div[1]/div[2]/div/main/div[1]/div/div/div')\n",
    "articles = section.find_elements(By.CLASS_NAME,\"bg-gray-50\")\n",
    "for i in range(0, len(articles)):\n",
    "    print('\\n'+'##'+outline_đá_gà_123B[i],'\\n-----------------')\n",
    "    print(articles[i].text)"
   ]
  },
  {
   "cell_type": "code",
   "execution_count": null,
   "id": "4056ce90",
   "metadata": {},
   "outputs": [],
   "source": []
  },
  {
   "cell_type": "code",
   "execution_count": 15,
   "id": "123cac66",
   "metadata": {
    "scrolled": false
   },
   "outputs": [
    {
     "name": "stdout",
     "output_type": "stream",
     "text": [
      "##giới thiệu về lô đề 123B \n",
      " _______________________________________________\n",
      "Lô đề 123B - Khoảnh khắc hứng thú và cơ hội kiếm tiền hấp dẫn\n",
      "Lô đề 123B là một trong những nhà cái cá độ trực tuyến uy tín và đáng tin cậy hàng đầu hiện nay. Với sự đa dạng về trò chơi, giao diện thân thiện và dịch vụ chất lượng, 123B đã thu hút hàng nghìn người chơi trên khắp cả nước tham gia vào thế giới cá độ trực tuyến một cách tự tin và thỏa mãn.\n",
      "Mở cánh cửa cho những khoảnh khắc hứng thú và thử thách, lô đề 123B là điểm đến đáng tin cậy cho những ai yêu thích thể loại cá cược lô đề. Trang web được thiết kế tối giản, giúp người dùng dễ dàng tìm hiểu, đăng ký và tham gia vào các trò chơi một cách nhanh chóng. Không chỉ dừng lại ở đó, 123B còn chú trọng cải tiến và nâng cao trải nghiệm người dùng để đáp ứng mọi nhu cầu của khách hàng.\n",
      "Lô đề 123B mang đến cho người chơi một loạt các sự lựa chọn vô cùng phong phú. Từ các con số phổ biến, cổ điển như xổ số kiến thiết, đến những trò chơi đặc biệt với cách chơi độc đáo như lô gan, lô xiên, lô kép, cầu lô, hay thậm chí là các trò chơi đặc biệt như lô đề tổng hợp, lô đề 1-99, người chơi luôn có thể lựa chọn theo đúng sở thích và phong cách cá nhân. Điều này giúp tạo nên sự thú vị và hấp dẫn cho người chơi, không ngừng kích thích cảm xúc và mong đợi mỗi khi tham gia.\n",
      "Một trong những yếu tố quan trọng khi tham gia cá độ trực tuyến là đảm bảo tính công bằng và minh bạch. 123B cam kết cung cấp môi trường chơi bài và cá cược trực tuyến công bằng, minh bạch và an toàn nhất cho người chơi. Hệ thống công nghệ tiên tiến và đội ngũ kỹ thuật chuyên nghiệp luôn đảm bảo việc ghi nhận, xử lý và chi trả kết quả các trò chơi diễn ra một cách nhanh chóng và chính xác. Điều này giúp người chơi hoàn toàn yên tâm và tin tưởng vào 123B mỗi khi họ tham gia vào các trò chơi cá cược.\n",
      "Hơn nữa, việc thưởng thức và giải trí trên lô đề 123B cũng đồng nghĩa với việc có cơ hội kiếm tiền hấp dẫn. Với tỉ lệ thanh toán cực kỳ cạnh tranh, người chơi có thể dễ dàng gặt hái những khoản tiền thưởng lớn từ những đơn vị số đã được dự đoán chính xác. Điểm đặc biệt là việc tham gia lô đề không chỉ dành riêng cho những người có kinh nghiệm chuyên sâu về cá độ, mà còn dễ dàng tiếp cận với những người mới bắt đầu. Hướng dẫn chi tiết và những mẹo hay từ nhà cái sẽ giúp người chơi có những bước đi đầu tiên đầy tự tin và hiệu quả.\n",
      "Như vậy, lô đề 123B không chỉ là một nhà cái cá độ hàng đầu, mà còn là một cơ hội vàng để trải nghiệm niềm vui chơi cá cược và cùng hòa mình vào không gian đầy hứng thú. Tại đây, người chơi không chỉ được đón nhận những giây phút giải trí thư giãn mà còn có cơ hội kiếm tiền thực sự. Hãy tham gia ngay hôm nay để trải nghiệm và tận hưởng không gian cá cược tuyệt vời tại lô đề 123B!\n",
      "##các sảnh lô đề 123 mà người chơi nhất định phải thử (đi vào giới thiệu chi tiết từng sảnh như sảnh xổ số VIP, sảnh xổ số 3 miền Bắc Trung Nam, sảnh xổ số siêu tốc, sảnh MEGA 6/45) \n",
      " _______________________________________________\n",
      "Các Sảnh Lô Đề 123B - Khám phá niềm vui và cơ hội thắng lớn\n",
      "Trên nền tảng cá độ trực tuyến uy tín và đáng tin cậy của 123B, người chơi sẽ được đắm chìm vào thế giới thú vị của các sảnh lô đề đa dạng. Với những sảnh lô đề độc đáo và hấp dẫn, 123B cam kết mang đến trải nghiệm chơi cược tốt nhất cho mọi thành viên. Hãy cùng khám phá từng sảnh lô đề nổi bật mà bạn nhất định phải thử qua:\n",
      "Sảnh Xổ Số VIP:\n",
      "Sảnh Xổ Số VIP của 123B là nơi dành riêng cho những khách hàng đẳng cấp và thích thú với sự sang trọng. Với các chương trình thưởng đặc biệt và dịch vụ tư vấn cá cược tận tâm từ những chuyên viên chuyên nghiệp, người chơi sẽ được hưởng những đặc quyền và ưu đãi độc đáo. Sảnh Xổ Số VIP mang đến không chỉ là sự hứng thú mà còn là cơ hội thăng hoa với những phần thưởng hấp dẫn.\n",
      "Sảnh Xổ Số 3 Miền Bắc Trung Nam:\n",
      "Với Sảnh Xổ Số 3 Miền Bắc Trung Nam, người chơi sẽ có cơ hội dự đoán kết quả xổ số từ ba khu vực miền Bắc, Trung và Nam. Sự kết hợp hấp dẫn này giúp tăng cường khả năng dự đoán và tăng cơ hội thắng lớn. Các con số chính xác từ các khu vực xổ số đa dạng sẽ mang lại những trải nghiệm độc đáo và kịch tính cho người chơi.\n",
      "Sảnh Xổ Số Siêu Tốc:\n",
      "Đối với những ai yêu thích sự hồi hộp và cảm giác mạnh, Sảnh Xổ Số Siêu Tốc là lựa chọn hoàn hảo. Với tần suất xổ số nhanh chóng, người chơi sẽ không phải chờ đợi lâu để biết kết quả. Cơ hội chiến thắng được tăng cao và sự vui chơi không ngừng nghỉ sẽ làm say đắm mọi người trong Sảnh Xổ Số Siêu Tốc của 123B.\n",
      "Sảnh MEGA 6/45:\n",
      "Vào các ngày thứ 3, thứ 5 và thứ 7 hàng tuần, Sảnh MEGA 6/45 sẽ mang đến cho bạn cơ hội tranh tài với hàng triệu giải thưởng đồng hạng 6/45. Sự pha trộn giữa may mắn và kỹ năng dự đoán số đem lại những kết quả thú vị và hấp dẫn. Sảnh MEGA 6/45 là nơi lý tưởng để thử thách bản thân và xây dựng những chiến lược chiến thắng.\n",
      "Với sự đa dạng và độc đáo của các sảnh lô đề, 123B cam kết đáp ứng mọi nhu cầu và sở thích của người chơi. Không chỉ mang đến niềm vui giải trí, mà còn là cơ hội thử thách khả năng dự đoán và kiếm được những phần thưởng lớn. Vậy còn chần chừ gì mà không tham gia ngay vào các sảnh lô đề đa dạng của 123B để cảm nhận niềm vui và hứng thú trong cuộc chơi cá độ trực tuyến tại nhà cái uy tín này.\n",
      "##giới thiệu các chương trình khuyến mãi khi chơi lô đề 123B, bao gồm (dự đoán xổ số 3 miền tại phòng chat nhận ngay phần thưởng lên đến 1288k, khuyến mãi xổ số siêu tốc thắng liên hoàn 7 kỳ thưởng ngay 10.000.000 đồng, khuyến mãi đăng ký tải app nhận ngay 100k, tặng quà khủng nhân dịp sinh nhật cho tất cả các hội viên, khuyến mãi hoàn cược lên đến 2%) \n",
      " _______________________________________________\n",
      "Chương Trình Khuyến Mãi Hấp Dẫn Tại Lô Đề 123B - Cơ Hội Thắng Lớn, Quà Tặng Cực Đã!\n",
      "Lô đề 123B không chỉ là nơi cung cấp những trò chơi cá độ đa dạng và uy tín, mà còn là điểm đến hấp dẫn với hàng loạt chương trình khuyến mãi độc quyền. Hãy cùng chúng tôi khám phá các ưu đãi hấp dẫn khi tham gia cá cược tại 123B và tận hưởng niềm vui thú vị cùng những phần thưởng giá trị.\n",
      "Dự Đoán Xổ Số 3 Miền Tại Phòng Chat Nhận Ngay Phần Thưởng Lên Đến 1288k:\n",
      "Tại Lô Đề 123B, việc dự đoán xổ số 3 miền trở nên thú vị hơn bao giờ hết. Tham gia phòng chat và đưa ra những dự đoán chính xác, bạn sẽ có cơ hội nhận ngay phần thưởng lên đến 1288k. Sự hòa nhập và giao lưu với cộng đồng người chơi không chỉ giúp bạn rèn luyện kỹ năng dự đoán mà còn giúp tăng cơ hội thắng lớn.\n",
      "Khuyến Mãi Xổ Số Siêu Tốc Thắng Liên Hoàn 7 Kỳ Thưởng Ngay 10.000.000 Đồng:\n",
      "Với khuyến mãi xổ số siêu tốc, mỗi kỳ xổ số đều mang đến cơ hội thắng liên hoàn 7 kỳ thưởng lên đến 10.000.000 đồng. Không chỉ tham gia cược hấp dẫn mà còn có cơ hội nhận thưởng đồng đều và lớn từ nhà cái uy tín 123B. Cơ hội thành tỷ phú đang chờ đón bạn!\n",
      "Khuyến Mãi Đăng Ký Tải App Nhận Ngay 100k:\n",
      "Để đáp ứng nhu cầu ngày càng cao của người chơi, 123B mang đến chương trình khuyến mãi hấp dẫn khi đăng ký tải app. Chỉ với việc tải app và đăng ký thành viên, bạn sẽ nhận ngay 100k để trải nghiệm các trò chơi cá độ đa dạng và thú vị tại 123B. Không chỉ tiện lợi mà còn có thêm cơ hội thắng lớn, đó là lý do tại sao bạn không nên bỏ qua chương trình này.\n",
      "Tặng Quà Khủng Nhân Dịp Sinh Nhật Cho Tất Cả Các Hội Viên:\n",
      "Sinh nhật là dịp đặc biệt và ý nghĩa, và tại 123B, mỗi hội viên đều được nhận quà khủng trong ngày sinh nhật của mình. Quà tặng ý nghĩa từ nhà cái sẽ mang đến niềm vui và hạnh phúc đôi gấp đôi trong ngày đặc biệt này. Hãy cùng chúc mừng sinh nhật tại 123B và nhận những món quà thật đặc biệt từ nhà cái.\n",
      "Khuyến Mãi Hoàn Cược Lên Đến 2%:\n",
      "Không phải lúc nào cũng may mắn, nhưng tại 123B, bạn hoàn toàn không phải lo lắng về việc thua cược. Với chương trình khuyến mãi hoàn cược lên đến 2%, bạn có cơ hội nhận lại một phần số tiền cược khi thua. Điều này giúp bạn duy trì cân bằng và tiếp tục tham gia vào những trận cược hấp dẫn mà không phải lo lắng về việc mất tiền.\n",
      "Với những chương trình khuyến mãi độc quyền và hấp dẫn như trên, không khó hiểu khi Lô Đề 123B trở thành điểm đến lý tưởng của những người yêu thích cá cược trực tuyến. Hãy nhanh chóng tham gia và trải nghiệm niềm vui, thú vị cùng những phần thưởng hấp dẫn từ 123B ngay hôm nay!\n",
      "##Những cách đánh lô đề hay nhất hiện nay, mỗi cách đánh nên có ví dụ cụ thể \n",
      " _______________________________________________\n",
      "Những Cách Đánh Lô Đề Hay Nhất Hiện Nay Tại Lô Đề 123B\n",
      "Lô đề là một trò chơi cá độ phổ biến và hấp dẫn, tại Lô Đề 123B, người chơi sẽ có cơ hội trải nghiệm những cách đánh lô đề hay nhất hiện nay để tăng cơ hội thắng lớn. Dưới đây là một số phương pháp đánh lô đề thông minh và hiệu quả mà bạn có thể áp dụng:\n",
      "Chọn Lọc Cặp Số Xác Suất Cao:\n",
      "Một trong những cách đánh lô đề hiệu quả là chọn lọc những cặp số có xác suất cao xuất hiện. Bằng cách phân tích kỹ thuật và thống kê kết quả trước đó, bạn có thể nhận ra những cặp số xuất hiện thường xuyên. Ví dụ, nếu trong tuần qua cặp số 12 và 56 xuất hiện nhiều lần, bạn có thể cân nhắc chọn chúng cho các phiên xổ số tiếp theo.\n",
      "Sử Dụng Các Phương Pháp Tính Toán Tổng Hợp:\n",
      "Một số người chơi thành công thường sử dụng các phương pháp tính toán tổng hợp để dự đoán kết quả lô đề. Ví dụ, phương pháp tính tổng các chữ số trong một con số có thể giúp bạn tìm ra những con số có khả năng xuất hiện cao. Hãy thử tính tổng của con số 123 (1+2+3 = 6) và bạn sẽ có thể nhận thấy rằng số 6 có thể là một con số tiềm năng trong lô đề.\n",
      "Dựa Vào Các Mẹo Hay Từ Nhà Cái:\n",
      "Lô Đề 123B thường cung cấp các mẹo hay và chiến lược đánh lô đề từ các chuyên gia cá độ. Hãy lắng nghe và tận dụng những kiến thức hữu ích này. Ví dụ, nếu nhà cái gợi ý chọn số từ 00 đến 99, bạn có thể tham khảo và lựa chọn các con số có tỷ lệ xuất hiện cao nhất trong phạm vi này.\n",
      "Áp Dụng Chiến Thuật Cược Hợp Lý:\n",
      "Chiến thuật cược cũng đóng vai trò quan trọng trong việc đánh lô đề hiệu quả. Đừng đặt quá nhiều tiền vào một con số duy nhất, hãy phân chia tiền cược thành nhiều con số để tăng cơ hội thắng lớn. Ví dụ, bạn có thể chia số tiền ra thành 5 con số và cược đều lên các con số 12, 34, 56, 78, và 90.\n",
      "Sử Dụng Công Cụ Dự Đoán Số Đẳng Cấp:\n",
      "Những công cụ dự đoán số đẳng cấp sẽ giúp bạn tăng cơ hội thắng lớn. Tại Lô Đề 123B, có nhiều công cụ phân tích số học và thống kê mạnh mẽ để hỗ trợ người chơi đánh giá xác suất xuất hiện của các con số. Hãy sử dụng chúng để tối ưu hóa cơ hội thắng lớn của bạn.\n",
      "Kết luận, để tận dụng tối đa cơ hội và tăng cường khả năng dự đoán, người chơi lô đề cần kết hợp sử dụng những phương pháp và công cụ thông minh nhất. Tại Lô Đề 123B, bạn sẽ tìm thấy những cách đánh lô đề hay nhất hiện nay và hưởng niềm vui cược đỏi thưởng không giới hạn. Hãy đăng ký tài khoản ngay hôm nay và bắt đầu hành trình chinh phục lô đề cùng với 123B!\n"
     ]
    },
    {
     "name": "stdout",
     "output_type": "stream",
     "text": [
      "##Hướng dẫn cách nạp tiền chơi lô đề 123B \n",
      " _______________________________________________\n",
      "Hướng Dẫn Nạp Tiền Chơi Lô Đề 123B - Cùng Bắt Đầu Cuộc Hành Trình Thắng Lớn!\n",
      "Lô đề 123B là một trong những nhà cái cá độ trực tuyến uy tín và đáng tin cậy hàng đầu, mang đến trải nghiệm cá cược đa dạng và hấp dẫn cho người chơi. Để bắt đầu cuộc hành trình thú vị này, bạn cần nạp tiền vào tài khoản của mình. Dưới đây là hướng dẫn cách nạp tiền chơi lô đề 123B một cách nhanh chóng và tiện lợi:\n",
      "Bước 1: Đăng Nhập Vào Tài Khoản\n",
      "Trước tiên, bạn cần đăng nhập vào tài khoản của mình trên website của Lô Đề 123B. Nếu bạn chưa có tài khoản, hãy đăng ký một tài khoản mới theo hướng dẫn trên trang web.\n",
      "Bước 2: Truy Cập Vào Trang Nạp Tiền\n",
      "Sau khi đăng nhập vào tài khoản, bạn hãy truy cập vào trang nạp tiền (hay còn gọi là trang gửi tiền) trên website của 123B. Bạn sẽ thấy danh sách các phương thức nạp tiền có sẵn để lựa chọn.\n",
      "Bước 3: Lựa Chọn Phương Thức Nạp Tiền\n",
      "Lô Đề 123B cung cấp nhiều phương thức nạp tiền đa dạng để bạn lựa chọn, bao gồm chuyển khoản ngân hàng, thanh toán qua ví điện tử, thẻ Visa/Mastercard, và nhiều phương thức khác. Hãy chọn phương thức nạp tiền phù hợp và thuận tiện nhất cho bạn.\n",
      "Bước 4: Điền Thông Tin Và Số Tiền Muốn Nạp\n",
      "Sau khi chọn phương thức nạp tiền, bạn sẽ được yêu cầu điền thông tin cá nhân và số tiền muốn nạp vào tài khoản của mình. Hãy kiểm tra lại thông tin đảm bảo đúng chính xác trước khi tiến hành thanh toán.\n",
      "Bước 5: Hoàn Tất Giao Dịch\n",
      "Cuối cùng, sau khi điền đầy đủ thông tin và xác nhận số tiền nạp, bạn chỉ cần nhấn nút \"Hoàn Tất\" để hoàn tất giao dịch nạp tiền. Sau đó, số tiền sẽ được cộng vào tài khoản của bạn và bạn có thể bắt đầu tham gia vào các trò chơi lô đề thú vị ngay lập tức.\n",
      "Chúng tôi hy vọng rằng với hướng dẫn nạp tiền chơi lô đề 123B này, bạn đã hiểu cách thức nạp tiền một cách dễ dàng và nhanh chóng. Nhà cái 123B cam kết bảo mật thông tin và tiến hành giao dịch nạp tiền một cách an toàn, đảm bảo bạn luôn có trải nghiệm cá cược tốt nhất. Hãy nạp tiền và tham gia vào Lô Đề 123B ngay hôm nay để trải nghiệm niềm vui và cơ hội thắng lớn không giới hạn!\n",
      "##Những điều cần lưu ý khi cá cược lô đề 123B \n",
      " _______________________________________________\n",
      "Những Điều Cần Lưu Ý Khi Cá Cược Lô Đề 123B\n",
      "Cá cược lô đề tại Lô Đề 123B mang đến không chỉ niềm vui và thú vị mà còn cơ hội thắng lớn đáng giá. Tuy nhiên, để trải qua trải nghiệm cá cược tốt nhất và đạt được kết quả tốt, người chơi cần lưu ý một số điều quan trọng. Dưới đây là những gợi ý và lưu ý cần nhớ khi tham gia cá cược lô đề tại 123B:\n",
      "Tìm Hiểu Và Hiểu Rõ Luật Chơi:\n",
      "Trước khi bắt đầu cá cược lô đề, hãy đọc và hiểu rõ luật chơi của trò chơi. Tìm hiểu cách thức đặt cược, các loại cược khác nhau, và cách tính kết quả. Việc hiểu rõ luật chơi sẽ giúp bạn đưa ra quyết định cá cược chính xác và tăng cơ hội thắng lớn.\n",
      "Xác Định Ngân Sách Cá Cược:\n",
      "Để tránh rủi ro tài chính, hãy xác định ngân sách cá cược trước khi tham gia. Hãy đảm bảo bạn chỉ đặt cược số tiền mà bạn có thể dễ dàng chấp nhận mất. Luôn luôn duy trì ngân sách và không bao giờ đặt cược nhiều hơn khi bạn không tự tin vào kết quả.\n",
      "Sử Dụng Công Cụ Dự Đoán Và Thống Kê:\n",
      "Lô Đề 123B cung cấp các công cụ dự đoán số đẳng cấp và thống kê mạnh mẽ để hỗ trợ người chơi đánh giá xác suất xuất hiện của các con số. Hãy sử dụng chúng để nắm bắt các con số tiềm năng và tối ưu hóa cơ hội thắng lớn.\n",
      "Điều Tiết Cược Một Cách Hợp Lý:\n",
      "Tránh đặt cược quá nhiều tiền vào một con số duy nhất. Hãy điều tiết cược một cách hợp lý bằng cách chia số tiền thành nhiều con số khác nhau. Điều này sẽ tăng cơ hội thắng lớn và giảm thiểu tỷ lệ rủi ro.\n",
      "Kiểm Tra Thông Tin Cá Nhân Và Địa Chỉ Email:\n",
      "Đảm bảo thông tin cá nhân và địa chỉ email của bạn là chính xác và hoàn chỉnh. Điều này giúp tránh các vấn đề liên quan đến thanh toán và đảm bảo bạn nhận được thông báo về các chương trình khuyến mãi và ưu đãi từ 123B.\n",
      "Tận Hưởng Thú Vị Và Trách Nhiệm:\n",
      "Cuối cùng, hãy nhớ rằng cá cược lô đề nên được thực hiện với tinh thần thư giãn và trách nhiệm. Tận hưởng niềm vui và kỳ vọng khi tham gia, nhưng đừng để cá cược ảnh hưởng đến cuộc sống hàng ngày của bạn.\n",
      "Tóm lại, cá cược lô đề tại Lô Đề 123B có thể trở thành trải nghiệm đáng nhớ và thắng lớn. Hãy tuân thủ những gợi ý và lưu ý trên để tận hưởng niềm vui và cơ hội thắng lớn một cách tối ưu. Đừng chần chừ mà hãy đăng ký tài khoản và bắt đầu cuộc hành trình cá cược thú vị cùng với Lô Đề 123B ngay hôm nay!\n",
      "##Tổng kết \n",
      " _______________________________________________\n",
      "Tổng Kết Lô Đề 123B - Niềm Vui Cá Cược Trực Tuyến Và Cơ Hội Thắng Lớn\n",
      "Lô Đề 123B là một trong những địa chỉ hàng đầu trong lĩnh vực cá độ trực tuyến, mang đến cho người chơi những trải nghiệm đáng nhớ và cơ hội thắng lớn đáng giá. Với đa dạng các trò chơi lô đề hấp dẫn và ưu đãi khuyến mãi độc quyền, đây là một nơi lý tưởng dành cho những người yêu thích cá cược trực tuyến. Dưới đây là tổng kết về Lô Đề 123B, nơi người chơi có thể tận hưởng niềm vui và thách thức của lĩnh vực này.\n",
      "Sự Đa Dạng Và Hấp Dẫn Của Trò Chơi Lô Đề 123B:\n",
      "Tại Lô Đề 123B, người chơi được trải nghiệm một loạt các trò chơi lô đề đa dạng và hấp dẫn. Dù bạn ưa thích lô đề xổ số 3 miền Bắc Trung Nam, xổ số siêu tốc, hay lô đề MEGA 6/45, bạn đều có thể tìm thấy những trò chơi phù hợp với sở thích và kỹ năng của mình. Sự đa dạng của trò chơi tạo nên sự thú vị và thách thức trong từng phiên cược.\n",
      "Cơ Hội Thắng Lớn Và Ưu Đãi Khuyến Mãi Độc Quyền:\n",
      "Lô Đề 123B không chỉ hấp dẫn người chơi bởi sự đa dạng của trò chơi mà còn bởi cơ hội thắng lớn và những ưu đãi khuyến mãi hấp dẫn. Từ các chương trình hoàn cược, dự đoán xổ số VIP, đến khuyến mãi tặng quà sinh nhật và nạp tiền đổi thưởng, nhà cái này luôn đảm bảo người chơi nhận được sự hỗ trợ và cơ hội tối đa cho việc cá cược.\n",
      "Giao Diện Website Thân Thiện Và Dễ Sử Dụng:\n",
      "Lô Đề 123B sở hữu giao diện website thân thiện, hiện đại và dễ sử dụng, giúp người chơi dễ dàng tham gia vào các trò chơi và quản lý tài khoản cá nhân một cách tiện lợi. Trang web được thiết kế tối ưu cho cả trải nghiệm trên máy tính và điện thoại di động, đảm bảo bạn có thể cá cược mọi lúc, mọi nơi.\n",
      "Chính Sách Bảo Mật Và Giao Dịch An Toàn:\n",
      "Bảo mật thông tin cá nhân và giao dịch luôn là ưu tiên hàng đầu tại Lô Đề 123B. Nhà cái cam kết bảo mật thông tin cá nhân của người chơi và áp dụng các biện pháp an ninh cao cấp để đảm bảo giao dịch diễn ra một cách an toàn và đáng tin cậy.\n",
      "Kết luận, Lô Đề 123B là nơi lý tưởng dành cho những người yêu thích cá cược trực tuyến. Với đa dạng trò chơi, cơ hội thắng lớn, và các ưu đãi khuyến mãi hấp dẫn, người chơi sẽ luôn tận hưởng niềm vui và hứng thú trong từng phiên cược. Hãy đăng ký tài khoản và tham gia vào Lô Đề 123B ngay hôm nay để khám phá thế giới cá cược trực tuyến và chinh phục những phần thưởng đầy hấp dẫn!\n"
     ]
    }
   ],
   "source": [
    "for i in range(0, len(prompts_lô_đề_123B)):\n",
    "    print('##'+outline_lô_đề_123B[i],'\\n','_______________________________________________')\n",
    "    fill_prompt(prompts_lô_đề_123B[i])"
   ]
  },
  {
   "cell_type": "code",
   "execution_count": 103,
   "id": "2865edf2",
   "metadata": {},
   "outputs": [],
   "source": [
    "prompt_field =  driver.find_element(By.Bwing – Cập nhật link vào nhà cái Bwing tặng 50k 07/2023 \n",
    " _______________________________________________\n",
    "Bwing – Cập nhật link vào nhà cái Bwing tặng 50k 07/2023\n",
    "Giới thiệu về Bwing\n",
    "Nếu bạn là một người yêu thích cá độ trực tuyến, chắc hẳn không còn xa lạ gì với thương hiệu Bwing. Được thành lập từ năm 2015, Bwing nhanh chóng trở thành một trong những nhà cái hàng đầu tại thị trường Việt Nam. Với tiêu chí đem đến trải nghiệm cá cược hoàn hảo và hấp dẫn nhất cho người chơi, Bwing luôn nỗ lực không ngừng để cung cấp các sản phẩm và dịch vụ tốt nhất.\n",
    "Link vào nhà cái Bwing tặng 50k 07/2023\n",
    "Tháng 7 năm 2023, Bwing đã ra mắt chương trình khuyến mãi hấp dẫn dành cho tân binh. Khi đăng ký thành viên mới trên Bwing, người chơi sẽ được nhận ngay mã kích hoạt tặng 50k. Điều này mang ý nghĩa là người chơi có cơ hội trải nghiệm các trò chơi cá độ tại nhà cái này mà không cần phải nạp tiền từ nguồn vốn cá nhân.\n",
    "Bwing – Nền tảng cá độ trực tuyến đa dạng\n",
    "Bwing tự hào là một trong những nền tảng cá độ trực tuyến đa dạng và phong phú nhất hiện nay. Người chơi có thể dễ dàng tìm thấy hàng ngàn sự lựa chọn về cá cược, từ các môn thể thao phổ biến như bóng đá, bóng rổ, tennis đến những sự kiện thể thao điển hình khác như đua ngựa, đua chó và cả thể thao điện tử.\n",
    "Ngoài ra, Bwing cũng đưa ra các trò chơi casino trực tuyến đẳng cấp, như baccarat, blackjack, roulette và nhiều trò chơi slot hấp dẫn khác. Điều này giúp người chơi có thêm nhiều sự lựa chọn và trải nghiệm thú vị trên cùng một nền tảng.\n",
    "Tiện ích độc đáo của Bwing\n",
    "Bên cạnh việc cung cấp các dịch vụ cá độ và casino đa dạng, Bwing còn chú trọng đến việc tối ưu hóa trải nghiệm người dùng. Nền tảng của họ được phát triển với giao diện thân thiện và dễ sử dụng, giúp người chơi dễ dàng tìm kiếm thông tin và đặt cược một cách thuận tiện.\n",
    "Hơn nữa, Bwing cũng đã phát triển ứng dụng di động cho cả hệ điều hành Android và iOS, cho phép người chơi tiện lợi tham gia vào các trò chơi cá độ từ bất kỳ nơi đâu và bất kỳ lúc nào.\n",
    "Bảo mật và hỗ trợ khách hàng\n",
    "Sự bảo mật và an toàn luôn được Bwing đặt lên hàng đầu. Họ sử dụng công nghệ mã hóa SSL 128-bit để bảo vệ thông tin cá nhân của người chơi, đảm bảo rằng mọi giao dịch diễn ra một cách an toàn và bảo mật.\n",
    "Đội ngũ hỗ trợ khách hàng của Bwing luôn sẵn sàng hỗ trợ 24/7 thông qua các kênh liên lạc như live chat, email hay điện thoại. Người chơi có thể yên tâm rằng sẽ nhận được sự hỗ trợ nhanh chóng và chuyên nghiệp từ đội ngũ này.\n",
    "Kết luận\n",
    "Với những gì đã được cập nhật về Bwing - nhà cái cá độ trực tuyến uy tín và đa dạng, cùng chương trình khuyến mãi tặng 50k vào tháng 07/2023, không thể phủ nhận rằng đây là một lựa chọn hấp dẫn cho những ai yêu thích thử vận may và thách thức bản thân trong các trò chơi cá độ và casino trực tuyến. Đừng bỏ lỡ cơ hội trải nghiệm thú vị này và đăng ký ngay tại Bwing để nhận mã kích hoạt 50k và bắt đầu cuộc hành trình cá cược tuyệt vời!\n",
    "Giới thiệu nhà cái cá cược Bwing đẳng cấp uy tín, Bwing là gì?Sự ra đời của Bwing và quá trình phát triển thành nhà cái hàng đầu thế giới \n",
    " _______________________________________________\n",
    "Giới thiệu nhà cái cá cược Bwing - Đẳng cấp uy tín và phát triển thành nhà cái hàng đầu thế giới\n",
    "1. Bwing là gì?\n",
    "Bwing là một nhà cái cá cược trực tuyến được xem là đẳng cấp và uy tín tại thị trường cá độ Việt Nam. Được thành lập từ năm 2015, Bwing đã nhanh chóng khẳng định vị thế của mình trong làng cá độ và trở thành một trong những thương hiệu được người chơi tin tưởng và lựa chọn hàng đầu. Bwing cung cấp một loạt các dịch vụ cá cược đa dạng, từ cá độ thể thao, casino trực tuyến cho đến các trò chơi thể thao điện tử, mang đến trải nghiệm độc đáo và hấp dẫn cho người chơi.\n",
    "2. Sự ra đời của Bwing và quá trình phát triển\n",
    "Bwing xuất hiện với mục tiêu đem đến cho người chơi một nền tảng cá cược chuyên nghiệp và tiện lợi. Từ những ngày đầu thành lập, Bwing đã tập trung vào việc xây dựng một hệ thống hoàn hảo, đồng thời đảm bảo chất lượng dịch vụ và sự hài lòng của khách hàng.\n",
    "Nhờ vào cam kết không ngừng cải tiến và đầu tư vào công nghệ tiên tiến, Bwing đã nhanh chóng trở thành một trong những nhà cái hàng đầu thế giới. Sự phát triển ấn tượng của Bwing không chỉ dừng lại ở thị trường Việt Nam mà còn mở rộng quy mô phục vụ đa quốc gia, thu hút được sự quan tâm của đông đảo người chơi từ khắp nơi trên toàn cầu.\n",
    "3. Điểm nổi bật của Bwing\n",
    "3.1. Uy tín và đáng tin cậy: Bwing luôn đặt uy tín lên hàng đầu, cam kết đem đến cho người chơi trải nghiệm cá cược công bằng, minh bạch và an toàn. Thương hiệu này đã xây dựng được lòng tin từ cộng đồng người chơi và nhận được những đánh giá tích cực về sự đáng tin cậy của mình.\n",
    "3.2. Đa dạng sản phẩm: Bwing mang đến cho người chơi một bộ sưu tập đa dạng các sản phẩm cá cược, từ cá độ thể thao, casino trực tuyến, đến cá cược thể thao điện tử. Điều này giúp người chơi có nhiều sự lựa chọn để thỏa mãn đam mê cá độ của mình.\n",
    "3.3. Giao diện thân thiện và tiện lợi: Bwing sở hữu giao diện trực quan, dễ sử dụng và tối ưu hóa cho cả máy tính và thiết bị di động. Người chơi có thể dễ dàng thao tác và đặt cược một cách thuận tiện, mang lại trải nghiệm tốt nhất cho người dùng.\n",
    "3.4. Khuyến mãi và ưu đãi hấp dẫn: Bwing thường xuyên tổ chức các chương trình khuyến mãi, tặng thưởng và ưu đãi đặc biệt cho người chơi. Điều này giúp tăng thêm sự hứng thú và đồng thời giúp người chơi tiết kiệm chi phí khi tham gia cá cược.\n",
    "4. Kết luận\n",
    "Tóm lại, Bwing là một thương hiệu cá cược đẳng cấp và uy tín với sự phát triển vượt bậc trong ngành cá độ trực tuyến. Với đa dạng sản phẩm, giao diện thân thiện và những ưu đãi hấp dẫn, Bwing xứng đáng là một trong những sự lựa chọn hàng đầu cho người chơi yêu thích thử vận may và trải nghiệm các trò chơi cá độ chất lượng. Hãy tham gia ngay Bwing để khám phá thế giới cá cược đa sắc màu và hứng thú!\n",
    "Điểm tên một số tên miền mở rộng mang thương hiệu Bwing (Liệt kê các tên miền Bwing me,Bwing88,Bwing cm,Bwing02,Bwing 07,Bwing 16) \n",
    " _______________________________________________\n",
    "Điểm tên một số tên miền mở rộng mang thương hiệu Bwing: Giới thiệu về Bwing.me, Bwing88, Bwing.cm, Bwing02, Bwing07 và Bwing16\n",
    "1. Bwing.me\n",
    "Bwing.me là một tên miền mở rộng mang thương hiệu Bwing. Được tạo ra với mục đích đem đến sự tiện lợi và dễ nhớ cho người dùng, Bwing.me là một cách tuyệt vời để truy cập vào trang chủ của nhà cái Bwing. Với giao diện thân thiện và dễ sử dụng, người chơi có thể nhanh chóng tiếp cận các trò chơi cá độ và casino trực tuyến hấp dẫn mà Bwing cung cấp.\n",
    "2. Bwing88\n",
    "Bwing88 là một tên miền mở rộng khác mang thương hiệu Bwing. Số \"88\" trong tên miền này thường được liên kết với may mắn và tài lộc trong văn hóa Á Đông. Bwing88 cung cấp một nền tảng cá cược đầy đủ và đa dạng, từ cá độ thể thao, casino trực tuyến cho đến các trò chơi thể thao điện tử. Đây là một lựa chọn tốt cho những ai muốn thử vận may và tận hưởng không gian cá cược chất lượng.\n",
    "3. Bwing.cm\n",
    "Bwing.cm là một tên miền mở rộng khác của thương hiệu Bwing. Được thiết kế để phục vụ người dùng từ quốc gia và khu vực khác nhau, Bwing.cm cung cấp trải nghiệm cá cược đa dạng và độc đáo. Bằng cách truy cập vào tên miền này, người chơi có thể tham gia vào các trò chơi cá độ và casino trực tuyến với sự tin tưởng và an toàn.\n",
    "4. Bwing02\n",
    "Bwing02 là một tên miền mang thương hiệu Bwing được tạo ra để đáp ứng nhu cầu của người chơi với mã vùng hoặc số nhận dạng cụ thể. Tên miền này cung cấp một cách tiếp cận dễ dàng và nhanh chóng đến nhà cái Bwing, giúp người chơi trải nghiệm các trò chơi cá độ và casino một cách thuận tiện.\n",
    "5. Bwing07\n",
    "Bwing07 là một tên miền mở rộng khác mang thương hiệu Bwing. \"07\" có thể ám chỉ một lựa chọn hàng đầu, và Bwing07 thể hiện sự cam kết của nhà cái này đem đến trải nghiệm cá cược tốt nhất cho người chơi. Tên miền này giúp người chơi dễ dàng tiếp cận các trò chơi cá độ và casino trực tuyến đa dạng mà Bwing cung cấp.\n",
    "6. Bwing16\n",
    "Bwing16 là một tên miền mở rộng khác mang thương hiệu Bwing. \"16\" có thể liên kết với số may mắn và thịnh vượng. Bằng cách truy cập vào Bwing16, người chơi có cơ hội trải nghiệm các trò chơi cá độ thú vị và các dịch vụ casino chất lượng mà Bwing cung cấp.\n",
    "Kết luận\n",
    "Như vậy, những tên miền mở rộng Bwing.me, Bwing88, Bwing.cm, Bwing02, Bwing07 và Bwing16 đều là những lựa chọn tốt và tiện lợi cho người chơi yêu thích cá độ và casino trực tuyến. Với đa dạng sản phẩm, giao diện thân thiện và cam kết uy tín, Bwing tiếp tục khẳng định vị thế là một trong những nhà cái hàng đầu trong lĩnh vực cá độ trực tuyến và thu hút được sự tin tưởng của đông đảo người chơi. Hãy khám phá và tham gia ngay các tên miền Bwing để trải nghiệm những khoảnh khắc thú vị và thách thức bản thân trong thế giới cá cược đa dạng và phong phú.\n",
    "ID,'prompt-textarea')"
   ]
  },
  {
   "cell_type": "code",
   "execution_count": 109,
   "id": "356a15d2",
   "metadata": {},
   "outputs": [],
   "source": [
    "prompt_field.clear()\n",
    "prompt_field.send_keys(prompts[0])"
   ]
  },
  {
   "cell_type": "code",
   "execution_count": null,
   "id": "1d2a3d1f",
   "metadata": {},
   "outputs": [],
   "source": [
    "//*[@id=\"__next\"]/div[1]/div[2]/div/main/div[2]/form/div/div[2]/button"
   ]
  },
  {
   "cell_type": "code",
   "execution_count": 110,
   "id": "56f747ae",
   "metadata": {},
   "outputs": [],
   "source": [
    "enter_prompt_btn = driver.find_element(By.XPATH,'//*[@id=\"__next\"]/div[1]/div[2]/div/main/div[2]/form/div/div[2]/button')"
   ]
  },
  {
   "cell_type": "code",
   "execution_count": 112,
   "id": "b9f2c65e",
   "metadata": {},
   "outputs": [],
   "source": [
    "driver.execute_script (\"arguments[0].click();\",enter_prompt_btn)\n"
   ]
  },
  {
   "cell_type": "code",
   "execution_count": null,
   "id": "4b257fbd",
   "metadata": {},
   "outputs": [],
   "source": [
    "<button class=\"btn relative btn-neutral -z-0 border-0 md:border\" as=\"button\"><div class=\"flex w-full gap-2 items-center justify-center\"><svg stroke=\"currentColor\" fill=\"none\" stroke-width=\"1.5\" viewBox=\"0 0 24 24\" stroke-linecap=\"round\" stroke-linejoin=\"round\" class=\"h-3 w-3 flex-shrink-0\" height=\"1em\" width=\"1em\" xmlns=\"http://www.w3.org/2000/svg\"><polyline points=\"1 4 1 10 7 10\"></polyline><polyline points=\"23 20 23 14 17 14\"></polyline><path d=\"M20.49 9A9 9 0 0 0 5.64 5.64L1 10m22 4l-4.64 4.36A9 9 0 0 1 3.51 15\"></path></svg>Regenerate response</div></button>"
   ]
  },
  {
   "cell_type": "code",
   "execution_count": 7,
   "id": "a78d0b39",
   "metadata": {},
   "outputs": [],
   "source": [
    "def fill_prompt(prompt):\n",
    "    prompt_field =  driver.find_element(By.ID,'prompt-textarea')\n",
    "    prompt_field.clear()\n",
    "    #send prompt to textarea\n",
    "    prompt_field.send_keys(prompt)\n",
    "    #enter to write content\n",
    "    enter_btn = prompt_field.find_element(By.XPATH, \"following-sibling::*[1]\")\n",
    "    if enter_btn.is_enabled():\n",
    "        driver.execute_script (\"arguments[0].click();\",enter_btn)\n",
    "        time.sleep(30)\n",
    "        #buttone where we can click to regenerate respnse or stop regenerate or continue:\n",
    "        buttons_container_div =  driver.find_element(By.XPATH,'//*[@id=\"__next\"]/div[1]/div[2]/div/main/div[2]/form/div/div[1]/div')\n",
    "        #buttons inside the container\n",
    "        buttons = buttons_container_div.find_elements(By.TAG_NAME,'button')\n",
    "        if len(buttons) == 2:\n",
    "            buttons[1].click()\n",
    "            time.sleep(20)\n",
    "            section_container = driver.find_element(By.XPATH,'//*[@id=\"__next\"]/div[1]/div[2]/div/main/div[1]/div/div')\n",
    "            driver.execute_script(\"arguments[0].scrollIntoView();\", section_container)            #find the content just wrote by chatgpt\n",
    "            bottom_div = driver.find_element(By.CSS_SELECTOR,'#__next > div.overflow-hidden.w-full.h-full.relative.flex.z-0 > div.relative.flex.h-full.max-w-full.flex-1.overflow-hidden > div > main > div.flex-1.overflow-hidden > div > div > div > div.h-32.md\\:h-48.flex-shrink-0')\n",
    "            # Get previous sibling of mydiv\n",
    "            previous_sibling = bottom_div.find_element(By.XPATH, \"preceding-sibling::*[1]\")\n",
    "            #Printout the latest answer from ChatGPT\n",
    "            print(previous_sibling.text)\n",
    "            time.sleep(10)\n",
    "        elif len(buttons)==1:\n",
    "            section_container = driver.find_element(By.XPATH,'//*[@id=\"__next\"]/div[1]/div[2]/div/main/div[1]/div/div')\n",
    "            driver.execute_script(\"arguments[0].scrollIntoView();\", section_container) \n",
    "            bottom_div = driver.find_element(By.CSS_SELECTOR,'#__next > div.overflow-hidden.w-full.h-full.relative.flex.z-0 > div.relative.flex.h-full.max-w-full.flex-1.overflow-hidden > div > main > div.flex-1.overflow-hidden > div > div > div > div.h-32.md\\:h-48.flex-shrink-0')\n",
    "            # Get previous sibling of mydiv\n",
    "            previous_sibling = bottom_div.find_element(By.XPATH, \"preceding-sibling::*[1]\")\n",
    "            #Printout the latest answer from ChatGPT\n",
    "            print(previous_sibling.text)\n",
    "            time.sleep(10)"
   ]
  },
  {
   "cell_type": "code",
   "execution_count": 8,
   "id": "d6713e01",
   "metadata": {},
   "outputs": [],
   "source": [
    "def scan_all_results(prompt):\n",
    "    prompt_field =  driver.find_element(By.ID,'prompt-textarea')\n",
    "    prompt_field.clear()\n",
    "    #send prompt to textarea\n",
    "    prompt_field.send_keys(prompt)\n",
    "    #enter to write content\n",
    "    enter_btn = prompt_field.find_element(By.XPATH, \"following-sibling::*[1]\")\n",
    "    if enter_btn.is_enabled():\n",
    "        driver.execute_script (\"arguments[0].click();\",enter_btn)\n",
    "        time.sleep(50)\n",
    "        #buttone where we can click to regenerate respnse or stop regenerate or continue:\n",
    "        buttons_container_div =  driver.find_element(By.XPATH,'//*[@id=\"__next\"]/div[1]/div[2]/div/main/div[2]/form/div/div[1]/div')\n",
    "        #buttons inside the container\n",
    "        buttons = buttons_container_div.find_elements(By.TAG_NAME,'button')\n",
    "        if len(buttons) == 2:\n",
    "            buttons[1].click()\n",
    "            time.sleep(40)\n",
    "        if len(buttons)==1:\n",
    "            if buttons[0]==\"Continue generating\":\n",
    "                buttons[0].click()\n",
    "                time.sleep(40)\n",
    "            else:\n",
    "                time.sleep(10)\n",
    "                "
   ]
  },
  {
   "cell_type": "code",
   "execution_count": 90,
   "id": "9aca2cb1",
   "metadata": {},
   "outputs": [],
   "source": [
    "driver.execute_script(\"window.scrollTo(0, 2000);\")"
   ]
  },
  {
   "cell_type": "code",
   "execution_count": null,
   "id": "155b88d7",
   "metadata": {},
   "outputs": [],
   "source": [
    "//*[@id=\"__next\"]/div[1]/div[2]/div/main/div[2]/form/div/div[1]/div/div[2]/div"
   ]
  },
  {
   "cell_type": "code",
   "execution_count": 117,
   "id": "210f2795",
   "metadata": {},
   "outputs": [],
   "source": [
    "section = driver.find_element(By.XPATH, '//*[@id=\"__next\"]/div[1]/div[2]/div/main/div[1]/div/div/div')\n",
    "section.find_elements(By.CLASS_NAME,\"bg-gray-50\")[0].text"
   ]
  },
  {
   "cell_type": "code",
   "execution_count": 121,
   "id": "7477afb7",
   "metadata": {},
   "outputs": [
    {
     "data": {
      "text/plain": [
       "'Tôi không thể truy cập Internet và do đó không có thông tin về nhà cái 123B đến thời điểm hiện tại (Tháng 7 năm 2023). Tôi chỉ có thể cung cấp thông tin đến thời điểm 2021.\\nNếu bạn quan tâm về nhà cái 123B, bạn nên tự tìm kiếm thông tin trên trình duyệt web hoặc các nguồn tin tức uy tín để có thông tin cập nhật nhất về nhà cái này. Lưu ý luôn luôn tìm hiểu và xem xét cẩn thận trước khi tham gia vào bất kỳ hoạt động cá cược nào, đặc biệt là đối với các nhà cái hoặc dịch vụ trực tuyến.'"
      ]
     },
     "execution_count": 121,
     "metadata": {},
     "output_type": "execute_result"
    }
   ],
   "source": []
  },
  {
   "cell_type": "code",
   "execution_count": 136,
   "id": "66910a56",
   "metadata": {},
   "outputs": [],
   "source": [
    "buttons_container_div = driver.find_element(By.XPATH,'//*[@id=\"__next\"]/div[1]/div[2]/div/main/div[2]/form/div/div[1]/div')\n",
    "button = buttons_container_div.find_elements(By.TAG_NAME,'button')"
   ]
  },
  {
   "cell_type": "code",
   "execution_count": 141,
   "id": "52e3fc6e",
   "metadata": {},
   "outputs": [
    {
     "data": {
      "text/plain": [
       "'Continue generating'"
      ]
     },
     "execution_count": 141,
     "metadata": {},
     "output_type": "execute_result"
    }
   ],
   "source": [
    "button[0].text"
   ]
  },
  {
   "cell_type": "code",
   "execution_count": 61,
   "id": "e2a8f23b",
   "metadata": {},
   "outputs": [],
   "source": [
    "prompt_field =  driver.find_element(By.ID,'prompt-textarea')\n",
    "prompt_field.clear()\n",
    "#enter to write content\n",
    "enter_btn = prompt_field.find_element(By.XPATH, \"following-sibling::*[1]\")            "
   ]
  },
  {
   "cell_type": "code",
   "execution_count": 62,
   "id": "8991843f",
   "metadata": {},
   "outputs": [
    {
     "data": {
      "text/plain": [
       "'absolute p-1 rounded-md md:bottom-3 md:p-2 md:right-3 dark:hover:bg-gray-900 dark:disabled:hover:bg-transparent right-2 disabled:text-gray-400 enabled:bg-brand-purple text-white bottom-1.5 transition-colors disabled:opacity-40'"
      ]
     },
     "execution_count": 62,
     "metadata": {},
     "output_type": "execute_result"
    }
   ],
   "source": [
    "enter_btn.get_attribute(\"class\")"
   ]
  },
  {
   "cell_type": "code",
   "execution_count": 63,
   "id": "a5ed3e55",
   "metadata": {},
   "outputs": [
    {
     "data": {
      "text/plain": [
       "True"
      ]
     },
     "execution_count": 63,
     "metadata": {},
     "output_type": "execute_result"
    }
   ],
   "source": [
    "enter_btn.is_enabled()"
   ]
  },
  {
   "cell_type": "code",
   "execution_count": 81,
   "id": "1fe14133",
   "metadata": {},
   "outputs": [],
   "source": [
    "buttons_container_div =  driver.find_element(By.XPATH,'//*[@id=\"__next\"]/div[1]/div[2]/div/main/div[2]/form/div/div[1]/div')"
   ]
  },
  {
   "cell_type": "code",
   "execution_count": 82,
   "id": "1059aead",
   "metadata": {},
   "outputs": [
    {
     "data": {
      "text/plain": [
       "2"
      ]
     },
     "execution_count": 82,
     "metadata": {},
     "output_type": "execute_result"
    }
   ],
   "source": [
    "len(buttons_container_div.find_elements(By.TAG_NAME,'button'))"
   ]
  },
  {
   "cell_type": "code",
   "execution_count": 69,
   "id": "e0fd5734",
   "metadata": {},
   "outputs": [],
   "source": [
    "buttons_container_div.find_elements(By.TAG_NAME,'button')[1].click()"
   ]
  },
  {
   "cell_type": "code",
   "execution_count": 83,
   "id": "266c1a3a",
   "metadata": {},
   "outputs": [
    {
     "ename": "TypeError",
     "evalue": "object of type 'WebElement' has no len()",
     "output_type": "error",
     "traceback": [
      "\u001b[1;31m---------------------------------------------------------------------------\u001b[0m",
      "\u001b[1;31mTypeError\u001b[0m                                 Traceback (most recent call last)",
      "Cell \u001b[1;32mIn[83], line 1\u001b[0m\n\u001b[1;32m----> 1\u001b[0m \u001b[38;5;28mlen\u001b[39m(driver\u001b[38;5;241m.\u001b[39mfind_element(By\u001b[38;5;241m.\u001b[39mXPATH,\u001b[38;5;124m'\u001b[39m\u001b[38;5;124m//*[@id=\u001b[39m\u001b[38;5;124m\"\u001b[39m\u001b[38;5;124m__next\u001b[39m\u001b[38;5;124m\"\u001b[39m\u001b[38;5;124m]/div[1]/div[2]/div/main/div[2]/form/div/div[1]/div\u001b[39m\u001b[38;5;124m'\u001b[39m))\n",
      "\u001b[1;31mTypeError\u001b[0m: object of type 'WebElement' has no len()"
     ]
    }
   ],
   "source": [
    "len(driver.find_element(By.XPATH,'//*[@id=\"__next\"]/div[1]/div[2]/div/main/div[2]/form/div/div[1]/div'))"
   ]
  },
  {
   "cell_type": "code",
   "execution_count": 84,
   "id": "67581237",
   "metadata": {},
   "outputs": [
    {
     "data": {
      "text/plain": [
       "<undetected_chromedriver.webelement.WebElement (session=\"59464b76484dfcc919d9feb99137326a\", element=\"6B47B23C935A84E5E02144FAEC410625_element_8282\")>"
      ]
     },
     "execution_count": 84,
     "metadata": {},
     "output_type": "execute_result"
    }
   ],
   "source": [
    "driver.find_element(By.XPATH,'//*[@id=\"__next\"]/div[1]/div[2]/div/main/div[2]/form/div/div[1]/div')"
   ]
  },
  {
   "cell_type": "code",
   "execution_count": 92,
   "id": "5dca890d",
   "metadata": {},
   "outputs": [],
   "source": [
    "section_container = driver.find_element(By.XPATH,'//*[@id=\"__next\"]/div[1]/div[2]/div/main/div[1]/div/div')"
   ]
  },
  {
   "cell_type": "code",
   "execution_count": 95,
   "id": "d22d3b97",
   "metadata": {},
   "outputs": [
    {
     "ename": "AttributeError",
     "evalue": "'WebElement' object has no attribute 'outerHTML'",
     "output_type": "error",
     "traceback": [
      "\u001b[1;31m---------------------------------------------------------------------------\u001b[0m",
      "\u001b[1;31mAttributeError\u001b[0m                            Traceback (most recent call last)",
      "Cell \u001b[1;32mIn[95], line 1\u001b[0m\n\u001b[1;32m----> 1\u001b[0m section_container\u001b[38;5;241m.\u001b[39mouterHTML\n",
      "\u001b[1;31mAttributeError\u001b[0m: 'WebElement' object has no attribute 'outerHTML'"
     ]
    }
   ],
   "source": [
    "section_container.outerHTML"
   ]
  },
  {
   "cell_type": "code",
   "execution_count": null,
   "id": "6007f85b",
   "metadata": {},
   "outputs": [],
   "source": []
  },
  {
   "cell_type": "code",
   "execution_count": null,
   "id": "f9bdb0b4",
   "metadata": {},
   "outputs": [],
   "source": [
    "#This button show status of answer from ChatGPT"
   ]
  },
  {
   "cell_type": "code",
   "execution_count": 122,
   "id": "5aa53832",
   "metadata": {},
   "outputs": [],
   "source": [
    "status_btn = driver.find_element(By.XPATH,'//*[@id=\"__next\"]/div[1]/div[2]/div/main/div[2]/form/div/div[1]/div/button')"
   ]
  },
  {
   "cell_type": "code",
   "execution_count": 123,
   "id": "0ecb79b3",
   "metadata": {},
   "outputs": [
    {
     "data": {
      "text/plain": [
       "'Regenerate response'"
      ]
     },
     "execution_count": 123,
     "metadata": {},
     "output_type": "execute_result"
    }
   ],
   "source": [
    "status_btn.text"
   ]
  },
  {
   "cell_type": "code",
   "execution_count": null,
   "id": "a8de0cb4",
   "metadata": {},
   "outputs": [],
   "source": [
    "//*[@id=\"__next\"]/div[1]/div[2]/div/main/div[2]/form/div/div[1]/div/button\n",
    "//*[@id=\"__next\"]/div[1]/div[2]/div/main/div[2]/form/div/div[1]/div/button"
   ]
  },
  {
   "cell_type": "code",
   "execution_count": null,
   "id": "db7521ff",
   "metadata": {},
   "outputs": [],
   "source": [
    "###### Wait until value of status_btn = 'Regenerate response' to execute next prompt\n"
   ]
  },
  {
   "cell_type": "code",
   "execution_count": 41,
   "id": "11185fce",
   "metadata": {},
   "outputs": [],
   "source": [
    "#url = 'https://chat.openai.com/'\n",
    "#driver.get(url)"
   ]
  },
  {
   "cell_type": "code",
   "execution_count": 124,
   "id": "2a40395e",
   "metadata": {},
   "outputs": [
    {
     "data": {
      "text/plain": [
       "\"email_field = driver.find_element(By.ID,'username')\\nemail_field.send_keys(username)\\ntime.sleep(2)\""
      ]
     },
     "execution_count": 124,
     "metadata": {},
     "output_type": "execute_result"
    }
   ],
   "source": [
    "#Selenium fill in username\n",
    "'''email_field = driver.find_element(By.ID,'username')\n",
    "email_field.send_keys(username)\n",
    "time.sleep(2)'''"
   ]
  },
  {
   "cell_type": "code",
   "execution_count": 125,
   "id": "d3f33021",
   "metadata": {},
   "outputs": [],
   "source": [
    "#The container of status button, message field \n",
    "bottom_div = driver.find_element(By.CSS_SELECTOR,'#__next > div.overflow-hidden.w-full.h-full.relative.flex.z-0 > div.relative.flex.h-full.max-w-full.flex-1.overflow-hidden > div > main > div.flex-1.overflow-hidden > div > div > div > div.h-32.md\\:h-48.flex-shrink-0')"
   ]
  },
  {
   "cell_type": "code",
   "execution_count": 127,
   "id": "91511596",
   "metadata": {},
   "outputs": [
    {
     "name": "stdout",
     "output_type": "stream",
     "text": [
      "2 / 2\n",
      "Lợi ích của việc rút tiền từ nhà cái 123B - Trải nghiệm cá cược tiện lợi và đáng tin cậy\n",
      "Khi tham gia cá độ trực tuyến tại nhà cái 123B, một trong những điểm đáng chú ý mà người chơi luôn quan tâm đó chính là việc rút tiền từ tài khoản. Việc rút tiền 123B không chỉ đơn thuần là quy trình đơn giản mà còn mang lại nhiều lợi ích tuyệt vời cho người chơi. Dưới đây là một số lý do tại sao việc rút tiền từ nhà cái 123B đáng giá và đáng tin cậy.\n",
      "1. Tiến trình rút tiền nhanh chóng và thuận tiện:\n",
      "Nhà cái 123B luôn đặt lợi ích của người chơi lên hàng đầu, và việc rút tiền cũng không phải là ngoại lệ. Thủ tục rút tiền tại 123B được thiết kế đơn giản và dễ dàng thực hiện. Người chơi chỉ cần đăng nhập vào tài khoản cá nhân, chọn phần \"Rút tiền\" và điền đầy đủ thông tin cần thiết. Sau đó, chỉ cần chờ một thời gian ngắn để xác nhận thông tin từ đội ngũ quản lý của nhà cái. Với thời gian xử lý rút tiền nhanh chóng, người chơi có thể nhận được số tiền đã rút một cách đáng tin cậy và tiện lợi.\n",
      "2. An toàn và bảo mật tuyệt đối:\n",
      "123B cam kết đảm bảo an toàn và bảo mật tuyệt đối cho dữ liệu và thông tin cá nhân của người chơi. Quá trình rút tiền được thực hiện thông qua các phương thức thanh toán an toàn và uy tín, đảm bảo rằng tiền của người chơi không bị rơi vào tình trạng nguy hiểm. Bên cạnh đó, nhà cái 123B tuân thủ chặt chẽ các quy định về bảo mật dữ liệu, giúp người chơi yên tâm về việc bảo vệ thông tin cá nhân của mình.\n",
      "3. Linh hoạt trong việc chọn phương thức thanh toán:\n",
      "123B cung cấp một loạt các phương thức thanh toán đa dạng cho việc rút tiền. Người chơi có thể lựa chọn các phương thức phổ biến như chuyển khoản ngân hàng, thẻ tín dụng, ví điện tử và nhiều lựa chọn khác. Điều này giúp người chơi dễ dàng chọn phương thức tiện lợi và phù hợp với nhu cầu cá nhân của mình.\n",
      "4. Không mất phí hoặc mức phí thấp:\n",
      "Rút tiền từ nhà cái 123B thường không mất phí hoặc có mức phí rút tiền rất thấp. Điều này giúp người chơi tiết kiệm được nhiều chi phí liên quan khi rút tiền từ tài khoản, và tiền thưởng giành được có thể được sử dụng để cá cược hoặc rút về tài khoản ngân hàng một cách hiệu quả.\n",
      "Kết luận:\n",
      "Việc rút tiền từ nhà cái 123B không chỉ đơn thuần là cách để nhận lại tiền thắng từ hoạt động cá độ trực tuyến mà còn mang lại nhiều lợi ích tiện lợi và an toàn. Với tiến trình rút tiền nhanh chóng, an toàn và linh hoạt trong việc chọn phương thức thanh toán, người chơi có thể hoàn toàn tin tưởng và thưởng thức trải nghiệm cá cược tại 123B một cách tự tin.\n"
     ]
    }
   ],
   "source": [
    "# Get previous sibling of mydiv\n",
    "previous_sibling = bottom_div.find_element(By.XPATH, \"preceding-sibling::*[1]\")\n",
    "#Printout the latest answer from ChatGPT\n",
    "print(previous_sibling.text)"
   ]
  },
  {
   "cell_type": "code",
   "execution_count": 17,
   "id": "ce7168c0",
   "metadata": {},
   "outputs": [],
   "source": [
    "prompts_thể_thao_abc_gp = ['Bạn là một chuyên gia về viết nội dung cho các website cá độ, đồng thời bạn cũng am hiểu về lĩnh vực cá độ trực tuyến.Hãy viết một bài viết về nói về Giới thiệu tổng quan nhà cái 123B. Bài viết đó phải chứa từ khóa \"rút tiền 123B\" ít nhất một lần và nội dung bài viết phải liên quan đến thương hiệu 123B. Hãy đảm bảo rằng dung bài viết vượt quá 200 chữ',\n",
    " 'Ở đoạn tiếp theo hãy viết một bài viết về nói về Giới thiệu về lợi ích của việc rút tiền từ nhà cái 123B. Bài viết đó phải chứa từ khóa \"rút tiền 123B\" ít nhất một lần và nội dung bài viết phải liên quan đến thương hiệu 123B. Hãy đảm bảo rằng dung bài viết vượt quá 200 chữ , nội dung ở đoạn văn này sẽ nối tiếp nội dung ở bài trước để có thể trở thành một đoạn văn hoàn chỉnh ',\n",
    " 'ở đoạn này hãy viết một bài viết về nói về Các quy định về việc rút tiền 123B. Bài viết đó phải chứa từ khóa \"rút tiền 123B\" ít nhất một lần và nội dung bài viết phải liên quan đến thương hiệu 123B. Hãy đảm bảo rằng dung bài viết vượt quá 200 chữ, nội dung ở đoạn văn này sẽ nối tiếp nội dung ở các bài trước để có thể trở thành một đoạn văn hoàn chỉnh',\n",
    " 'tiếp theo, hãy viết một bài viết về nói về Quy trình rút tiền 123B. Bài viết đó phải chứa từ khóa \"rút tiền 123B\" ít nhất một lần và nội dung bài viết phải liên quan đến thương hiệu 123B. Hãy đảm bảo rằng dung bài viết vượt quá 200 chữ,nội dung ở đoạn văn này sẽ nối tiếp nội dung ở các bài trước để có thể trở thành một đoạn văn hoàn chỉnh',\n",
    " 'tiếp theo, viết một bài viết về nói về Ưu điểm của dịch vụ rút tiền 123B. Bài viết đó phải chứa từ khóa \"rút tiền 123B\" ít nhất một lần và nội dung bài viết phải liên quan đến thương hiệu 123B. Hãy đảm bảo rằng dung bài viết vượt quá 200 chữ, nội dung ở đoạn văn này sẽ nối tiếp nội dung ở các bài trước để có thể trở thành một đoạn văn hoàn chỉnh',\n",
    " 'Hãy viết một bài viết về nói về Các phương thức rút tiền trên 123B. Bài viết đó phải chứa từ khóa \"rút tiền 123B\" ít nhất một lần và nội dung bài viết phải liên quan đến thương hiệu 123B. Hãy đảm bảo rằng dung bài viết vượt quá 200 chữ,nội dung ở đoạn văn này sẽ nối tiếp nội dung ở các bài trước để có thể trở thành một đoạn văn hoàn chỉnh',\n",
    " 'Hãy viết một bài viết về nói về Các câu hỏi thường gặp về rút tiền 123B. Bài viết đó phải chứa từ khóa \"rút tiền 123B\" ít nhất một lần và nội dung bài viết phải liên quan đến thương hiệu 123B. Hãy đảm bảo rằng dung bài viết vượt quá 200 chữ,nội dung ở đoạn văn này sẽ nối tiếp nội dung ở các bài trước để có thể trở thành một đoạn văn hoàn chỉnh',\n",
    " 'Hãy viết một bài viết về nói về Những lưu ý khi rút tiền 123B. Bài viết đó phải chứa từ khóa \"rút tiền 123B\" ít nhất một lần và nội dung bài viết phải liên quan đến thương hiệu 123B. Hãy đảm bảo rằng dung bài viết vượt quá 200 chữ,nội dung ở đoạn văn này sẽ nối tiếp nội dung ở các bài trước để có thể trở thành một đoạn văn hoàn chỉnh',\n",
    " 'Hãy viết một bài viết về nói về Tổng kết dịch vụ rút tiền 123B. Bài viết đó phải chứa từ khóa \"rút tiền 123B\" ít nhất một lần và nội dung bài viết phải liên quan đến thương hiệu 123B. Hãy đảm bảo rằng dung bài viết vượt quá 200 chữ,nội dung ở đoạn văn này sẽ nối tiếp nội dung ở các bài trước để có thể trở thành một đoạn văn hoàn chỉnh']"
   ]
  },
  {
   "cell_type": "code",
   "execution_count": 133,
   "id": "7d7bb950",
   "metadata": {},
   "outputs": [
    {
     "name": "stdout",
     "output_type": "stream",
     "text": [
      "Giới thiệu về xóc đĩa \n",
      " _______________________________________________\n",
      "Luật chơi xóc đĩa 123 và các thuật ngữ thông dụng trong xóc đĩa 123B \n",
      " _______________________________________________\n",
      "Những ưu điểm khi chơi xóc đĩa 123B \n",
      " _______________________________________________\n",
      "Các chiến thuật chơi xóc đĩa 123B cho tỉ lệ thắng cao nhất \n",
      " _______________________________________________\n",
      "Những chương trình khuyến mãi khi chơi xóc đĩa 123B \n",
      " _______________________________________________\n"
     ]
    },
    {
     "ename": "KeyboardInterrupt",
     "evalue": "",
     "output_type": "error",
     "traceback": [
      "\u001b[1;31m---------------------------------------------------------------------------\u001b[0m",
      "\u001b[1;31mKeyboardInterrupt\u001b[0m                         Traceback (most recent call last)",
      "Cell \u001b[1;32mIn[133], line 3\u001b[0m\n\u001b[0;32m      1\u001b[0m \u001b[38;5;28;01mfor\u001b[39;00m i \u001b[38;5;129;01min\u001b[39;00m \u001b[38;5;28mrange\u001b[39m(\u001b[38;5;241m0\u001b[39m, \u001b[38;5;28mlen\u001b[39m(prompts_xóc_đĩa_123B)):\n\u001b[0;32m      2\u001b[0m     \u001b[38;5;28mprint\u001b[39m(outline_xóc_đĩa_123B[i],\u001b[38;5;124m'\u001b[39m\u001b[38;5;130;01m\\n\u001b[39;00m\u001b[38;5;124m'\u001b[39m,\u001b[38;5;124m'\u001b[39m\u001b[38;5;124m_______________________________________________\u001b[39m\u001b[38;5;124m'\u001b[39m)\n\u001b[1;32m----> 3\u001b[0m     scan_all_results(prompts_xóc_đĩa_123B[i])\n\u001b[0;32m      4\u001b[0m     html_element \u001b[38;5;241m=\u001b[39m driver\u001b[38;5;241m.\u001b[39mfind_element(By\u001b[38;5;241m.\u001b[39mTAG_NAME,\u001b[38;5;124m'\u001b[39m\u001b[38;5;124mhtml\u001b[39m\u001b[38;5;124m'\u001b[39m)\n\u001b[0;32m      5\u001b[0m     html_element\u001b[38;5;241m.\u001b[39msend_keys(Keys\u001b[38;5;241m.\u001b[39mEND)\n",
      "Cell \u001b[1;32mIn[123], line 10\u001b[0m, in \u001b[0;36mscan_all_results\u001b[1;34m(prompt)\u001b[0m\n\u001b[0;32m      8\u001b[0m \u001b[38;5;28;01mif\u001b[39;00m enter_btn\u001b[38;5;241m.\u001b[39mis_enabled():\n\u001b[0;32m      9\u001b[0m     driver\u001b[38;5;241m.\u001b[39mexecute_script (\u001b[38;5;124m\"\u001b[39m\u001b[38;5;124marguments[0].click();\u001b[39m\u001b[38;5;124m\"\u001b[39m,enter_btn)\n\u001b[1;32m---> 10\u001b[0m     time\u001b[38;5;241m.\u001b[39msleep(\u001b[38;5;241m50\u001b[39m)\n\u001b[0;32m     11\u001b[0m     \u001b[38;5;66;03m#buttone where we can click to regenerate respnse or stop regenerate or continue:\u001b[39;00m\n\u001b[0;32m     12\u001b[0m     buttons_container_div \u001b[38;5;241m=\u001b[39m  driver\u001b[38;5;241m.\u001b[39mfind_element(By\u001b[38;5;241m.\u001b[39mXPATH,\u001b[38;5;124m'\u001b[39m\u001b[38;5;124m//*[@id=\u001b[39m\u001b[38;5;124m\"\u001b[39m\u001b[38;5;124m__next\u001b[39m\u001b[38;5;124m\"\u001b[39m\u001b[38;5;124m]/div[1]/div[2]/div/main/div[2]/form/div/div[1]/div\u001b[39m\u001b[38;5;124m'\u001b[39m)\n",
      "\u001b[1;31mKeyboardInterrupt\u001b[0m: "
     ]
    }
   ],
   "source": []
  },
  {
   "cell_type": "code",
   "execution_count": 132,
   "id": "51cc2008",
   "metadata": {},
   "outputs": [
    {
     "name": "stdout",
     "output_type": "stream",
     "text": [
      "Tôi không thể truy cập Internet và do đó không có thông tin về nhà cái 123B đến thời điểm hiện tại (Tháng 7 năm 2023). Tôi chỉ có thể cung cấp thông tin đến thời điểm 2021.\n",
      "Nếu bạn quan tâm về nhà cái 123B, bạn nên tự tìm kiếm thông tin trên trình duyệt web hoặc các nguồn tin tức uy tín để có thông tin cập nhật nhất về nhà cái này. Lưu ý luôn luôn tìm hiểu và xem xét cẩn thận trước khi tham gia vào bất kỳ hoạt động cá cược nào, đặc biệt là đối với các nhà cái hoặc dịch vụ trực tuyến.\n",
      "Tôi không thể truy cập Internet và không có thông tin cụ thể về nhà cái 789bet đến thời điểm hiện tại (Tháng 7 năm 2023). Như đã đề cập trước đó, tôi chỉ có thông tin đến tháng 9 năm 2021.\n",
      "Nếu bạn quan tâm về nhà cái 789bet, bạn nên tự tìm kiếm thông tin trên trình duyệt web hoặc các nguồn tin tức uy tín để có thông tin cập nhật nhất về nhà cái này. Nhớ luôn luôn tìm hiểu kỹ và xem xét cẩn thận trước khi tham gia vào bất kỳ hoạt động cá cược nào, đặc biệt là đối với các nhà cái hoặc dịch vụ trực tuyến.\n",
      "Giới thiệu về Xóc Đĩa và Nhà cái 123B: Trải nghiệm Cá độ Trực tuyến Tuyệt vời\n",
      "Xóc đĩa là một trong những trò chơi truyền thống phổ biến của Việt Nam, và ngày nay, nó đã trở thành một trò chơi hấp dẫn trong thế giới cá độ trực tuyến. Nhà cái 123B, một thương hiệu nổi tiếng trong lĩnh vực cá độ, không chỉ mang đến trải nghiệm chuyên nghiệp mà còn cung cấp sự an toàn và công bằng cho người chơi.\n",
      "Xóc đĩa - Trò chơi truyền thống đậm chất văn hóa Việt Nam\n",
      "Xóc đĩa, còn được gọi là xóc đĩa đổi thưởng, là một trò chơi đơn giản và thú vị. Người chơi sử dụng một bát chứa các quân xóc đĩa có các mặt hình chữ \"T\" và đặt cược vào kết quả sau khi các quân xóc đĩa được lắc và quay. Với tính chất dễ chơi và kết quả ngẫu nhiên, xóc đĩa đã trở thành trò chơi ưa thích của nhiều người yêu cá độ.\n",
      "Nhà cái 123B - Nền tảng cá độ trực tuyến uy tín và chất lượng\n",
      "Khi tham gia cá độ xóc đĩa trực tuyến, việc lựa chọn nhà cái đáng tin cậy là điều vô cùng quan trọng. Và 123B là một lựa chọn xuất sắc. Với hơn một thập kỷ hoạt động trong ngành cá độ, nhà cái 123B đã xây dựng được uy tín vững chắc và thu hút được đông đảo người chơi tham gia.\n",
      "Trải nghiệm chơi xóc đĩa tại 123B\n",
      "Tại 123B, trò chơi xóc đĩa được thiết kế đơn giản và hấp dẫn. Người chơi có thể dễ dàng tham gia bằng cách đăng nhập vào tài khoản cá độ của họ hoặc tạo một tài khoản mới chỉ trong vài bước đơn giản. Giao diện sử dụng của 123B được thiết kế một cách tinh tế, giúp người chơi dễ dàng điều hướng và tận hưởng trò chơi một cách tối đa.\n",
      "Tính công bằng và an toàn\n",
      "Nhà cái 123B cam kết cung cấp môi trường cá cược công bằng và an toàn cho người chơi. Hệ thống xóc đĩa được kiểm tra đảm bảo tính công bằng và độc lập, đảm bảo rằng kết quả của mỗi ván chơi là hoàn toàn ngẫu nhiên. Bên cạnh đó, thông tin cá nhân và tài khoản của người chơi được bảo mật tuyệt đối, đảm bảo an toàn cho các giao dịch cá độ và dữ liệu cá nhân.\n",
      "Khuyến mãi và ưu đãi hấp dẫn\n",
      "123B luôn cung cấp các chương trình khuyến mãi và ưu đãi hấp dẫn cho người chơi, giúp tăng cơ hội thắng lớn và giải trí thêm cho trải nghiệm cá độ. Từ các gói khuyến mãi chào mừng cho người chơi mới đến các phần thưởng thường xuyên dành cho người chơi thân thiết, 123B không ngừng mang đến những lợi ích tốt nhất cho cộng đồng người chơi của mình.\n",
      "Kết luận\n",
      "Xóc đĩa là một trò chơi truyền thống đầy thú vị và thử thách, và khi tham gia cá độ trực tuyến tại nhà cái 123B, bạn sẽ được trải nghiệm một sân chơi chất lượng và an toàn. Với uy tín đã được củng cố qua nhiều năm hoạt động, nhà cái 123B cam kết mang đến cho người chơi trải nghiệm tốt nhất và cơ hội thắng lớn trong các trò chơi xóc đĩa và cá độ khác. Hãy tham gia 123B ngay hôm nay để cảm nhận sự hứng thú và thách thức của trò chơi xóc đĩa trực tuyến. Chúc bạn may mắn và thành công!\n",
      "Luật chơi xóc đĩa 123 và Những Thuật ngữ Thông dụng tại 123B\n",
      "Xóc đĩa 123B là một trong những trò chơi phổ biến và hấp dẫn tại nhà cái 123B, nơi bạn có thể trải nghiệm không chỉ sự thú vị mà còn cơ hội thắng lớn. Tuy nhiên, để tận hưởng trọn vẹn niềm vui của trò chơi này, bạn cần hiểu rõ về Luật chơi xóc đĩa và các thuật ngữ thông dụng. Hãy cùng khám phá những điều này để chuẩn bị tốt nhất cho cuộc hành trình cá độ xóc đĩa tại 123B.\n",
      "Luật chơi xóc đĩa 123B\n",
      "Xóc đĩa 123B được chơi với một bát chứa các quân xóc đĩa có các mặt hình chữ \"T\". Có 3 quân xóc đĩa trong tổng số 6 quân, với các mặt đều được đánh số từ 1 đến 6. Người chơi đặt cược vào kết quả của việc xóc bát, ví dụ như đặt cược vào mặt xúc xắc nào sẽ nằm ở trên sau khi bát dừng lại.\n",
      "Trước khi xóc, người chơi có thời gian để đặt cược vào mặt xúc xắc mà họ tin sẽ là kết quả cuối cùng. Khi mọi người đã đặt cược xong, người chơi chủ lực (người xóc) sẽ lắc bát chứa xúc xắc, sau đó bát sẽ được đặt xuống để quả xúc xắc nằm ở trên. Người chơi thắng nếu mặt xúc xắc nằm ở vị trí mà họ đã đặt cược, và họ sẽ nhận được tiền thưởng tương ứng.\n",
      "Các thuật ngữ thông dụng trong xóc đĩa 123B\n",
      "Cược gạch: Đây là cược vào một trong 3 quân xóc đĩa. Nếu quân xóc đĩa mà bạn đã chọn nằm ở vị trí bạn đặt cược, bạn sẽ thắng với tỷ lệ 1:1.\n",
      "Cược lẻ/chẵn: Bạn có thể cược vào tính chẵn lẻ của tổng điểm của 3 quân xóc đĩa. Nếu tổng điểm là chẵn hoặc lẻ như bạn đã chọn, bạn sẽ thắng với tỷ lệ 1:1.\n",
      "Cược xiên: Đây là cược vào 2 quân xóc đĩa có số điểm giống nhau. Nếu 2 quân xóc đĩa nằm ở vị trí bạn đã chọn, bạn sẽ thắng với tỷ lệ 1:2.\n",
      "Cược tổng: Bạn có thể cược vào tổng điểm của 3 quân xóc đĩa. Nếu tổng điểm bằng con số bạn đã chọn, bạn sẽ thắng với tỷ lệ 1:6.\n",
      "Cược đuôi nai: Đây là cược vào 3 quân xóc đĩa có số điểm khác nhau. Nếu cả 3 quân xóc đĩa nằm ở vị trí bạn đã chọn, bạn sẽ thắng với tỷ lệ 1:3.\n",
      "Tận hưởng trải nghiệm cá độ xóc đĩa tại 123B\n",
      "Nhà cái 123B không chỉ cung cấp môi trường chơi xóc đĩa chuyên nghiệp mà còn mang đến sự công bằng và an toàn cho người chơi. Bạn có thể dễ dàng tham gia bằng cách đăng nhập vào tài khoản cá độ của mình hoặc đăng ký tài khoản mới chỉ trong vài bước đơn giản. Hãy tham gia ngay để tận hưởng niềm vui và thử thách của xóc đĩa tại 123B và hy vọng nhận được những phần thưởng hấp dẫn. Chúc bạn may mắn và thành công trong hành trình cá độ trực tuyến!\n",
      "Những Ưu Điểm Hấp Dẫn Khi Chơi Xóc Đĩa tại 123B - Sự Lựa Chọn Thông Minh cho Cá Độ Trực Tuyến\n",
      "Chơi xóc đĩa tại nhà cái 123B là một trải nghiệm đầy hứng thú và thú vị mà không phải ai cũng có cơ hội trải qua. Với những ưu điểm độc đáo và hấp dẫn, xóc đĩa 123B hứa hẹn mang đến cho bạn những khoảnh khắc giải trí thăng hoa cùng cơ hội giành chiến thắng đáng giá. Hãy cùng khám phá những lợi ích tuyệt vời mà trò chơi xóc đĩa tại 123B mang lại.\n",
      "1. Đội ngũ phát triển chuyên nghiệp và uy tín\n",
      "Với nhiều năm kinh nghiệm trong lĩnh vực cá độ trực tuyến, nhà cái 123B đã xây dựng một đội ngũ phát triển chuyên nghiệp và đáng tin cậy. Họ không ngừng nâng cao trải nghiệm chơi của người dùng và cải tiến trò chơi xóc đĩa để đảm bảo tính công bằng và ngẫu nhiên.\n",
      "2. Giao diện sử dụng thân thiện và tối ưu\n",
      "Giao diện của 123B được thiết kế thân thiện và tối ưu hóa để mang lại trải nghiệm mượt mà và dễ dàng cho người chơi. Bạn có thể dễ dàng tham gia vào trò chơi xóc đĩa, đặt cược và theo dõi kết quả một cách nhanh chóng và thuận tiện.\n",
      "3. Cơ hội thắng lớn với tỷ lệ cược hấp dẫn\n",
      "Xóc đĩa 123B cung cấp các cược đa dạng với tỷ lệ hấp dẫn, giúp bạn có cơ hội thắng lớn. Bạn có thể đặt cược vào các mặt xúc xắc riêng lẻ, tổng điểm hoặc các cược khác như xiên và đuôi nai. Các tỷ lệ cược hợp lý sẽ giúp bạn thu về những phần thưởng hấp dẫn khi may mắn đứng về phía bạn.\n",
      "4. Sự công bằng và đảm bảo an toàn\n",
      "123B cam kết cung cấp môi trường cá cược công bằng và an toàn cho người chơi. Hệ thống xóc đĩa được kiểm tra để đảm bảo tính công bằng và độc lập, đảm bảo rằng kết quả của mỗi ván chơi là hoàn toàn ngẫu nhiên. Bên cạnh đó, thông tin cá nhân và tài khoản của người chơi được bảo mật tuyệt đối, đảm bảo an toàn cho các giao dịch cá độ và dữ liệu cá nhân.\n",
      "5. Khuyến mãi và ưu đãi hấp dẫn\n",
      "123B luôn có các chương trình khuyến mãi và ưu đãi hấp dẫn cho người chơi. Từ các gói khuyến mãi chào mừng cho người chơi mới đến các phần thưởng thường xuyên dành cho người chơi thân thiết, 123B không ngừng mang đến những lợi ích tốt nhất cho cộng đồng người chơi của mình.\n",
      "6. Hỗ trợ khách hàng chuyên nghiệp\n",
      "123B luôn chú trọng đến việc cung cấp dịch vụ chăm sóc khách hàng chuyên nghiệp và thân thiện. Đội ngũ hỗ trợ của 123B luôn sẵn sàng giải đáp mọi thắc mắc và hỗ trợ người chơi trong quá trình cá độ.\n",
      "Kết luận\n",
      "Với những ưu điểm nổi trội và các lợi ích hấp dẫn mà xóc đĩa 123B mang lại, không có gì ngạc nhiên khi trò chơi này ngày càng thu hút đông đảo người chơi tham gia. Tận hưởng không gian cá độ chuyên nghiệp, công bằng và an toàn cùng với những cơ hội giành chiến thắng đáng giá tại nhà cái 123B. Đừng bỏ lỡ cơ hội tham gia trò chơi xóc đĩa thú vị này và khám phá những niềm vui và thử thách của nó ngay hôm nay! Chúc bạn may mắn và thành công trong hành trình cá độ trực tuyến!\n",
      "Các Chiến Thuật Chơi Xóc Đĩa 123B Cho Tỉ Lệ Thắng Cao Nhất\n",
      "Xóc đĩa là một trò chơi cá độ trực tuyến đơn giản và thú vị, nhưng để có cơ hội giành chiến thắng cao nhất, bạn cần nắm vững các chiến thuật chơi tại nhà cái 123B. Những chiến thuật này giúp bạn nâng cao kỹ năng đánh giá và dự đoán kết quả xúc xắc, từ đó tối ưu hóa cơ hội thắng và tận hưởng trọn vẹn niềm vui của trò chơi xóc đĩa.\n",
      "1. Tìm hiểu về xác suất và tỷ lệ cược\n",
      "Một trong những chiến thuật quan trọng khi chơi xóc đĩa là hiểu rõ về xác suất và tỷ lệ cược. Xác suất là yếu tố ngẫu nhiên ảnh hưởng đến kết quả của trò chơi. Bạn cần phân tích tỷ lệ cược cho từng loại cược và chọn những cược có tỷ lệ thắng cao hơn. Ví dụ, cược gạch có tỷ lệ thắng 1:1, còn cược tổng có tỷ lệ thắng 1:6. Nắm vững tỷ lệ cược sẽ giúp bạn quản lý vốn tốt hơn và tối ưu hóa lợi nhuận.\n",
      "2. Chọn cược cẩn thận\n",
      "Khi chơi xóc đĩa tại 123B, bạn cần chọn cược cẩn thận và cân nhắc các khả năng trước khi đặt cược. Đừng đặt cược quá nhiều vào các cược có tỷ lệ thắng thấp như cược tổng hay cược đuôi nai. Thay vào đó, tập trung vào các cược có tỷ lệ thắng cao hơn như cược gạch hoặc cược xiên. Điều này giúp bạn tăng cơ hội thắng và giảm rủi ro thua.\n",
      "3. Quản lý vốn thông minh\n",
      "Một trong những yếu tố quan trọng khi chơi xóc đĩa là quản lý vốn thông minh. Đặt ra một ngân sách chơi và tuân thủ nó. Tránh đặt cược quá lớn trong một ván chơi, đặc biệt khi bạn đang gặp thất bại liên tiếp. Hãy tập trung vào việc chơi lâu dài và kiên nhẫn đợi cơ hội thắng lớn. Nếu bạn đang gặp may mắn, hãy dành một phần thắng lợi cho ngân sách chơi và chỉ chơi bằng số tiền dư thừa.\n",
      "4. Xem xét lịch sử xóc đĩa\n",
      "Một trong những tiện ích hữu ích khi chơi xóc đĩa tại 123B là lịch sử xóc đĩa. Bạn có thể xem lại các kết quả trước đó để phân tích xu hướng và các mẫu xóc đĩa. Tuy xóc đĩa là trò chơi ngẫu nhiên, nhưng việc phân tích lịch sử có thể giúp bạn đưa ra quyết định đánh cược thông minh hơn.\n",
      "5. Tập trung vào việc học hỏi và cải thiện\n",
      "Không có chiến thuật nào là tuyệt đối trong xóc đĩa, và việc học hỏi từ các kinh nghiệm chơi sẽ giúp bạn cải thiện kỹ năng đánh giá và dự đoán kết quả xóc đĩa. Hãy luôn tìm kiếm kiến thức mới và chia sẻ kinh nghiệm với cộng đồng người chơi khác để trở thành một người chơi xóc đĩa thông thái.\n",
      "Kết luận\n",
      "Chơi xóc đĩa tại 123B không chỉ đòi hỏi may mắn mà còn đòi hỏi sự thông minh và tinh tế trong chiến thuật chơi. Bằng cách nắm vững các chiến thuật chơi xóc đĩa và kết hợp với quản lý vốn tốt, bạn có thể tăng cơ hội thắng lớn và trải nghiệm niềm vui thú vị của trò chơi này. Hãy tham gia 123B ngay hôm nay để khám phá những điều kỳ diệu của xóc đĩa và trải nghiệm không gian cá độ chuyên nghiệp, công bằng và an toàn cùng với những ưu đãi hấp dẫn. Chúc bạn may mắn và thành công trong hành trình cá độ xóc đĩa!\n",
      "Những Chương Trình Khuyến Mãi Hấp Dẫn Khi Chơi Xóc Đĩa tại 123B\n",
      "123B luôn không ngừng mang đến những trải nghiệm cá độ thú vị và hấp dẫn cho người chơi, và một trong những yếu tố làm nên sức hút đó chính là những chương trình khuyến mãi hấp dẫn. Khi tham gia chơi xóc đĩa tại 123B, bạn sẽ được thưởng thức những ưu đãi độc quyền, quà tặng giá trị và cơ hội giành chiến thắng với tỉ lệ cao hơn. Hãy cùng khám phá những chương trình khuyến mãi đặc biệt mà 123B dành riêng cho người chơi xóc đĩa.\n",
      "1. Khuyến Mãi Chào Mừng Đặc Biệt cho Người Chơi Mới\n",
      "Khi bạn là thành viên mới của 123B và tham gia chơi xóc đĩa, bạn sẽ được đón nhận bằng những phần thưởng chào mừng đặc biệt. Nhà cái 123B rất chú trọng đến việc chào đón người chơi mới một cách ấn tượng và giúp họ có một bắt đầu thuận lợi. Thường thì, bạn sẽ được tặng miễn phí tiền thưởng hoặc quyền tham gia vào các sự kiện khuyến mãi độc quyền dành riêng cho người mới. Đây là cơ hội tốt để bạn thử nghiệm trò chơi xóc đĩa và trải nghiệm không gian cá độ tại 123B mà không phải đầu tư quá nhiều.\n",
      "2. Hoàn Trả Tiền Thua - Giữ Vững Vốn Chơi\n",
      "Chơi xóc đĩa tại 123B có thể thách thức và có những rủi ro thua. Tuy nhiên, với chương trình hoàn trả tiền thua, bạn sẽ có cơ hội giữ vững vốn chơi. Nhà cái 123B cam kết hoàn trả một phần số tiền bạn đã thua trong một khoảng thời gian nhất định. Điều này giúp bạn hạn chế rủi ro và tiếp tục tham gia chơi xóc đĩa một cách tự tin và kiên nhẫn hơn.\n",
      "3. Ưu Đãi Thường Xuyên cho Người Chơi Thân Thiết\n",
      "Tại 123B, việc khách hàng trở thành người chơi thân thiết được đặt lên hàng đầu. Bạn sẽ được nhận các ưu đãi thường xuyên và phần thưởng đặc biệt dành riêng cho người chơi thân thiết. Những phần thưởng này có thể là tiền thưởng, quà tặng giá trị hoặc quyền tham gia vào các sự kiện khuyến mãi độc quyền. Điều này giúp bạn cảm nhận sự tri ân từ 123B và càng thúc đẩy đam mê cá độ xóc đĩa.\n",
      "4. Tham Gia Các Giải Đấu Xóc Đĩa Thú Vị\n",
      "123B thường xuyên tổ chức các giải đấu xóc đĩa thú vị với giải thưởng hấp dẫn. Bạn sẽ có cơ hội đối đầu với các người chơi khác và thể hiện tài năng của mình trong việc dự đoán và đánh giá kết quả xóc đĩa. Tham gia các giải đấu này không chỉ mang lại niềm vui cạnh tranh mà còn giúp bạn rèn luyện kỹ năng và cải thiện tỉ lệ thắng.\n",
      "5. Đăng Ký Nhận Thông Báo Khuyến Mãi\n",
      "Để không bỏ lỡ bất kỳ cơ hội khuyến mãi nào, hãy đ\n",
      "Hướng Dẫn Đăng Ký Chơi Xóc Đĩa tại 123B - Bước Đầu Khám Phá Niềm Vui Cá Độ Trực Tuyến\n",
      "Xóc đĩa là một trong những trò chơi phổ biến và thú vị tại nhà cái 123B, nơi bạn có thể trải nghiệm không gian cá độ chuyên nghiệp và cơ hội giành chiến thắng đáng giá. Nếu bạn muốn tham gia vào cuộc hành trình cá độ xóc đĩa tại 123B, hãy cùng theo dõi hướng dẫn đăng ký chơi dưới đây để bắt đầu khám phá niềm vui cá độ trực tuyến.\n",
      "Bước 1: Truy cập Website 123B\n",
      "Để đăng ký chơi xóc đĩa tại 123B, bạn cần truy cập vào trang web chính thức của nhà cái. Hãy sử dụng trình duyệt web trên điện thoại di động hoặc máy tính để truy cập vào địa chỉ trang web của 123B.\n",
      "Bước 2: Chọn Đăng Ký\n",
      "Khi bạn đã truy cập vào trang web 123B, hãy tìm kiếm và chọn tùy chọn \"Đăng Ký\" hoặc \"Đăng Ký Ngay\" để bắt đầu quá trình đăng ký tài khoản cá độ.\n",
      "Bước 3: Điền Thông Tin Cá Nhân\n",
      "Trong giao diện đăng ký, bạn sẽ được yêu cầu điền thông tin cá nhân cơ bản. Hãy nhập các thông tin như tên, ngày sinh, số điện thoại, địa chỉ email, và tạo mật khẩu bảo mật cho tài khoản của bạn. Đảm bảo bạn cung cấp thông tin chính xác và đáng tin cậy để đảm bảo quá trình xác minh sau này diễn ra thuận lợi.\n",
      "Bước 4: Xác Nhận và Hoàn Tất Đăng Ký\n",
      "Sau khi bạn đã điền đầy đủ thông tin cá nhân, hãy xác nhận lại và kiểm tra kỹ trước khi nhấn nút \"Hoàn Tất Đăng Ký\" hoặc \"Đăng Ký Ngay\". Bạn sẽ nhận được một thông báo xác nhận đăng ký thành công.\n",
      "Bước 5: Nạp Tiền vào Tài Khoản\n",
      "Sau khi hoàn tất đăng ký, bạn cần nạp tiền vào tài khoản cá độ của mình để có thể tham gia chơi xóc đĩa. 123B cung cấp nhiều phương thức nạp tiền đa dạng và an toàn như chuyển khoản ngân hàng, ví điện tử, thẻ tín dụng và thẻ ghi nợ.\n",
      "Bước 6: Tận Hưởng Trải Nghiệm Xóc Đĩa tại 123B\n",
      "Sau khi đã nạp tiền thành công, bạn đã sẵn sàng tham gia chơi xóc đĩa tại 123B. Hãy trải nghiệm không gian cá độ chuyên nghiệp và đa dạng với những giao diện chơi thân thiện, đồ họa tinh tế và tính năng cá cược đa dạng. Hãy tận hưởng niềm vui và cảm nhận nhịp đập của trái tim khi quả xúc xắc quay trong trò chơi xóc đĩa tại 123B.\n",
      "Kết Luận\n",
      "Đăng ký chơi xóc đĩa tại 123B là quá trình dễ dàng và thuận tiện. Bạn chỉ cần một vài bước đơn giản để tạo tài khoản cá độ và bắt đầu khám phá niềm vui cá độ trực t\n",
      "Tổng Kết - Khám Phá Niềm Vui Cá Độ Xóc Đĩa tại 123B\n",
      "123B là một trong những nhà cái uy tín và chất lượng hàng đầu trong lĩnh vực cá độ trực tuyến, nơi bạn có thể tận hưởng niềm vui và thử thách bản thân trong trò chơi xóc đĩa hấp dẫn. Với đa dạng các phiên bản xóc đĩa và nền tảng cá độ chuyên nghiệp, 123B mang đến cho người chơi những trải nghiệm đáng nhớ và cơ hội giành chiến thắng với tỉ lệ cao nhất. Hãy cùng tổng kết những điểm nổi bật và đặc biệt của 123B trong việc cung cấp dịch vụ cá độ xóc đĩa chất lượng.\n",
      "1. Đa Dạng Phiên Bản Xóc Đĩa\n",
      "Tại 123B, bạn sẽ có cơ hội trải nghiệm đa dạng các phiên bản xóc đĩa từ nhà cung cấp nổi tiếng. Bạn có thể lựa chọn chơi xóc đĩa trực tuyến với giao diện sống động, hoặc thử sức với xóc đĩa truyền thống. Sự đa dạng này giúp bạn tận hưởng nhiều trải nghiệm khác nhau và lựa chọn phiên bản phù hợp với phong cách cá độ và sở thích riêng của mình.\n",
      "2. Giao Diện Cá Độ Thân Thiện và Tiện Lợi\n",
      "Giao diện cá độ của 123B được thiết kế thân thiện và dễ sử dụng. Ngay cả đối với người chơi mới, việc đăng ký tài khoản và tham gia cá độ xóc đĩa cũng trở nên đơn giản và thuận tiện. Bạn có thể dễ dàng tìm thấy các phiên bản xóc đĩa, cược và các tính năng cá độ quan trọng một cách nhanh chóng.\n",
      "3. Chính Sách Bảo Mật và An Toàn Đảm Bảo\n",
      "123B cam kết bảo vệ thông tin cá nhân và tài khoản của người chơi bằng các chính sách bảo mật và an toàn chặt chẽ. Hệ thống bảo mật tiên tiến giúp ngăn chặn bất kỳ hành vi lừa đảo hoặc truy cập trái phép. Điều này giúp bạn yên tâm và tập trung vào trải nghiệm cá độ xóc đĩa một cách an tâm.\n",
      "4. Chương Trình Khuyến Mãi Hấp Dẫn\n",
      "123B thường xuyên cung cấp những chương trình khuyến mãi hấp dẫn dành cho người chơi xóc đĩa. Từ khuyến mãi chào mừng, hoàn trả tiền thua đến các giải đấu và phần thưởng độc quyền, bạn sẽ luôn được hưởng những ưu đãi giá trị và cơ hội giành chiến thắng với tỉ lệ cao hơn.\n",
      "5. Dịch Vụ Hỗ Trợ Chuyên Nghiệp\n",
      "123B đặt chất lượng dịch vụ và sự hài lòng của khách hàng lên hàng đầu. Đội ngũ hỗ trợ khách hàng chuyên nghiệp và tận tâm sẵn sàng hỗ trợ bạn mọi lúc, mọi nơi. Bất kể bạn gặp khó khăn hay có câu hỏi, họ sẽ giúp bạn giải quyết một cách nhanh chóng và hiệu quả.\n",
      "Kết Luận\n",
      "Với 123B, bạn không chỉ có cơ hội tham gia vào cuộc chơi xóc đĩa trực tuyến tuyệt vời mà còn được trải nghiệm không gian cá độ chuyên nghiệp và chất lượng. Đăng ký chơi xóc đĩa tại 123B ngay hôm nay và hòa mình vào cuộc hành trình sôi động và đầy thử thách của cá độ trực tuyến, hứa hẹn mang đến cho bạn những phút giây vui vẻ và niềm háo hức không ngừng.\n"
     ]
    }
   ],
   "source": [
    "articles = section.find_elements(By.CLASS_NAME,\"bg-gray-50\")\n",
    "for i in articles:\n",
    "    print(i.text)"
   ]
  },
  {
   "cell_type": "code",
   "execution_count": 131,
   "id": "d41fd20c",
   "metadata": {},
   "outputs": [
    {
     "data": {
      "text/plain": [
       "<undetected_chromedriver.webelement.WebElement (session=\"e7e5d5cb3208bd443e2fbc27de63b17f\", element=\"372AC07F8DB093667C64078E993CDE92_element_1087\")>"
      ]
     },
     "execution_count": 131,
     "metadata": {},
     "output_type": "execute_result"
    }
   ],
   "source": [
    "section"
   ]
  },
  {
   "cell_type": "code",
   "execution_count": 139,
   "id": "6b16192a",
   "metadata": {},
   "outputs": [],
   "source": [
    "driver.quit()"
   ]
  },
  {
   "cell_type": "code",
   "execution_count": 98,
   "id": "75f24fa9",
   "metadata": {},
   "outputs": [],
   "source": [
    "from selenium.webdriver.common.keys import Keys\n"
   ]
  },
  {
   "cell_type": "code",
   "execution_count": 50,
   "id": "3e3594fa",
   "metadata": {},
   "outputs": [],
   "source": [
    "driver.quit()"
   ]
  },
  {
   "cell_type": "code",
   "execution_count": 107,
   "id": "0c287f92",
   "metadata": {},
   "outputs": [],
   "source": [
    "scroll_answers()"
   ]
  },
  {
   "cell_type": "code",
   "execution_count": 97,
   "id": "c45d8a84",
   "metadata": {},
   "outputs": [],
   "source": []
  },
  {
   "cell_type": "code",
   "execution_count": 103,
   "id": "de0decf8",
   "metadata": {},
   "outputs": [],
   "source": []
  },
  {
   "cell_type": "code",
   "execution_count": null,
   "id": "1d8004ed",
   "metadata": {},
   "outputs": [],
   "source": []
  },
  {
   "cell_type": "code",
   "execution_count": 71,
   "id": "04570723",
   "metadata": {},
   "outputs": [],
   "source": [
    "#Selenium fill in password\n",
    "password_field = driver.find_element(By.ID,'password')\n",
    "password_field.send_keys(password)\n",
    "time.sleep(2)"
   ]
  },
  {
   "cell_type": "code",
   "execution_count": 72,
   "id": "721b2af2",
   "metadata": {},
   "outputs": [],
   "source": [
    "#Selenium click on login button\n",
    "#ID= prompt-textarea\n",
    "prompt = \"Hellow world\"\n",
    "prompt_field = driver.find_element(By.ID,'prompt-textarea')\n",
    "prompt_field.send_keys(prompt)\n",
    "time.sleep(3)"
   ]
  },
  {
   "cell_type": "code",
   "execution_count": 73,
   "id": "bd1911e3",
   "metadata": {},
   "outputs": [],
   "source": [
    "#Get content of jobs page\n",
    "job_url = 'https://www.linkedin.com/jobs/'\n",
    "driver.get(job_url)\n",
    "time.sleep(10)"
   ]
  },
  {
   "cell_type": "code",
   "execution_count": 74,
   "id": "e1cbd53a",
   "metadata": {},
   "outputs": [],
   "source": [
    "#Fill in search box for job\n",
    "location_input_search_field = driver.find_element(By.CLASS_NAME,'jobs-search-box__text-input')\n",
    "location_input_search_field.clear()\n",
    "seach_field.click()\n",
    "location_input_search_field.send_keys('data analyst')"
   ]
  },
  {
   "cell_type": "code",
   "execution_count": 76,
   "id": "ee7aba19",
   "metadata": {},
   "outputs": [],
   "source": [
    "#Fill in search box for location\n",
    "seach_field = driver.find_element(By.XPATH,\"//input[contains(@aria-label, 'City, state, or zip code')]\")\n",
    "seach_field.click()\n",
    "time.sleep(5)\n",
    "seach_field.clear()\n",
    "seach_field.send_keys('Germany')"
   ]
  },
  {
   "cell_type": "code",
   "execution_count": 77,
   "id": "919d18d9",
   "metadata": {},
   "outputs": [],
   "source": [
    "#Submit form to get the result\n",
    "seach_field.send_keys(Keys.RETURN)\n"
   ]
  },
  {
   "cell_type": "code",
   "execution_count": 87,
   "id": "e20c30d8",
   "metadata": {},
   "outputs": [],
   "source": [
    "#Function to smoothly scroll down the job list\n",
    "def scroll_job_list():\n",
    "    element = driver.find_element(By.XPATH,\"/html/body/div[6]/div[3]/div[4]/div/div/main/div/section[1]/div/footer/div/div[1]\")\n",
    "    number = 0\n",
    "    while number < 10:\n",
    "        driver.execute_script(\"arguments[0].scrollIntoView({ behavior: 'smooth', block: 'end', inline: 'start' });\",element)\n",
    "        time.sleep(1)\n",
    "        number +=1"
   ]
  },
  {
   "cell_type": "code",
   "execution_count": 88,
   "id": "d7d0867a",
   "metadata": {},
   "outputs": [],
   "source": [
    "#Once all jobs on list display, crappe all the  job url\n",
    "def get_job_urls():\n",
    "    page_source = BeautifulSoup(driver.page_source,'html.parser')\n",
    "    job_ads = page_source.find_all('a',class_ = 'job-card-list__title')\n",
    "    for url in job_ads:\n",
    "        job_path = url.get('href')\n",
    "        job_url = 'https://www.linkedin.com' + job_path\n",
    "        if job_url not in job_urls:\n",
    "            job_urls.append(job_url)\n",
    "\n",
    "\n"
   ]
  },
  {
   "cell_type": "code",
   "execution_count": null,
   "id": "2ee6d9d5",
   "metadata": {},
   "outputs": [],
   "source": [
    "number_of_page = 40\n",
    "job_urls = []\n",
    "for page in range(1,number_of_page + 1):\n",
    "    try:\n",
    "        print(page)\n",
    "        button = driver.find_element(By.XPATH,\"//button//*[contains(., \"+str(page)+\")]/..\")\n",
    "        button.click()\n",
    "        time.sleep(10)\n",
    "        scroll_job_list()\n",
    "        time.sleep(7)\n",
    "        get_job_urls()\n",
    "        print(\"found {} jobs after page {}\".format(len(job_urls),page))\n",
    "    except NoSuchElementException:\n",
    "        button2 = driver.find_element(By.XPATH,\"//button//*[contains(., '…')]/..\")\n",
    "        button2.click()\n",
    "    except ElementClickInterceptedException:\n",
    "        element = driver.-find_element(By.XPATH,\"//button//*[contains(., \"+str(page)+\")]/..\")\n",
    "        driver.execute_script(\"arguments[0].click();\", element)\n"
   ]
  },
  {
   "cell_type": "code",
   "execution_count": null,
   "id": "5331472d",
   "metadata": {},
   "outputs": [],
   "source": [
    "#Save all job urls to txt file for later use\n",
    "with open(\"file.txt\", \"w\") as output:\n",
    "    output.write(str(job_urls))"
   ]
  },
  {
   "cell_type": "code",
   "execution_count": null,
   "id": "b14ef1d0",
   "metadata": {},
   "outputs": [],
   "source": []
  }
 ],
 "metadata": {
  "kernelspec": {
   "display_name": "Python 3 (ipykernel)",
   "language": "python",
   "name": "python3"
  },
  "language_info": {
   "codemirror_mode": {
    "name": "ipython",
    "version": 3
   },
   "file_extension": ".py",
   "mimetype": "text/x-python",
   "name": "python",
   "nbconvert_exporter": "python",
   "pygments_lexer": "ipython3",
   "version": "3.9.12"
  }
 },
 "nbformat": 4,
 "nbformat_minor": 5
}
