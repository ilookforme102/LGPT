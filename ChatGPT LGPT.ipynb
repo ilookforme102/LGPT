{
 "cells": [
  {
   "cell_type": "code",
   "execution_count": 2,
   "id": "9deac218",
   "metadata": {},
   "outputs": [],
   "source": [
    "#In this file, the whole process of scrapinng 1000 job posts url from LinkedIn\n",
    "#and craping all the necessary data related to content of each job post\n",
    "\n",
    "from selenium import webdriver \n",
    "from selenium.webdriver.common.keys import Keys\n",
    "from selenium.common.exceptions import NoSuchElementException,ElementClickInterceptedException\n",
    "from retry import retry\n",
    "import pandas as pd\n",
    "import os\n",
    "from selenium.common.exceptions import TimeoutException\n",
    "import csv"
   ]
  },
  {
   "cell_type": "code",
   "execution_count": 3,
   "id": "6b63f215",
   "metadata": {},
   "outputs": [],
   "source": [
    "import time\n",
    "import undetected_chromedriver as uc"
   ]
  },
  {
   "cell_type": "code",
   "execution_count": 4,
   "id": "d04a8a3b",
   "metadata": {},
   "outputs": [],
   "source": [
    "from bs4 import BeautifulSoup"
   ]
  },
  {
   "cell_type": "code",
   "execution_count": 5,
   "id": "6e8821db",
   "metadata": {},
   "outputs": [],
   "source": [
    "from selenium.webdriver.common.by import By\n"
   ]
  },
  {
   "cell_type": "code",
   "execution_count": 6,
   "id": "da83eda7",
   "metadata": {},
   "outputs": [],
   "source": [
    "#Setup Username and password of your LinkedIn\n",
    "username = 'sang.ckh@gmail.com'\n",
    "password ='BBz30002'"
   ]
  },
  {
   "cell_type": "code",
   "execution_count": 7,
   "id": "42ecbb2f",
   "metadata": {},
   "outputs": [],
   "source": [
    "uc.TARGET_VERSION = 115\n",
    "\n"
   ]
  },
  {
   "cell_type": "code",
   "execution_count": 8,
   "id": "77c85b4e",
   "metadata": {},
   "outputs": [
    {
     "name": "stderr",
     "output_type": "stream",
     "text": [
      "C:\\Users\\Administrator\\AppData\\Local\\Temp\\ipykernel_10344\\3006500108.py:3: DeprecationWarning: headless property is deprecated, instead use add_argument('--headless') or add_argument('--headless=new')\n",
      "  options.headless = True\n"
     ]
    }
   ],
   "source": [
    "options = uc.ChromeOptions() \n",
    " \n",
    "options.headless = True \n",
    "driver = uc.Chrome()\n"
   ]
  },
  {
   "cell_type": "code",
   "execution_count": 9,
   "id": "a445dcd0",
   "metadata": {},
   "outputs": [],
   "source": [
    "driver.get(\"https://chat.openai.com/\") \n",
    "time.sleep(20)"
   ]
  },
  {
   "cell_type": "code",
   "execution_count": 11,
   "id": "2bc5eccd",
   "metadata": {},
   "outputs": [],
   "source": [
    "driver.maximize_window() \n",
    "#time.sleep(20) \n",
    "#driver.save_screenshot(\"datacamp.png\") \n",
    "#driver.close()"
   ]
  },
  {
   "cell_type": "code",
   "execution_count": 12,
   "id": "c4016d96",
   "metadata": {},
   "outputs": [],
   "source": [
    "login_button = driver.find_element(By.TAG_NAME,'button')"
   ]
  },
  {
   "cell_type": "code",
   "execution_count": 13,
   "id": "a7fcc554",
   "metadata": {},
   "outputs": [],
   "source": [
    "login_button.click()"
   ]
  },
  {
   "cell_type": "code",
   "execution_count": null,
   "id": "dcb04d9b",
   "metadata": {},
   "outputs": [],
   "source": []
  },
  {
   "cell_type": "code",
   "execution_count": 14,
   "id": "7799fb99",
   "metadata": {},
   "outputs": [],
   "source": [
    "username_field = driver.find_element(By.ID,'username')"
   ]
  },
  {
   "cell_type": "code",
   "execution_count": 15,
   "id": "23b40323",
   "metadata": {},
   "outputs": [],
   "source": [
    "username_field.send_keys(username)\n"
   ]
  },
  {
   "cell_type": "code",
   "execution_count": 16,
   "id": "3da1c185",
   "metadata": {},
   "outputs": [],
   "source": [
    "continue_button = driver.find_element(By.TAG_NAME,'button')"
   ]
  },
  {
   "cell_type": "code",
   "execution_count": 17,
   "id": "3f0a79fb",
   "metadata": {},
   "outputs": [],
   "source": [
    "continue_button.click()"
   ]
  },
  {
   "cell_type": "code",
   "execution_count": 18,
   "id": "f24e2124",
   "metadata": {},
   "outputs": [],
   "source": [
    "password_field = driver.find_element(By.ID,'password')"
   ]
  },
  {
   "cell_type": "code",
   "execution_count": 19,
   "id": "ecf5e479",
   "metadata": {},
   "outputs": [],
   "source": [
    "password_field.send_keys(password)"
   ]
  },
  {
   "cell_type": "code",
   "execution_count": 20,
   "id": "a99c0543",
   "metadata": {},
   "outputs": [],
   "source": [
    "#continue_button2= driver.find_element(By.CSS_SELECTOR,'body > div > main > section > div > div > div > form > div.c5cafd14f > button')\n"
   ]
  },
  {
   "cell_type": "code",
   "execution_count": 21,
   "id": "a7dc8f0d",
   "metadata": {},
   "outputs": [],
   "source": [
    "#<button class=\"btn relative btn-neutral ml-auto\" as=\"button\"><div class=\"flex w-full gap-2 items-center justify-center\">Next</div></button>"
   ]
  },
  {
   "cell_type": "code",
   "execution_count": 22,
   "id": "bda55fd8",
   "metadata": {},
   "outputs": [],
   "source": [
    "btn =  driver.find_element(By.TAG_NAME,'button')\n",
    "\n"
   ]
  },
  {
   "cell_type": "code",
   "execution_count": 23,
   "id": "702c12a7",
   "metadata": {},
   "outputs": [],
   "source": [
    "#btn2 =  driver.find_element(By.CSS_SELECTOR,'#radix-\\:rd\\: > div.p-4.sm\\:p-6.sm\\:pt-4 > div.prose.dark\\:prose-invert > div.flex.gap-4.mt-6 > button > div')\n"
   ]
  },
  {
   "cell_type": "code",
   "execution_count": 24,
   "id": "153f241d",
   "metadata": {},
   "outputs": [],
   "source": [
    "driver.execute_script (\"arguments[0].click();\",btn)\n",
    "time.sleep(20)"
   ]
  },
  {
   "cell_type": "code",
   "execution_count": 25,
   "id": "ffaf47de",
   "metadata": {},
   "outputs": [],
   "source": [
    "next1 =  driver.find_element(By.XPATH,'//*[@id=\"radix-:re:\"]/div[2]/div[1]/div[2]/button')\n",
    "next1.click()\n",
    "time.sleep(10)"
   ]
  },
  {
   "cell_type": "code",
   "execution_count": 167,
   "id": "f63ecbba",
   "metadata": {},
   "outputs": [],
   "source": []
  },
  {
   "cell_type": "code",
   "execution_count": null,
   "id": "e6bc367d",
   "metadata": {},
   "outputs": [],
   "source": [
    "#//*[@id=\"radix-:re:\"]/div[2]/div[1]/div[2]/button[2]"
   ]
  },
  {
   "cell_type": "code",
   "execution_count": 26,
   "id": "3f12b6c6",
   "metadata": {},
   "outputs": [],
   "source": [
    "next2 =  driver.find_element(By.XPATH,'//*[@id=\"radix-:re:\"]/div[2]/div[1]/div[2]/button[2]')\n",
    "next2.click()\n",
    "time.sleep(10)"
   ]
  },
  {
   "cell_type": "code",
   "execution_count": 169,
   "id": "e587aec6",
   "metadata": {},
   "outputs": [],
   "source": []
  },
  {
   "cell_type": "code",
   "execution_count": 170,
   "id": "57ad401b",
   "metadata": {},
   "outputs": [],
   "source": [
    "#//*[@id=\"radix-:re:\"]/div[2]/div[1]/div[2]/button[2]"
   ]
  },
  {
   "cell_type": "code",
   "execution_count": 27,
   "id": "571ea405",
   "metadata": {},
   "outputs": [],
   "source": [
    "done1 =  driver.find_element(By.XPATH,'//*[@id=\"radix-:re:\"]/div[2]/div[1]/div[2]/button[2]')\n",
    "done1.click()\n",
    "time.sleep(10)"
   ]
  },
  {
   "cell_type": "code",
   "execution_count": 140,
   "id": "d62f2146",
   "metadata": {},
   "outputs": [],
   "source": [
    "\n",
    "outline_home_7ball= [\n",
    "\"Tổng quan về nhà cái 7ball( bao gồm lịch sử hình thành, giấy phép, cơ sở hoạt động và các sự kiện gần nhất)\",\n",
    "\"Ưu điểm của 7ball (bao gồm Giao diện đẹp mắt,Nạp rút dễ dàng và bảo mật,hỗ trợ đa nền tảng,dịch vụ chăm sóc khách hàng,Giấy phép hoạt động hợp pháp,Tốc độ trả thưởng nhanh)\",\n",
    "\"Thủ tục đăng ký 7ball\",\n",
    "\"Hướng dẫn đăng nhập 7ball\",\n",
    "\"Hướng dẫn nạp tiền 7ball qua các phương thức như chuyển khoản, môm, zalo, viettel, ebanking, thẻ cào điện thoại\",\n",
    "\"Hướng dẫn rút tiền trên 7ball\", \n",
    "\"Hướng dẫn chi tiết tải app 7ball trên pc\",\n",
    "\"Tải app 7ball trên điện thoại\",\n",
    "\"Tải app 7ball trên máy tính bảng\",\n",
    "\"Tải app 7ball trên điện thoại\",\n",
    "\"Cách link vào nhà cái 7ball, link chính thức vào 7ball\",\n",
    "\"Giới thiệu các trò chơi nổi bật của nhà cái 7ball\",\n",
    "\"Cá độ thể thao tại nhà cái 7ball\",\n",
    "\"Game bài casino tại 7ball\",\n",
    "\"Dự đoán xổ số tại 7ball\",\n",
    "\"Game bắn cá tại 7ball\",\n",
    "\"Game nổ hũ tại 7ball\",\n",
    "\"Game bài tại nhà cái 7ball\",\n",
    "\"Cá độ thể thao điện tử tại nhà cái 7ball\",\n",
    "\"Các chương trình khuyến mãi tại nhà cái 7ball\",\n",
    "\"Khuyến mãi dành cho tân thủ, thành viên mới\",\n",
    "\"Khuyến mãi đặc quyền VIP\",\n",
    "\"Khuyến mãi hoàn trả\",\n",
    "\"Khuyến mãi khi giới thiệu bạn bè\",\n",
    "\"Khuyến mãi khi chia sẻ Facebook\",\n",
    "\"Giải đáp những câu hỏi liên quan đến nhà cái 7ball\",\n",
    "\"Tổng kết về nhà cái 7ball\"\n",
    "]\n",
    "brand = \"7ball\"\n",
    "keyword = \"nhà cái 7ball\"\n",
    "title = \"nhà cái 7ball\"\n"
   ]
  },
  {
   "cell_type": "code",
   "execution_count": 134,
   "id": "3d3a65b2",
   "metadata": {},
   "outputs": [],
   "source": [
    "outline_home_789win= [\n",
    "\"Tổng quan về nhà cái 789win( bao gồm lịch sử phát triển, mục tiêu phát triển )\",\n",
    "\"Ưu điểm của 789win (bao gồm Giao diện đẹp mắt,Nạp rút dễ dàng và bảo mật,hỗ trợ đa nền tảng,dịch vụ chăm sóc khách hàng,Giấy phép hoạt động hợp pháp,Tốc độ trả thưởng nhanh)\",\n",
    "\"Đặc điểm nổi bật nhà cái 789win\",\n",
    "\"Sự uy tín của thương hiệu 789win\",\n",
    "\"Giấy phép hoạt động đầy đủ\",\n",
    "\"Tính trung thực của nhà cái 789win\",\n",
    "\"Giao diện 789win đẹp mắt, dễ sử dụng\",\n",
    "\"Đa dạng trò chơi từ nhà cung cấp nổi tiếng\",\n",
    "\"Cổng game 789win hấp dẫn, âm thanh sống động\",\n",
    "\"Cổng game công bằng, minh bạch\",\n",
    "\"Bảo mật tuyệt đối\",\n",
    "\"Hướng dẫn cách sử dụng 789win casino (tải app, đăng ký, đăng nhập, nạp tiền, rút tiền, tham gia khuyến mãi)\", \n",
    "\"Hướng dẫn tải app 789win (cho từng hệ điều hành cụ thể: iOS, Android)\",\n",
    "\"Hướng dẫn đăng ký 789win\",\n",
    "\"Hướng dẫn đăng nhập 789win\",   \n",
    "\"Hướng dẫn nạp tiền 789win qua các phương thức như chuyển khoản, Momo, Zalo Pay, Viettel Pay, eBanking, thẻ cào điện thoại\",\n",
    "\"Hướng dẫn rút tiền 789win\", \n",
    "\"Hướng dẫn tham gia khuyến mãi\",\n",
    "\"Giới thiệu các trò chơi của nhà cái 789win\",\n",
    "\"Kho game bài đổi thưởng 789win \",\n",
    "\"Xóc dĩa\",\n",
    "\"Tiến Lên Miền Nam\",\n",
    "\"Sâm lốc\",\n",
    "\"Poker\",    \n",
    "\"Cá cược thể thao 789win\",\n",
    "\"Game nổ hũ\",\n",
    "\"Bắn cá\",\n",
    "\"Game bài\",\n",
    "\"Cá cược thể thao\",\n",
    "\"Live casino\",\n",
    "\"Game đá gà\",\n",
    "\"Cá cược xổ số\",\n",
    "\"Những chương trình khuyến mãi siêu hot chỉ có tại 789win casino\",\n",
    "\"Gói chào mừng cho người chơi mới tại 789win\",\n",
    "\"Khuyến mãi nạp tiền và hoàn trả cổng game 789win\",\n",
    "\"Giải đấu và giải thưởng đặc biệt tại 789win\",\n",
    "\"Các chương trình đặc quyền VIP dành cho thành viên tại 789win\",\n",
    "\"Code miễn phí trải nghiệm\",\n",
    "\"Sự kiện hàng tuần\",\n",
    "\"Sự kiện may mắn\",\n",
    "\"Cơ hội hợp tác đại lý với nhà cái 789win\",\n",
    "\"Bài viết dạng Q&A :Một số câu hỏi thường gặp về 789win casino \\\n",
    "(Đăng ký 789win có mất phí không? 789win có hỗ trợ khách hàng không?,Chơi game 789win có vi phạm pháp luật không?,\\\n",
    "789win có giới hạn độ tuổi tham gia không?, Thông tin 789win bảo trì có đúng không?\\\n",
    "Tại sao không vào được 789win? các trò chơi của 789win được nhà cung cấp nào hợp tác?)\",\n",
    "\"Tại sao 789win lại ngày càng phát triển mạnh như vậy\",\n",
    "\"15 câu đánh giá của người dùng về dịch vụ của 789win\",\n",
    "\"Tổng kết về 789win\"\n",
    "]\n",
    "brand = \"789win\"\n",
    "keyword = \"nhà cái 789win\"\n",
    "title = \"789Win site | TRANG 789win CHÍNH THỨC 2023 | KHUYẾN MÃI VIP\""
   ]
  },
  {
   "cell_type": "code",
   "execution_count": null,
   "id": "5c1d874e",
   "metadata": {},
   "outputs": [],
   "source": []
  },
  {
   "cell_type": "code",
   "execution_count": null,
   "id": "486b77a1",
   "metadata": {},
   "outputs": [],
   "source": [
    "'''outline= [\n",
    "\"Giới thiệu tổng quan nhà cái 123B\",\n",
    "\"Giới thiệu về lợi ích của việc rút tiền từ nhà cái 123B\",\n",
    "\"Các quy định về việc rút tiền 123B\",\n",
    "\"Quy trình rút tiền 123B\",\n",
    "\"Ưu điểm của dịch vụ rút tiền 123B\",\n",
    "\"Các phương thức rút tiền trên 123B\", \n",
    "\"Các câu hỏi thường gặp về rút tiền 123B\",\n",
    "\"Những lưu ý khi rút tiền 123B\",\n",
    "\"Tổng kết dịch vụ rút tiền 123B\",\n",
    "    \n",
    "]\n",
    "brand = \"123B\"\n",
    "keyword = \"rút tiền 123B\"\n",
    "title = \"dịch vụ rút tiền tại nhà cái 123B\" '''"
   ]
  },
  {
   "cell_type": "code",
   "execution_count": 28,
   "id": "cd1db418",
   "metadata": {},
   "outputs": [],
   "source": [
    "outline_thể_thao_abc_gp = [\n",
    "\"Tổng quan về nhà cái ABC\",\n",
    "\"Giới thiệu về sảnh cá cược thể thao tại ABC\",\n",
    "\"Khuyến mãi và ưu đãi hấp dẫn tại sảnh cá cược thể thao ABC\",\n",
    "\"Nhận xét chung về sảnh thể thao ABC\",    \n",
    "]   \n",
    "brand = \"ABC\"\n",
    "keyword = \"thể thao ABC\"\n",
    " \n"
   ]
  },
  {
   "cell_type": "code",
   "execution_count": 34,
   "id": "9c19235d",
   "metadata": {},
   "outputs": [],
   "source": [
    "outline_bắn_cá_abc_gp = [\n",
    "\"Giới thiệu về game bắn cá ABC\",\n",
    "\"Các trò chơi bắn cá hấp dẫn nhất tại sảnh bắn cá ABC\",\n",
    "\"Chiến thuật khi chơi bắn cá ABC ắn tiền khủng\",\n",
    "\"Tổng kết\"\n",
    "]\n",
    "brand = \"ABC\"\n",
    "keyword = \"bắn cá ABC\"\n"
   ]
  },
  {
   "cell_type": "code",
   "execution_count": 38,
   "id": "ce450d96",
   "metadata": {},
   "outputs": [],
   "source": [
    "outline_casino_abc_gp = [\n",
    "\"Giới thiệu về casino ABC\",\n",
    "\"Những trò chơi casino ABC hấp dẫn\",\n",
    "\"Chiến thuật khi chơi casino ABC\",\n",
    "\"Nhận xét chung về casino ABC\"\n",
    "]\n",
    "brand = \"ABC\"\n",
    "keyword = \"casino ABC\""
   ]
  },
  {
   "cell_type": "code",
   "execution_count": null,
   "id": "b4e13065",
   "metadata": {},
   "outputs": [],
   "source": [
    "outline_lô_đề_abc_gp = [\n",
    "\"Giới thiệu về game bắn cá ABC\",\n",
    "\"Các trò chơi bắn cá hấp dẫn nhất tại sảnh bắn cá ABC\",\n",
    "\"Chiến thuật khi chơi bắn cá ABC ắn tiền khủng\",\n",
    "\"Tổng kết\"\n",
    "]\n",
    "brand = \"ABC\"\n",
    "keyword = \"bắn cá ABC\""
   ]
  },
  {
   "cell_type": "code",
   "execution_count": 43,
   "id": "78a137d4",
   "metadata": {},
   "outputs": [],
   "source": [
    "outline_khuyến_mãi_abc_gp = [\n",
    "\"Giới thiệu tổng quan nhà cái ABC và khuyến mãi ABC\",\n",
    "\"Các chương trình khuyến mãi ABC\",\n",
    "\"Cách thức tham gia và nhận khuyến mãi ABC\",\n",
    "\"Tổng kết\"\n",
    "]\n",
    "brand = \"ABC\"\n",
    "keyword = \"khuyến mãi ABC\""
   ]
  },
  {
   "cell_type": "code",
   "execution_count": 46,
   "id": "e9c336e2",
   "metadata": {},
   "outputs": [],
   "source": [
    "outline_lô_đề_abc_gp = [\n",
    "\"Giới thiệu tổng quan về nhà cái ABC và dịch vụ lô đề ABC\",\n",
    "\"Hình thức và cách thức tham gia lô ABC\",\n",
    "\"Kinh nghiệm và chiến lược chơi lô đề  ABC\",\n",
    "\"Tổng kết\"\n",
    "]\n",
    "brand = \"ABC\"\n",
    "keyword = \"lô đề ABC\""
   ]
  },
  {
   "cell_type": "code",
   "execution_count": 29,
   "id": "f8f86598",
   "metadata": {},
   "outputs": [],
   "source": [
    "prompts_thể_thao_abc_gp = []\n",
    "for i in outline_thể_thao_abc_gp:\n",
    "    prompt = '''Bạn là một chuyên gia về viết nội dung cho các website cá độ, đồng thời bạn cũng am hiểu về lĩnh vực cá độ trực tuyến.Hãy viết một bài viết về nói về {}. Bài viết đó phải chứa từ khóa \"{}\" và từ khóa phải xuất hiện ít nhất một lần và nội dung bài viết phải liên quan đến thương hiệu {}. Hãy đảm bảo rằng dung bài viết không ngắn hơn 400 chữ'''.format(i,keyword,brand)\n",
    "    prompts_thể_thao_abc_gp.append(prompt)"
   ]
  },
  {
   "cell_type": "code",
   "execution_count": 35,
   "id": "c9af18aa",
   "metadata": {},
   "outputs": [],
   "source": [
    "prompts_bắn_cá_abc_gp = []\n",
    "for i in outline_bắn_cá_abc_gp:\n",
    "    prompt = '''Bạn là một chuyên gia về viết nội dung cho các website cá độ, đồng thời bạn cũng am hiểu về lĩnh vực cá độ trực tuyến.Hãy viết một bài viết về nói về {}. Bài viết đó phải chứa từ khóa \"{}\" và từ khóa phải xuất hiện ít nhất một lần và nội dung bài viết phải liên quan đến thương hiệu {}. Hãy đảm bảo rằng dung bài viết không ngắn hơn 400 chữ'''.format(i,keyword,brand)\n",
    "    prompts_bắn_cá_abc_gp.append(prompt)"
   ]
  },
  {
   "cell_type": "code",
   "execution_count": 39,
   "id": "9d25d21c",
   "metadata": {},
   "outputs": [],
   "source": [
    "prompts_casino_abc_gp = []\n",
    "for i in outline_casino_abc_gp:\n",
    "    prompt = '''Bạn là một chuyên gia về viết nội dung cho các website cá độ, đồng thời bạn cũng am hiểu về lĩnh vực cá độ trực tuyến.Hãy viết một bài viết về nói về {}. Bài viết đó phải chứa từ khóa \"{}\" và từ khóa phải xuất hiện ít nhất một lần và nội dung bài viết phải liên quan đến thương hiệu {}. Hãy đảm bảo rằng dung bài viết không ngắn hơn 400 chữ'''.format(i,keyword,brand)\n",
    "    prompts_casino_abc_gp.append(prompt)"
   ]
  },
  {
   "cell_type": "code",
   "execution_count": 44,
   "id": "10d6a6dc",
   "metadata": {},
   "outputs": [],
   "source": [
    "prompts_khuyến_mãi_abc_gp = []\n",
    "for i in outline_khuyến_mãi_abc_gp:\n",
    "    prompt = '''Bạn là một chuyên gia về viết nội dung cho các website cá độ, đồng thời bạn cũng am hiểu về lĩnh vực cá độ trực tuyến.Hãy viết một bài viết về nói về {}. Bài viết đó phải chứa từ khóa \"{}\" và từ khóa phải xuất hiện ít nhất một lần và nội dung bài viết phải liên quan đến thương hiệu {}. Hãy đảm bảo rằng dung bài viết không ngắn hơn 400 chữ'''.format(i,keyword,brand)\n",
    "    prompts_khuyến_mãi_abc_gp.append(prompt)"
   ]
  },
  {
   "cell_type": "code",
   "execution_count": 116,
   "id": "6f002234",
   "metadata": {},
   "outputs": [],
   "source": [
    "prompts_lô_đề_abc_gp = []\n",
    "for i in outline_lô_đề_abc_gp:\n",
    "    prompt = \"Bạn là một chuyên gia về viết nội dung cho các website cá độ, đồng thời bạn cũng am hiểu về lĩnh vực cá độ trực tuyến.\\\n",
    "Hãy viết một bài viết về nói về {}. Bài viết đó phải chứa từ khóa {}\\\n",
    "và từ khóa phải xuất hiện ít nhất một lần và nội dung bài viết phải liên quan đến thương hiệu {}.\\\n",
    "Hãy sử dụng cấu trúc câu đa dạng, tránh trùng lặp.\\\n",
    "Hãy đảm bảo rằng dung bài viết không ngắn hơn 400 chữ.\\\n",
    "Giọng điệu vui tươi, tích cực. Nội dung phải đáp ứng được các tiêu chuẩn của SEO.\\\n",
    "Bài viết phải được phân chia ý theo các mục một cách rõ ràng.\".format(i,keyword,brand)\n",
    "    prompts_lô_đề_abc_gp.append(prompt)"
   ]
  },
  {
   "cell_type": "code",
   "execution_count": 127,
   "id": "c6bbe68e",
   "metadata": {},
   "outputs": [],
   "source": [
    "prompts_home_789win = []\n",
    "for i in outline_home_789win:\n",
    "    prompt = \"Bạn là một chuyên gia về viết nội dung cho các website cá độ, đồng thời bạn cũng am hiểu về lĩnh vực cá độ trực tuyến.\\\n",
    " Hãy viết một bài viết về nói về {}. Bài viết đó phải chứa từ khóa {}\\\n",
    " và từ khóa phải xuất hiện ít nhất một lần và nội dung bài viết phải liên quan đến thương hiệu {}.\\\n",
    " Hãy sử dụng cấu trúc câu đa dạng, tránh trùng lặp.\\\n",
    " Hãy đảm bảo rằng dung bài viết không ngắn hơn 400 chữ.\\\n",
    " Giọng điệu chuyên nghiệp, tích cực. Nội dung phải đáp ứng được các tiêu chuẩn của SEO.\\\n",
    " Bài viết phải được phân chia ý theo các mục một cách rõ ràng.\".format(i,keyword,brand)\n",
    "    prompts_home_789win.append(prompt)"
   ]
  },
  {
   "cell_type": "code",
   "execution_count": 128,
   "id": "6b33516f",
   "metadata": {},
   "outputs": [
    {
     "name": "stdout",
     "output_type": "stream",
     "text": [
      "Bạn là một chuyên gia về viết nội dung cho các website cá độ, đồng thời bạn cũng am hiểu về lĩnh vực cá độ trực tuyến. Hãy viết một bài viết về nói về Tổng quan về nhà cái 789win( bao gồm lịch sử phát triển, mục tiêu phát triển ). Bài viết đó phải chứa từ khóa nhà cái 789win và từ khóa phải xuất hiện ít nhất một lần và nội dung bài viết phải liên quan đến thương hiệu 789win. Hãy sử dụng cấu trúc câu đa dạng, tránh trùng lặp. Hãy đảm bảo rằng dung bài viết không ngắn hơn 400 chữ. Giọng điệu chuyên nghiệp, tích cực. Nội dung phải đáp ứng được các tiêu chuẩn của SEO. Bài viết phải được phân chia ý theo các mục một cách rõ ràng.\n"
     ]
    }
   ],
   "source": [
    "print(prompts_home_789win[0])"
   ]
  },
  {
   "cell_type": "code",
   "execution_count": 135,
   "id": "123cac66",
   "metadata": {},
   "outputs": [
    {
     "name": "stdout",
     "output_type": "stream",
     "text": [
      "\n",
      " Tổng quan về nhà cái 789win( bao gồm lịch sử phát triển, mục tiêu phát triển ) \n",
      " _______________________________________________\n",
      "Tổng quan về nhà cái 789win: Lịch sử phát triển và Mục tiêu phát triển\n",
      "Nhắc đến lĩnh vực cá độ trực tuyến, không thể bỏ qua những thương hiệu uy tín và đáng tin cậy như nhà cái 789win. Với hơn một thập kỷ hoạt động trong ngành giải trí trực tuyến, 789win đã không ngừng phát triển và tạo dựng được lòng tin từ cộng đồng người chơi. Hãy cùng điểm qua lịch sử phát triển và mục tiêu phát triển của nhà cái này.\n",
      "Lịch sử phát triển:\n",
      "789win được thành lập vào năm [năm thành lập], đánh dấu bước đầu tiên trong hành trình chinh phục thị trường cá độ trực tuyến. Từ những ngày đầu, 789win đã dành sự chú trọng đặc biệt vào việc xây dựng nền tảng công nghệ vững chắc và đội ngũ chuyên nghiệp, nhằm mang đến trải nghiệm chơi cá cược trực tuyến hoàn hảo cho người dùng.\n",
      "Không chỉ dừng lại ở việc cung cấp các trò chơi cá cược đa dạng như bóng đá, bóng rổ, casino trực tuyến, xổ số và nhiều trò chơi hấp dẫn khác, 789win còn đầu tư mạnh mẽ vào việc nâng cao chất lượng dịch vụ và tạo dựng hình ảnh thương hiệu chuyên nghiệp và đáng tin cậy trong lòng người chơi.\n",
      "Mục tiêu phát triển:\n",
      "Mục tiêu chính của 789win luôn hướng đến việc trở thành một trong những nhà cái hàng đầu trên thị trường cá độ trực tuyến. Điều này không chỉ đòi hỏi việc nâng cao chất lượng dịch vụ, mở rộng danh mục sản phẩm và đảm bảo tính bảo mật, công bằng trong mỗi trận đấu mà còn cần phải tạo dựng mối quan hệ tin cậy và lâu dài với khách hàng.\n",
      "789win không chỉ đơn thuần là nơi cá cược, mà còn là một cộng đồng thú vị cho những người yêu thích trải nghiệm giải trí trực tuyến. Với tôn chỉ \"Khách hàng là trên hết\", 789win không ngừng lắng nghe ý kiến phản hồi của người dùng để cải tiến và nâng cao chất lượng dịch vụ, từ đó đáp ứng tốt hơn nhu cầu và sở thích của đối tượng mục tiêu.\n",
      "Với những cam kết không ngừng cải tiến và phục vụ tận tâm, 789win ngày càng khẳng định vị thế của mình trong lòng cộng đồng người chơi cá độ trực tuyến. Nếu bạn đang tìm kiếm một sân chơi thú vị và đáng tin cậy, hãy cùng tham gia vào thế giới giải trí tuyệt vời tại nhà cái 789win.\n",
      "Trên đây là tổng quan về nhà cái 789win, bao gồm lịch sử phát triển và mục tiêu phát triển của thương hiệu này. Với chất lượng dịch vụ chuyên nghiệp và tâm huyết với sự phát triển bền vững, 789win xứng đáng là một trong những sự lựa chọn hàng đầu dành cho người chơi yêu thích cá độ trực tuyến.\n",
      "\n",
      " Ưu điểm của 789win (bao gồm Giao diện đẹp mắt,Nạp rút dễ dàng và bảo mật,hỗ trợ đa nền tảng,dịch vụ chăm sóc khách hàng,Giấy phép hoạt động hợp pháp,Tốc độ trả thưởng nhanh) \n",
      " _______________________________________________\n",
      "Ưu điểm nổi bật của 789win trong lĩnh vực cá độ trực tuyến\n",
      "789win là một trong những thương hiệu uy tín và đáng tin cậy trong lĩnh vực cá độ trực tuyến. Với hơn một thập kỷ hoạt động, nhà cái này đã không ngừng cải tiến và phát triển nhằm mang đến trải nghiệm tốt nhất cho người chơi. Dưới đây là những ưu điểm nổi bật của 789win, giúp họ thu hút và giữ chân đối tượng mục tiêu:\n",
      "Giao diện đẹp mắt:\n",
      "789win chú trọng vào việc thiết kế giao diện trực quan, thân thiện với người dùng. Với giao diện đẹp mắt, bố cục rõ ràng, người chơi có thể dễ dàng tìm hiểu, điều hướng và trải nghiệm các dịch vụ một cách thuận tiện. Giao diện được tối ưu hóa cho cả phiên bản máy tính và di động, giúp người dùng có thể chơi mọi lúc, mọi nơi chỉ với một chiếc điện thoại thông minh.\n",
      "Nạp rút dễ dàng và bảo mật:\n",
      "789win cung cấp nhiều phương thức nạp tiền và rút tiền linh hoạt, đảm bảo cho người chơi không gặp khó khăn trong quá trình giao dịch. Đặc biệt, hệ thống bảo mật tối đa được áp dụng, đảm bảo thông tin cá nhân và tài khoản của người chơi được bảo vệ an toàn, tránh xa các vấn đề liên quan đến lừa đảo hay vi phạm bảo mật.\n",
      "Hỗ trợ đa nền tảng:\n",
      "789win không chỉ hỗ trợ trên máy tính, mà còn tương thích trên các thiết bị di động, bao gồm cả hệ điều hành Android và iOS. Điều này giúp người chơi dễ dàng truy cập và tham gia vào trò chơi mà không bị giới hạn bởi thiết bị.\n",
      "Dịch vụ chăm sóc khách hàng:\n",
      "Với phương châm \"Khách hàng là trên hết,\" đội ngũ hỗ trợ của 789win luôn sẵn lòng lắng nghe và giải đáp mọi thắc mắc của người chơi. Hỗ trợ khách hàng có mặt 24/7, đảm bảo sự hài lòng và tin tưởng từ phía người dùng.\n",
      "Giấy phép hoạt động hợp pháp:\n",
      "789win hoạt động dưới sự giám sát nghiêm ngặt của các cơ quan chức năng và có giấy phép kinh doanh hợp pháp. Điều này đảm bảo tính minh bạch và công bằng trong mỗi trận đấu, đồng thời mang lại cảm giác an tâm cho người chơi khi tham gia vào các hoạt động cá cược.\n",
      "Tốc độ trả thưởng nhanh:\n",
      "789win tự hào là nhà cái với tốc độ trả thưởng nhanh chóng và hiệu quả. Sau khi người chơi đạt được kết quả thắng, hệ thống sẽ thực hiện các thủ tục trả thưởng một cách nhanh chóng, giúp người chơi tiếp tục trải nghiệm đầy hứng thú và phấn khích.\n",
      "Tóm lại, 789win không chỉ là một nhà cái cá độ trực tuyến hàng đầu với giao diện đẹp mắt, nạp rút dễ dàng và bảo mật, hỗ trợ đa nền tảng, dịch vụ chăm sóc khách hàng tận tâm, giấy phép hoạt động hợp pháp mà còn hứa hẹn tốc độ trả thưởng nhanh chóng. Với những ưu điểm này, 789win xứng đáng là sự lựa chọn hàng đầu cho người yêu thích cá độ trực tuyến và đang ngày càng khẳng định vị thế của mình trong lòng cộng đồng người chơi.\n",
      "\n",
      " Đặc điểm nổi bật nhà cái 789win \n",
      " _______________________________________________\n",
      "Đặc điểm nổi bật của nhà cái 789win trong lĩnh vực cá độ trực tuyến\n",
      "789win được biết đến như một trong những thương hiệu hàng đầu trong lĩnh vực cá độ trực tuyến. Với hơn một thập kỷ hoạt động, nhà cái này đã không ngừng nâng cao chất lượng dịch vụ và đáp ứng tốt nhu cầu ngày càng cao của cộng đồng người chơi. Dưới đây là những đặc điểm nổi bật của 789win, là những yếu tố quyết định đã giúp thương hiệu này củng cố vị thế trong lòng khách hàng:\n",
      "1. Giao diện đẹp mắt và thân thiện với người dùng:\n",
      "789win sở hữu giao diện thiết kế đẹp mắt, tối ưu hóa trải nghiệm người dùng đáng nhớ. Với bố cục rõ ràng và dễ hiểu, người chơi dễ dàng tìm thấy các tính năng và trò chơi yêu thích một cách nhanh chóng. Giao diện linh hoạt, tương thích với cả máy tính và thiết bị di động, giúp người dùng có thể trải nghiệm cá cược mọi lúc, mọi nơi.\n",
      "2. Dịch vụ nạp rút tiền dễ dàng và bảo mật cao:\n",
      "789win cung cấp nhiều phương thức nạp tiền và rút tiền linh hoạt, giúp người chơi dễ dàng thực hiện giao dịch một cách nhanh chóng và tiện lợi. Hơn nữa, hệ thống bảo mật ưu việt được áp dụng, đảm bảo thông tin cá nhân và tài khoản của người chơi luôn được bảo vệ an toàn, tránh xa rủi ro về lừa đảo hay vi phạm bảo mật.\n",
      "3. Đa dạng và phong phú về sản phẩm cá cược:\n",
      "789win tự hào là điểm đến đa dạng với nhiều loại hình cá cược như bóng đá, bóng rổ, casino trực tuyến, xổ số và nhiều trò chơi giải trí hấp dẫn khác. Sự đa dạng này giúp người chơi có nhiều lựa chọn và trải nghiệm đầy phong cách và sự đa dạng trong các hoạt động cá cược.\n",
      "4. Dịch vụ chăm sóc khách hàng chuyên nghiệp:\n",
      "Với phương châm \"Khách hàng là trên hết,\" 789win luôn chú trọng vào việc cung cấp dịch vụ chăm sóc khách hàng chuyên nghiệp, nhiệt tình và tận tâm. Đội ngũ hỗ trợ có mặt 24/7 để giải đáp mọi thắc mắc và giúp đỡ người chơi trong mọi tình huống.\n",
      "5. Giấy phép hoạt động hợp pháp và minh bạch:\n",
      "789win hoạt động dưới sự giám sát của các cơ quan chức năng và có giấy phép kinh doanh hợp pháp. Điều này đảm bảo tính minh bạch và công bằng trong mỗi trận đấu, tạo niềm tin và đáng tin cậy cho người chơi.\n",
      "6. Tốc độ trả thưởng nhanh chóng và hiệu quả:\n",
      "789win tự hào là nhà cái với tốc độ trả thưởng nhanh chóng và hiệu quả. Sau khi người chơi đạt được kết quả thắng, hệ thống sẽ thực hiện các thủ tục trả thưởng một cách nhanh chóng, giúp người chơi tiếp tục trải nghiệm đầy hứng thú và phấn khích.\n",
      "Tóm lại, nhà cái 789win không chỉ gây ấn tượng bởi giao diện đẹp mắt và thân thiện, dịch vụ nạp rút tiền dễ dàng và bảo mật cao, đa dạng về sản phẩm cá cược, dịch vụ chăm sóc khách hàng chuyên nghiệp, giấy phép hoạt động hợp pháp và tốc độ trả thưởng nhanh chóng mà còn mang đến cho người chơi cảm giác tin tưởng và hứng thú khi tham gia vào các hoạt động cá cược. Với những đặc điểm nổi bật này, 789win đang ngày càng củng cố vị thế của mình trong thị trường cá độ trực tuyến.\n"
     ]
    },
    {
     "name": "stdout",
     "output_type": "stream",
     "text": [
      "\n",
      " Sự uy tín của thương hiệu 789win \n",
      " _______________________________________________\n",
      "Sự Uy Tín của Thương Hiệu 789win trong Lĩnh Vực Cá Độ Trực Tuyến\n",
      "Khi nói về lĩnh vực cá độ trực tuyến, sự uy tín và đáng tin cậy của một nhà cái là yếu tố quan trọng hàng đầu để thu hút và giữ chân người chơi. Trong số những thương hiệu được công nhận, nhà cái 789win tỏ ra là một sự lựa chọn tuyệt vời với hàng loạt ưu điểm và tiêu chí chất lượng mà họ đã chứng minh qua nhiều năm hoạt động trên thị trường. Hãy cùng khám phá về sự uy tín đáng tin cậy của thương hiệu 789win.\n",
      "1. Giấy phép hoạt động hợp pháp:\n",
      "789win hoạt động dưới giấy phép kinh doanh hợp pháp, được cấp phép bởi các cơ quan chức năng có thẩm quyền. Điều này đảm bảo tính minh bạch và đáng tin cậy trong mỗi hoạt động của nhà cái. Người chơi có thể yên tâm rằng mọi giao dịch và trò chơi đều được kiểm soát và giám sát nghiêm ngặt.\n",
      "2. Lịch sử hoạt động ổn định:\n",
      "Với hơn một thập kỷ hoạt động trong lĩnh vực cá độ trực tuyến, 789win đã xây dựng được sự tin tưởng và đánh giá cao từ cộng đồng người chơi. Thương hiệu này không chỉ tập trung vào việc cung cấp các sản phẩm cá cược đa dạng mà còn luôn đảm bảo chất lượng dịch vụ và tận tâm phục vụ khách hàng.\n",
      "3. Hệ thống bảo mật tiên tiến:\n",
      "789win đặt sự an toàn và bảo mật thông tin cá nhân của người chơi lên hàng đầu. Họ áp dụng các biện pháp bảo mật tiên tiến và công nghệ mã hóa SSL, đảm bảo rằng dữ liệu cá nhân và tài khoản của người chơi được bảo vệ một cách tối đa. Điều này giúp người chơi cảm thấy an tâm khi tham gia vào các hoạt động cá cược trên nền tảng của 789win.\n",
      "4. Chất lượng dịch vụ và hỗ trợ khách hàng:\n",
      "789win luôn chú trọng vào việc cung cấp dịch vụ chăm sóc khách hàng chuyên nghiệp và nhiệt tình. Đội ngũ hỗ trợ có mặt 24/7 để giải đáp mọi thắc mắc và hỗ trợ người chơi trong mọi tình huống. Sự nhiệt tình và chuyên nghiệp của họ đã tạo dựng lòng tin và sự hài lòng từ phía người chơi.\n",
      "5. Đa dạng và phong phú về sản phẩm cá cược:\n",
      "789win tự hào là một điểm đến đa dạng với nhiều loại hình cá cược như bóng đá, bóng rổ, casino trực tuyến, xổ số và nhiều trò chơi giải trí hấp dẫn khác. Sự đa dạng này giúp người chơi có nhiều lựa chọn và trải nghiệm đầy phong cách và sự đa dạng trong các hoạt động cá cược.\n",
      "Tóm lại, sự uy tín đáng tin cậy của nhà cái 789win đã được củng cố thông qua giấy phép hoạt động hợp pháp, lịch sử hoạt động ổn định, hệ thống bảo mật tiên tiến, chất lượng dịch vụ và hỗ trợ khách hàng, cùng với đa dạng sản phẩm cá cược. Với những đặc điểm nổi bật này, 789win không chỉ trở thành một trong những nhà cái hàng đầu trên thị trường cá độ trực tuyến mà còn xứng đáng là sự lựa chọn tin cậy của người chơi.\n",
      "\n",
      " Giấy phép hoạt động đầy đủ \n",
      " _______________________________________________\n",
      "Giấy phép hoạt động đầy đủ: Một Bằng Chứng Uy Tín của Nhà Cái 789win trong Lĩnh Vực Cá Độ Trực Tuyến\n",
      "Trong lĩnh vực cá độ trực tuyến, sự tin tưởng và đáng tin cậy của nhà cái là yếu tố quyết định trong việc thu hút và giữ chân người chơi. Trong số những thương hiệu được công nhận, 789win nổi bật nhờ sở hữu Giấy phép hoạt động đầy đủ, một bằng chứng uy tín giúp họ tạo dựng lòng tin từ cộng đồng người chơi. Hãy cùng tìm hiểu về tầm quan trọng của Giấy phép hoạt động và tại sao nó là một yếu tố quan trọng trong lĩnh vực cá độ trực tuyến.\n",
      "1. Sự minh bạch và công bằng:\n",
      "Giấy phép hoạt động là một chứng chỉ uy tín được cấp phép bởi các cơ quan chức năng có thẩm quyền. Để đạt được giấy phép này, nhà cái 789win đã phải tuân thủ các quy định và tiêu chuẩn nghiêm ngặt về an toàn, bảo mật, công bằng và minh bạch. Do đó, người chơi có thể yên tâm rằng mỗi hoạt động của nhà cái đều được kiểm soát và giám sát một cách công bằng và minh bạch.\n",
      "2. Bảo vệ quyền lợi của người chơi:\n",
      "Một trong những lợi ích quan trọng của Giấy phép hoạt động là bảo vệ quyền lợi của người chơi. Khi một nhà cái có giấy phép hoạt động đầy đủ, điều này đồng nghĩa với việc họ phải tuân thủ các quy định về bảo mật thông tin cá nhân và tài khoản của người chơi. Việc này giúp người chơi cảm thấy an tâm và tin tưởng khi tham gia vào các hoạt động cá độ trực tuyến trên nền tảng của 789win.\n",
      "3. Tín hiệu vững chắc về đáng tin cậy:\n",
      "Có Giấy phép hoạt động đầy đủ không chỉ là một bằng chứng về tính minh bạch và công bằng của nhà cái, mà còn là một tín hiệu vững chắc về đáng tin cậy trong ngành cá độ trực tuyến. Thương hiệu 789win đã xây dựng lòng tin và uy tín từ cộng đồng người chơi, và Giấy phép hoạt động đóng vai trò quan trọng trong việc củng cố vị thế của họ trên thị trường.\n",
      "4. Cam kết về trách nhiệm và chất lượng dịch vụ:\n",
      "Sở hữu Giấy phép hoạt động đầy đủ là cam kết của 789win về việc tuân thủ các quy định và tiêu chuẩn chất lượng cao. Thương hiệu này không ngừng nâng cao chất lượng dịch vụ và chăm sóc khách hàng, đảm bảo rằng người chơi luôn có được trải nghiệm cá cược tốt nhất và được đối xử một cách trung thực và tận tâm.\n",
      "Tóm lại, Giấy phép hoạt động đầy đủ là một bằng chứng uy tín về tính minh bạch, công bằng và đáng tin cậy của nhà cái 789win trong lĩnh vực cá độ trực tuyến. Nó đảm bảo bảo vệ quyền lợi của người chơi và tạo dựng lòng tin từ cộng đồng. Với cam kết về trách nhiệm và chất lượng dịch vụ, 789win tiếp tục khẳng định vị thế của mình là một trong những thương hiệu hàng đầu trên thị trường cá độ trực tuyến.\n",
      "\n",
      " Tính trung thực của nhà cái 789win \n",
      " _______________________________________________\n",
      "Tính Trung Thực - Nét Đặc Trưng và Đáng Tin Cậy của Nhà Cái 789win trong Lĩnh Vực Cá Độ Trực Tuyến\n",
      "Trong thế giới sôi động của cá độ trực tuyến, tính trung thực và đáng tin cậy của một nhà cái là yếu tố quyết định giúp thương hiệu đạt được sự tín nhiệm từ người chơi. Trong dòng đời các nhà cái nổi lên và chìm xuống, nhà cái 789win đã chứng tỏ sự trung thực của mình qua hàng thập kỷ hoạt động với các giấy phép hoạt động đầy đủ và sự cam kết vững chắc về chất lượng dịch vụ. Hãy cùng khám phá về tính trung thực - nét đặc trưng và đáng tin cậy của thương hiệu 789win.\n",
      "1. Giấy phép hoạt động đầy đủ và uy tín:\n",
      "789win tự hào là một trong số ít nhà cái sở hữu giấy phép hoạt động đầy đủ, được cấp phép bởi các cơ quan chức năng có thẩm quyền. Giấy phép này là một bằng chứng rõ ràng về tính trung thực và uy tín của nhà cái, đồng thời đảm bảo cho người chơi một môi trường cá cược an toàn và minh bạch.\n",
      "2. Đối tác đáng tin cậy và phong cách kinh doanh minh bạch:\n",
      "789win không chỉ xây dựng đối tác với các nhà cung cấp phần mềm danh tiếng trong ngành, mà còn thể hiện tính minh bạch trong cách thức kinh doanh. Các thông tin về giấy phép, chính sách bảo mật, điều khoản và điều kiện đều được công khai rõ ràng trên website, giúp người chơi hiểu rõ và tin tưởng vào sự chân thực của 789win.\n",
      "3. Bảo vệ quyền lợi và thông tin cá nhân của người chơi:\n",
      "Tính trung thực của 789win cũng được thể hiện qua cam kết bảo vệ quyền lợi và thông tin cá nhân của người chơi. Họ áp dụng các biện pháp bảo mật tiên tiến và công nghệ mã hóa SSL, đảm bảo rằng dữ liệu cá nhân và tài khoản của người chơi luôn được bảo mật an toàn.\n",
      "4. Dịch vụ chăm sóc khách hàng nhiệt tình và chuyên nghiệp:\n",
      "789win luôn coi khách hàng là trên hết và cam kết cung cấp dịch vụ chăm sóc khách hàng tận tâm và chuyên nghiệp. Đội ngũ hỗ trợ có mặt 24/7, sẵn sàng lắng nghe và giải đáp mọi thắc mắc của người chơi, đảm bảo rằng mọi vấn đề đều được giải quyết một cách nhanh chóng và hiệu quả.\n",
      "5. Chất lượng dịch vụ và đa dạng sản phẩm cá cược:\n",
      "789win không chỉ chú trọng vào việc cung cấp dịch vụ chất lượng mà còn đa dạng hóa sản phẩm cá cược. Từ cá cược thể thao đến casino trực tuyến, xổ số và nhiều trò chơi giải trí hấp dẫn khác, 789win đem đến cho người chơi nhiều lựa chọn và trải nghiệm đầy đa dạng.\n",
      "Tóm lại, tính trung thực của nhà cái 789win không chỉ được thể hiện qua giấy phép hoạt động đầy đủ, mà còn qua đối tác đáng tin cậy, cách thức kinh doanh minh bạch, bảo vệ quyền lợi và thông tin cá nhân của người chơi, dịch vụ chăm sóc khách hàng nhiệt tình và chất lượng dịch vụ đa dạng. Với những đặc điểm nổi bật này, 789win xứng đáng là một trong những sự lựa chọn tin cậy và hấp dẫn trong thế giới cá độ trực tuyến.\n",
      "\n",
      " Giao diện 789win đẹp mắt, dễ sử dụng \n",
      " _______________________________________________\n",
      "Giao Diện 789win - Kết Hợp Tuyệt Vời Giữa Đẹp Mắt và Dễ Sử Dụng\n",
      "Nhắc đến nhà cái 789win, không thể không nhắc đến giao diện đẹp mắt và dễ sử dụng mà thương hiệu này mang đến cho người chơi. Giao diện là một yếu tố quan trọng trong trải nghiệm cá độ trực tuyến, và 789win đã đầu tư công sức để tạo ra một trang web hấp dẫn, chuyên nghiệp, và thuận tiện cho người dùng. Hãy cùng tìm hiểu về những điểm nổi bật trong giao diện 789win và tại sao nó được đánh giá cao bởi cộng đồng người chơi.\n",
      "1. Thiết kế đẹp mắt và tinh tế:\n",
      "789win sở hữu một giao diện thiết kế đẹp mắt và tinh tế, với sự kết hợp hài hòa giữa gam màu trang nhã và hình ảnh sống động. Giao diện này không chỉ làm tăng tính thẩm mỹ của trang web mà còn giúp người chơi cảm thấy dễ chịu và thoải mái khi trải nghiệm.\n",
      "2. Thân thiện với người dùng và dễ sử dụng:\n",
      "Một trong những ưu điểm nổi bật của giao diện 789win là tính thân thiện với người dùng và dễ sử dụng. Trang web được thiết kế một cách rõ ràng và logic, giúp người chơi dễ dàng tìm thấy các tính năng và chức năng mà họ cần. Các nút điều hướng được đặt một cách hợp lý, giúp người dùng di chuyển giữa các trang và chức năng một cách thuận tiện và nhanh chóng.\n",
      "3. Tích hợp giao diện tương thích đa nền tảng:\n",
      "789win hiểu rằng người chơi có thể truy cập trang web từ nhiều thiết bị khác nhau, từ máy tính để bàn đến điện thoại di động và máy tính bảng. Vì vậy, họ đã tích hợp giao diện đáp ứng, tự động điều chỉnh kích thước và bố cục trang web phù hợp với từng loại thiết bị. Điều này giúp người chơi có trải nghiệm tuyệt vời mọi lúc, mọi nơi mà không bị hạn chế bởi thiết bị sử dụng.\n",
      "4. Tốc độ tải trang nhanh và ổn định:\n",
      "Giao diện 789win được tối ưu hóa để tải trang nhanh chóng và ổn định. Điều này không chỉ giúp người chơi tiết kiệm thời gian mà còn tránh được những trục trặc không đáng có trong quá trình cá cược. Tốc độ tải trang nhanh cũng là một yếu tố quan trọng trong tiêu chuẩn SEO, giúp trang web xếp hạng cao hơn trên các công cụ tìm kiếm.\n",
      "5. Các tính năng cá cược đa dạng và dễ dàng tiếp cận:\n",
      "Giao diện 789win cung cấp các tính năng cá cược đa dạng và dễ dàng tiếp cận. Người chơi có thể dễ dàng đặt cược vào các trận đấu thể thao yêu thích, chơi các trò chơi casino trực tuyến, tham gia xổ số và nhiều trò chơi giải trí hấp dẫn khác chỉ với vài thao tác đơn giản.\n",
      "Tóm lại, giao diện đẹp mắt và dễ sử dụng của 789win là một trong những yếu tố quan trọng giúp thương hiệu này tạo dựng lòng tin và đánh giá cao từ cộng đồng người chơi. Với thiết kế hấp dẫn, tính thân thiện với người dùng, tích hợp đa nền tảng, tốc độ tải trang nhanh và tính năng cá cược đa dạng, giao diện 789win không chỉ đẹp mắt mà còn mang đến trải nghiệm cá cược tuyệt vời và thuận tiện cho mỗi thành viên tham gia.\n"
     ]
    },
    {
     "name": "stdout",
     "output_type": "stream",
     "text": [
      "\n",
      " Đa dạng trò chơi từ nhà cung cấp nổi tiếng \n",
      " _______________________________________________\n",
      "Đa Dạng Trò Chơi Từ Nhà Cung Cấp Nổi Tiếng - 789win\n",
      "Nhà cái 789win đã chứng tỏ sự đẳng cấp trong lĩnh vực cá độ trực tuyến không chỉ bởi tính trung thực và giao diện đẹp mắt mà còn bởi đa dạng các trò chơi hấp dẫn từ các nhà cung cấp nổi tiếng. Từ các trận đấu thể thao đến casino trực tuyến và xổ số, 789win mang đến cho người chơi một loạt các trò chơi giải trí đa dạng, đáp ứng mọi sở thích và nhu cầu cá cược. Hãy cùng khám phá những điểm nổi bật của đa dạng trò chơi từ nhà cung cấp nổi tiếng trên 789win.\n",
      "1. Cá Cược Thể Thao:\n",
      "789win hợp tác với các nhà cung cấp hàng đầu trong ngành cá cược thể thao, mang đến cho người chơi hàng ngàn trận đấu thể thao từ các giải đấu lớn như bóng đá, bóng rổ, quần vợt, đua xe và nhiều môn thể thao khác. Người chơi có thể đặt cược trước trận đấu hoặc cược trực tiếp, tham gia vào các thị trường đa dạng với tỷ lệ cược hấp dẫn.\n",
      "2. Casino Trực Tuyến:\n",
      "Với 789win, người chơi có cơ hội trải nghiệm sòng bạc trực tuyến với các trò chơi đa dạng như Blackjack, Roulette, Baccarat và Poker. Những trò chơi casino này được cung cấp bởi những nhà cung cấp nổi tiếng trong ngành, đảm bảo chất lượng và công bằng trong mỗi ván chơi.\n",
      "3. Xổ Số và Thể Loại Trò Chơi Đặc Sắc:\n",
      "Khám phá thế giới xổ số với các loại hình như xổ số truyền thống, xổ số điện toán, xổ số keno và nhiều trò chơi đặc sắc khác. 789win cũng cung cấp một loạt các trò chơi giải trí đa dạng như game bắn cá, game nổ hũ và slot game với đồ họa tuyệt đẹp và âm thanh sống động.\n",
      "4. eSports:\n",
      "Nắm bắt xu hướng eSports phát triển mạnh mẽ, 789win cung cấp một phạm vi rộng các giải đấu eSports từ các trò chơi như League of Legends, Dota 2, CS: GO và nhiều trò chơi nổi tiếng khác. Đây là một sự lựa chọn tuyệt vời cho những người yêu thích thể thao điện tử.\n",
      "5. Trò Chơi Trực Tuyến Khác:\n",
      "Không chỉ dừng lại ở đó, 789win còn cung cấp một loạt các trò chơi trực tuyến khác như bingo, scratch cards và virtual sports, đáp ứng mọi yêu cầu của người chơi về sự đa dạng và sự mới mẻ.\n",
      "6. Ứng Dụng Di Động:\n",
      "Để đáp ứng nhu cầu cá cược trên di động, 789win cung cấp ứng dụng di động tối ưu hóa cho cả hệ điều hành iOS và Android. Người chơi có thể truy cập vào trang web 789win một cách thuận tiện qua ứng dụng di động và thưởng thức các trò chơi yêu thích bất kỳ lúc nào, bất kỳ nơi đâu.\n",
      "Tóm lại, đa dạng trò chơi từ các nhà cung cấp nổi tiếng là một trong những yếu tố nổi bật giúp 789win thu hút đông đảo người chơi. Với cá cược thể thao đa dạng, casino trực tuyến, xổ số, eSports và các trò chơi giải trí đặc sắc khác, người chơi luôn có nhiều lựa chọn và trải nghiệm mới mẻ trên trang web của 789win. Hãy tham gia ngay để khám phá thế giới đa dạng trò chơi và cơ hội thắng lớn tại 789win.\n",
      "\n",
      " Cổng game 789win hấp dẫn, âm thanh sống động \n",
      " _______________________________________________\n",
      "Cổng Game 789win - Nơi Hấp Dẫn Với Âm Thanh Sống Động\n",
      "789win là một trong những nhà cái hàng đầu trong lĩnh vực cá độ trực tuyến, và một trong những yếu tố đặc biệt thu hút người chơi đến với trang web này chính là cổng game đa dạng với âm thanh sống động. Khám phá thế giới giải trí đa sắc màu và phong phú của 789win qua những trò chơi hấp dẫn và âm thanh chất lượng cao.\n",
      "1. Đa Dạng Trò Chơi Với Thể Loại Đa Năng:\n",
      "789win mang đến cho người chơi một loạt các trò chơi vô cùng đa dạng với các thể loại đa năng. Từ cá cược thể thao cho đến các trò chơi casino trực tuyến, xổ số và các trò chơi giải trí đặc sắc, người chơi luôn có nhiều lựa chọn để khám phá và trải nghiệm.\n",
      "2. Casino Trực Tuyến Sống Động:\n",
      "Với âm thanh sống động và hình ảnh chân thực, trải nghiệm casino trực tuyến trên 789win sẽ khiến bạn như đang ngồi tại một sòng bạc thực sự. Các trò chơi như Blackjack, Roulette và Baccarat được trình chiếu một cách sinh động, giúp bạn cảm nhận được sự hấp dẫn và thú vị của việc chơi casino tại nhà.\n",
      "3. Trò Chơi Slot Đa Dạng Và Phong Cách:\n",
      "Dành cho những người yêu thích trò chơi slot, 789win cung cấp một loạt các trò chơi đa dạng và phong cách. Từ các trò chơi kinh điển với hình ảnh thú vị cho đến các trò chơi slot tiên tiến với âm thanh sống động và hiệu ứng đặc biệt, bạn sẽ không bao giờ cảm thấy nhàm chán khi chơi slot trên 789win.\n",
      "4. Xổ Số Đa Nền Tảng:\n",
      "789win không chỉ cung cấp xổ số truyền thống mà còn có xổ số điện toán và xổ số keno. Bạn có thể tham gia vào các loại hình xổ số khác nhau, mỗi loại mang đến những cơ hội thắng lớn đầy hấp dẫn.\n",
      "5. Ứng Dụng Di Động Tối Ưu Hóa:\n",
      "Cổng game của 789win cũng có sẵn trên ứng dụng di động tối ưu hóa cho cả hệ điều hành iOS và Android. Điều này giúp bạn có thể thưởng thức các trò chơi hấp dẫn từ 789win mọi lúc, mọi nơi chỉ với vài thao tác đơn giản trên điện thoại di động của mình.\n",
      "6. Âm Thanh Sống Động:\n",
      "Không chỉ đa dạng về trò chơi, âm thanh trên 789win cũng là một yếu tố quan trọng giúp tăng cường trải nghiệm của người chơi. Với âm thanh sống động, chân thực và hiệu ứng âm thanh tinh tế, bạn sẽ cảm nhận được nhịp đập hồi hộp của từng ván chơi.\n",
      "Tóm lại, cổng game 789win hấp dẫn với âm thanh sống động là một điểm nhấn vượt trội của thương hiệu này. Với đa dạng trò chơi, casino trực tuyến sống động, trò chơi slot đa phong cách và âm thanh chất lượng cao, bạn sẽ không thể cưỡng lại sự hấp dẫn và niềm vui khi trải nghiệm các trò chơi trên 789win. Hãy tham gia ngay để khám phá thế giới giải trí đa sắc mà 789win mang đến.\n",
      "\n",
      " Cổng game công bằng, minh bạch \n",
      " _______________________________________________\n",
      "Cổng Game Công Bằng và Minh Bạch - 789win\n",
      "789win là một trong những nhà cái hàng đầu trong lĩnh vực cá độ trực tuyến và đã chứng minh sự công bằng và minh bạch trong hoạt động kinh doanh. Với cam kết mang đến trải nghiệm chơi game đáng tin cậy và công bằng cho người chơi, 789win đã xây dựng một cổng game với các tiêu chuẩn chất lượng cao và sự minh bạch rõ ràng. Hãy cùng tìm hiểu về những điểm nổi bật về tính công bằng và minh bạch của 789win.\n",
      "1. Hợp Pháp Hoạt Động:\n",
      "789win hoạt động dựa trên giấy phép hợp pháp từ cơ quan quản lý có thẩm quyền. Điều này đảm bảo rằng tất cả các hoạt động của nhà cái đều tuân thủ các quy định và luật pháp của quốc gia và được kiểm soát một cách nghiêm ngặt. Sự hợp pháp hoạt động là cơ sở để người chơi tin tưởng và an tâm khi tham gia vào các trò chơi trên 789win.\n",
      "2. Hệ Thống Công Bằng Đối Với Người Chơi:\n",
      "789win cam kết sử dụng hệ thống công bằng và ngẫu nhiên trong việc quản lý và điều hành các trò chơi. Hệ thống này đảm bảo rằng mỗi ván chơi đều được quyết định bởi sự ngẫu nhiên và không bị can thiệp. Điều này đảm bảo rằng mọi người chơi đều có cơ hội công bằng để thắng và không bị gian lận.\n",
      "3. Đảm Bảo Bảo Mật Thông Tin Cá Nhân:\n",
      "789win luôn coi trọng bảo mật thông tin cá nhân của người chơi. Họ sử dụng các biện pháp bảo mật tiên tiến để đảm bảo rằng thông tin cá nhân của người chơi được bảo vệ an toàn và không bị rò rỉ hay lạm dụng.\n",
      "4. Thanh Toán Nhanh Chóng Và Chính Xác:\n",
      "789win cam kết xử lý thanh toán nhanh chóng và chính xác. Người chơi có thể yên tâm về việc rút và nạp tiền vào tài khoản cá cược một cách an toàn và thuận tiện. Hệ thống thanh toán được tích hợp với các phương thức thanh toán uy tín, đảm bảo tiến trình giao dịch diễn ra một cách minh bạch và hiệu quả.\n",
      "5. Chính Sách Công Bằng Và Rõ Ràng:\n",
      "789win có chính sách công bằng và rõ ràng đối với các khuyến mãi, thưởng và các chương trình khác. Tất cả các thông tin về điều kiện tham gia và quy định của các chương trình đều được công bố công khai và minh bạch, giúp người chơi hiểu rõ và tận hưởng các ưu đãi một cách hợp lý.\n",
      "Tóm lại, cổng game 789win tự hào là một địa chỉ cá độ trực tuyến công bằng và minh bạch. Với sự hợp pháp hoạt động, hệ thống công bằng, bảo mật thông tin cá nhân, thanh toán nhanh chóng và chính xác, cùng chính sách rõ ràng và minh bạch, 789win xứng đáng là điểm đến uy tín và đáng tin cậy cho những người yêu thích cá cược trực tuyến. Hãy trải nghiệm sự công bằng và minh bạch của 789win ngay hôm nay!\n",
      "\n",
      " Bảo mật tuyệt đối \n",
      " _______________________________________________\n",
      "Bảo Mật Tuyệt Đối - Sự Vững Tin Của Nhà Cái 789win\n",
      "Bảo mật là một trong những yếu tố cốt lõi quan trọng và không thể thiếu đối với một nhà cái uy tín như 789win. Với cam kết đảm bảo sự an toàn và bảo mật tuyệt đối cho thông tin cá nhân và tài khoản của người chơi, 789win đã xây dựng một hệ thống bảo mật tiên tiến, đáng tin cậy. Hãy cùng tìm hiểu về những biện pháp bảo mật chặt chẽ mà 789win áp dụng để đảm bảo sự vững tin của người chơi.\n",
      "1. Bảo Vệ Thông Tin Cá Nhân:\n",
      "789win coi trọng việc bảo vệ thông tin cá nhân của người chơi. Họ sử dụng các biện pháp bảo mật tiên tiến như mã hóa dữ liệu SSL 128 bit để đảm bảo rằng thông tin cá nhân của người chơi được bảo mật và không bị truy cập bởi bất kỳ bên thứ ba nào. Mỗi thông tin cá nhân đều được xử lý một cách cẩn thận và chỉ sử dụng cho mục đích chơi game và giao dịch trên trang web.\n",
      "2. Đảm Bảo An Toàn Tài Khoản:\n",
      "789win có các biện pháp bảo mật nghiêm ngặt để đảm bảo an toàn tài khoản của người chơi. Người chơi cần sử dụng mật khẩu riêng và độc nhất để truy cập vào tài khoản cá nhân. Ngoài ra, trang web còn áp dụng các biện pháp xác minh danh tính để bảo đảm rằng tài khoản chỉ được sử dụng bởi người chơi thực sự.\n",
      "3. Công Nghệ Chống Gian Lận:\n",
      "789win sử dụng công nghệ chống gian lận hiện đại để đảm bảo tính công bằng và minh bạch trong mỗi trận đấu. Hệ thống kiểm tra chặt chẽ để ngăn chặn bất kỳ hành vi gian lận hoặc cố gắng can thiệp vào quá trình chơi game.\n",
      "4. Bảo Mật Giao Dịch Tài Chính:\n",
      "789win cam kết đảm bảo tính bảo mật và chính xác trong các giao dịch tài chính của người chơi. Các phương thức thanh toán được sử dụng trên trang web đều được đánh giá và chọn lựa kỹ càng, đảm bảo an toàn và tiện lợi cho người chơi.\n",
      "5. Chính Sách Bảo Mật Rõ Ràng:\n",
      "789win có chính sách bảo mật rõ ràng và minh bạch, mô tả chi tiết về việc thu thập và sử dụng thông tin cá nhân của người chơi. Người chơi có thể yên tâm rằng thông tin của họ sẽ không bị tiết lộ hay sử dụng sai mục đích.\n",
      "Tóm lại, 789win không chỉ là một nhà cái uy tín với cổng game đa dạng và hấp dẫn, mà còn là địa chỉ đáng tin cậy với sự bảo mật tuyệt đối. Bằng việc đảm bảo thông tin cá nhân và tài khoản được bảo vệ an toàn, áp dụng công nghệ chống gian lận, cùng với chính sách bảo mật rõ ràng, 789win xứng đáng là sự lựa chọn hàng đầu cho những người chơi yêu thích cá độ trực tuyến. Hãy tham gia ngay để trải nghiệm sự an toàn và tin cậy của 789win!\n"
     ]
    },
    {
     "name": "stdout",
     "output_type": "stream",
     "text": [
      "\n",
      " Hướng dẫn cách sử dụng 789win casino (tải app, đăng ký, đăng nhập, nạp tiền, rút tiền, tham gia khuyến mãi) \n",
      " _______________________________________________\n",
      "Hướng dẫn sử dụng 789win Casino - Trải nghiệm cá độ trực tuyến đỉnh cao\n",
      "789win Casino là một trong những trang cá độ trực tuyến uy tín và phổ biến, mang đến cho người chơi trải nghiệm đỉnh cao về cờ bạc và casino trực tuyến. Để bắt đầu hành trình chơi game hấp dẫn này, hãy làm theo hướng dẫn dưới đây về cách sử dụng 789win Casino từ tải app, đăng ký, đăng nhập, nạp tiền, rút tiền cho đến tham gia các khuyến mãi hấp dẫn.\n",
      "1. Tải ứng dụng 789win Casino:\n",
      "Để trải nghiệm 789win Casino một cách thuận tiện và dễ dàng, bạn có thể tải ứng dụng trên thiết bị di động của mình. Trước tiên, hãy truy cập vào trang web chính thức của 789win và tìm link tải ứng dụng cho hệ điều hành Android hoặc iOS. Sau khi tải xuống, bạn có thể cài đặt ứng dụng và bắt đầu trải nghiệm các trò chơi hấp dẫn ngay trên điện thoại di động của bạn.\n",
      "2. Đăng ký tài khoản 789win:\n",
      "Nếu bạn chưa có tài khoản trên 789win, hãy thực hiện đăng ký bằng cách truy cập vào trang chủ và chọn mục \"Đăng ký\". Sau đó, điền thông tin cá nhân yêu cầu, bao gồm tên đăng nhập, mật khẩu, địa chỉ email, và số điện thoại. Lưu ý rằng bạn cần cung cấp thông tin chính xác để đảm bảo việc xác minh và bảo mật tài khoản.\n",
      "3. Đăng nhập vào tài khoản:\n",
      "Sau khi hoàn tất đăng ký, bạn có thể đăng nhập vào tài khoản bằng cách sử dụng tên đăng nhập và mật khẩu đã đăng ký. Hãy đảm bảo rằng bạn giữ tài khoản và mật khẩu của mình riêng tư và không chia sẻ với bất kỳ ai.\n",
      "4. Nạp tiền vào tài khoản:\n",
      "Để tham gia cá độ trực tuyến, bạn cần nạp tiền vào tài khoản của mình. Truy cập vào trang \"Nạp tiền\" và chọn phương thức thanh toán phù hợp. 789win hỗ trợ nhiều phương thức thanh toán an toàn và tiện lợi như ví điện tử, chuyển khoản ngân hàng, và thẻ tín dụng.\n",
      "5. Rút tiền từ tài khoản:\n",
      "Khi bạn đã chiến thắng và muốn rút tiền từ tài khoản, hãy truy cập vào trang \"Rút tiền\" và làm theo hướng dẫn. Lưu ý rằng quy trình rút tiền có thể mất một thời gian để xử lý, tùy thuộc vào phương thức rút tiền bạn chọn.\n",
      "6. Tham gia khuyến mãi và ưu đãi:\n",
      "789win thường xuyên cập nhật các chương trình khuyến mãi và ưu đãi hấp dẫn cho người chơi. Để tham gia, hãy truy cập vào trang \"Khuyến mãi\" và theo dõi các chương trình mới nhất. Hãy đảm bảo đọc kỹ các điều kiện tham gia để tận hưởng những ưu đãi tốt nhất.\n",
      "Kết Luận:\n",
      "Sử dụng 789win Casino không chỉ đơn giản mà còn đem lại cho bạn những trải nghiệm tuyệt vời trong lĩnh vực cá độ trực tuyến. Từ tải app, đăng ký, đăng nhập, nạp tiền, rút tiền cho đến tham gia các khuyến mãi, hãy trải nghiệm và thư giãn với 789win Casino ngay hôm nay!\n",
      "\n",
      " Hướng dẫn tải app 789win (cho từng hệ điều hành cụ thể: iOS, Android) \n",
      " _______________________________________________\n",
      "Hướng dẫn tải ứng dụng 789win trên iOS và Android\n",
      "789win là một trong những nhà cái hàng đầu về cá độ trực tuyến, mang đến cho người chơi những trải nghiệm đỉnh cao với các trò chơi đa dạng và hấp dẫn. Để tận hưởng trọn vẹn sự tiện lợi và thú vị của 789win, bạn có thể tải ứng dụng trên các thiết bị iOS và Android. Hãy cùng tìm hiểu hướng dẫn chi tiết bên dưới.\n",
      "1. Tải ứng dụng 789win trên iOS (iPhone, iPad):\n",
      "Bước 1: Mở App Store trên thiết bị iOS của bạn.\n",
      "Bước 2: Sử dụng tính năng tìm kiếm và nhập từ khóa \"789win\" vào ô tìm kiếm.\n",
      "Bước 3: Ứng dụng 789win sẽ hiển thị trong kết quả tìm kiếm. Chọn \"Tải xuống\" để bắt đầu quá trình tải ứng dụng.\n",
      "Bước 4: Đăng nhập vào tài khoản Apple ID của bạn để xác nhận việc tải ứng dụng.\n",
      "Bước 5: Sau khi tải xuống hoàn tất, bạn có thể mở ứng dụng 789win và đăng nhập vào tài khoản để bắt đầu trải nghiệm các trò chơi hấp dẫn.\n",
      "2. Tải ứng dụng 789win trên Android:\n",
      "Bước 1: Trước tiên, truy cập vào trang web chính thức của 789win trên trình duyệt của bạn.\n",
      "Bước 2: Tại trang chủ, bạn sẽ thấy một nút \"Tải xuống\" hoặc \"Tải ứng dụng\" dành cho hệ điều hành Android. Chọn nút này để bắt đầu quá trình tải ứng dụng.\n",
      "Bước 3: Trước khi cài đặt ứng dụng từ nguồn không rõ, hãy cho phép thiết bị cài đặt ứng dụng từ các nguồn không xác định trong phần \"Cài đặt\" -> \"Bảo mật\" -> \"Nguồn không rõ\".\n",
      "Bước 4: Tiến hành cài đặt ứng dụng sau khi hoàn tất việc cho phép cài đặt từ nguồn không rõ.\n",
      "Bước 5: Khi cài đặt thành công, mở ứng dụng 789win và đăng nhập vào tài khoản để bắt đầu tham gia các trò chơi độc đáo và hấp dẫn.\n",
      "Lưu ý: Trước khi tải ứng dụng 789win từ nguồn không rõ, hãy đảm bảo rằng bạn đã tắt tính năng \"Cài đặt ứng dụng từ nguồn không rõ\" sau khi cài đặt ứng dụng thành công.\n",
      "Với hướng dẫn chi tiết trên, bạn đã sẵn sàng tải và trải nghiệm ứng dụng 789win trên các thiết bị iOS và Android. Hãy khám phá ngay để thưởng thức những khoảnh khắc sôi động và cảm giác hồi hộp tuyệt vời mà 789win mang lại cho bạn!\n",
      "\n",
      " Hướng dẫn đăng ký 789win \n",
      " _______________________________________________\n",
      "Hướng dẫn đăng ký tài khoản 789win - Bước đầu tiên vào thế giới cá độ trực tuyến chất lượng\n",
      "789win là một trong những nhà cái uy tín và phổ biến trong lĩnh vực cá độ trực tuyến, mang đến cho người chơi những trải nghiệm độc đáo và hấp dẫn. Để tham gia vào thế giới cá độ sôi động này, bạn cần thực hiện đăng ký tài khoản trên 789win. Hãy cùng tôi điểm qua hướng dẫn chi tiết đăng ký tài khoản để bạn có thể bắt đầu cuộc hành trình cá cược vui vẻ và tiềm năng này.\n",
      "Bước 1: Truy cập vào trang chủ của 789win\n",
      "Trước tiên, hãy truy cập vào trang chủ chính thức của 789win thông qua trình duyệt web trên thiết bị di động hoặc máy tính cá nhân của bạn. Đảm bảo rằng bạn truy cập vào trang web đúng của 789win để đảm bảo tính bảo mật và an toàn.\n",
      "Bước 2: Chọn mục \"Đăng ký\"\n",
      "Tại trang chủ, bạn sẽ thấy một nút \"Đăng ký\" hoặc \"Đăng ký ngay\" nằm ở vị trí dễ nhìn. Chọn nút này để bắt đầu quá trình đăng ký tài khoản.\n",
      "Bước 3: Nhập thông tin cá nhân\n",
      "Sau khi chọn đăng ký, một mẫu đăng ký sẽ xuất hiện yêu cầu bạn cung cấp thông tin cá nhân. Nhập các thông tin yêu cầu như tên đăng nhập, mật khẩu, địa chỉ email và số điện thoại. Đảm bảo bạn cung cấp thông tin chính xác và đầy đủ để tiến hành đăng ký thành công.\n",
      "Bước 4: Xác nhận thông tin và hoàn tất đăng ký\n",
      "Sau khi nhập thông tin cá nhân, hãy xác nhận một lần nữa để đảm bảo rằng các thông tin bạn cung cấp là chính xác. Sau khi xác nhận, bạn chỉ cần bấm nút \"Đăng ký\" hoặc \"Hoàn tất đăng ký\" để hoàn thành quá trình đăng ký tài khoản trên 789win.\n",
      "Bước 5: Đăng nhập và bắt đầu chơi\n",
      "Khi đăng ký thành công, bạn sẽ nhận được thông tin đăng nhập vào tài khoản của mình. Hãy sử dụng thông tin này để đăng nhập vào 789win và bắt đầu trải nghiệm các trò chơi đa dạng và hấp dẫn mà trang web mang đến.\n",
      "Những lưu ý khi đăng ký tài khoản:\n",
      "Hãy sử dụng thông tin cá nhân chính xác và không chia sẻ tài khoản của bạn với người khác để đảm bảo tính bảo mật.\n",
      "Đảm bảo bạn đọc kỹ các điều khoản và quy định của 789win trước khi đăng ký tài khoản để hiểu rõ về quy trình và các quy định chơi game trên trang web.\n",
      "Với hướng dẫn đăng ký tài khoản trên 789win, bạn đã sẵn sàng bước vào thế giới cá độ trực tuyến chất lượng và tham gia vào những trận cược hấp dẫn. Hãy trải nghiệm và thư giãn với 789win ngay hôm nay!\n",
      "\n",
      " Hướng dẫn đăng nhập 789win \n",
      " _______________________________________________\n",
      "Hướng dẫn đăng nhập tài khoản 789win - Trải nghiệm thú vị trong thế giới cá độ trực tuyến\n",
      "789win là một trong những nhà cái uy tín và phổ biến trong lĩnh vực cá độ trực tuyến, mang đến cho người chơi những trải nghiệm độc đáo và hấp dẫn. Để bắt đầu cuộc hành trình cá cược tại 789win, bạn cần thực hiện đăng nhập vào tài khoản của mình. Hãy cùng tôi điểm qua hướng dẫn chi tiết đăng nhập để bạn có thể dễ dàng tham gia vào các trò chơi đa dạng và thú vị mà trang web này cung cấp.\n",
      "Bước 1: Truy cập vào trang chủ của 789win\n",
      "Để đăng nhập vào tài khoản 789win, trước tiên hãy truy cập vào trang chủ chính thức của 789win thông qua trình duyệt web trên thiết bị di động hoặc máy tính cá nhân của bạn. Đảm bảo rằng bạn truy cập vào trang web đúng của 789win để đảm bảo tính bảo mật và an toàn.\n",
      "Bước 2: Chọn mục \"Đăng nhập\"\n",
      "Tại trang chủ, bạn sẽ thấy một nút \"Đăng nhập\" hoặc \"Đăng nhập ngay\" nằm ở vị trí dễ nhìn. Chọn nút này để bắt đầu quá trình đăng nhập vào tài khoản 789win.\n",
      "Bước 3: Nhập thông tin đăng nhập\n",
      "Sau khi chọn đăng nhập, một cửa sổ đăng nhập sẽ xuất hiện yêu cầu bạn nhập thông tin đăng nhập. Hãy nhập tên đăng nhập và mật khẩu đã đăng ký khi đăng ký tài khoản trên 789win.\n",
      "Bước 4: Xác nhận thông tin và hoàn tất đăng nhập\n",
      "Sau khi nhập thông tin đăng nhập, hãy xác nhận một lần nữa để đảm bảo rằng thông tin bạn cung cấp là chính xác. Sau đó, chỉ cần bấm nút \"Đăng nhập\" hoặc \"Hoàn tất đăng nhập\" để hoàn thành quá trình đăng nhập tài khoản 789win.\n",
      "Những lưu ý khi đăng nhập tài khoản:\n",
      "Hãy đảm bảo rằng bạn đã lưu tên đăng nhập và mật khẩu của mình một cách an toàn và không chia sẻ với người khác để đảm bảo tính bảo mật cho tài khoản của bạn.\n",
      "Nếu bạn quên mật khẩu, hãy sử dụng tính năng \"Quên mật khẩu\" trên trang đăng nhập để đặt lại mật khẩu mới cho tài khoản của mình.\n",
      "Với hướng dẫn đăng nhập tài khoản 789win, bạn đã sẵn sàng bước vào thế giới cá độ trực tuyến chất lượng và tham gia vào những trận cược hấp dẫn. Hãy trải nghiệm và thư giãn với 789win ngay hôm nay!\n"
     ]
    },
    {
     "name": "stdout",
     "output_type": "stream",
     "text": [
      "\n",
      " Hướng dẫn nạp tiền 789win qua các phương thức như chuyển khoản, Momo, Zalo Pay, Viettel Pay, eBanking, thẻ cào điện thoại \n",
      " _______________________________________________\n",
      "Hướng dẫn nạp tiền 789win - Tiện lợi, an toàn và nhanh chóng\n",
      "789win là một trong những nhà cái hàng đầu trong lĩnh vực cá độ trực tuyến, mang đến cho người chơi nhiều cơ hội thú vị và hấp dẫn. Để bắt đầu tham gia các trò chơi và cược tại 789win, bạn cần nạp tiền vào tài khoản của mình. Hãy cùng tìm hiểu hướng dẫn chi tiết về cách nạp tiền 789win thông qua các phương thức tiện lợi sau đây:\n",
      "1. Nạp tiền thông qua chuyển khoản ngân hàng\n",
      "Bước 1: Đăng nhập vào tài khoản 789win.\n",
      "Bước 2: Truy cập vào mục \"Nạp tiền\" hoặc \"Nạp khoản\" trên giao diện tài khoản.\n",
      "Bước 3: Chọn phương thức \"Chuyển khoản ngân hàng\".\n",
      "Bước 4: Lựa chọn ngân hàng mà bạn đang sử dụng.\n",
      "Bước 5: Nhập số tiền bạn muốn nạp và xác nhận thông tin.\n",
      "Bước 6: Thực hiện chuyển khoản theo thông tin ngân hàng được cung cấp.\n",
      "Bước 7: Chờ xác nhận từ 789win, tiền sẽ được cộng vào tài khoản sau khi giao dịch thành công.\n",
      "2. Nạp tiền qua các ví điện tử: Momo, Zalo Pay, Viettel Pay\n",
      "Bước 1: Đăng nhập vào tài khoản 789win.\n",
      "Bước 2: Truy cập vào mục \"Nạp tiền\" hoặc \"Nạp khoản\" trên giao diện tài khoản.\n",
      "Bước 3: Chọn phương thức nạp tiền qua ví điện tử như Momo, Zalo Pay, Viettel Pay.\n",
      "Bước 4: Nhập số tiền bạn muốn nạp và xác nhận thông tin.\n",
      "Bước 5: Đăng nhập vào ví điện tử của bạn để xác nhận giao dịch.\n",
      "Bước 6: Sau khi giao dịch thành công, tiền sẽ được cộng vào tài khoản 789win ngay lập tức.\n",
      "3. Nạp tiền qua eBanking\n",
      "Bước 1: Đăng nhập vào tài khoản 789win.\n",
      "Bước 2: Truy cập vào mục \"Nạp tiền\" hoặc \"Nạp khoản\" trên giao diện tài khoản.\n",
      "Bước 3: Chọn phương thức nạp tiền qua eBanking.\n",
      "Bước 4: Chọn ngân hàng mà bạn đang sử dụng.\n",
      "Bước 5: Nhập số tiền bạn muốn nạp và xác nhận thông tin.\n",
      "Bước 6: Chuyển đến trang eBanking của ngân hàng để thực hiện giao dịch.\n",
      "Bước 7: Sau khi giao dịch thành công, tiền sẽ được cộng vào tài khoản 789win.\n",
      "4. Nạp tiền bằng thẻ cào điện thoại\n",
      "Bước 1: Đăng nhập vào tài khoản 789win.\n",
      "Bước 2: Truy cập vào mục \"Nạp tiền\" hoặc \"Nạp khoản\" trên giao dịch tài khoản.\n",
      "Bước 3: Chọn phương thức nạp tiền bằng thẻ cào điện thoại.\n",
      "Bước 4: Nhập mã số thẻ cào và số lượng tiền bạn muốn nạp.\n",
      "Bước 5: Xác nhận thông tin và hoàn tất giao dịch.\n",
      "Bước 6: Sau khi nạp tiền thành công, số tiền tương ứng sẽ được cộng vào tài khoản 789win.\n",
      "Lưu ý khi nạp tiền 789win:\n",
      "Hãy kiểm tra lại thông tin giao dịch trước khi xác nhận để tránh sai sót.\n",
      "Thời gian xử lý giao dịch và phí nạp tiền có thể thay đổi tùy vào từng phương thức thanh toán.\n",
      "Nếu gặp bất kỳ vấn đề nào trong quá trình nạp tiền, hãy liên hệ ngay với bộ phận hỗ trợ khách hàng của 789win để được giúp đỡ.\n",
      "Với những phương thức nạp tiền đa dạng và tiện lợi, bạn có thể dễ dàng nạp tiền vào tài khoản 789win để tham gia vào các trò chơi và cược độc đáo, hấp dẫn. Hãy trải nghiệm và tận hưởng niềm vui cá độ trực tuyến cùng 789win ngay hôm nay!\n",
      "\n",
      " Hướng dẫn rút tiền 789win \n",
      " _______________________________________________\n",
      "Hướng dẫn rút tiền 789win - Tiện lợi, nhanh chóng và an toàn\n",
      "789win là một trong những nhà cái uy tín và chất lượng trong lĩnh vực cá độ trực tuyến, mang đến cho người chơi những trải nghiệm thú vị và hấp dẫn. Sau khi thắng lớn hoặc muốn rút lại số tiền đã thắng trong các trận đấu, bạn có thể dễ dàng rút tiền từ tài khoản của mình. Hãy cùng tìm hiểu hướng dẫn chi tiết về cách rút tiền 789win một cách đơn giản và an toàn.\n",
      "Bước 1: Đăng nhập vào tài khoản 789win\n",
      "Trước tiên, bạn cần đăng nhập vào tài khoản 789win của mình bằng tên đăng nhập và mật khẩu đã đăng ký trước đó. Nếu bạn chưa có tài khoản, hãy thực hiện đăng ký và xác minh thông tin tài khoản theo hướng dẫn của nhà cái.\n",
      "Bước 2: Truy cập vào mục \"Rút tiền\"\n",
      "Sau khi đăng nhập thành công, bạn hãy truy cập vào mục \"Rút tiền\" hoặc \"Rút khoản\" trên giao diện tài khoản. Mục này thường nằm ở phía trên hoặc dưới trang web, dễ dàng để bạn tìm thấy.\n",
      "Bước 3: Chọn phương thức rút tiền\n",
      "789win cung cấp nhiều phương thức rút tiền đa dạng để bạn lựa chọn. Hãy chọn phương thức rút tiền phù hợp và tiến hành điền thông tin cần thiết.\n",
      "Bước 4: Điền thông tin rút tiền\n",
      "Nếu bạn chọn rút tiền qua chuyển khoản ngân hàng, hãy cung cấp thông tin số tài khoản và tên ngân hàng của bạn.\n",
      "Nếu bạn muốn rút tiền qua ví điện tử, hãy cung cấp thông tin tài khoản ví điện tử của bạn như Momo, Zalo Pay, Viettel Pay.\n",
      "Nếu bạn chọn rút tiền qua thẻ cào điện thoại, hãy nhập mã số thẻ cào và số lượng tiền bạn muốn rút.\n",
      "Bước 5: Xác nhận thông tin và hoàn tất giao dịch\n",
      "Kiểm tra kỹ thông tin đã điền, đảm bảo chúng chính xác và không có sai sót. Sau khi xác nhận thông tin, hãy hoàn tất giao dịch.\n",
      "Lưu ý khi rút tiền 789win:\n",
      "Thời gian xử lý giao dịch rút tiền có thể thay đổi tùy vào từng phương thức rút tiền.\n",
      "Nếu bạn gặp bất kỳ khó khăn hoặc vấn đề gì trong quá trình rút tiền, hãy liên hệ với bộ phận hỗ trợ khách hàng của 789win để được hỗ trợ.\n",
      "Tổng kết\n",
      "Như vậy, với hướng dẫn rút tiền 789win đơn giản và dễ thực hiện, bạn có thể dễ dàng rút tiền từ tài khoản của mình một cách nhanh chóng và an toàn. Cảm nhận sự tiện lợi và trải nghiệm cá độ trực tuyến tuyệt vời cùng 789win, một địa chỉ đáng tin cậy và chất lượng cho các tín đồ yêu thích lĩnh vực cá độ trực tuyến.\n",
      "\n",
      " Hướng dẫn tham gia khuyến mãi \n",
      " _______________________________________________\n",
      "Hướng dẫn tham gia khuyến mãi tại 789win - Tận hưởng những ưu đãi hấp dẫn\n",
      "789win là một trong những nhà cái hàng đầu về cá độ trực tuyến, nơi mang đến cho người chơi không chỉ những trận cược hấp dẫn mà còn cơ hội nhận được những khuyến mãi hấp dẫn. Với sự đa dạng và phong phú của các chương trình khuyến mãi, bạn sẽ được tận hưởng nhiều ưu đãi giá trị. Hãy cùng tìm hiểu hướng dẫn tham gia khuyến mãi tại 789win để không bỏ lỡ bất kỳ cơ hội nào.\n",
      "Bước 1: Đăng nhập vào tài khoản 789win\n",
      "Trước tiên, bạn cần đăng nhập vào tài khoản cá độ 789win bằng tên đăng nhập và mật khẩu đã đăng ký trước đó. Nếu bạn chưa có tài khoản, hãy thực hiện đăng ký theo hướng dẫn của nhà cái để trở thành thành viên của cộng đồng cá độ trực tuyến 789win.\n",
      "Bước 2: Kiểm tra các chương trình khuyến mãi hiện có\n",
      "Sau khi đăng nhập vào tài khoản, bạn hãy truy cập vào mục \"Khuyến mãi\" hoặc \"Ưu đãi\" trên giao diện tài khoản. Tại đây, bạn sẽ thấy danh sách các chương trình khuyến mãi hiện có, cùng với những ưu đãi và giá trị mà chúng mang lại.\n",
      "Bước 3: Đọc kỹ thông tin chi tiết về khuyến mãi\n",
      "Mỗi chương trình khuyến mãi sẽ có điều kiện và quy định riêng, vì vậy bạn nên đọc kỹ thông tin chi tiết của từng khuyến mãi để hiểu rõ về cách tham gia và nhận ưu đãi. Hãy lưu ý các yêu cầu về số tiền cược tối thiểu, thời gian áp dụng khuyến mãi, và các điều kiện khác.\n",
      "Bước 4: Tham gia khuyến mãi\n",
      "Sau khi đã đọc kỹ thông tin về khuyến mãi và đảm bảo bạn đáp ứng đủ các yêu cầu, hãy tiến hành tham gia chương trình. Đôi khi, bạn sẽ cần nhập mã khuyến mãi hoặc đăng ký tham gia qua link được cung cấp.\n",
      "Bước 5: Nhận ưu đãi và thưởng thức trải nghiệm cá độ\n",
      "Sau khi hoàn tất việc tham gia khuyến mãi, hãy kiểm tra tài khoản của mình để xác nhận việc nhận ưu đãi. Tiền thưởng và phần quà sẽ được cập nhật vào tài khoản của bạn, và bạn có thể sử dụng chúng để thưởng thức những trận cược thú vị trên 789win.\n",
      "Lưu ý khi tham gia khuyến mãi 789win:\n",
      "Hãy tuân thủ các quy định và điều kiện của từng chương trình khuyến mãi để tránh mất quyền lợi.\n",
      "Liên hệ với bộ phận hỗ trợ khách hàng của 789win nếu bạn cần thêm thông tin hoặc gặp vấn đề trong quá trình tham gia khuyến mãi.\n",
      "Tổng kết\n",
      "Tham gia khuyến mãi tại 789win là cách tuyệt vời để tận hưởng những ưu đãi hấp dẫn và gia tăng cơ hội chiến thắng trong lĩnh vực cá độ trực tuyến. Hãy đảm bảo bạn đọc kỹ và hiểu rõ các điều kiện của từng chương trình khuyến mãi để không bỏ lỡ bất kỳ cơ hội giá trị nào. Chào đón những khoảnh khắc thăng hoa và niềm vui trọn vẹn với 789win, một thương hiệu đáng tin cậy và chất lượng trong thế giới cá độ trực tuyến.\n",
      "\n",
      " Giới thiệu các trò chơi của nhà cái 789win \n",
      " _______________________________________________\n",
      "Giới thiệu các trò chơi hấp dẫn tại 789win - Trải nghiệm đỉnh cao trong cá độ trực tuyến\n",
      "789win là một trong những nhà cái uy tín và chất lượng hàng đầu trong lĩnh vực cá độ trực tuyến. Với sự đa dạng và phong phú của các trò chơi, người chơi tại 789win có cơ hội tham gia vào những trận cược hấp dẫn và trải nghiệm đỉnh cao của sự chơi đùa với vận may. Dưới đây là một số trò chơi nổi bật tại 789win mà bạn không thể bỏ qua.\n",
      "1. Cá cược thể thao\n",
      "Cá cược thể thao là một trong những điểm mạnh của 789win. Tại đây, bạn có thể đặt cược vào các môn thể thao hàng đầu thế giới như bóng đá, bóng rổ, tennis, đua ngựa và nhiều môn thể thao khác. Với cơ hội thắng cược cao và các tùy chọn đặt cược đa dạng, bạn sẽ luôn có những phút giây hồi hộp và thú vị khi xem trận đấu yêu thích.\n",
      "2. Sòng bạc trực tuyến\n",
      "789win cung cấp một loạt các trò chơi sòng bạc trực tuyến đa dạng, từ những trò chơi kinh điển như blackjack, roulette, poker, đến các trò chơi slot đa dạng với đồ họa sống động và âm thanh chân thực. Bạn sẽ được hòa mình vào không gian sòng bạc thực sự với sự chuyên nghiệp của các đại gia chia bài và phục vụ.\n",
      "3. Cá cược eSports\n",
      "Với sự phát triển mạnh mẽ của eSports, 789win đã không bỏ lỡ xu hướng này. Bạn có thể tham gia cá cược vào các giải đấu eSports hàng đầu như League of Legends (LoL), Dota 2, CS:GO và nhiều tựa game khác. Điều này mang lại cơ hội thắng cược và trải nghiệm giải trí mới mẻ cho những người yêu thích eSports.\n",
      "4. Xổ số và Keno\n",
      "Nếu bạn là người yêu thích may mắn và thích thử vận may với những con số, thì xổ số và Keno tại 789win chắc chắn là sự lựa chọn hoàn hảo. Hãy đánh đề và đoán số may mắn của bạn để có cơ hội nhận được những phần thưởng hấp dẫn.\n",
      "5. Game bắn cá\n",
      "Nếu bạn thích sự thú vị và phiêu lưu, game bắn cá sẽ là sự lựa chọn tuyệt vời. Tại 789win, bạn có thể tham gia vào những cuộc săn cá kịch tính và săn lùng những kho báu vô cùng giá trị.\n",
      "6. Poker và các trò chơi bài truyền thống\n",
      "789win cung cấp một loạt các trò chơi bài truyền thống như Poker, Baccarat, Rồng Hổ và nhiều trò chơi khác. Hãy thể hiện tài năng và chiến lược của bạn để giành chiến thắng và đạt được những khoản thưởng lớn.\n",
      "Kết luận\n",
      "Với sự đa dạng và phong phú của các trò chơi, 789win là điểm đến lý tưởng cho những người yêu thích cá độ trực tuyến. Hãy tham gia vào những trò chơi hấp dẫn và trải nghiệm cảm giác thăng hoa khi giành chiến thắng cùng với thương hiệu 789win uy tín và chất lượng.\n"
     ]
    },
    {
     "name": "stdout",
     "output_type": "stream",
     "text": [
      "\n",
      " Kho game bài đổi thưởng 789win  \n",
      " _______________________________________________\n",
      "Kho Game Bài Đổi Thưởng 789win - Trải Nghiệm Sòng Bài Đỉnh Cao\n",
      "789win là một trong những nhà cái hàng đầu trong lĩnh vực cá độ trực tuyến với hàng ngàn trò chơi hấp dẫn, trong đó có một kho game bài đổi thưởng đa dạng và phong phú. Với mục tiêu mang lại trải nghiệm sòng bài đỉnh cao cho người chơi, 789win không ngừng cập nhật và phát triển các game bài mới nhất từ những nhà cung cấp uy tín trên thế giới. Dưới đây là một số game bài nổi bật mà bạn không thể bỏ qua khi tham gia vào kho game bài đa dạng của 789win.\n",
      "1. Poker\n",
      "Poker là một trò chơi bài dân gian được yêu thích trên khắp thế giới, và bạn có thể tận hưởng nhịp đập của trò chơi này tại 789win. Dù bạn là người mới bắt đầu hay là cao thủ với nhiều kinh nghiệm, 789win đều cung cấp các phiên bản poker phong phú và các cấp độ cược khác nhau để đáp ứng nhu cầu của tất cả người chơi.\n",
      "2. Baccarat\n",
      "Baccarat là trò chơi bài truyền thống có sức hút lớn trong giới đại gia. Tại 789win, bạn có thể thử sức mình với baccarat và cảm nhận không khí sang trọng của sòng bài thực tế ngay tại gia đình. Cược vào tay người hoặc tay ngân hàng và cảm nhận sự hồi hộp của việc chờ đợi kết quả.\n",
      "3. Rồng Hổ\n",
      "Rồng Hổ là trò chơi bài đơn giản nhưng hấp dẫn với cơ hội thắng lớn. Bạn chỉ cần đặt cược vào Rồng hoặc Hổ, và người chia bài sẽ quyết định người thắng cuộc. Với luật chơi dễ hiểu và cơ hội thắng cao, Rồng Hổ là một trò chơi được nhiều người chơi ưa thích.\n",
      "4. Blackjack\n",
      "Blackjack là một trong những trò chơi bài phổ biến nhất trên thế giới và cũng có mặt trong kho game bài đổi thưởng của 789win. Bạn sẽ được đối đầu với nhà cái và cố gắng tạo ra bộ bài có tổng điểm cao hơn nhà cái nhưng không vượt quá 21.\n",
      "5. Slot Game\n",
      "Không thể thiếu trong một kho game bài đa dạng là các trò chơi slot game. 789win cung cấp hàng trăm slot game với đủ chủ đề và độ thưởng hấp dẫn. Dễ chơi và có khả năng thắng lớn, các slot game sẽ mang lại cho bạn những giờ phút giải trí tuyệt vời.\n",
      "Kết Luận\n",
      "Kho game bài đổi thưởng tại 789win đem lại cho người chơi những trải nghiệm sòng bài đỉnh cao, từ những trò chơi kinh điển đến những phiên bản mới lạ. Với sự đa dạng và chất lượng của các trò chơi, bạn sẽ luôn tìm thấy những lựa chọn phù hợp với sở thích và mức độ kinh nghiệm của mình tại thương hiệu 789win uy tín và đáng tin cậy.\n",
      "\n",
      " Xóc dĩa \n",
      " _______________________________________________\n",
      "Xóc Dĩa - Trò Chơi Độc Đáo Tại Nhà Cái 789win\n",
      "Xóc dĩa là một trong những trò chơi độc đáo và hấp dẫn tại nhà cái 789win. Trò chơi này kết hợp giữa sự may mắn và kỹ năng đoán định, đem lại những giây phút thú vị và hứng thú cho người chơi. Với cơ hội thắng lớn và tính chất hấp dẫn, xóc dĩa đã trở thành một trong những trò chơi được yêu thích tại 789win.\n",
      "1. Nguồn Gốc Và Luật Chơi\n",
      "Xóc dĩa có nguồn gốc từ Trung Quốc và từng được biết đến với tên gọi \"bầu cua cá cọp\". Trò chơi sử dụng một bộ bài gồm 3 con xúc xắc với các hình ảnh là bầu cua (cá), cá ngựa (cọp), gà, tôm, chim và nai. Người chơi sẽ đặt cược vào các hình ảnh mà họ cho là sẽ xuất hiện sau khi xúc xắc được tung.\n",
      "2. Cách Chơi Xóc Dĩa Tại 789win\n",
      "Tại 789win, việc tham gia xóc dĩa rất đơn giản. Sau khi đăng nhập vào tài khoản, người chơi chọn mục \"Xóc Dĩa\" trong danh sách các trò chơi. Tiếp theo, họ sẽ đặt cược vào các hình ảnh theo ý muốn. Khi đặt cược hoàn tất, người chơi sẽ nhấn nút \"Xóc\" để tung xúc xắc và chờ đợi kết quả.\n",
      "3. Cơ Hội Thắng Lớn\n",
      "Xóc dĩa là một trò chơi may rủi, nhưng người chơi có thể áp dụng một số chiến lược và kỹ thuật để tăng cơ hội thắng. Thông qua việc dự đoán chính xác hình ảnh xuất hiện, người chơi có thể giành được các phần thưởng hấp dẫn từ nhà cái 789win.\n",
      "4. An Toàn Và Đáng Tin Cậy\n",
      "789win là một nhà cái uy tín và đáng tin cậy, đảm bảo cung cấp trải nghiệm cá cược an toàn và bảo mật cho người chơi. Với hệ thống bảo mật tiên tiến và quy trình kiểm tra nghiêm ngặt, người chơi có thể yên tâm tham gia xóc dĩa và các trò chơi khác tại 789win.\n",
      "Kết Luận\n",
      "Xóc dĩa là một trò chơi độc đáo và thú vị tại nhà cái 789win. Với luật chơi đơn giản và cơ hội thắng lớn, người chơi có thể tận hưởng những giây phút giải trí và hứng thú. Được hỗ trợ bởi môi trường an toàn và đáng tin cậy, xóc dĩa là một lựa chọn tuyệt vời cho những ai đam mê trải nghiệm sòng bài trực tuyến.\n",
      "\n",
      " Tiến Lên Miền Nam \n",
      " _______________________________________________\n",
      "Tiến Lên Miền Nam - Trò Chơi Phổ Biến Tại Nhà Cái 789win\n",
      "Tiến Lên Miền Nam là một trò chơi bài đơn giản nhưng hấp dẫn, thuộc danh mục các trò chơi cá độ phổ biến tại nhà cái 789win. Với sự kết hợp giữa may mắn và kỹ năng, trò chơi này đã thu hút hàng triệu người chơi yêu thích đánh bài trực tuyến. Với cơ hội giành chiến thắng và sự tận hưởng trong không gian giải trí, Tiến Lên Miền Nam trở thành một trong những trò chơi hot nhất tại 789win.\n",
      "1. Nguồn Gốc Và Luật Chơi\n",
      "Tiến Lên Miền Nam có nguồn gốc từ Việt Nam và là một trong các trò chơi phổ biến nhất trong dân gian. Trò chơi sử dụng một bộ bài tiêu chuẩn gồm 52 lá và có thể chơi từ 2 đến 4 người. Mục tiêu của người chơi là giành chiến thắng bằng cách đánh hết bài trước các đối thủ.\n",
      "2. Cách Chơi Tiến Lên Miền Nam Tại 789win\n",
      "Tại nhà cái 789win, việc tham gia Tiến Lên Miền Nam rất đơn giản. Người chơi chỉ cần đăng nhập vào tài khoản của mình và truy cập vào mục \"Tiến Lên Miền Nam\" trong danh sách các trò chơi. Sau đó, họ có thể tham gia các bàn chơi khác nhau và đấu trí với các đối thủ người chơi khác.\n",
      "3. Cơ Hội Thắng Lớn\n",
      "Tiến Lên Miền Nam là một trò chơi kỳ thú và vui nhộn, nơi người chơi có thể thể hiện tài năng và kỹ năng đánh bài của mình. Dựa vào khả năng phân tích tình hình và đánh giá thẻ bài, người chơi có thể giành chiến thắng và giành được những phần thưởng hấp dẫn từ nhà cái 789win.\n",
      "4. An Toàn Và Đáng Tin Cậy\n",
      "789win là một nhà cái cá độ uy tín và đáng tin cậy, cam kết cung cấp trải nghiệm cá cược an toàn và bảo mật cho người chơi. Với hệ thống bảo mật tiên tiến và chính sách đảm bảo sự công bằng trong trò chơi, người chơi có thể yên tâm tham gia Tiến Lên Miền Nam và các trò chơi khác tại 789win.\n",
      "Kết Luận\n",
      "Tiến Lên Miền Nam là một trò chơi bài thú vị và phổ biến tại nhà cái 789win. Với luật chơi đơn giản và cơ hội thắng lớn, người chơi có thể tận hưởng những giây phút giải trí và thử thách khả năng đánh bài của mình. Được hỗ trợ bởi môi trường an toàn và đáng tin cậy, Tiến Lên Miền Nam là một lựa chọn tuyệt vời cho những ai yêu thích trò chơi bài trực tuyến tại nhà cái 789win.\n",
      "\n",
      " Sâm lốc \n",
      " _______________________________________________\n",
      "Sâm Lốc - Trò Chơi Đậm Chất Việt Nam Tại Nhà Cái 789win\n",
      "Sâm Lốc là một trò chơi bài truyền thống phổ biến của người Việt Nam, và hiện nay đã có mặt trên nền tảng cá độ trực tuyến tại nhà cái 789win. Với tính chất hấp dẫn, chiến thuật và may mắn, Sâm Lốc đã thu hút hàng triệu người chơi yêu thích đánh bài và tìm kiếm niềm vui trong không gian giải trí tại 789win.\n",
      "1. Nguồn Gốc Và Luật Chơi\n",
      "Sâm Lốc là một trò chơi bài dân gian có nguồn gốc từ Việt Nam. Trò chơi này thường được chơi bởi 2-4 người và sử dụng một bộ bài tiêu chuẩn gồm 52 lá. Mục tiêu của người chơi là đánh bài sao cho tổng giá trị các lá bài trên tay lớn nhất, để giành chiến thắng trong ván đấu.\n",
      "2. Cách Chơi Sâm Lốc Tại 789win\n",
      "Tại nhà cái 789win, việc tham gia Sâm Lốc rất đơn giản. Người chơi chỉ cần đăng nhập vào tài khoản của mình và truy cập vào mục \"Sâm Lốc\" trong danh sách các trò chơi bài. Sau đó, họ có thể tham gia vào các bàn chơi và thách đấu với các đối thủ khác, đồng thời cạnh tranh để giành chiến thắng và giải thưởng hấp dẫn.\n",
      "3. Cơ Hội Chiến Thắng Lớn\n",
      "Sâm Lốc là một trò chơi đòi hỏi người chơi phải có chiến thuật, sự tinh tế trong việc đánh bài và khả năng đọc tình hình của đối thủ. Điều này tạo ra những trận đấu kịch tính và hấp dẫn, nơi người chơi có thể thể hiện tài năng và may mắn để giành chiến thắng và giải thưởng lớn từ nhà cái 789win.\n",
      "4. An Toàn Và Đáng Tin Cậy\n",
      "789win là một nhà cái cá độ uy tín và đáng tin cậy, mang đến trải nghiệm cá cược an toàn và bảo mật cho người chơi. Với hệ thống bảo mật tiên tiến và chính sách đảm bảo sự công bằng trong trò chơi, người chơi có thể yên tâm tham gia Sâm Lốc và các trò chơi khác tại 789win.\n",
      "Kết Luận\n",
      "Sâm Lốc là một trò chơi bài truyền thống của Việt Nam đã có mặt trên nền tảng cá độ trực tuyến tại nhà cái 789win. Với luật chơi đơn giản nhưng kịch tính, Sâm Lốc tạo ra những trận đấu đầy thú vị và hấp dẫn. Được hỗ trợ bởi môi trường an toàn và đáng tin cậy, Sâm Lốc là một trong những lựa chọn hàng đầu cho những ai yêu thích trò chơi bài tại nhà cái 789win.\n"
     ]
    },
    {
     "name": "stdout",
     "output_type": "stream",
     "text": [
      "\n",
      " Poker \n",
      " _______________________________________________\n",
      "Poker - Trò Chơi Đỉnh Cao Tại Nhà Cái 789win\n",
      "Poker là một trong những trò chơi đỉnh cao và phổ biến nhất trong lĩnh vực cá độ trực tuyến, và nhà cái 789win là một trong những địa chỉ uy tín và đáng tin cậy để trải nghiệm trò chơi này. Với sự hấp dẫn của luật chơi và cơ hội giành chiến thắng lớn, Poker đã thu hút rất nhiều người chơi đam mê và là điểm đến lý tưởng cho những ai yêu thích thử thách và cảm giác mạnh trong trò chơi bài.\n",
      "1. Poker - Trò Chơi Chiến Thuật Và Tài Năng\n",
      "Poker không chỉ là một trò chơi may rủi, mà còn đòi hỏi người chơi phải có chiến thuật, tài năng đánh bài và khả năng đọc tình hình của đối thủ. Người chơi sẽ đối mặt với nhiều tình huống khó khăn, từ việc xác định thế mạnh của tay bài, đến việc đặt cược hợp lý và ăn gian nhằm lấy lòng đối thủ. Điều này tạo ra những trận đấu đầy thú vị và hấp dẫn, nơi người chơi có thể thể hiện tài năng và chiến thuật của mình.\n",
      "2. Đa Dạng Các Biến Thể Poker\n",
      "Poker có nhiều biến thể khác nhau, từ Texas Hold'em phổ biến đến Omaha, Razz, Seven-Card Stud và nhiều biến thể khác. Tại nhà cái 789win, người chơi có cơ hội trải nghiệm những biến thể này và thách thức bản thân trong môi trường cá cược trực tuyến chuyên nghiệp và đáng tin cậy.\n",
      "3. Poker Tại 789win - Sự Lựa Chọn Hàng Đầu\n",
      "Nhà cái 789win đưa Poker lên một tầm cao mới với các bàn chơi đa dạng và cơ hội tham gia giải đấu lớn. Người chơi có thể tham gia vào các bàn chơi với mức cược phù hợp với khả năng của mình, từ cược nhỏ cho người mới bắt đầu đến cược cao cho những người chơi kỳ cựu. Hơn thế nữa, nhà cái 789win cung cấp các giải đấu hấp dẫn với giải thưởng lớn, là nơi người chơi có cơ hội thể hiện tài năng và giành chiến thắng với số tiền đáng kể.\n",
      "4. An Toàn Và Bảo Mật\n",
      "789win cam kết đem đến trải nghiệm cá cược an toàn và bảo mật cho người chơi Poker. Với hệ thống bảo mật tiên tiến, thông tin cá nhân và tài khoản của người chơi được bảo vệ một cách tối đa. Đồng thời, việc sử dụng công nghệ đảm bảo sự công bằng trong trò chơi, người chơi có thể yên tâm tham gia Poker tại 789win.\n",
      "Kết Luận\n",
      "Poker là một trò chơi bài đỉnh cao và phổ biến trong lĩnh vực cá độ trực tuyến, và 789win là nơi người chơi có thể thử thách và thể hiện tài năng của mình. Với các biến thể đa dạng, cơ hội giành chiến thắng lớn và môi trường an toàn, Poker tại 789win là sự lựa chọn hàng đầu cho những ai yêu thích trải nghiệm cá cược đỉnh cao và thú vị.\n",
      "\n",
      " Cá cược thể thao 789win \n",
      " _______________________________________________\n",
      "Cá Cược Thể Thao tại 789win - Đắm Chìm Trong Sự Hứng Thú Và Hấp Dẫn\n",
      "789win là một trong những nhà cái hàng đầu về cá độ trực tuyến, đáng tin cậy và uy tín trên thị trường. Với đa dạng các sự kiện thể thao và lợi ích hấp dẫn, 789win là điểm đến lý tưởng cho những người yêu thích cá cược thể thao. Dưới đây là những điểm nổi bật về cá cược thể thao tại 789win.\n",
      "1. Đa Dạng Các Môn Thể Thao\n",
      "789win cung cấp cá cược trên đa dạng các môn thể thao phổ biến và độc đáo. Người chơi có thể đặt cược vào bóng đá, bóng rổ, quần vợt, cầu lông, đua xe, golf, MMA và nhiều môn thể thao khác. Việc có nhiều môn thể thao để lựa chọn giúp người chơi không chỉ tham gia vào những sự kiện thể thao phổ biến mà còn khám phá những môn thể thao mới thú vị.\n",
      "2. Cược Trước Trận và Cược Trực Tiếp\n",
      "789win cung cấp cả cược trước trận và cược trực tiếp, cho phép người chơi có thể đặt cược trước khi trận đấu bắt đầu hoặc theo dõi trực tiếp và đặt cược trong quá trình diễn ra trận đấu. Việc cược trực tiếp mang lại cảm giác hồi hộp và thú vị, đồng thời giúp người chơi có thể tận dụng tối đa cơ hội chiến thắng.\n",
      "3. Các Loại Cược Đa Dạng\n",
      "789win cung cấp một loạt các loại cược đa dạng, từ cược châu Á, cược châu Âu, cược điểm số, cược tỷ số chính xác và nhiều loại cược khác. Người chơi có thể tự do lựa chọn loại cược phù hợp với kiểu chơi và hiểu biết của mình, tạo ra sự đa dạng và linh hoạt trong việc đặt cược.\n",
      "4. Thưởng Chào Mừng Và Khuyến Mãi Hấp Dẫn\n",
      "789win mang đến những ưu đãi hấp dẫn cho người chơi mới và thường xuyên. Thưởng chào mừng giúp người chơi có thêm vốn để bắt đầu, trong khi các chương trình khuyến mãi thường xuyên mang đến các phần thưởng và giải thưởng hấp dẫn cho những khách hàng trung thành.\n",
      "5. An Toàn Và Bảo Mật\n",
      "789win cam kết đem đến môi trường cá cược an toàn và bảo mật cho người chơi. Hệ thống bảo mật tiên tiến và công nghệ SSL đảm bảo thông tin cá nhân và tài khoản của người chơi được bảo vệ một cách tối đa.\n",
      "Kết Luận\n",
      "Cá cược thể thao tại 789win là một trải nghiệm đáng chờ đợi cho những người yêu thích thể thao và đam mê cá độ trực tuyến. Với đa dạng các môn thể thao, loạt các loại cược, cùng với sự hấp dẫn của thưởng chào mừng và khuyến mãi, 789win hứa hẹn mang đến những trận cược đỉnh cao và những giờ phút sảng khoái cho người chơi. Đặc biệt, sự an toàn và bảo mật được đảm bảo, giúp người chơi yên tâm tận hưởng niềm vui cá cược thể thao.\n",
      "\n",
      " Game nổ hũ \n",
      " _______________________________________________\n",
      "Game Nổ Hũ tại 789win - Sự Kết Hợp Giữa Thịnh Hành Và Hấp Dẫn\n",
      "789win là một trong những nhà cái uy tín và phổ biến trong lĩnh vực cá độ trực tuyến. Không chỉ nổi tiếng với việc cung cấp cá cược thể thao đa dạng, 789win còn là điểm đến lý tưởng cho những ai yêu thích trò chơi nổ hũ đầy thú vị. Dưới đây là những điểm nổi bật về game nổ hũ tại 789win.\n",
      "1. Đa Dạng Các Trò Chơi Nổ Hũ\n",
      "789win tự hào có một bộ sưu tập đa dạng các trò chơi nổ hũ hấp dẫn. Từ những trò chơi nổ hũ cổ điển đến các phiên bản hiện đại và độc đáo, người chơi sẽ được trải nghiệm không giới hạn các lựa chọn đa dạng, mang đến niềm vui và sự phấn khích không ngừng.\n",
      "2. Giao Diện Thân Thiện Và Dễ Sử Dụng\n",
      "Game nổ hũ trên 789win được thiết kế với giao diện thân thiện, dễ sử dụng cho cả người chơi mới và có kinh nghiệm. Người chơi có thể dễ dàng tìm hiểu và tham gia vào trò chơi mà không cần phải mất nhiều thời gian để làm quen.\n",
      "3. Độ Thưởng Cao Và Hấp Dẫn\n",
      "Game nổ hũ tại 789win hứa hẹn mang đến những giờ phút giải trí thú vị và cơ hội trúng thưởng cao. Những phần thưởng hấp dẫn như tiền mặt, quà tặng và cược miễn phí là những điểm nhấn đặc biệt khiến game nổ hũ trở nên hấp dẫn và cuốn hút người chơi.\n",
      "4. An Toàn Và Đáng Tin Cậy\n",
      "789win cam kết cung cấp môi trường cá cược trực tuyến an toàn và đáng tin cậy cho người chơi. Các trò chơi nổ hũ được kiểm tra chặt chẽ và công bằng, đảm bảo tính minh bạch và công bằng cho tất cả người chơi.\n",
      "5. Hỗ Trợ Khách Hàng Tận Tâm\n",
      "789win có đội ngũ hỗ trợ khách hàng tận tâm và chuyên nghiệp, sẵn sàng giải đáp mọi thắc mắc và hỗ trợ người chơi trong suốt quá trình chơi game nổ hũ.\n",
      "Kết Luận\n",
      "Game nổ hũ tại 789win mang đến sự kết hợp hoàn hảo giữa thịnh hành và hấp dẫn. Với đa dạng các trò chơi, độ thưởng cao, giao diện thân thiện và an toàn, người chơi sẽ tận hưởng những giờ phút thư giãn và đắm chìm trong sự hứng thú của trò chơi nổ hũ tại 789win. Hãy tham gia ngay và khám phá niềm vui thú vị mà trò chơi này mang lại!\n",
      "\n",
      " Bắn cá \n",
      " _______________________________________________\n",
      "Bắn Cá - Trải Nghiệm Cuồng Nhiệt Và Giải Trí Tại 789win\n",
      "Giới Thiệu Về Trò Chơi Bắn Cá\n",
      "Bắn Cá là một trong những trò chơi hấp dẫn và cuốn hút tại nhà cái 789win. Được phát triển dựa trên cơ chế đơn giản và lối chơi thú vị, trò chơi Bắn Cá đã thu hút hàng triệu người chơi tham gia trên toàn thế giới. Điểm đặc biệt của trò chơi này là tính kết hợp giữa các yếu tố bắn súng và cờ bạc, mang đến cảm giác mới mẻ và độc đáo cho người chơi.\n",
      "Cách Chơi Bắn Cá Tại 789win\n",
      "Trong trò chơi Bắn Cá, người chơi sẽ nhập vai vào một ngư dân thám hiểm biển cả với mục tiêu bắt cá và kiếm điểm số. Trò chơi diễn ra dưới dạng màn chơi trên nền tảng biển, và người chơi sẽ được trang bị súng bắn cá để săn lùng những con cá có giá trị khác nhau. Mỗi con cá bắn hạ sẽ mang lại điểm số tương ứng và cơ hội nhận thưởng giá trị.\n",
      "Đa Dạng Các Loại Cá Và Phần Thưởng Hấp Dẫn\n",
      "Trò chơi Bắn Cá tại 789win mang đến sự đa dạng với các loại cá khác nhau. Từ những con cá nhỏ đến những con cá khổng lồ, mỗi loại cá đều có giá trị điểm số và phần thưởng riêng. Người chơi có cơ hội săn bắt những con cá hiếm và quý giá, từ đó kiếm được số điểm cao và giành thắng lợi.\n",
      "Giao Diện Mượt Mà Và Hình Ảnh Sắc Nét\n",
      "Trò chơi Bắn Cá tại 789win được thiết kế với giao diện mượt mà và hình ảnh sắc nét. Đồ họa tinh tế và hiệu ứng âm thanh sống động giúp mang đến trải nghiệm chơi game chân thực như đang đứng giữa biển cả và bắn cá thả ga.\n",
      "Cơ Hội Nhận Thưởng Lớn Tại 789win\n",
      "Với tính chất kết hợp giữa trò chơi và cờ bạc, Bắn Cá tại 789win không chỉ đem lại niềm vui giải trí mà còn cơ hội giành thưởng lớn. Những phần thưởng giá trị như tiền mặt, quà tặng và cược miễn phí đang chờ đón người chơi thành công.\n",
      "Kết Luận\n",
      "Bắn Cá tại 789win là một trò chơi vô cùng hấp dẫn, đem lại trải nghiệm cuồng nhiệt và giải trí thú vị cho người chơi. Với cơ hội nhận thưởng lớn và giao diện đẹp mắt, Bắn Cá đã và đang làm hài lòng hàng triệu người chơi trên toàn thế giới. Hãy tham gia ngay vào trò chơi này tại 789win và khám phá niềm vui mới mẻ trong cuộc phiêu lưu săn cá đầy thú vị!\n"
     ]
    },
    {
     "name": "stdout",
     "output_type": "stream",
     "text": [
      "\n",
      " Game bài \n",
      " _______________________________________________\n",
      "Game Bài Tại 789win - Kho Tàng Giải Trí Vô Tận\n",
      "789win là một trong những nhà cái hàng đầu trong lĩnh vực cá độ trực tuyến, nổi tiếng với sự đa dạng và chất lượng của Kho Game Bài đẳng cấp. Với một loạt những tựa game bài hấp dẫn, 789win đã chinh phục hàng triệu người chơi trên khắp thế giới. Hãy cùng khám phá Kho Game Bài đa dạng và thú vị này tại 789win và trải nghiệm những giây phút giải trí không thể nào quên.\n",
      "1. Đa Dạng Thể Loại Game Bài\n",
      "Tại 789win, người chơi sẽ được trải nghiệm những trò chơi bài đa dạng với nhiều thể loại phong phú như Poker, Tiến Lên Miền Nam, Xì Tố, Mậu Binh, Baccarat, Blackjack, và nhiều trò chơi bài khác. Từ những trò chơi cổ điển đến những phiên bản hiện đại và sáng tạo, 789win cam kết mang đến sự đa dạng để đáp ứng mọi sở thích và yêu cầu của người chơi.\n",
      "2. Giao Diện Thân Thiện Và Trải Nghiệm Mượt Mà\n",
      "Với giao diện thân thiện và trải nghiệm mượt mà, người chơi sẽ dễ dàng tham gia vào các trò chơi bài yêu thích một cách nhanh chóng và thuận tiện. Đội ngũ thiết kế của 789win đã tạo ra môi trường trực tuyến tuyệt vời, giúp người chơi tập trung vào trò chơi và tận hưởng trọn vẹn niềm vui giải trí.\n",
      "3. Tính Cạnh Tranh Và Thưởng Lớn\n",
      "Với đội ngũ nhà cung cấp game uy tín và chất lượng, 789win mang đến cho người chơi trải nghiệm cạnh tranh và công bằng. Từng ván bài đều được giám sát chặt chẽ, đảm bảo tính minh bạch và công bằng cho mọi người chơi. Ngoài ra, những phần thưởng hấp dẫn và giá trị đang chờ đón những chiến thắng xuất sắc, giúp người chơi có cơ hội giành lợi nhuận hậu hĩnh.\n",
      "4. Hỗ Trợ Khách Hàng Chuyên Nghiệp\n",
      "789win cam kết đặt lợi ích của khách hàng lên hàng đầu. Với đội ngũ hỗ trợ khách hàng chuyên nghiệp, tận tâm và nhiệt tình, người chơi luôn được hỗ trợ một cách tận tâm và nhanh chóng trong mọi vấn đề liên quan đến trò chơi.\n",
      "Kết Luận\n",
      "Kho Game Bài đa dạng và hấp dẫn tại 789win là một điểm đến lý tưởng cho những tín đồ yêu thích trải nghiệm cá độ trực tuyến. Với sự kết hợp giữa tính cạnh tranh, đa dạng thể loại và hỗ trợ khách hàng chuyên nghiệp, 789win đang không ngừng đưa ra những cải tiến và phát triển, nhằm mang đến cho người chơi những trải nghiệm giải trí vô cùng tuyệt vời và thú vị. Hãy tham gia ngay vào 789win và khám phá Kho Game Bài đỉnh cao và đắm chìm trong không gian giải trí không giới hạn.\n",
      "\n",
      " Cá cược thể thao \n",
      " _______________________________________________\n",
      "Cá Cược Thể Thao Tại 789win - Sự Lựa Chọn Tuyệt Vời Cho Những Tín Đồ Môn Thể Thao\n",
      "Nhà cái 789win đã lựa chọn cung cấp dịch vụ cá cược thể thao uy tín và chất lượng cho người chơi yêu thích môn thể thao. Với đa dạng các môn thể thao từ bóng đá, bóng rổ, tennis, đến cầu lông, đấu vật và nhiều môn thể thao khác, 789win cam kết mang đến cho người chơi những trải nghiệm thú vị, hấp dẫn và cơ hội giành lợi nhuận không giới hạn.\n",
      "1. Đa Dạng Môn Thể Thao\n",
      "Tại 789win, người chơi có cơ hội tham gia cá cược trên đa dạng các môn thể thao, từ những giải đấu hàng đầu đến những sự kiện thể thao hấp dẫn như Euro, World Cup, NBA, Grand Slam, và nhiều giải đấu quốc tế và trong nước khác. Đội ngũ 789win luôn cập nhật kịp thời các sự kiện và tỷ lệ cược hấp dẫn, giúp người chơi có thể dễ dàng lựa chọn và đặt cược vào môn thể thao ưa thích của mình.\n",
      "2. Tỉ Lệ Cược Cạnh Tranh\n",
      "789win cam kết cung cấp tỉ lệ cược cạnh tranh và công bằng cho người chơi. Nhờ sự hợp tác với các nhà cung cấp cá cược hàng đầu, 789win đảm bảo người chơi sẽ nhận được những tỉ lệ cược tốt nhất và cơ hội giành thắng lợi cao. Điều này giúp người chơi tối ưu hóa cơ hội giành lợi nhuận từ những lựa chọn cá cược của mình.\n",
      "3. Trải Nghiệm Cá Cược Thú Vị\n",
      "Với giao diện trực quan và dễ sử dụng, việc đặt cược tại 789win trở nên đơn giản và thú vị. Người chơi có thể dễ dàng tham gia vào những trận đấu hấp dẫn và theo dõi kết quả cược một cách nhanh chóng. Hệ thống đặt cược thông minh của 789win giúp người chơi tận hưởng trải nghiệm cá cược thể thao một cách dễ dàng và thuận tiện.\n",
      "4. Hỗ Trợ Khách Hàng 24/7\n",
      "Đội ngũ hỗ trợ khách hàng của 789win hoạt động 24/7 để giải đáp mọi thắc mắc và hỗ trợ người chơi trong quá trình cá cược. Với tinh thần tận tâm và chuyên nghiệp, đội ngũ hỗ trợ sẵn sàng giúp đỡ người chơi một cách nhanh chóng và hiệu quả.\n",
      "Kết Luận\n",
      "Cá cược thể thao tại 789win là lựa chọn hoàn hảo cho những tín đồ yêu thích môn thể thao. Với sự đa dạng môn thể thao, tỉ lệ cược cạnh tranh, trải nghiệm thú vị và hỗ trợ khách hàng chuyên nghiệp, 789win không chỉ là một nhà cái cá độ uy tín mà còn là người bạn đồng hành đáng tin cậy cho những người yêu thích thể thao. Hãy tham gia ngay vào 789win và trải nghiệm cùng hàng triệu người chơi khác trên khắp thế giới.\n",
      "\n",
      " Live casino \n",
      " _______________________________________________\n",
      "Live Casino tại 789win - Trải Nghiệm Sòng Bài Chân Thực Từ Gia Đình\n",
      "Giới Thiệu Live Casino\n",
      "Nhà cái 789win mang đến trải nghiệm live casino chân thực và tuyệt vời như bạn đang tham gia vào một sòng bài trực tiếp từ gia đình. Với công nghệ livestreaming tiên tiến, người chơi có thể tham gia các trò chơi casino trực tuyến một cách sinh động, tận hưởng không khí hồi hộp và giành những phần thắng lớn ngay tại ngôi nhà của mình.\n",
      "1. Đa Dạng Trò Chơi\n",
      "Tại live casino của 789win, bạn sẽ được trải nghiệm đa dạng các trò chơi casino phong phú. Bao gồm Baccarat, Roulette, Blackjack và Sic Bo, tất cả đều được dẫn dắt bởi các nhà cái chuyên nghiệp, chia bài và quay xúc xắc trực tiếp. Điều này mang lại cảm giác như đang tham gia vào một sòng bài thực sự, nơi bạn có thể giao lưu với các đại gia đình khác và tận hưởng niềm vui chơi bài bạc.\n",
      "2. Giao Diện Trực Quan\n",
      "Với giao diện live casino của 789win, việc đặt cược và tham gia vào các trò chơi trực tiếp trở nên dễ dàng và thú vị. Bạn có thể thấy trực tiếp nhà cái chia bài và quay xúc xắc, đồng thời cũng có thể chat trực tiếp với các đại gia đình khác thông qua hệ thống chat tích hợp. Điều này mang đến cảm giác gần gũi và trực tiếp, giúp bạn tận hưởng trọn vẹn niềm vui chơi casino.\n",
      "3. Tối Ưu Hóa Di Động\n",
      "Không chỉ dừng lại ở trên máy tính, live casino của 789win cũng tối ưu hóa hoàn hảo cho trải nghiệm trên các thiết bị di động. Bạn có thể tham gia vào các trò chơi casino trực tiếp mọi lúc, mọi nơi chỉ cần kết nối internet. Việc này giúp bạn không bỏ lỡ bất kỳ cơ hội giành thắng lợi nào và tận hưởng niềm vui chơi bài bạc mọi lúc, mọi nơi.\n",
      "4. Hỗ Trợ Khách Hàng Chuyên Nghiệp\n",
      "789win luôn đặt lợi ích của khách hàng lên hàng đầu, vì vậy đội ngũ hỗ trợ khách hàng hoạt động 24/7 để giải đáp mọi thắc mắc và hỗ trợ người chơi trong quá trình tham gia live casino. Với sự tận tâm và chuyên nghiệp, đội ngũ hỗ trợ sẵn sàng giúp đỡ bạn một cách nhanh chóng và hiệu quả.\n",
      "Kết Luận\n",
      "Live casino tại 789win mang đến trải nghiệm chơi casino chân thực, tuyệt vời và tiện lợi từ gia đình. Với đa dạng các trò chơi, giao diện trực quan, tối ưu hóa di động và hỗ trợ khách hàng chuyên nghiệp, live casino của 789win không chỉ là lựa chọn hoàn hảo cho người chơi yêu thích casino, mà còn là sự đồng hành đáng tin cậy trong hành trình chinh phục những phần thắng lớn. Hãy tham gia ngay và cảm nhận niềm vui chơi casino trực tuyến cùng 789win ngay hôm nay!\n",
      "\n",
      " Game đá gà \n",
      " _______________________________________________\n",
      "Game Đá Gà Tại 789win - Trải Nghiệm Độc Đáo Với Sự Kết Hợp Hấp Dẫn\n",
      "Giới Thiệu Game Đá Gà\n",
      "Nhà cái 789win mang đến trải nghiệm độc đáo và hấp dẫn với trò chơi đá gà trực tuyến. Đá gà là một trò chơi cá cược phổ biến và được yêu thích trong lĩnh vực cá độ trực tuyến. Tại 789win, bạn sẽ được tham gia vào những trận đá gà sôi động, tận hưởng niềm vui đặt cược và cảm nhận sự hồi hộp không thể nào quên.\n",
      "1. Đá Gà Trực Tiếp\n",
      "Với 789win, bạn có thể tham gia vào các trận đá gà trực tiếp thông qua công nghệ livestreaming tiên tiến. Nhà cái sẽ livestream trực tiếp các trận đá gà đang diễn ra từ các đấu trường danh tiếng. Bạn có thể xem trực tiếp các cuộc đấu đầy kịch tính và đặt cược vào các gà chiến mà bạn tin tưởng.\n",
      "2. Cơ Hội Giành Thắng Lợi Lớn\n",
      "Trò chơi đá gà tại 789win không chỉ mang đến niềm vui thú vị mà còn cơ hội giành thắng lợi lớn. Bạn có thể tham gia đặt cược vào gà chiến yêu thích và dự đoán gà nào sẽ chiến thắng. Việc này tạo ra cảm giác hồi hộp và kịch tính trong quá trình tham gia, đồng thời mang đến cơ hội kiếm được những phần thắng đầy giá trị.\n",
      "3. An Toàn Và Bảo Mật\n",
      "789win cam kết đảm bảo an toàn và bảo mật tuyệt đối cho người chơi khi tham gia trò chơi đá gà. Hệ thống bảo mật hiện đại và chuyên nghiệp được áp dụng để bảo vệ thông tin cá nhân và tài khoản của người chơi. Bạn có thể hoàn toàn yên tâm tham gia vào các trận đá gà mà không phải lo lắng về vấn đề an ninh.\n",
      "4. Hỗ Trợ Khách Hàng Chuyên Nghiệp\n",
      "Đội ngũ hỗ trợ khách hàng của 789win luôn sẵn sàng hỗ trợ bạn mọi lúc, mọi nơi. Nếu có bất kỳ thắc mắc hoặc vấn đề nào trong quá trình tham gia trò chơi đá gà, bạn có thể liên hệ với đội ngũ hỗ trợ khách hàng thông qua các kênh liên lạc hỗ trợ. Họ sẽ nhanh chóng giải đáp và hỗ trợ bạn một cách nhiệt tình và chuyên nghiệp.\n",
      "Kết Luận\n",
      "Trò chơi đá gà tại 789win mang đến trải nghiệm cá cược độc đáo và hấp dẫn. Với sự kết hợp giữa đá gà trực tiếp, cơ hội giành thắng lợi lớn, an toàn và bảo mật, cùng với hỗ trợ khách hàng chuyên nghiệp, 789win là địa điểm lý tưởng cho những ai yêu thích trò chơi đá gà. Hãy tham gia ngay và cùng trải nghiệm niềm vui chơi cá cược độc đáo này cùng 789win ngay hôm nay!\n"
     ]
    },
    {
     "name": "stdout",
     "output_type": "stream",
     "text": [
      "\n",
      " Cá cược xổ số \n",
      " _______________________________________________\n",
      "Cá Cược Xổ Số Tại 789win - Cơ Hội Trúng Lớn Với Nhà Cái Uy Tín\n",
      "Giới Thiệu Cá Cược Xổ Số Tại 789win\n",
      "Nhà cái 789win là một trong những nhà cái uy tín và đáng tin cậy hàng đầu trong lĩnh vực cá độ trực tuyến, đem đến cho người chơi một trải nghiệm đầy phấn khích và hấp dẫn. Trong danh mục các trò chơi cá độ của 789win, cá cược xổ số luôn là một trong những lựa chọn được ưa chuộng nhất. Hãy cùng tìm hiểu về cá cược xổ số tại 789win và lý do tại sao người chơi nên tham gia vào trò chơi này.\n",
      "1. Sự Đa Dạng Và Phong Phú Của Xổ Số\n",
      "Tại 789win, bạn sẽ có cơ hội tham gia vào các trò chơi xổ số đa dạng và phong phú. Có các loại xổ số truyền thống như xổ số miền Bắc, xổ số miền Nam, xổ số miền Trung, cũng như các loại xổ số đặc biệt như xổ số thần tài, xổ số nổ hũ và xổ số lô tô. Sự đa dạng này mang đến cho bạn nhiều cơ hội để dự đoán và đánh giá dựa trên các con số may mắn.\n",
      "2. Cơ Hội Trúng Lớn Và Thưởng Cao\n",
      "Cá cược xổ số tại 789win mang đến cơ hội trúng lớn và thưởng cao. Khi bạn dự đoán đúng kết quả của xổ số, bạn sẽ nhận được phần thưởng hấp dẫn tùy thuộc vào số tiền đã đặt cược. Việc này tạo ra cảm giác hồi hộp và kịch tính trong quá trình tham gia, đồng thời giúp bạn có cơ hội kiếm được những phần thắng đầy giá trị.\n",
      "3. Hỗ Trợ Khách Hàng Chuyên Nghiệp\n",
      "Đội ngũ hỗ trợ khách hàng của 789win luôn sẵn sàng hỗ trợ bạn mọi lúc, mọi nơi. Nếu có bất kỳ thắc mắc hoặc vấn đề nào trong quá trình tham gia cá cược xổ số, bạn có thể liên hệ với đội ngũ hỗ trợ khách hàng thông qua các kênh liên lạc hỗ trợ. Họ sẽ nhanh chóng giải đáp và hỗ trợ bạn một cách nhiệt tình và chuyên nghiệp.\n",
      "4. An Toàn Và Bảo Mật\n",
      "789win cam kết đảm bảo an toàn và bảo mật tuyệt đối cho người chơi khi tham gia cá cược xổ số. Hệ thống bảo mật hiện đại và chuyên nghiệp được áp dụng để bảo vệ thông tin cá nhân và tài khoản của người chơi. Bạn có thể hoàn toàn yên tâm tham gia vào cá cược xổ số mà không phải lo lắng về vấn đề an ninh.\n",
      "Kết Luận\n",
      "Cá cược xổ số tại 789win mang đến cơ hội trúng lớn và trải nghiệm thú vị cho người chơi. Với sự đa dạng và phong phú của các trò chơi xổ số, cơ hội trúng lớn và thưởng cao, cùng với hỗ trợ khách hàng chuyên nghiệp và đảm bảo an toàn và bảo mật, 789win là sự lựa chọn tuyệt vời cho những ai muốn tham gia cá cược xổ số. Hãy tham gia ngay và cùng trải nghiệm niềm vui cá cược độc đáo này cùng 789win ngay hôm nay!\n",
      "\n",
      " Những chương trình khuyến mãi siêu hot chỉ có tại 789win casino \n",
      " _______________________________________________\n",
      "Những Chương Trình Khuyến Mãi Siêu Hot Chỉ Có Tại 789win Casino\n",
      "789win Casino luôn nằm trong danh sách những nhà cái uy tín và chất lượng hàng đầu trong lĩnh vực cá độ trực tuyến. Với cam kết mang đến trải nghiệm đẳng cấp và hấp dẫn nhất cho người chơi, 789win không chỉ tập trung vào việc cung cấp các trò chơi đa dạng mà còn liên tục cập nhật những chương trình khuyến mãi siêu hot, hấp dẫn người chơi. Dưới đây là một số chương trình khuyến mãi nổi bật chỉ có tại 789win Casino:\n",
      "1. Chương Trình Hoàn Trả Tiền Thua Hàng Tuần\n",
      "Chương trình hoàn trả tiền thua hàng tuần là một trong những ưu đãi độc quyền tại 789win Casino. Với chương trình này, bạn có thể nhận lại một phần tiền thua trong tuần một cách đơn giản và dễ dàng. Điều này giúp giảm thiểu rủi ro khi tham gia cá cược và tạo cơ hội để bạn tiếp tục chơi và thắng lớn.\n",
      "2. Chương Trình Thưởng Chào Mừng Đặc Biệt\n",
      "Khi mới tham gia đăng ký tài khoản tại 789win Casino, bạn sẽ nhận được một chương trình thưởng chào mừng đặc biệt. Điều này giúp bạn tăng vốn chơi game và có thêm cơ hội để khám phá các trò chơi mới và độc đáo tại sòng bạc trực tuyến này.\n",
      "3. Chương Trình Điểm Thưởng VIP\n",
      "789win Casino có một chương trình điểm thưởng VIP tuyệt vời dành riêng cho những thành viên VIP. Với mỗi ván cược, bạn sẽ tích lũy điểm thưởng, và những điểm này có thể đổi thành quà tặng giá trị, tiền mặt hoặc nâng cấp hạng VIP. Chương trình này thực sự đáng để bạn trở thành thành viên VIP của 789win Casino.\n",
      "4. Chương Trình Quay Số May Mắn\n",
      "Ngoài ra, 789win Casino còn có chương trình quay số may mắn với nhiều phần thưởng hấp dẫn như các giải thưởng tiền mặt, lượt chơi miễn phí và nhiều phần quà giá trị khác. Việc tham gia chương trình này đơn giản và may mắn có thể đến bất cứ lúc nào.\n",
      "Kết Luận\n",
      "Những chương trình khuyến mãi tại 789win Casino thực sự là siêu hot và hấp dẫn người chơi. Với các ưu đãi đặc biệt như hoàn trả tiền thua hàng tuần, thưởng chào mừng, điểm thưởng VIP và chương trình quay số may mắn, 789win đem đến cho người chơi nhiều cơ hội thú vị và giúp tăng cơ hội chiến thắng. Nếu bạn đang tìm kiếm một sòng bạc trực tuyến uy tín và có nhiều chương trình khuyến mãi hấp dẫn, hãy tham gia 789win Casino ngay hôm nay để trải nghiệm những điều tuyệt vời mà họ mang lại!\n",
      "\n",
      " Gói chào mừng cho người chơi mới tại 789win \n",
      " _______________________________________________\n",
      "Gói Chào Mừng Hấp Dẫn Cho Người Chơi Mới Tại 789win\n",
      "Khi bạn gia nhập thế giới cá độ trực tuyến, việc lựa chọn một nhà cái uy tín và cung cấp những ưu đãi hấp dẫn là một trong những yếu tố quan trọng. Và 789win Casino không chỉ là một sòng bạc trực tuyến hàng đầu mà còn nổi tiếng với gói chào mừng cực kỳ hấp dẫn dành cho người chơi mới. Hãy cùng tìm hiểu chi tiết về gói chào mừng tại 789win để bạn có thêm động lực khám phá những trải nghiệm đỉnh cao trong lĩnh vực cá độ trực tuyến.\n",
      "Gói Chào Mừng Độc Quyền Tại 789win\n",
      "Gói chào mừng tại 789win dành riêng cho người chơi mới là món quà đặc biệt mà sòng bạc này dành tặng để chào đón bạn. Khi bạn đăng ký tài khoản mới và thực hiện khoản nạp tiền đầu tiên, bạn sẽ được hưởng một loạt ưu đãi giá trị, giúp bạn có lợi thế tốt nhất khi bắt đầu hành trình cá độ tại 789win.\n",
      "Nhận Tiền Thưởng Đăng Ký\n",
      "Ngay sau khi hoàn tất việc đăng ký tài khoản tại 789win, bạn sẽ được nhận tiền thưởng đăng ký miễn phí. Đây là một số tiền nhỏ nhưng giá trị, giúp bạn có cơ hội thử nghiệm các trò chơi và làm quen với giao diện trực tuyến của sòng bạc mà không cần đầu tư quá nhiều.\n",
      "Tiền Thưởng Nạp Tiền Đầu Tiên\n",
      "Sau khi thực hiện khoản nạp tiền đầu tiên, bạn sẽ nhận được tiền thưởng nạp tiền đặc biệt từ 789win. Số tiền thưởng này phụ thuộc vào số tiền nạp vào tài khoản và có giới hạn tối đa cụ thể. Nhận thêm tiền thưởng nạp tiền sẽ giúp bạn có thêm vốn chơi game và cơ hội thắng lớn hơn.\n",
      "Miễn Phí Lượt Quay Slot\n",
      "Ngoài tiền thưởng đăng ký và nạp tiền, gói chào mừng tại 789win còn đi kèm với lượt quay miễn phí trên các trò chơi slot phổ biến. Điều này cho phép bạn thử vận may và nhận thêm phần thưởng hấp dẫn mà không tốn thêm chi phí.\n",
      "Tham Gia Ngay 789win Casino\n",
      "Với gói chào mừng hấp dẫn và đa dạng như trên, 789win thực sự là lựa chọn lý tưởng cho người chơi mới. Để tham gia, bạn chỉ cần đăng ký tài khoản và thực hiện khoản nạp tiền đầu tiên. Bạn sẽ nhận ngay những ưu đãi giá trị và trải nghiệm cá độ trực tuyến tuyệt vời tại 789win Casino. Đừng bỏ lỡ cơ hội tham gia ngay, khám phá thế giới cá độ sôi động và thắng lớn cùng 789win!\n",
      "\n",
      " Khuyến mãi nạp tiền và hoàn trả cổng game 789win \n",
      " _______________________________________________\n",
      "Khuyến Mãi Nạp Tiền và Hoàn Trả Tại 789win - Hưởng Lợi Chưa Từng Có\n",
      "789win là một trong những nhà cái hàng đầu trong lĩnh vực cá độ trực tuyến, và không chỉ vì chất lượng các trò chơi đa dạng mà còn vì những chương trình khuyến mãi hấp dẫn dành cho người chơi. Trong bài viết này, chúng ta sẽ cùng tìm hiểu về khuyến mãi nạp tiền và hoàn trả tại 789win, những ưu đãi đặc biệt mà không nhiều sòng bạc trực tuyến nào có thể sánh bằng.\n",
      "1. Khuyến Mãi Nạp Tiền - Tiền Thưởng Đặc Biệt\n",
      "Khuyến mãi nạp tiền tại 789win là cơ hội để người chơi nhận được những phần thưởng hấp dẫn mỗi khi thực hiện giao dịch nạp tiền. Khi bạn nạp tiền vào tài khoản, sòng bạc sẽ tặng thêm một khoản tiền thưởng dựa trên số tiền nạp vào. Số tiền thưởng này sẽ được cộng thêm vào tài khoản và giúp bạn có thêm vốn để tham gia các trò chơi và tăng cơ hội chiến thắng.\n",
      "2. Hoàn Trả Cổng Game - Nhận Lại Phần Trăm Tiền Thua\n",
      "Không chỉ hỗ trợ người chơi mới, 789win còn quan tâm đến sự hài lòng và trung thành của các thành viên hiện tại. Chương trình hoàn trả cổng game của 789win cho phép người chơi nhận lại một phần trăm tiền thua từ các ván chơi không may. Số tiền hoàn trả sẽ được tính dựa trên tổng số tiền cược và mức hoàn trả được xác định cụ thể cho từng loại trò chơi. Đây là cơ hội lý tưởng để cải thiện tỷ lệ thắng của bạn và giữ vững vốn chơi.\n",
      "3. Các Chương Trình Khuyến Mãi Thường Xuyên\n",
      "Không chỉ dừng lại ở hai khuyến mãi trên, 789win còn có nhiều chương trình khuyến mãi thường xuyên khác. Điều này bao gồm các giải đấu, giải thưởng hàng ngày và hàng tuần, giờ vàng, lễ hội, sinh nhật...vv. Để không bỏ lỡ bất kỳ cơ hội nào, hãy kiểm tra thường xuyên thông tin từ trang web hoặc đăng ký nhận tin tức để nhận thông báo về các chương trình khuyến mãi mới nhất.\n",
      "4. Lưu Ý Điều Kiện Và Điều Khoản\n",
      "Để hưởng ưu đãi từ các chương trình khuyến mãi, người chơi cần tuân thủ đầy đủ điều kiện và điều khoản của sòng bạc. Hãy đảm bảo đọc kỹ và hiểu rõ các quy định để tận hưởng những ưu đãi một cách trọn vẹn và không gặp rắc rối.\n",
      "Tổng Kết\n",
      "Khuyến mãi nạp tiền và hoàn trả tại 789win là những điểm nhấn hấp dẫn của sòng bạc này, giúp người chơi có thêm động lực và cơ hội tốt hơn trong hành trình cá độ trực tuyến. Với các chương trình khuyến mãi đặc biệt này, bạn không chỉ được hưởng lợi lớn mà còn trải nghiệm những giây phút giải trí sôi động và đầy thử thách. Hãy tham gia ngay 789win và khám phá thế giới cá độ đỉnh cao!\n"
     ]
    },
    {
     "name": "stdout",
     "output_type": "stream",
     "text": [
      "\n",
      " Giải đấu và giải thưởng đặc biệt tại 789win \n",
      " _______________________________________________\n",
      "Giải Đấu và Giải Thưởng Đặc Biệt Tại 789win - Cơ Hội Đỉnh Cao Cho Cá Độ Trực Tuyến\n",
      "789win không chỉ là nơi cung cấp các trò chơi cá độ trực tuyến đa dạng mà còn là một điểm đến hấp dẫn cho những người yêu thích các giải đấu và giải thưởng đặc biệt. Với những sự kiện đặc biệt này, người chơi không chỉ có cơ hội tham gia những trận đấu hấp dẫn mà còn có cơ hội giành những phần thưởng giá trị. Hãy cùng khám phá chi tiết về giải đấu và giải thưởng tại 789win trong bài viết dưới đây.\n",
      "1. Giải Đấu Thể Thao - Cơ Hội Tận Hưởng Đỉnh Cao Cá Độ\n",
      "789win thường xuyên tổ chức các giải đấu thể thao hấp dẫn dành cho người chơi. Những giải đấu này bao gồm các môn thể thao phổ biến như bóng đá, bóng rổ, quần vợt, cầu lông, đua xe...vv. Người chơi có thể đặt cược vào các trận đấu yêu thích và theo dõi kết quả trực tiếp. Đồng thời, giải đấu cũng mang đến những cơ hội cược hấp dẫn, giúp bạn có cơ hội thắng lớn và trải nghiệm niềm vui cá độ không giới hạn.\n",
      "2. Giải Thưởng Đặc Biệt - Phần Thưởng Độc Quyền Từ 789win\n",
      "Không chỉ có giải đấu hấp dẫn, 789win còn tổ chức các giải thưởng đặc biệt dành cho các thành viên tham gia cá độ tại sòng bạc. Những giải thưởng này bao gồm tiền thưởng, quà tặng, hoặc các phần quà giá trị khác. Điều đặc biệt là các giải thưởng này thường có giá trị cao hơn và chỉ dành riêng cho người chơi tại 789win. Điều này chắc chắn sẽ khiến bạn cảm thấy đặc biệt và đáng giá khi tham gia cá độ tại đây.\n",
      "3. Cách Tham Gia Giải Đấu và Nhận Giải Thưởng\n",
      "Để tham gia các giải đấu và nhận giải thưởng, bạn chỉ cần là thành viên của 789win và đáp ứng các điều kiện cụ thể của từng sự kiện. Việc tham gia là hoàn toàn miễn phí và dễ dàng. Bạn có thể kiểm tra thông tin về các giải đấu và giải thưởng trên trang web hoặc đăng ký nhận tin tức để nhận thông báo về những sự kiện đặc biệt.\n",
      "Tổng Kết\n",
      "Các giải đấu và giải thưởng đặc biệt tại 789win là cơ hội không thể bỏ qua cho những người yêu thích cá độ trực tuyến. Hãy tham gia vào những giải đấu sôi động và nhận những phần thưởng giá trị từ sòng bạc hàng đầu này. 789win cam kết mang đến cho bạn những trải nghiệm cá độ tuyệt vời và cơ hội giành chiến thắng đỉnh cao!\n",
      "\n",
      " Các chương trình đặc quyền VIP dành cho thành viên tại 789win \n",
      " _______________________________________________\n",
      "CÁC CHƯƠNG TRÌNH ĐẶC QUYỀN VIP DÀNH CHO THÀNH VIÊN TẠI 789WIN\n",
      "Giới Thiệu 789win - Sòng Bạc Trực Tuyến Với Chương Trình VIP Đẳng Cấp\n",
      "789win không chỉ là một sòng bạc trực tuyến hàng đầu với hàng loạt trò chơi đa dạng và hấp dẫn, mà còn là nơi đáng tin cậy để trải nghiệm các chương trình đặc quyền VIP cực kỳ hấp dẫn dành riêng cho các thành viên. Với mong muốn đem đến sự hài lòng tối đa và trải nghiệm đẳng cấp cho khách hàng, 789win luôn chú trọng đến việc tạo ra những chương trình VIP tuyệt vời.\n",
      "1. Lợi Ích Của Chương Trình VIP\n",
      "Thành viên tham gia chương trình VIP tại 789win sẽ được hưởng một loạt lợi ích độc đáo và đặc biệt. Những lợi ích này bao gồm:\n",
      "Ưu Đãi Cá Nhân Hóa: 789win đề cao việc phục vụ từng thành viên một cách tận tâm và chuyên nghiệp. Chương trình VIP sẽ cung cấp những ưu đãi cá nhân hóa dựa trên hoạt động cá độ và sở thích cá nhân của từng thành viên.\n",
      "Quà Tặng Hấp Dẫn: Thành viên VIP sẽ nhận được những phần thưởng và quà tặng độc quyền, bao gồm tiền thưởng, lượt quay miễn phí, và các phần quà giá trị khác.\n",
      "Dịch Vụ Chăm Sóc Khách Hàng 24/7: Các thành viên VIP sẽ được ưu tiên và hưởng dịch vụ chăm sóc khách hàng 24/7 từ đội ngũ hỗ trợ chuyên nghiệp của 789win.\n",
      "Thưởng Hoàn Tiền: Chương trình VIP cung cấp các gói hoàn tiền hấp dẫn, giúp thành viên giảm thiểu rủi ro khi tham gia cá độ.\n",
      "2. Cách Trở Thành Thành Viên VIP\n",
      "Để trở thành thành viên VIP tại 789win, bạn cần thực hiện việc chơi cá độ thường xuyên và tích lũy điểm thưởng. Các thành viên tích cực và có hoạt động cá độ cao sẽ được xem xét để trở thành VIP. Ngoài ra, 789win cũng có thể mời các thành viên tiềm năng trở thành VIP dựa trên mức độ hoạt động và tiềm năng cá độ của họ.\n",
      "3. Cơ Hội Trải Nghiệm Đẳng Cấp\n",
      "Chương trình VIP tại 789win mang đến cơ hội trải nghiệm đẳng cấp và thú vị cho những ai yêu thích cá độ trực tuyến. Với những lợi ích và quà tặng đặc biệt, thành viên VIP sẽ cảm nhận sự khác biệt và được đối đãi như những người đặc biệt nhất.\n",
      "Tổng Kết\n",
      "Với chương trình VIP đẳng cấp, 789win cam kết mang đến sự hài lòng và trải nghiệm đẳng cấp cho từng thành viên. Hãy tham gia ngay và trở thành VIP để nhận những ưu đãi và quà tặng độc quyền từ sòng bạc trực tuyến hàng đầu này.\n",
      "\n",
      " Code miễn phí trải nghiệm \n",
      " _______________________________________________\n",
      "CODE MIỄN PHÍ TRẢI NGHIỆM TẠI 789WIN - CHÀO ĐÓN NHỮNG TRẢI NGHIỆM ĐẦY HẤP DẪN\n",
      "Giới Thiệu 789win - Thương Hiệu Cá Độ Trực Tuyến Với Code Miễn Phí Trải Nghiệm\n",
      "789win là một trong những nhà cái hàng đầu trong lĩnh vực cá độ trực tuyến, nổi tiếng với các trò chơi đa dạng và chất lượng. Để chào đón các thành viên mới, 789win cung cấp những code miễn phí trải nghiệm hấp dẫn, mang đến cho người chơi cơ hội khám phá và thử sức với các trò chơi độc đáo.\n",
      "1. Khám Phá Trò Chơi Miễn Phí\n",
      "Với code miễn phí tại 789win, bạn có cơ hội khám phá miễn phí các trò chơi casino tuyệt vời. Từ các trò chơi slot đa dạng, bài poker hấp dẫn đến các trận đấu thể thao đỉnh cao, bạn có thể trải nghiệm và tìm hiểu các trò chơi mà không phải lo lắng về việc mất tiền.\n",
      "2. Hưởng Trọn Niềm Vui Thắng Lớn\n",
      "Code miễn phí không chỉ giúp bạn khám phá trò chơi, mà còn mang đến cơ hội thắng lớn. Với tài năng và may mắn, bạn có thể biến những mã code này thành những khoản thắng đáng giá. Điều này giúp bạn tận hưởng niềm vui thắng tiền thật mà không cần phải đầu tư một khoản tiền lớn ban đầu.\n",
      "3. Cách Nhận Code Miễn Phí\n",
      "Để nhận được code miễn phí tại 789win, bạn cần đăng ký tài khoản mới và hoàn thành quy trình xác nhận thông tin cá nhân. Sau khi hoàn tất, bạn sẽ nhận được code miễn phí để trải nghiệm các trò chơi tại sòng bạc trực tuyến này.\n",
      "4. Điều Khoản Và Điều Kiện Áp Dụng\n",
      "Cần lưu ý rằng code miễn phí trải nghiệm tại 789win thường có điều kiện áp dụng. Trước khi sử dụng mã code, hãy đọc kỹ điều khoản và điều kiện để hiểu rõ về quy định và yêu cầu cụ thể.\n",
      "Tổng Kết\n",
      "Code miễn phí trải nghiệm tại 789win là cơ hội tuyệt vời để khám phá các trò chơi độc đáo và thắng lớn mà không cần rủi ro tài chính. Hãy tận dụng cơ hội này để trải nghiệm và tham gia vào thế giới cá độ trực tuyến tại 789win - nơi đáng tin cậy và đáng chơi nhất!\n",
      "\n",
      " Sự kiện hàng tuần \n",
      " _______________________________________________\n",
      "SỰ KIỆN HÀNG TUẦN TẠI 789WIN - CƠ HỘI NẠP TIỀN THƯỞNG HẤP DẪN\n",
      "Giới thiệu về Sự kiện Hàng Tuần tại 789win - Thương Hiệu Cá Độ Trực Tuyến Uy Tín\n",
      "789win luôn nỗ lực tạo ra những trải nghiệm tốt nhất cho các thành viên tham gia cá độ trực tuyến. Để mang đến sự thú vị và hứng thú cho người chơi, nhà cái 789win tổ chức sự kiện hàng tuần với những ưu đãi đặc biệt, mang đến cơ hội nhận được nhiều tiền thưởng hấp dẫn.\n",
      "1. Sự kiện Hàng Tuần - Nguồn Cảm Hứng Cho Người Chơi\n",
      "Sự kiện hàng tuần tại 789win là nguồn cảm hứng cho người chơi tham gia các hoạt động cá độ trực tuyến. Hàng tuần, bạn sẽ có cơ hội nhận được những phần thưởng hậu hĩnh, từ tiền thưởng nạp tiền, hoàn trả hàng tuần đến các giải thưởng đặc biệt khác nhau.\n",
      "2. Nạp Tiền Thưởng - Thưởng Nạp Đầu Tuần\n",
      "Mỗi tuần, 789win mang đến chương trình thưởng nạp tiền hấp dẫn cho các thành viên mới và cũ. Bạn sẽ được nhận mức thưởng phù hợp với số tiền nạp vào tài khoản. Đây là cơ hội để bạn tăng số dư tài khoản và tiếp tục tham gia các trò chơi cá độ với số tiền lớn hơn.\n",
      "3. Hoàn Trả Hàng Tuần - Điểm Nhấn Đặc Biệt\n",
      "Không chỉ dừng lại ở việc thưởng nạp tiền, 789win còn mang đến chương trình hoàn trả hàng tuần đặc biệt. Với mức hoàn trả hấp dẫn, bạn có thể nhận lại một phần số tiền đã thua trong tuần. Đây là sự khích lệ và hỗ trợ tuyệt vời cho các thành viên trong việc khôi phục tài khoản sau những trận thua.\n",
      "4. Cách Tham Gia Sự Kiện\n",
      "Để tham gia sự kiện hàng tuần tại 789win, bạn chỉ cần đăng ký tài khoản và nạp tiền vào tài khoản cá độ. Sau đó, bạn sẽ được tham gia tự động vào chương trình và nhận được các phần thưởng theo các điều khoản và điều kiện quy định.\n",
      "Tổng Kết\n",
      "Sự kiện hàng tuần tại 789win là cơ hội tuyệt vời để nhận được những phần thưởng hấp dẫn và tiền thưởng cực kỳ hậu hĩnh. Hãy tham gia ngay để trải nghiệm và cảm nhận những trải nghiệm cá độ tốt nhất tại thương hiệu uy tín 789win!\n"
     ]
    },
    {
     "name": "stdout",
     "output_type": "stream",
     "text": [
      "\n",
      " Sự kiện may mắn \n",
      " _______________________________________________\n",
      "SỰ KIỆN MAY MẮN TẠI 789WIN - ĐỂ CUỘC CHƠI TRỞ NÊN HẤP DẪN HƠN\n",
      "Giới thiệu về Sự Kiện May Mắn tại 789win - Đỉnh Cao Cá Độ Trực Tuyến\n",
      "789win là địa chỉ tin cậy cho những người yêu thích cá độ trực tuyến. Hãy chuẩn bị sẵn sàng cho những trải nghiệm đỉnh cao và cuộc chơi hấp dẫn với Sự Kiện May Mắn tại 789win. Điều này không chỉ là cơ hội để bạn nhận được những phần thưởng lớn mà còn là lúc bạn tận hưởng niềm vui và may mắn trong từng ván bài.\n",
      "1. Sự Kiện May Mắn - Hứng Thú Cho Các Thành Viên\n",
      "Sự Kiện May Mắn là một trong những hoạt động thường xuyên diễn ra tại 789win. Bất cứ lúc nào bạn tham gia vào sự kiện này, bạn sẽ cảm nhận được niềm vui và hứng thú trong việc chinh phục những cơ hội và may mắn mang đến những chiến thắng đầy hào hứng.\n",
      "2. Phần Thưởng Đẳng Cấp - Độc Quyền Cho Thành Viên\n",
      "Tại 789win, sự kiện may mắn mang đến những phần thưởng đẳng cấp và đặc biệt dành riêng cho thành viên. Từ những giải thưởng tiền mặt, phần quà giá trị đến những gói nạp tiền thưởng hấp dẫn, bạn sẽ không thể nào bỏ lỡ cơ hội để sở hữu những phần thưởng đáng giá này.\n",
      "3. Tham Gia Sự Kiện - Dễ Dàng Và Nhanh Chóng\n",
      "Để tham gia Sự Kiện May Mắn tại 789win, bạn chỉ cần đăng nhập tài khoản và thực hiện các bước tham gia theo hướng dẫn. Bạn sẽ tự động trở thành một phần của sự kiện và nhận được các phần thưởng theo quy định của 789win.\n",
      "4. Tận Hưởng May Mắn - Nâng Tầm Cuộc Chơi\n",
      "Sự Kiện May Mắn tại 789win là cơ hội để bạn tận hưởng niềm vui và thử thách may mắn trong các ván bài cá độ. Hãy cùng nhau nâng tầm cuộc chơi và cảm nhận không gian cá độ trực tuyến chất lượng nhất cùng thương hiệu uy tín 789win.\n",
      "Tổng Kết\n",
      "Sự Kiện May Mắn tại 789win là cơ hội vàng để bạn trải nghiệm những điều thú vị và hấp dẫn nhất trong lĩnh vực cá độ trực tuyến. Cùng tham gia sự kiện và nhận ngay những phần thưởng đẳng cấp, tận hưởng niềm vui và may mắn cùng 789win!\n",
      "\n",
      " Cơ hội hợp tác đại lý với nhà cái 789win \n",
      " _______________________________________________\n",
      "CƠ HỘI HỢP TÁC ĐẠI LÝ VỚI NHÀ CÁI 789WIN - ĐỐI TÁC ĐÁNG TIN CẬY TRONG LĨNH VỰC CÁ ĐỘ TRỰC TUYẾN\n",
      "Giới thiệu về Cơ hội hợp tác đại lý với 789win - Đối tác đáng tin cậy trong lĩnh vực cá độ trực tuyến\n",
      "789win luôn tạo điều kiện thuận lợi và cơ hội hấp dẫn cho những đối tác muốn tham gia vào hệ thống đại lý của mình. Với tiêu chí đồng hành cùng đối tác phát triển bền vững và mang đến lợi ích lớn nhất, Cơ hội hợp tác đại lý với nhà cái 789win là một lựa chọn không thể bỏ qua.\n",
      "1. 789win - Thương hiệu uy tín trong làng cá độ\n",
      "789win được biết đến là một trong những thương hiệu cá độ uy tín và hàng đầu trên thị trường. Với sự hỗ trợ mạnh mẽ từ các nhà cung cấp game hàng đầu, cùng hệ thống công nghệ hiện đại, 789win cam kết mang đến cho đại lý môi trường làm việc chuyên nghiệp và đáng tin cậy.\n",
      "2. Đa dạng lựa chọn sản phẩm\n",
      "789win không chỉ chú trọng đến các sản phẩm cá cược thể thao và casino trực tuyến, mà còn đầu tư mạnh mẽ vào việc phát triển những trò chơi độc đáo và hấp dẫn khác như xổ số, poker, và nhiều trò chơi slot đa dạng. Điều này đảm bảo rằng các đại lý có nhiều lựa chọn để phục vụ đa dạng nhu cầu của người chơi.\n",
      "3. Hỗ trợ tận tâm từ đội ngũ chuyên nghiệp\n",
      "789win luôn quan tâm đến sự phát triển của các đối tác đại lý. Với đội ngũ hỗ trợ tận tâm và giàu kinh nghiệm, các đại lý được hỗ trợ một cách tốt nhất trong việc xây dựng và phát triển mạng lưới người chơi, từ việc tư vấn, marketing cho đến hỗ trợ kỹ thuật.\n",
      "4. Chính sách hoa hồng hấp dẫn\n",
      "789win cam kết cung cấp chính sách hoa hồng hấp dẫn và công bằng cho các đại lý. Hoa hồng cao cùng với cơ hội nhận các phần thưởng đặc biệt là một trong những yếu tố thu hút nhiều đối tác tham gia vào hệ thống đại lý của 789win.\n",
      "Tổng kết\n",
      "Cơ hội hợp tác đại lý với nhà cái 789win là một cơ hội vàng để đồng hành cùng một trong những thương hiệu cá độ uy tín và thành công trên thị trường. Đối tác sẽ được hưởng những lợi ích đáng giá và cơ hội phát triển bền vững cùng 789win - đối tác đáng tin cậy trong lĩnh vực cá độ trực tuyến.\n",
      "\n",
      " Bài viết dạng Q&A :Một số câu hỏi thường gặp về 789win casino (Đăng ký 789win có mất phí không? 789win có hỗ trợ khách hàng không?,Chơi game 789win có vi phạm pháp luật không?,789win có giới hạn độ tuổi tham gia không?, Thông tin 789win bảo trì có đúng không?Tại sao không vào được 789win? các trò chơi của 789win được nhà cung cấp nào hợp tác?) \n",
      " _______________________________________________\n",
      "BÀI VIẾT DẠNG Q&A: MỘT SỐ CÂU HỎI THƯỜNG GẶP VỀ 789WIN CASINO\n",
      "1. Đăng ký 789win có mất phí không?\n",
      "Không, đăng ký tài khoản tại 789win hoàn toàn miễn phí. Người chơi chỉ cần truy cập trang chủ của 789win, hoàn tất thông tin cá nhân và tuân thủ các quy định đăng ký để có tài khoản cá cược sử dụng.\n",
      "2. 789win có hỗ trợ khách hàng không?\n",
      "Đúng, 789win có đội ngũ hỗ trợ khách hàng chuyên nghiệp và tận tâm 24/7. Người chơi có thể liên hệ thông qua các kênh như chat trực tuyến, email hoặc số điện thoại hotline để được giải đáp mọi thắc mắc và hỗ trợ khi gặp khó khăn trong quá trình sử dụng dịch vụ.\n",
      "3. Chơi game 789win có vi phạm pháp luật không?\n",
      "789win là một trang web cá độ trực tuyến hoạt động hợp pháp và tuân thủ các quy định của cơ quan quản lý nhà nước. Tuy nhiên, người chơi cần tuân thủ luật pháp và điều khoản sử dụng của 789win để tránh vi phạm pháp luật.\n",
      "4. 789win có giới hạn độ tuổi tham gia không?\n",
      "Đúng, để đảm bảo môi trường chơi cá cược lành mạnh và bảo vệ quyền lợi của trẻ em, 789win chỉ cho phép người chơi từ 18 tuổi trở lên tham gia vào các hoạt động cá độ trực tuyến.\n",
      "5. Thông tin 789win bảo trì có đúng không?\n",
      "789win luôn nỗ lực để cung cấp dịch vụ ổn định và liên tục cho người chơi. Trong trường hợp cần bảo trì hệ thống, 789win sẽ thông báo trước để người chơi có thể dự tính và không gặp khó khăn trong quá trình sử dụng.\n",
      "6. Tại sao không vào được 789win?\n",
      "Có một số nguyên nhân khiến người chơi không vào được 789win, bao gồm: kết nối internet không ổn định, trình duyệt lỗi, hoặc tài khoản bị khóa do vi phạm quy định sử dụng. Trong trường hợp này, người chơi nên kiểm tra kết nối internet và liên hệ hỗ trợ khách hàng của 789win để được giúp đỡ.\n",
      "7. Các trò chơi của 789win được nhà cung cấp nào hợp tác?\n",
      "789win hợp tác với nhiều nhà cung cấp game hàng đầu trong ngành cá độ, bao gồm các nhà cung cấp danh tiếng như Microgaming, NetEnt, Playtech và Evolution Gaming. Điều này đảm bảo rằng người chơi sẽ có cơ hội trải nghiệm các trò chơi chất lượng cao và đa dạng trên nền tảng của 789win.\n",
      "Tổng kết\n",
      "Bằng cách trả lời các câu hỏi thường gặp về 789win, chúng tôi hy vọng rằng người chơi đã có cái nhìn tổng quan và chính xác hơn về nhà cái này. 789win luôn đặt lợi ích và trải nghiệm của người chơi lên hàng đầu và cam kết mang đến sự hài lòng và đáng tin cậy cho mỗi thành viên tham gia cá độ trực tuyến tại đây.\n",
      "\n",
      " Tại sao 789win lại ngày càng phát triển mạnh như vậy \n",
      " _______________________________________________\n",
      "TẠI SAO 789WIN NGÀY CÀNG PHÁT TRIỂN MẠNH NHƯ VẬY?\n",
      "Giới thiệu về 789win\n",
      "789win là một trong những nhà cái hàng đầu trong lĩnh vực cá độ trực tuyến tại thị trường Việt Nam. Với hơn một thập kỷ hoạt động trong ngành giải trí trực tuyến, 789win đã từng bước khẳng định vị thế của mình và được đông đảo người chơi đánh giá cao về chất lượng dịch vụ và đa dạng sản phẩm.\n",
      "1. Sự đa dạng về sản phẩm\n",
      "Một trong những yếu tố quan trọng giúp 789win ngày càng phát triển mạnh chính là sự đa dạng về sản phẩm. Tại 789win, người chơi có thể trải nghiệm một loạt các trò chơi cá độ, bao gồm cá cược thể thao, casino trực tuyến, xổ số, poker và nhiều trò chơi slot hấp dẫn khác. Sự đa dạng này đáp ứng được nhu cầu giải trí đa dạng của người chơi, từ những người yêu thích thể thao đến những người đam mê những trò chơi casino hấp dẫn.\n",
      "2. Giao diện dễ sử dụng và thân thiện\n",
      "789win luôn tập trung vào trải nghiệm người dùng, cho nên giao diện trang web được thiết kế đơn giản, thân thiện và dễ sử dụng. Người chơi có thể dễ dàng tìm thấy các trò chơi yêu thích và thực hiện các giao dịch tài chính một cách nhanh chóng và tiện lợi. Điều này giúp tạo ra sự thuận tiện và hài lòng cho người chơi, đồng thời giữ chân họ ở lại với 789win trong thời gian dài.\n",
      "3. Chất lượng dịch vụ và hỗ trợ khách hàng\n",
      "789win luôn đặt chất lượng dịch vụ và hỗ trợ khách hàng lên hàng đầu. Đội ngũ nhân viên hỗ trợ khách hàng của 789win được đào tạo chuyên nghiệp, nhiệt tình và tận tâm. Họ luôn sẵn sàng hỗ trợ và giải đáp mọi thắc mắc của người chơi một cách nhanh chóng và chính xác. Điều này tạo ra niềm tin và sự tin tưởng từ phía khách hàng, giúp 789win xây dựng được cộng đồng người chơi đông đảo và trung thành.\n",
      "4. Khuyến mãi và ưu đãi hấp dẫn\n",
      "789win thường xuyên cập nhật các chương trình khuyến mãi và ưu đãi hấp dẫn, nhằm mang đến nhiều cơ hội trúng thưởng và giảm thiểu rủi ro cho người chơi. Những khuyến mãi này bao gồm gói chào mừng, hoàn trả tiền thua, mã code miễn phí và nhiều sự kiện đặc biệt khác. Điều này thu hút người chơi mới tham gia và giữ chân người chơi cũ ở lại với 789win.\n",
      "Tổng kết\n",
      "Với sự đa dạng về sản phẩm, giao diện dễ sử dụng, chất lượng dịch vụ và các chương trình khuyến mãi hấp dẫn, 789win ngày càng phát triển mạnh và xác định vị thế là một trong những nhà cái uy tín và đáng tin cậy nhất trong ngành cá độ trực tuyến. Sự cam kết và tận tâm của 789win đối với khách hàng đã và đang tạo nên sự thành công và sự phát triển không ngừng của họ.\n"
     ]
    },
    {
     "name": "stdout",
     "output_type": "stream",
     "text": [
      "\n",
      " 15 câu đánh giá của người dùng về dịch vụ của 789win \n",
      " _______________________________________________\n",
      "15 CÂU ĐÁNH GIÁ TỪ NGƯỜI DÙNG VỀ DỊCH VỤ CỦA 789WIN\n",
      "789win là một trong những nhà cái cá độ trực tuyến hàng đầu tại thị trường Việt Nam, được đánh giá cao về chất lượng dịch vụ và sự hỗ trợ tận tâm đối với người chơi. Dưới đây là 15 câu đánh giá tích cực từ người dùng về dịch vụ của 789win:\n",
      "1. \"Tôi đã tham gia cá cược thể thao tại 789win và rất hài lòng với giao diện trang web dễ sử dụng và đa dạng về lựa chọn cược.\"\n",
      "2. \"Dịch vụ khách hàng của 789win thực sự tuyệt vời! Nhân viên hỗ trợ rất nhiệt tình và giải đáp mọi thắc mắc của tôi một cách chu đáo.\"\n",
      "3. \"Mã code miễn phí từ 789win giúp tôi tiết kiệm chi phí khi chơi các trò chơi yêu thích.\"\n",
      "4. \"789win thường xuyên có những chương trình khuyến mãi hấp dẫn, tạo cơ hội trúng thưởng cho người chơi.\"\n",
      "5. \"Tôi tham gia casino trực tuyến và rất ấn tượng với chất lượng hình ảnh và âm thanh của các trò chơi.\"\n",
      "6. \"Cổng game của 789win luôn được cập nhật mới, không bị lỗi và chạy rất mượt.\"\n",
      "7. \"Tôi thích tính năng chơi thử trước khi đặt cược, giúp tôi kiểm tra và chọn lựa trước khi đánh tiền thật.\"\n",
      "8. \"789win có nhiều hình thức nạp và rút tiền linh hoạt, thực hiện giao dịch nhanh chóng.\"\n",
      "9. \"Trang web của 789win được thiết kế hợp lý, tìm kiếm thông tin dễ dàng và không bị quảng cáo nhiễu.\"\n",
      "10. \"Nhà cái này đáng tin cậy, đã từng rút tiền thành công nhiều lần mà không gặp phải bất kỳ vấn đề gì.\"\n",
      "11. \"789win có nhiều sự kiện hàng tuần, giúp tôi có cơ hội nhận được nhiều phần thưởng.\"\n",
      "12. \"Tôi thích việc có thể chơi trên điện thoại di động, giúp tôi không bỏ lỡ bất kỳ cơ hội nào.\"\n",
      "13. \"Nhận mã code miễn phí từ 789win thật đơn giản, chỉ cần tham gia vào các sự kiện là có thưởng ngay.\"\n",
      "14. \"Các trò chơi slot tại 789win đồ họa đẹp, có nhiều tính năng hấp dẫn, giúp tôi giải trí thú vị.\"\n",
      "15. \"789win có nhiều gói chào mừng dành cho người chơi mới, giúp tôi trải nghiệm các trò chơi mà không cần tốn nhiều tiền.\"\n",
      "Những câu đánh giá tích cực trên thực sự cho thấy sự hài lòng và tin tưởng của người dùng đối với 789win. Với chất lượng dịch vụ tốt và sự đa dạng về sản phẩm, 789win tiếp tục khẳng định vị thế của mình trong ngành cá độ trực tuyến và ngày càng phát triển mạnh mẽ.\n",
      "\n",
      " Tổng kết về 789win \n",
      " _______________________________________________\n",
      "TỔNG KẾT VỀ 789WIN - SỰ LỰA CHỌN SỐ 1 CHO CÁC TÍN ĐỒ CÁ ĐỘ TRỰC TUYẾN\n",
      "Giới thiệu về 789win\n",
      "789win là một trong những nhà cái cá độ trực tuyến hàng đầu tại thị trường Việt Nam, với nền tảng chất lượng và uy tín đã được khẳng định qua nhiều năm hoạt động. Với sự đa dạng về các sản phẩm cá cược và trò chơi giải trí, 789win đã thu hút sự quan tâm của hàng ngàn người chơi trên khắp cả nước.\n",
      "Giao diện và trải nghiệm người dùng\n",
      "Trang web của 789win được thiết kế hợp lý, dễ sử dụng và thân thiện với người dùng. Giao diện được tối ưu hoá cho cả trình duyệt máy tính và điện thoại di động, giúp người chơi dễ dàng tiếp cận dịch vụ bất kể thiết bị sử dụng. Thời gian tải trang nhanh chóng và không gặp phải lỗi trong quá trình sử dụng, tạo nên trải nghiệm mượt mà và tiện lợi.\n",
      "Sự đa dạng về sản phẩm và dịch vụ\n",
      "789win cung cấp một loạt các sản phẩm cá cược và trò chơi giải trí, bao gồm cá cược thể thao, casino trực tuyến, game đánh bài, game đá gà, xổ số và nhiều trò chơi slot hấp dẫn khác. Nhờ đó, người chơi có cơ hội thỏa sức lựa chọn và thử nghiệm những trò chơi yêu thích một cách dễ dàng.\n",
      "Chất lượng và đội ngũ hỗ trợ\n",
      "789win luôn đặt chất lượng dịch vụ lên hàng đầu, đảm bảo rằng người chơi sẽ nhận được sự hỗ trợ tận tâm và chuyên nghiệp. Đội ngũ nhân viên hỗ trợ được đào tạo chuyên nghiệp, sẵn sàng giải đáp mọi thắc mắc và hỗ trợ người chơi 24/7.\n",
      "Khuyến mãi và ưu đãi\n",
      "789win thường xuyên tổ chức các chương trình khuyến mãi và ưu đãi hấp dẫn, nhằm tạo cơ hội trúng thưởng và giảm thiểu rủi ro cho người chơi. Các gói chào mừng, code miễn phí và hoàn trả cổng game là những lợi thế đáng giá mà người chơi không nên bỏ qua.\n",
      "Đảm bảo bảo mật và an toàn\n",
      "789win cam kết bảo mật thông tin cá nhân của người chơi và thực hiện các biện pháp đảm bảo an toàn khi giao dịch tiền tệ. Hệ thống bảo mật cao cấp giúp đảm bảo rằng tất cả các giao dịch được thực hiện một cách an toàn và bảo mật tuyệt đối.\n",
      "Tổng kết\n",
      "Tổng kết lại, 789win là một trong những lựa chọn hàng đầu cho người chơi yêu thích cá độ trực tuyến. Với đa dạng về sản phẩm, dịch vụ chất lượng và cam kết bảo mật, 789win đã và đang không ngừng phát triển mạnh mẽ trong ngành cá độ trực tuyến, trở thành địa chỉ tin cậy cho các tín đồ yêu thích sự hứng thú và thử thách của cược đỏ đen.\n"
     ]
    }
   ],
   "source": [
    "for i in range(0, len(prompts_home_789win)):\n",
    "    print('\\n',outline_home_789win[i],'\\n','_______________________________________________')\n",
    "    fill_prompt(prompts_home_789win[i])"
   ]
  },
  {
   "cell_type": "code",
   "execution_count": 103,
   "id": "2865edf2",
   "metadata": {},
   "outputs": [],
   "source": [
    "prompt_field =  driver.find_element(By.ID,'prompt-textarea')"
   ]
  },
  {
   "cell_type": "code",
   "execution_count": 109,
   "id": "356a15d2",
   "metadata": {},
   "outputs": [],
   "source": [
    "prompt_field.clear()\n",
    "prompt_field.send_keys(prompts[0])"
   ]
  },
  {
   "cell_type": "code",
   "execution_count": null,
   "id": "1d2a3d1f",
   "metadata": {},
   "outputs": [],
   "source": [
    "//*[@id=\"__next\"]/div[1]/div[2]/div/main/div[2]/form/div/div[2]/button"
   ]
  },
  {
   "cell_type": "code",
   "execution_count": 110,
   "id": "56f747ae",
   "metadata": {},
   "outputs": [],
   "source": [
    "enter_prompt_btn = driver.find_element(By.XPATH,'//*[@id=\"__next\"]/div[1]/div[2]/div/main/div[2]/form/div/div[2]/button')"
   ]
  },
  {
   "cell_type": "code",
   "execution_count": 112,
   "id": "b9f2c65e",
   "metadata": {},
   "outputs": [],
   "source": [
    "driver.execute_script (\"arguments[0].click();\",enter_prompt_btn)\n"
   ]
  },
  {
   "cell_type": "code",
   "execution_count": null,
   "id": "4b257fbd",
   "metadata": {},
   "outputs": [],
   "source": [
    "<button class=\"btn relative btn-neutral -z-0 border-0 md:border\" as=\"button\"><div class=\"flex w-full gap-2 items-center justify-center\"><svg stroke=\"currentColor\" fill=\"none\" stroke-width=\"1.5\" viewBox=\"0 0 24 24\" stroke-linecap=\"round\" stroke-linejoin=\"round\" class=\"h-3 w-3 flex-shrink-0\" height=\"1em\" width=\"1em\" xmlns=\"http://www.w3.org/2000/svg\"><polyline points=\"1 4 1 10 7 10\"></polyline><polyline points=\"23 20 23 14 17 14\"></polyline><path d=\"M20.49 9A9 9 0 0 0 5.64 5.64L1 10m22 4l-4.64 4.36A9 9 0 0 1 3.51 15\"></path></svg>Regenerate response</div></button>"
   ]
  },
  {
   "cell_type": "code",
   "execution_count": 131,
   "id": "a78d0b39",
   "metadata": {},
   "outputs": [],
   "source": [
    "def fill_prompt(prompt):\n",
    "    prompt_field =  driver.find_element(By.ID,'prompt-textarea')\n",
    "    prompt_field.clear()\n",
    "    #send prompt to textarea\n",
    "    prompt_field.send_keys(prompt)\n",
    "    #enter to write content\n",
    "    enter_btn = prompt_field.find_element(By.XPATH, \"following-sibling::*[1]\")\n",
    "    if enter_btn.is_enabled():\n",
    "        driver.execute_script (\"arguments[0].click();\",enter_btn)\n",
    "        time.sleep(50)\n",
    "        #buttone where we can click to regenerate respnse or stop regenerate or continue:\n",
    "        buttons_container_div =  driver.find_element(By.XPATH,'//*[@id=\"__next\"]/div[1]/div[2]/div/main/div[2]/form/div/div[1]/div')\n",
    "        #buttons inside the container\n",
    "        buttons = buttons_container_div.find_elements(By.TAG_NAME,'button')\n",
    "        if len(buttons) == 2:\n",
    "            buttons[1].click()\n",
    "            time.sleep(40)\n",
    "            section_container = driver.find_element(By.XPATH,'//*[@id=\"__next\"]/div[1]/div[2]/div/main/div[1]/div/div')\n",
    "            driver.execute_script(\"arguments[0].scrollIntoView();\", section_container)            #find the content just wrote by chatgpt\n",
    "            bottom_div = driver.find_element(By.CSS_SELECTOR,'#__next > div.overflow-hidden.w-full.h-full.relative.flex.z-0 > div.relative.flex.h-full.max-w-full.flex-1.overflow-hidden > div > main > div.flex-1.overflow-hidden > div > div > div > div.h-32.md\\:h-48.flex-shrink-0')\n",
    "            # Get previous sibling of mydiv\n",
    "            previous_sibling = bottom_div.find_element(By.XPATH, \"preceding-sibling::*[1]\")\n",
    "            #Printout the latest answer from ChatGPT\n",
    "            print(previous_sibling.text)\n",
    "            time.sleep(10)\n",
    "        elif len(buttons)==1:\n",
    "            section_container = driver.find_element(By.XPATH,'//*[@id=\"__next\"]/div[1]/div[2]/div/main/div[1]/div/div')\n",
    "            driver.execute_script(\"arguments[0].scrollIntoView();\", section_container) \n",
    "            bottom_div = driver.find_element(By.CSS_SELECTOR,'#__next > div.overflow-hidden.w-full.h-full.relative.flex.z-0 > div.relative.flex.h-full.max-w-full.flex-1.overflow-hidden > div > main > div.flex-1.overflow-hidden > div > div > div > div.h-32.md\\:h-48.flex-shrink-0')\n",
    "            # Get previous sibling of mydiv\n",
    "            previous_sibling = bottom_div.find_element(By.XPATH, \"preceding-sibling::*[1]\")\n",
    "            #Printout the latest answer from ChatGPT\n",
    "            print(previous_sibling.text)\n",
    "            time.sleep(10)"
   ]
  },
  {
   "cell_type": "code",
   "execution_count": 61,
   "id": "e2a8f23b",
   "metadata": {},
   "outputs": [],
   "source": [
    "prompt_field =  driver.find_element(By.ID,'prompt-textarea')\n",
    "prompt_field.clear()\n",
    "#enter to write content\n",
    "enter_btn = prompt_field.find_element(By.XPATH, \"following-sibling::*[1]\")            "
   ]
  },
  {
   "cell_type": "code",
   "execution_count": 62,
   "id": "8991843f",
   "metadata": {},
   "outputs": [
    {
     "data": {
      "text/plain": [
       "'absolute p-1 rounded-md md:bottom-3 md:p-2 md:right-3 dark:hover:bg-gray-900 dark:disabled:hover:bg-transparent right-2 disabled:text-gray-400 enabled:bg-brand-purple text-white bottom-1.5 transition-colors disabled:opacity-40'"
      ]
     },
     "execution_count": 62,
     "metadata": {},
     "output_type": "execute_result"
    }
   ],
   "source": [
    "enter_btn.get_attribute(\"class\")"
   ]
  },
  {
   "cell_type": "code",
   "execution_count": 63,
   "id": "a5ed3e55",
   "metadata": {},
   "outputs": [
    {
     "data": {
      "text/plain": [
       "True"
      ]
     },
     "execution_count": 63,
     "metadata": {},
     "output_type": "execute_result"
    }
   ],
   "source": [
    "enter_btn.is_enabled()"
   ]
  },
  {
   "cell_type": "code",
   "execution_count": 81,
   "id": "1fe14133",
   "metadata": {},
   "outputs": [],
   "source": [
    "buttons_container_div =  driver.find_element(By.XPATH,'//*[@id=\"__next\"]/div[1]/div[2]/div/main/div[2]/form/div/div[1]/div')"
   ]
  },
  {
   "cell_type": "code",
   "execution_count": 82,
   "id": "1059aead",
   "metadata": {},
   "outputs": [
    {
     "data": {
      "text/plain": [
       "2"
      ]
     },
     "execution_count": 82,
     "metadata": {},
     "output_type": "execute_result"
    }
   ],
   "source": [
    "len(buttons_container_div.find_elements(By.TAG_NAME,'button'))"
   ]
  },
  {
   "cell_type": "code",
   "execution_count": 69,
   "id": "e0fd5734",
   "metadata": {},
   "outputs": [],
   "source": [
    "buttons_container_div.find_elements(By.TAG_NAME,'button')[1].click()"
   ]
  },
  {
   "cell_type": "code",
   "execution_count": 83,
   "id": "266c1a3a",
   "metadata": {},
   "outputs": [
    {
     "ename": "TypeError",
     "evalue": "object of type 'WebElement' has no len()",
     "output_type": "error",
     "traceback": [
      "\u001b[1;31m---------------------------------------------------------------------------\u001b[0m",
      "\u001b[1;31mTypeError\u001b[0m                                 Traceback (most recent call last)",
      "Cell \u001b[1;32mIn[83], line 1\u001b[0m\n\u001b[1;32m----> 1\u001b[0m \u001b[38;5;28mlen\u001b[39m(driver\u001b[38;5;241m.\u001b[39mfind_element(By\u001b[38;5;241m.\u001b[39mXPATH,\u001b[38;5;124m'\u001b[39m\u001b[38;5;124m//*[@id=\u001b[39m\u001b[38;5;124m\"\u001b[39m\u001b[38;5;124m__next\u001b[39m\u001b[38;5;124m\"\u001b[39m\u001b[38;5;124m]/div[1]/div[2]/div/main/div[2]/form/div/div[1]/div\u001b[39m\u001b[38;5;124m'\u001b[39m))\n",
      "\u001b[1;31mTypeError\u001b[0m: object of type 'WebElement' has no len()"
     ]
    }
   ],
   "source": [
    "len(driver.find_element(By.XPATH,'//*[@id=\"__next\"]/div[1]/div[2]/div/main/div[2]/form/div/div[1]/div'))"
   ]
  },
  {
   "cell_type": "code",
   "execution_count": 84,
   "id": "67581237",
   "metadata": {},
   "outputs": [
    {
     "data": {
      "text/plain": [
       "<undetected_chromedriver.webelement.WebElement (session=\"59464b76484dfcc919d9feb99137326a\", element=\"6B47B23C935A84E5E02144FAEC410625_element_8282\")>"
      ]
     },
     "execution_count": 84,
     "metadata": {},
     "output_type": "execute_result"
    }
   ],
   "source": [
    "driver.find_element(By.XPATH,'//*[@id=\"__next\"]/div[1]/div[2]/div/main/div[2]/form/div/div[1]/div')"
   ]
  },
  {
   "cell_type": "code",
   "execution_count": 92,
   "id": "5dca890d",
   "metadata": {},
   "outputs": [],
   "source": [
    "section_container = driver.find_element(By.XPATH,'//*[@id=\"__next\"]/div[1]/div[2]/div/main/div[1]/div/div')"
   ]
  },
  {
   "cell_type": "code",
   "execution_count": 95,
   "id": "d22d3b97",
   "metadata": {},
   "outputs": [
    {
     "ename": "AttributeError",
     "evalue": "'WebElement' object has no attribute 'outerHTML'",
     "output_type": "error",
     "traceback": [
      "\u001b[1;31m---------------------------------------------------------------------------\u001b[0m",
      "\u001b[1;31mAttributeError\u001b[0m                            Traceback (most recent call last)",
      "Cell \u001b[1;32mIn[95], line 1\u001b[0m\n\u001b[1;32m----> 1\u001b[0m section_container\u001b[38;5;241m.\u001b[39mouterHTML\n",
      "\u001b[1;31mAttributeError\u001b[0m: 'WebElement' object has no attribute 'outerHTML'"
     ]
    }
   ],
   "source": [
    "section_container.outerHTML"
   ]
  },
  {
   "cell_type": "code",
   "execution_count": null,
   "id": "6007f85b",
   "metadata": {},
   "outputs": [],
   "source": []
  },
  {
   "cell_type": "code",
   "execution_count": null,
   "id": "f9bdb0b4",
   "metadata": {},
   "outputs": [],
   "source": [
    "#This button show status of answer from ChatGPT"
   ]
  },
  {
   "cell_type": "code",
   "execution_count": 122,
   "id": "5aa53832",
   "metadata": {},
   "outputs": [],
   "source": [
    "status_btn = driver.find_element(By.XPATH,'//*[@id=\"__next\"]/div[1]/div[2]/div/main/div[2]/form/div/div[1]/div/button')"
   ]
  },
  {
   "cell_type": "code",
   "execution_count": 123,
   "id": "0ecb79b3",
   "metadata": {},
   "outputs": [
    {
     "data": {
      "text/plain": [
       "'Regenerate response'"
      ]
     },
     "execution_count": 123,
     "metadata": {},
     "output_type": "execute_result"
    }
   ],
   "source": [
    "status_btn.text"
   ]
  },
  {
   "cell_type": "code",
   "execution_count": null,
   "id": "a8de0cb4",
   "metadata": {},
   "outputs": [],
   "source": [
    "//*[@id=\"__next\"]/div[1]/div[2]/div/main/div[2]/form/div/div[1]/div/button\n",
    "//*[@id=\"__next\"]/div[1]/div[2]/div/main/div[2]/form/div/div[1]/div/button"
   ]
  },
  {
   "cell_type": "code",
   "execution_count": null,
   "id": "db7521ff",
   "metadata": {},
   "outputs": [],
   "source": [
    "###### Wait until value of status_btn = 'Regenerate response' to execute next prompt\n"
   ]
  },
  {
   "cell_type": "code",
   "execution_count": 41,
   "id": "11185fce",
   "metadata": {},
   "outputs": [],
   "source": [
    "#url = 'https://chat.openai.com/'\n",
    "#driver.get(url)"
   ]
  },
  {
   "cell_type": "code",
   "execution_count": 124,
   "id": "2a40395e",
   "metadata": {},
   "outputs": [
    {
     "data": {
      "text/plain": [
       "\"email_field = driver.find_element(By.ID,'username')\\nemail_field.send_keys(username)\\ntime.sleep(2)\""
      ]
     },
     "execution_count": 124,
     "metadata": {},
     "output_type": "execute_result"
    }
   ],
   "source": [
    "#Selenium fill in username\n",
    "'''email_field = driver.find_element(By.ID,'username')\n",
    "email_field.send_keys(username)\n",
    "time.sleep(2)'''"
   ]
  },
  {
   "cell_type": "code",
   "execution_count": 125,
   "id": "d3f33021",
   "metadata": {},
   "outputs": [],
   "source": [
    "#The container of status button, message field \n",
    "bottom_div = driver.find_element(By.CSS_SELECTOR,'#__next > div.overflow-hidden.w-full.h-full.relative.flex.z-0 > div.relative.flex.h-full.max-w-full.flex-1.overflow-hidden > div > main > div.flex-1.overflow-hidden > div > div > div > div.h-32.md\\:h-48.flex-shrink-0')"
   ]
  },
  {
   "cell_type": "code",
   "execution_count": 127,
   "id": "91511596",
   "metadata": {},
   "outputs": [
    {
     "name": "stdout",
     "output_type": "stream",
     "text": [
      "2 / 2\n",
      "Lợi ích của việc rút tiền từ nhà cái 123B - Trải nghiệm cá cược tiện lợi và đáng tin cậy\n",
      "Khi tham gia cá độ trực tuyến tại nhà cái 123B, một trong những điểm đáng chú ý mà người chơi luôn quan tâm đó chính là việc rút tiền từ tài khoản. Việc rút tiền 123B không chỉ đơn thuần là quy trình đơn giản mà còn mang lại nhiều lợi ích tuyệt vời cho người chơi. Dưới đây là một số lý do tại sao việc rút tiền từ nhà cái 123B đáng giá và đáng tin cậy.\n",
      "1. Tiến trình rút tiền nhanh chóng và thuận tiện:\n",
      "Nhà cái 123B luôn đặt lợi ích của người chơi lên hàng đầu, và việc rút tiền cũng không phải là ngoại lệ. Thủ tục rút tiền tại 123B được thiết kế đơn giản và dễ dàng thực hiện. Người chơi chỉ cần đăng nhập vào tài khoản cá nhân, chọn phần \"Rút tiền\" và điền đầy đủ thông tin cần thiết. Sau đó, chỉ cần chờ một thời gian ngắn để xác nhận thông tin từ đội ngũ quản lý của nhà cái. Với thời gian xử lý rút tiền nhanh chóng, người chơi có thể nhận được số tiền đã rút một cách đáng tin cậy và tiện lợi.\n",
      "2. An toàn và bảo mật tuyệt đối:\n",
      "123B cam kết đảm bảo an toàn và bảo mật tuyệt đối cho dữ liệu và thông tin cá nhân của người chơi. Quá trình rút tiền được thực hiện thông qua các phương thức thanh toán an toàn và uy tín, đảm bảo rằng tiền của người chơi không bị rơi vào tình trạng nguy hiểm. Bên cạnh đó, nhà cái 123B tuân thủ chặt chẽ các quy định về bảo mật dữ liệu, giúp người chơi yên tâm về việc bảo vệ thông tin cá nhân của mình.\n",
      "3. Linh hoạt trong việc chọn phương thức thanh toán:\n",
      "123B cung cấp một loạt các phương thức thanh toán đa dạng cho việc rút tiền. Người chơi có thể lựa chọn các phương thức phổ biến như chuyển khoản ngân hàng, thẻ tín dụng, ví điện tử và nhiều lựa chọn khác. Điều này giúp người chơi dễ dàng chọn phương thức tiện lợi và phù hợp với nhu cầu cá nhân của mình.\n",
      "4. Không mất phí hoặc mức phí thấp:\n",
      "Rút tiền từ nhà cái 123B thường không mất phí hoặc có mức phí rút tiền rất thấp. Điều này giúp người chơi tiết kiệm được nhiều chi phí liên quan khi rút tiền từ tài khoản, và tiền thưởng giành được có thể được sử dụng để cá cược hoặc rút về tài khoản ngân hàng một cách hiệu quả.\n",
      "Kết luận:\n",
      "Việc rút tiền từ nhà cái 123B không chỉ đơn thuần là cách để nhận lại tiền thắng từ hoạt động cá độ trực tuyến mà còn mang lại nhiều lợi ích tiện lợi và an toàn. Với tiến trình rút tiền nhanh chóng, an toàn và linh hoạt trong việc chọn phương thức thanh toán, người chơi có thể hoàn toàn tin tưởng và thưởng thức trải nghiệm cá cược tại 123B một cách tự tin.\n"
     ]
    }
   ],
   "source": [
    "# Get previous sibling of mydiv\n",
    "previous_sibling = bottom_div.find_element(By.XPATH, \"preceding-sibling::*[1]\")\n",
    "#Printout the latest answer from ChatGPT\n",
    "print(previous_sibling.text)"
   ]
  },
  {
   "cell_type": "code",
   "execution_count": 17,
   "id": "ce7168c0",
   "metadata": {},
   "outputs": [],
   "source": [
    "prompts_thể_thao_abc_gp = ['Bạn là một chuyên gia về viết nội dung cho các website cá độ, đồng thời bạn cũng am hiểu về lĩnh vực cá độ trực tuyến.Hãy viết một bài viết về nói về Giới thiệu tổng quan nhà cái 123B. Bài viết đó phải chứa từ khóa \"rút tiền 123B\" ít nhất một lần và nội dung bài viết phải liên quan đến thương hiệu 123B. Hãy đảm bảo rằng dung bài viết vượt quá 200 chữ',\n",
    " 'Ở đoạn tiếp theo hãy viết một bài viết về nói về Giới thiệu về lợi ích của việc rút tiền từ nhà cái 123B. Bài viết đó phải chứa từ khóa \"rút tiền 123B\" ít nhất một lần và nội dung bài viết phải liên quan đến thương hiệu 123B. Hãy đảm bảo rằng dung bài viết vượt quá 200 chữ , nội dung ở đoạn văn này sẽ nối tiếp nội dung ở bài trước để có thể trở thành một đoạn văn hoàn chỉnh ',\n",
    " 'ở đoạn này hãy viết một bài viết về nói về Các quy định về việc rút tiền 123B. Bài viết đó phải chứa từ khóa \"rút tiền 123B\" ít nhất một lần và nội dung bài viết phải liên quan đến thương hiệu 123B. Hãy đảm bảo rằng dung bài viết vượt quá 200 chữ, nội dung ở đoạn văn này sẽ nối tiếp nội dung ở các bài trước để có thể trở thành một đoạn văn hoàn chỉnh',\n",
    " 'tiếp theo, hãy viết một bài viết về nói về Quy trình rút tiền 123B. Bài viết đó phải chứa từ khóa \"rút tiền 123B\" ít nhất một lần và nội dung bài viết phải liên quan đến thương hiệu 123B. Hãy đảm bảo rằng dung bài viết vượt quá 200 chữ,nội dung ở đoạn văn này sẽ nối tiếp nội dung ở các bài trước để có thể trở thành một đoạn văn hoàn chỉnh',\n",
    " 'tiếp theo, viết một bài viết về nói về Ưu điểm của dịch vụ rút tiền 123B. Bài viết đó phải chứa từ khóa \"rút tiền 123B\" ít nhất một lần và nội dung bài viết phải liên quan đến thương hiệu 123B. Hãy đảm bảo rằng dung bài viết vượt quá 200 chữ, nội dung ở đoạn văn này sẽ nối tiếp nội dung ở các bài trước để có thể trở thành một đoạn văn hoàn chỉnh',\n",
    " 'Hãy viết một bài viết về nói về Các phương thức rút tiền trên 123B. Bài viết đó phải chứa từ khóa \"rút tiền 123B\" ít nhất một lần và nội dung bài viết phải liên quan đến thương hiệu 123B. Hãy đảm bảo rằng dung bài viết vượt quá 200 chữ,nội dung ở đoạn văn này sẽ nối tiếp nội dung ở các bài trước để có thể trở thành một đoạn văn hoàn chỉnh',\n",
    " 'Hãy viết một bài viết về nói về Các câu hỏi thường gặp về rút tiền 123B. Bài viết đó phải chứa từ khóa \"rút tiền 123B\" ít nhất một lần và nội dung bài viết phải liên quan đến thương hiệu 123B. Hãy đảm bảo rằng dung bài viết vượt quá 200 chữ,nội dung ở đoạn văn này sẽ nối tiếp nội dung ở các bài trước để có thể trở thành một đoạn văn hoàn chỉnh',\n",
    " 'Hãy viết một bài viết về nói về Những lưu ý khi rút tiền 123B. Bài viết đó phải chứa từ khóa \"rút tiền 123B\" ít nhất một lần và nội dung bài viết phải liên quan đến thương hiệu 123B. Hãy đảm bảo rằng dung bài viết vượt quá 200 chữ,nội dung ở đoạn văn này sẽ nối tiếp nội dung ở các bài trước để có thể trở thành một đoạn văn hoàn chỉnh',\n",
    " 'Hãy viết một bài viết về nói về Tổng kết dịch vụ rút tiền 123B. Bài viết đó phải chứa từ khóa \"rút tiền 123B\" ít nhất một lần và nội dung bài viết phải liên quan đến thương hiệu 123B. Hãy đảm bảo rằng dung bài viết vượt quá 200 chữ,nội dung ở đoạn văn này sẽ nối tiếp nội dung ở các bài trước để có thể trở thành một đoạn văn hoàn chỉnh']"
   ]
  },
  {
   "cell_type": "code",
   "execution_count": 32,
   "id": "7d7bb950",
   "metadata": {},
   "outputs": [
    {
     "name": "stdout",
     "output_type": "stream",
     "text": [
      "Tổng quan về nhà cái ABC \n",
      " _______________________________________________\n",
      "Tổng quan về nhà cái ABC: Khám phá thế giới cá cược thể thao ABC\n",
      "Nhắc đến cá độ trực tuyến, không thể không nhắc đến nhà cái ABC - một trong những thương hiệu nổi tiếng và uy tín hàng đầu trong lĩnh vực này. Với nhiều năm kinh nghiệm và danh tiếng không ngừng tăng cao, nhà cái ABC đã trở thành một địa chỉ đáng tin cậy cho những người yêu thích cược thể thao trực tuyến.\n",
      "1. Đa dạng về thể thao ABC\n",
      "Nhà cái ABC tự hào là một trong những trung tâm cá cược thể thao trực tuyến với sự đa dạng và phong phú về các môn thể thao. Dù bạn là một fan hâm mộ bóng đá, quần vợt, bóng chày, bóng rổ hay bất kỳ môn thể thao nào khác, bạn đều có thể tìm thấy sự kiện và giải đấu phù hợp với sở thích cá nhân tại nhà cái ABC.\n",
      "2. Giao diện thân thiện và dễ sử dụng\n",
      "Một trong những yếu tố quan trọng khi chọn nhà cái cá độ là giao diện người dùng. Nhà cái ABC hiểu được điều này và đã đầu tư để tạo ra một trang web thân thiện và dễ sử dụng. Với thiết kế đơn giản và giao diện trực quan, ngay cả những người mới bắt đầu cũng có thể dễ dàng điều hướng và đặt cược một cách nhanh chóng.\n",
      "3. Cược trực tiếp và thị trường đa dạng\n",
      "Nhà cái ABC cung cấp cho người chơi một loạt các tùy chọn cược, bao gồm cược trước trận và cược trực tiếp. Với cược trực tiếp, bạn có thể tham gia vào trận đấu đang diễn ra và đặt cược khi trận đấu đang diễn ra trực tiếp trên trang web của nhà cái. Điều này mang lại cho người chơi cảm giác hồi hộp và thú vị khi theo dõi các sự kiện thể thao yêu thích của họ.\n",
      "4. Các chương trình khuyến mãi và thưởng hấp dẫn\n",
      "Nhà cái ABC luôn quan tâm đến việc đảm bảo các khách hàng của họ được hưởng những lợi ích tốt nhất. Vì vậy, họ thường xuyên cung cấp các chương trình khuyến mãi và ưu đãi hấp dẫn như tiền thưởng đăng ký, hoàn trả cược, hay các giải thưởng giá trị khác. Điều này giúp tăng thêm phần hứng thú và giải trí cho người chơi khi tham gia cá cược tại nhà cái ABC.\n",
      "5. Hỗ trợ khách hàng chuyên nghiệp\n",
      "Đội ngũ hỗ trợ khách hàng của nhà cái ABC luôn sẵn sàng giúp đỡ và hỗ trợ bạn trong mọi thắc mắc và vấn đề liên quan đến việc sử dụng dịch vụ của họ. Bằng cách liên hệ qua điện thoại, email hoặc chat trực tuyến, bạn sẽ nhanh chóng nhận được sự hỗ trợ chuyên nghiệp và tận tâm từ đội ngũ chăm sóc khách hàng của nhà cái ABC.\n",
      "Giới thiệu về sảnh cá cược thể thao tại ABC \n",
      " _______________________________________________\n",
      "Giới thiệu về Sảnh Cá cược Thể thao tại ABC: Nền tảng đáng tin cậy cho người yêu thể thao\n",
      "Sảnh cá cược thể thao tại nhà cái ABC là một không gian trực tuyến đa dạng và hấp dẫn, nơi người chơi có thể tận hưởng niềm vui và cảm giác hồi hộp của việc đặt cược vào các sự kiện thể thao hàng đầu trên thế giới. Với đa dạng về thể thao, giao diện thân thiện, và các dịch vụ chất lượng, sảnh cá cược thể thao ABC đã trở thành một lựa chọn hàng đầu cho những người yêu thích cá độ trực tuyến.\n",
      "1. Đa dạng về thể thao ABC\n",
      "Sảnh cá cược thể thao tại ABC tự hào là điểm đến đa dạng về các môn thể thao phong phú. Từ bóng đá, quần vợt, đến bóng chày, bóng rổ và cả đua xe F1, người chơi có thể dễ dàng tìm thấy các sự kiện thể thao hàng đầu và các giải đấu hấp dẫn để đặt cược. Với sự đa dạng này, ABC đảm bảo rằng người chơi luôn có cơ hội tham gia vào những trận đấu và sự kiện mà họ đam mê.\n",
      "2. Giao diện thân thiện và dễ sử dụng\n",
      "Một trong những yếu tố quan trọng khi trải nghiệm sảnh cá cược thể thao tại ABC chính là giao diện người dùng dễ sử dụng. Với thiết kế trực quan và tối ưu hóa trên cả điện thoại di động và máy tính bảng, người chơi có thể dễ dàng duyệt qua các sự kiện thể thao và đặt cược một cách nhanh chóng và thuận tiện. Dù bạn là một người mới bắt đầu hay là khách hàng cũ, ABC đảm bảo rằng bạn sẽ dễ dàng tìm hiểu và tham gia vào trải nghiệm cá độ tuyệt vời.\n",
      "3. Cược trực tiếp và thị trường đa dạng\n",
      "Sảnh cá cược thể thao ABC cung cấp cho người chơi một loạt các tùy chọn cược, bao gồm cược trước trận và cược trực tiếp. Cược trực tiếp cho phép bạn đặt cược vào trận đấu đang diễn ra, cảm nhận từng phút giây căng thẳng và theo dõi trực tiếp kết quả của cược của mình. Thêm vào đó, ABC còn cung cấp đa dạng về thị trường cược, từ các loại cược cơ bản như kèo châu Á, kèo châu Âu đến các tùy chọn cược phức tạp và độc đáo, giúp người chơi có nhiều lựa chọn hơn trong việc đặt cược.\n",
      "4. Các chương trình khuyến mãi và thưởng hấp dẫn\n",
      "Với cam kết mang đến trải nghiệm tốt nhất cho khách hàng, ABC thường xuyên cung cấp các chương trình khuyến mãi và thưởng hấp dẫn. Từ tiền thưởng đăng ký, hoàn trả cược đến các giải thưởng giá trị khác, người chơi có cơ hội nhậ\n",
      "Khuyến mãi và ưu đãi hấp dẫn tại sảnh cá cược thể thao ABC \n",
      " _______________________________________________\n",
      "Giới thiệu về Sảnh Cá cược Thể thao tại ABC: Nền tảng đáng tin cậy cho người yêu thể thao\n",
      "Sảnh cá cược thể thao tại nhà cái ABC là một không gian trực tuyến đa dạng và hấp dẫn, nơi người chơi có thể tận hưởng niềm vui và cảm giác hồi hộp của việc đặt cược vào các sự kiện thể thao hàng đầu trên thế giới. Với đa dạng về thể thao, giao diện thân thiện, và các dịch vụ chất lượng, sảnh cá cược thể thao ABC đã trở thành một lựa chọn hàng đầu cho những người yêu thích cá độ trực tuyến.\n",
      "1. Đa dạng về thể thao ABC\n",
      "Sảnh cá cược thể thao tại ABC tự hào là điểm đến đa dạng về các môn thể thao phong phú. Từ bóng đá, quần vợt, đến bóng chày, bóng rổ và cả đua xe F1, người chơi có thể dễ dàng tìm thấy các sự kiện thể thao hàng đầu và các giải đấu hấp dẫn để đặt cược. Với sự đa dạng này, ABC đảm bảo rằng người chơi luôn có cơ hội tham gia vào những trận đấu và sự kiện mà họ đam mê.\n",
      "2. Giao diện thân thiện và dễ sử dụng\n",
      "Một trong những yếu tố quan trọng khi trải nghiệm sảnh cá cược thể thao tại ABC chính là giao diện người dùng dễ sử dụng. Với thiết kế trực quan và tối ưu hóa trên cả điện thoại di động và máy tính bảng, người chơi có thể dễ dàng duyệt qua các sự kiện thể thao và đặt cược một cách nhanh chóng và thuận tiện. Dù bạn là một người mới bắt đầu hay là khách hàng cũ, ABC đảm bảo rằng bạn sẽ dễ dàng tìm hiểu và tham gia vào trải nghiệm cá độ tuyệt vời.\n",
      "3. Cược trực tiếp và thị trường đa dạng\n",
      "Sảnh cá cược thể thao ABC cung cấp cho người chơi một loạt các tùy chọn cược, bao gồm cược trước trận và cược trực tiếp. Cược trực tiếp cho phép bạn đặt cược vào trận đấu đang diễn ra, cảm nhận từng phút giây căng thẳng và theo dõi trực tiếp kết quả của cược của mình. Thêm vào đó, ABC còn cung cấp đa dạng về thị trường cược, từ các loại cược cơ bản như kèo châu Á, kèo châu Âu đến các tùy chọn cược phức tạp và độc đáo, giúp người chơi có nhiều lựa chọn hơn trong việc đặt cược.\n",
      "4. Các chương trình khuyến mãi và thưởng hấp dẫn\n",
      "Với cam kết mang đến trải nghiệm tốt nhất cho khách hàng, ABC thường xuyên cung cấp các chương trình khuyến mãi và thưởng hấp dẫn. Từ tiền thưởng đăng ký, hoàn trả cược đến các giải thưởng giá trị khác, người chơi có cơ hội nhận được nhiều phần thưởng hơn và tăng thêm phần hứng thú trong việc cá cược thể thao ABC.\n",
      "5. Hỗ trợ khách hàng chuyên nghiệp\n",
      "Cuối cùng, ABC đặt sự hài lòng của khách hàng lên hàng đầu và cam kết cung cấp dịch vụ hỗ trợ khách hàng chuyên nghiệp. Đội ngũ chăm sóc khách hàng của ABC luôn sẵn sàng hỗ trợ và giải đáp mọi thắc mắc của người chơi qua nhiều phương tiện liên lạc khác nhau, bao gồm điện thoại, email và chat trực tuyến.\n",
      "Kết luận\n",
      "Sảnh cá cược thể thao tại nhà cái ABC là một nền tảng cá độ trực tuyến đáng tin cậy và đáng để bạn khám phá. Với sự đa dạng về thể thao, giao diện thân thiện, cược trực tiếp, các chương trình khuyến mãi và dịch vụ chăm sóc khách hàng chất lượng, ABC mang đến cho người chơi những trải nghiệm cá cược thú vị và hấp dẫn. Hãy tham gia vào sảnh cá cược thể thao ABC ngay hôm nay và trải nghiệm niềm vui của việc cá cược trực tuyến tại đẳng cấp này.\n",
      "Nhận xét chung về sảnh thể thao ABC \n",
      " _______________________________________________\n",
      "Nhận xét chung về Sảnh Thể thao ABC: Trải nghiệm đỉnh cao cho người yêu thể thao\n",
      "Sảnh Thể thao ABC là một trong những nền tảng cá độ trực tuyến hàng đầu, nơi người chơi có thể tận hưởng một trải nghiệm độc đáo và hấp dẫn trong việc cá cược vào các sự kiện thể thao hàng đầu trên thế giới. Với đa dạng về thể thao, giao diện thân thiện, các dịch vụ chất lượng và chính sách bảo mật uy tín, sảnh thể thao ABC đã xây dựng được danh tiếng và niềm tin từ phần lớn cộng đồng người chơi.\n",
      "1. Giao diện trực quan và dễ sử dụng\n",
      "Một điểm nổi bật của sảnh thể thao ABC chính là giao diện trực quan và dễ sử dụng. Ngay cả những người mới bắt đầu cũng có thể dễ dàng điều hướng và tìm thấy các sự kiện thể thao mà họ quan tâm. Tất cả thông tin liên quan đến các giải đấu, tỷ lệ cược và lịch thi đấu đều được hiển thị rõ ràng, giúp người chơi dễ dàng lựa chọn và đặt cược một cách nhanh chóng.\n",
      "2. Đa dạng về thể thao và thị trường cược\n",
      "Sảnh thể thao ABC mang đến một loạt các môn thể thao phong phú, từ bóng đá, quần vợt, bóng rổ, đến đua xe, MMA và nhiều môn thể thao khác. Điều này cho phép người chơi có nhiều lựa chọn và cơ hội đặt cược vào các sự kiện yêu thích của họ. Ngoài ra, với đa dạng về thị trường cược, từ cược kèo châu Á, kèo châu Âu đến cược số điểm, cược tổng số bàn thắng và nhiều tùy chọn khác, người chơi có thể thỏa sức sáng tạo và chọn lựa các loại cược phù hợp với phong cách cá cược cá nhân.\n",
      "3. Cược trực tiếp hấp dẫn\n",
      "Sảnh thể thao ABC cung cấp cược trực tiếp, cho phép người chơi tham gia vào các trận đấu đang diễn ra và đặt cược theo thời gian thực. Điều này tạo ra một cảm giác hồi hộp và thú vị khi người chơi theo dõi các tình huống thay đổi liên tục trong trận đấu và quyết định đặt cược tối ưu nhằm tối đa hóa lợi nhuận.\n",
      "4. Chương trình khuyến mãi và ưu đãi\n",
      "ABC luôn quan tâm đến sự hài lòng của khách hàng và thường xuyên cung cấp các chương trình khuyến mãi và ưu đãi hấp dẫn. Từ tiền thưởng đăng ký, hoàn trả cược đến các giải thưởng giá trị khác, người chơi luôn có cơ hội nhận được các phần thưởng đáng giá khi tham gia vào sảnh thể thao ABC.\n",
      "**5. Hỗ trợ khá\n"
     ]
    }
   ],
   "source": [
    "for i in range(0, len(prompts_thể_thao_abc_gp)):\n",
    "    print(outline_thể_thao_abc_gp[i],'\\n','_______________________________________________')\n",
    "    fill_prompt(prompts_thể_thao_abc_gp[i])"
   ]
  },
  {
   "cell_type": "code",
   "execution_count": 139,
   "id": "6b16192a",
   "metadata": {},
   "outputs": [],
   "source": [
    "driver.quit()"
   ]
  },
  {
   "cell_type": "code",
   "execution_count": null,
   "id": "75f24fa9",
   "metadata": {},
   "outputs": [],
   "source": []
  },
  {
   "cell_type": "code",
   "execution_count": null,
   "id": "3e3594fa",
   "metadata": {},
   "outputs": [],
   "source": []
  },
  {
   "cell_type": "code",
   "execution_count": null,
   "id": "6c3c896d",
   "metadata": {},
   "outputs": [],
   "source": []
  },
  {
   "cell_type": "code",
   "execution_count": null,
   "id": "0c287f92",
   "metadata": {},
   "outputs": [],
   "source": []
  },
  {
   "cell_type": "code",
   "execution_count": null,
   "id": "c45d8a84",
   "metadata": {},
   "outputs": [],
   "source": []
  },
  {
   "cell_type": "code",
   "execution_count": null,
   "id": "de0decf8",
   "metadata": {},
   "outputs": [],
   "source": []
  },
  {
   "cell_type": "code",
   "execution_count": null,
   "id": "1d8004ed",
   "metadata": {},
   "outputs": [],
   "source": []
  },
  {
   "cell_type": "code",
   "execution_count": 71,
   "id": "04570723",
   "metadata": {},
   "outputs": [],
   "source": [
    "#Selenium fill in password\n",
    "password_field = driver.find_element(By.ID,'password')\n",
    "password_field.send_keys(password)\n",
    "time.sleep(2)"
   ]
  },
  {
   "cell_type": "code",
   "execution_count": 72,
   "id": "721b2af2",
   "metadata": {},
   "outputs": [],
   "source": [
    "#Selenium click on login button\n",
    "#ID= prompt-textarea\n",
    "prompt = \"Hellow world\"\n",
    "prompt_field = driver.find_element(By.ID,'prompt-textarea')\n",
    "prompt_field.send_keys(prompt)\n",
    "time.sleep(3)"
   ]
  },
  {
   "cell_type": "code",
   "execution_count": 73,
   "id": "bd1911e3",
   "metadata": {},
   "outputs": [],
   "source": [
    "#Get content of jobs page\n",
    "job_url = 'https://www.linkedin.com/jobs/'\n",
    "driver.get(job_url)\n",
    "time.sleep(10)"
   ]
  },
  {
   "cell_type": "code",
   "execution_count": 74,
   "id": "e1cbd53a",
   "metadata": {},
   "outputs": [],
   "source": [
    "#Fill in search box for job\n",
    "location_input_search_field = driver.find_element(By.CLASS_NAME,'jobs-search-box__text-input')\n",
    "location_input_search_field.clear()\n",
    "seach_field.click()\n",
    "location_input_search_field.send_keys('data analyst')"
   ]
  },
  {
   "cell_type": "code",
   "execution_count": 76,
   "id": "ee7aba19",
   "metadata": {},
   "outputs": [],
   "source": [
    "#Fill in search box for location\n",
    "seach_field = driver.find_element(By.XPATH,\"//input[contains(@aria-label, 'City, state, or zip code')]\")\n",
    "seach_field.click()\n",
    "time.sleep(5)\n",
    "seach_field.clear()\n",
    "seach_field.send_keys('Germany')"
   ]
  },
  {
   "cell_type": "code",
   "execution_count": 77,
   "id": "919d18d9",
   "metadata": {},
   "outputs": [],
   "source": [
    "#Submit form to get the result\n",
    "seach_field.send_keys(Keys.RETURN)\n"
   ]
  },
  {
   "cell_type": "code",
   "execution_count": 87,
   "id": "e20c30d8",
   "metadata": {},
   "outputs": [],
   "source": [
    "#Function to smoothly scroll down the job list\n",
    "def scroll_job_list():\n",
    "    element = driver.find_element(By.XPATH,\"/html/body/div[6]/div[3]/div[4]/div/div/main/div/section[1]/div/footer/div/div[1]\")\n",
    "    number = 0\n",
    "    while number < 10:\n",
    "        driver.execute_script(\"arguments[0].scrollIntoView({ behavior: 'smooth', block: 'end', inline: 'start' });\",element)\n",
    "        time.sleep(1)\n",
    "        number +=1"
   ]
  },
  {
   "cell_type": "code",
   "execution_count": 88,
   "id": "d7d0867a",
   "metadata": {},
   "outputs": [],
   "source": [
    "#Once all jobs on list display, crappe all the  job url\n",
    "def get_job_urls():\n",
    "    page_source = BeautifulSoup(driver.page_source,'html.parser')\n",
    "    job_ads = page_source.find_all('a',class_ = 'job-card-list__title')\n",
    "    for url in job_ads:\n",
    "        job_path = url.get('href')\n",
    "        job_url = 'https://www.linkedin.com' + job_path\n",
    "        if job_url not in job_urls:\n",
    "            job_urls.append(job_url)\n",
    "\n",
    "\n"
   ]
  },
  {
   "cell_type": "code",
   "execution_count": null,
   "id": "2ee6d9d5",
   "metadata": {},
   "outputs": [],
   "source": [
    "number_of_page = 40\n",
    "job_urls = []\n",
    "for page in range(1,number_of_page + 1):\n",
    "    try:\n",
    "        print(page)\n",
    "        button = driver.find_element(By.XPATH,\"//button//*[contains(., \"+str(page)+\")]/..\")\n",
    "        button.click()\n",
    "        time.sleep(10)\n",
    "        scroll_job_list()\n",
    "        time.sleep(7)\n",
    "        get_job_urls()\n",
    "        print(\"found {} jobs after page {}\".format(len(job_urls),page))\n",
    "    except NoSuchElementException:\n",
    "        button2 = driver.find_element(By.XPATH,\"//button//*[contains(., '…')]/..\")\n",
    "        button2.click()\n",
    "    except ElementClickInterceptedException:\n",
    "        element = driver.-find_element(By.XPATH,\"//button//*[contains(., \"+str(page)+\")]/..\")\n",
    "        driver.execute_script(\"arguments[0].click();\", element)\n"
   ]
  },
  {
   "cell_type": "code",
   "execution_count": null,
   "id": "5331472d",
   "metadata": {},
   "outputs": [],
   "source": [
    "#Save all job urls to txt file for later use\n",
    "with open(\"file.txt\", \"w\") as output:\n",
    "    output.write(str(job_urls))"
   ]
  },
  {
   "cell_type": "code",
   "execution_count": null,
   "id": "b14ef1d0",
   "metadata": {},
   "outputs": [],
   "source": []
  }
 ],
 "metadata": {
  "kernelspec": {
   "display_name": "Python 3 (ipykernel)",
   "language": "python",
   "name": "python3"
  },
  "language_info": {
   "codemirror_mode": {
    "name": "ipython",
    "version": 3
   },
   "file_extension": ".py",
   "mimetype": "text/x-python",
   "name": "python",
   "nbconvert_exporter": "python",
   "pygments_lexer": "ipython3",
   "version": "3.9.12"
  }
 },
 "nbformat": 4,
 "nbformat_minor": 5
}
